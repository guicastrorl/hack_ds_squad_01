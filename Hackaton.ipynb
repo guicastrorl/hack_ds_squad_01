{
  "nbformat": 4,
  "nbformat_minor": 0,
  "metadata": {
    "colab": {
      "provenance": [],
      "include_colab_link": true
    },
    "kernelspec": {
      "name": "python3",
      "display_name": "Python 3"
    },
    "language_info": {
      "name": "python"
    }
  },
  "cells": [
    {
      "cell_type": "markdown",
      "metadata": {
        "id": "view-in-github",
        "colab_type": "text"
      },
      "source": [
        "<a href=\"https://colab.research.google.com/github/guicastrorl/hack_ds_squad_01/blob/main/Hackaton.ipynb\" target=\"_parent\"><img src=\"https://colab.research.google.com/assets/colab-badge.svg\" alt=\"Open In Colab\"/></a>"
      ]
    },
    {
      "cell_type": "markdown",
      "source": [
        "#PoD Academy - Analise de Credito para Fintech\n",
        "A PoD Bank, Fintech que concede crédito para população com pouca informação de crédito, precisa de modelos (ML) para concessão de crédito"
      ],
      "metadata": {
        "id": "oZYxn3kErq0P"
      }
    },
    {
      "cell_type": "code",
      "source": [
        "import pandas as pd\n",
        "import numpy as np"
      ],
      "metadata": {
        "id": "xYHzjWrWtTGl"
      },
      "execution_count": null,
      "outputs": []
    },
    {
      "cell_type": "markdown",
      "source": [
        "###Instalando o pyspark"
      ],
      "metadata": {
        "id": "G_px1Hv2ygqK"
      }
    },
    {
      "cell_type": "code",
      "execution_count": null,
      "metadata": {
        "colab": {
          "base_uri": "https://localhost:8080/"
        },
        "id": "ybZ4etTpQXWR",
        "outputId": "99d5d108-7188-4364-ec47-2ead4fe178f2"
      },
      "outputs": [
        {
          "output_type": "stream",
          "name": "stdout",
          "text": [
            "Collecting pyspark\n",
            "  Downloading pyspark-3.5.0.tar.gz (316.9 MB)\n",
            "\u001b[2K     \u001b[90m━━━━━━━━━━━━━━━━━━━━━━━━━━━━━━━━━━━━━━━━\u001b[0m \u001b[32m316.9/316.9 MB\u001b[0m \u001b[31m4.5 MB/s\u001b[0m eta \u001b[36m0:00:00\u001b[0m\n",
            "\u001b[?25h  Preparing metadata (setup.py) ... \u001b[?25l\u001b[?25hdone\n",
            "Requirement already satisfied: py4j==0.10.9.7 in /usr/local/lib/python3.10/dist-packages (from pyspark) (0.10.9.7)\n",
            "Building wheels for collected packages: pyspark\n",
            "  Building wheel for pyspark (setup.py) ... \u001b[?25l\u001b[?25hdone\n",
            "  Created wheel for pyspark: filename=pyspark-3.5.0-py2.py3-none-any.whl size=317425344 sha256=bc14aaa44cb0a5c5adb6b00004df83e6c2ac2558a03e50c155a5fcaab44f4310\n",
            "  Stored in directory: /root/.cache/pip/wheels/41/4e/10/c2cf2467f71c678cfc8a6b9ac9241e5e44a01940da8fbb17fc\n",
            "Successfully built pyspark\n",
            "Installing collected packages: pyspark\n",
            "Successfully installed pyspark-3.5.0\n"
          ]
        }
      ],
      "source": [
        "!pip install pyspark"
      ]
    },
    {
      "cell_type": "markdown",
      "source": [
        "###Mapeando o Google Drive, para possibilitar o acesso aos arquivos de leitura"
      ],
      "metadata": {
        "id": "ulh5JfWDyqTm"
      }
    },
    {
      "cell_type": "code",
      "source": [
        "from google.colab import drive\n",
        "drive.mount('/content/gdrive')"
      ],
      "metadata": {
        "colab": {
          "base_uri": "https://localhost:8080/"
        },
        "id": "Cuu2wh8pV_DX",
        "outputId": "60842359-452a-41d5-bd41-ec71ca5c880c"
      },
      "execution_count": null,
      "outputs": [
        {
          "output_type": "stream",
          "name": "stdout",
          "text": [
            "Mounted at /content/gdrive\n"
          ]
        }
      ]
    },
    {
      "cell_type": "markdown",
      "source": [
        "###Etapas obrigatórias no pré-processamento de dados com Spark"
      ],
      "metadata": {
        "id": "gnpRfFM1y1OF"
      }
    },
    {
      "cell_type": "markdown",
      "source": [
        "Etapa 1: Importar a SparkSession para iniciar a sessão PySpark"
      ],
      "metadata": {
        "id": "j1nUrs22y4ge"
      }
    },
    {
      "cell_type": "code",
      "source": [
        "from pyspark.sql import SparkSession"
      ],
      "metadata": {
        "id": "ewzfzGCRzEWK"
      },
      "execution_count": null,
      "outputs": []
    },
    {
      "cell_type": "markdown",
      "source": [
        "Etapa 2: Utilizar a função getOrCreate() para criar a sessão do Apache Spark"
      ],
      "metadata": {
        "id": "fdogUI4MzG0g"
      }
    },
    {
      "cell_type": "code",
      "source": [
        "spark = SparkSession \\\n",
        "    .builder \\\n",
        "    .appName(\"Hackaton\") \\\n",
        "    .config('spark.ui.port', '4050') \\\n",
        "    .getOrCreate()"
      ],
      "metadata": {
        "id": "2MJrHQGhQzmn"
      },
      "execution_count": null,
      "outputs": []
    },
    {
      "cell_type": "markdown",
      "source": [
        "Etapa 3: Verificar se o objeto spark contém em um formato graphical"
      ],
      "metadata": {
        "id": "ogM9klUMzQe4"
      }
    },
    {
      "cell_type": "code",
      "source": [
        "spark"
      ],
      "metadata": {
        "colab": {
          "base_uri": "https://localhost:8080/",
          "height": 219
        },
        "id": "nefpvvyTRAsQ",
        "outputId": "ff847867-08c2-49ef-ccca-d730e2888e26"
      },
      "execution_count": null,
      "outputs": [
        {
          "output_type": "execute_result",
          "data": {
            "text/plain": [
              "<pyspark.sql.session.SparkSession at 0x7fcd10619ab0>"
            ],
            "text/html": [
              "\n",
              "            <div>\n",
              "                <p><b>SparkSession - in-memory</b></p>\n",
              "                \n",
              "        <div>\n",
              "            <p><b>SparkContext</b></p>\n",
              "\n",
              "            <p><a href=\"http://901f2d7fa0a3:4050\">Spark UI</a></p>\n",
              "\n",
              "            <dl>\n",
              "              <dt>Version</dt>\n",
              "                <dd><code>v3.5.0</code></dd>\n",
              "              <dt>Master</dt>\n",
              "                <dd><code>local[*]</code></dd>\n",
              "              <dt>AppName</dt>\n",
              "                <dd><code>Hackaton</code></dd>\n",
              "            </dl>\n",
              "        </div>\n",
              "        \n",
              "            </div>\n",
              "        "
            ]
          },
          "metadata": {},
          "execution_count": 6
        }
      ]
    },
    {
      "cell_type": "markdown",
      "source": [
        "###Lendo os arquivos de formado csv"
      ],
      "metadata": {
        "id": "7ulAo-L2zZf5"
      }
    },
    {
      "cell_type": "markdown",
      "source": [
        "# 01\n",
        "- O dataframe **df_colunas** contém a descrição das colunas dos outros dfs"
      ],
      "metadata": {
        "id": "AvRnaedt0v9h"
      }
    },
    {
      "cell_type": "code",
      "source": [
        "df_colunas = spark.read.csv(\"/content/gdrive/MyDrive/PoD Academy/11 - Hackaton/dados/HomeCredit_columns_description.csv\", header=True)\n",
        "df_colunas.createOrReplaceTempView(\"df_colunas\")\n",
        "df_colunas.show(truncate=False)"
      ],
      "metadata": {
        "id": "ybsulZnrRF9q",
        "outputId": "8f1db905-c0d3-40b4-c6dc-25313dd84a90",
        "colab": {
          "base_uri": "https://localhost:8080/"
        }
      },
      "execution_count": null,
      "outputs": [
        {
          "output_type": "stream",
          "name": "stdout",
          "text": [
            "+---+----------------------------+--------------------------+-------------------------------------------------------------------------------------------------------------------------------------------------------------------------------------------+-------------------------------------+\n",
            "|_c0|Table                       |Row                       |Description                                                                                                                                                                                |Special                              |\n",
            "+---+----------------------------+--------------------------+-------------------------------------------------------------------------------------------------------------------------------------------------------------------------------------------+-------------------------------------+\n",
            "|1  |application_{train|test}.csv|SK_ID_CURR                |ID of loan in our sample                                                                                                                                                                   |NULL                                 |\n",
            "|2  |application_{train|test}.csv|TARGET                    |Target variable (1 - client with payment difficulties: he/she had late payment more than X days on at least one of the first Y installments of the loan in our sample, 0 - all other cases)|NULL                                 |\n",
            "|5  |application_{train|test}.csv|NAME_CONTRACT_TYPE        |Identification if loan is cash or revolving                                                                                                                                                |NULL                                 |\n",
            "|6  |application_{train|test}.csv|CODE_GENDER               |Gender of the client                                                                                                                                                                       |NULL                                 |\n",
            "|7  |application_{train|test}.csv|FLAG_OWN_CAR              |Flag if the client owns a car                                                                                                                                                              |NULL                                 |\n",
            "|8  |application_{train|test}.csv|FLAG_OWN_REALTY           |Flag if client owns a house or flat                                                                                                                                                        |NULL                                 |\n",
            "|9  |application_{train|test}.csv|CNT_CHILDREN              |Number of children the client has                                                                                                                                                          |NULL                                 |\n",
            "|10 |application_{train|test}.csv|AMT_INCOME_TOTAL          |Income of the client                                                                                                                                                                       |NULL                                 |\n",
            "|11 |application_{train|test}.csv|AMT_CREDIT                |Credit amount of the loan                                                                                                                                                                  |NULL                                 |\n",
            "|12 |application_{train|test}.csv|AMT_ANNUITY               |Loan annuity                                                                                                                                                                               |NULL                                 |\n",
            "|13 |application_{train|test}.csv|AMT_GOODS_PRICE           |For consumer loans it is the price of the goods for which the loan is given                                                                                                                |NULL                                 |\n",
            "|14 |application_{train|test}.csv|NAME_TYPE_SUITE           |Who was accompanying client when he was applying for the loan                                                                                                                              |NULL                                 |\n",
            "|15 |application_{train|test}.csv|NAME_INCOME_TYPE          |Clients income type (businessman, working, maternity leave,�)                                                                                                                              |NULL                                 |\n",
            "|16 |application_{train|test}.csv|NAME_EDUCATION_TYPE       |Level of highest education the client achieved                                                                                                                                             |NULL                                 |\n",
            "|17 |application_{train|test}.csv|NAME_FAMILY_STATUS        |Family status of the client                                                                                                                                                                |NULL                                 |\n",
            "|18 |application_{train|test}.csv|NAME_HOUSING_TYPE         |What is the housing situation of the client (renting, living with parents, ...)                                                                                                            |NULL                                 |\n",
            "|19 |application_{train|test}.csv|REGION_POPULATION_RELATIVE|Normalized population of region where client lives (higher number means the client lives in more populated region)                                                                         |normalized                           |\n",
            "|20 |application_{train|test}.csv|DAYS_BIRTH                |Client's age in days at the time of application                                                                                                                                            |time only relative to the application|\n",
            "|21 |application_{train|test}.csv|DAYS_EMPLOYED             |How many days before the application the person started current employment                                                                                                                 |time only relative to the application|\n",
            "|22 |application_{train|test}.csv|DAYS_REGISTRATION         |How many days before the application did client change his registration                                                                                                                    |time only relative to the application|\n",
            "+---+----------------------------+--------------------------+-------------------------------------------------------------------------------------------------------------------------------------------------------------------------------------------+-------------------------------------+\n",
            "only showing top 20 rows\n",
            "\n"
          ]
        }
      ]
    },
    {
      "cell_type": "code",
      "source": [
        "# quantidade de linhas\n",
        "df_colunas.printSchema()\n"
      ],
      "metadata": {
        "colab": {
          "base_uri": "https://localhost:8080/"
        },
        "id": "8Puvj9NRCrHd",
        "outputId": "620315de-a34d-442f-aa26-01426a5e21bc"
      },
      "execution_count": null,
      "outputs": [
        {
          "output_type": "stream",
          "name": "stdout",
          "text": [
            "root\n",
            " |-- _c0: string (nullable = true)\n",
            " |-- Table: string (nullable = true)\n",
            " |-- Row: string (nullable = true)\n",
            " |-- Description: string (nullable = true)\n",
            " |-- Special: string (nullable = true)\n",
            "\n"
          ]
        }
      ]
    },
    {
      "cell_type": "code",
      "source": [
        "df_pandas = df_colunas.toPandas()\n",
        "\n",
        "# Salve o DataFrame no arquivo Excel\n",
        "df_pandas.to_excel('/content/gdrive/MyDrive/PoD Academy/11 - Hackaton/metadados_variáveis.xlsx', index=False)"
      ],
      "metadata": {
        "id": "TMFB5DJot9BO"
      },
      "execution_count": null,
      "outputs": []
    },
    {
      "cell_type": "markdown",
      "source": [
        "**application_train.csv/application_test.csv:** Estes são os principais dados de treino e teste com informações sobre cada solicitação de empréstimo na PoD Bank. Cada empréstimo tem sua própria linha e é identificado pela variável SK_ID_CURR. Os dados de aplicação de treinamento vêm com a variável TARGET, indicando 0: o empréstimo foi pago ou 1: o empréstimo não foi pago (inadimplência)."
      ],
      "metadata": {
        "id": "r7Ve6ATKK0sj"
      }
    },
    {
      "cell_type": "markdown",
      "source": [
        "# 02\n",
        "- O dataframe **df_application_train** contém os dados de treino"
      ],
      "metadata": {
        "id": "F9tV_BsL1T9E"
      }
    },
    {
      "cell_type": "code",
      "source": [
        "df_application_train = spark.read.csv('/content/gdrive/MyDrive/PoD Academy/11 - Hackaton/dados/application_train.csv', header=True)\n",
        "df_application_train.createOrReplaceTempView(\"df_application_train\")\n",
        "df_application_train.show(10, truncate=False)"
      ],
      "metadata": {
        "id": "WlkuOJyiS6im",
        "colab": {
          "base_uri": "https://localhost:8080/"
        },
        "outputId": "c2f23389-a016-453f-8453-20684b305199"
      },
      "execution_count": null,
      "outputs": [
        {
          "output_type": "stream",
          "name": "stdout",
          "text": [
            "+----------+------+------------------+-----------+------------+---------------+------------+----------------+----------+-----------+---------------+---------------+--------------------+-----------------------------+--------------------+-------------------+--------------------------+----------+-------------+-----------------+---------------+-----------+----------+--------------+---------------+----------------+----------+----------+---------------------+---------------+--------------------+---------------------------+--------------------------+-----------------------+--------------------------+--------------------------+---------------------------+----------------------+----------------------+-----------------------+----------------------+------------------+------------------+------------------+------------------+----------------+---------------------------+------------------+--------------+-------------+-------------+-------------+-------------+------------------+--------------------+--------------+-----------------------+------------------+---------------+-----------------+----------------------------+----------------+---------------+--------------+--------------+--------------+--------------+-------------+---------------------+---------------+------------------------+------------------+---------------+-----------------+----------------------------+----------------+---------------+--------------+--------------+--------------+--------------+-------------+---------------------+---------------+------------------------+------------------+------------------+--------------+--------------+------------------+-------------------+------------------------+------------------------+------------------------+------------------------+----------------------+---------------+---------------+---------------+---------------+---------------+---------------+---------------+---------------+----------------+----------------+----------------+----------------+----------------+----------------+----------------+----------------+----------------+----------------+----------------+----------------+--------------------------+-------------------------+--------------------------+-------------------------+-------------------------+--------------------------+-------------------+-------------------+-------------------+-------------------+-------------------+--------------------+------------------+--------------------+-------------------+--------------------+------------------+-------------------+-------------------+-------------------+-------------------+--------------------+--------------------+-------------------+--------------------+-------------------+-------------------+-------------------+-------------------+---------------------+--------------------+--------------------+--------------------+-------------------+--------------------+-------------------+-------------------+-------------------+-------------------+-------------------+-------------------+-------------------+--------------------+-------------------+-------------------+-------------------+-------------------+--------------------+-------------------+-------------------+-------------------+-------------------+-------------------+-------------------+-------------------+-------------------+\n",
            "|SK_ID_CURR|TARGET|NAME_CONTRACT_TYPE|CODE_GENDER|FLAG_OWN_CAR|FLAG_OWN_REALTY|CNT_CHILDREN|AMT_INCOME_TOTAL|AMT_CREDIT|AMT_ANNUITY|AMT_GOODS_PRICE|NAME_TYPE_SUITE|NAME_INCOME_TYPE    |NAME_EDUCATION_TYPE          |NAME_FAMILY_STATUS  |NAME_HOUSING_TYPE  |REGION_POPULATION_RELATIVE|DAYS_BIRTH|DAYS_EMPLOYED|DAYS_REGISTRATION|DAYS_ID_PUBLISH|OWN_CAR_AGE|FLAG_MOBIL|FLAG_EMP_PHONE|FLAG_WORK_PHONE|FLAG_CONT_MOBILE|FLAG_PHONE|FLAG_EMAIL|OCCUPATION_TYPE      |CNT_FAM_MEMBERS|REGION_RATING_CLIENT|REGION_RATING_CLIENT_W_CITY|WEEKDAY_APPR_PROCESS_START|HOUR_APPR_PROCESS_START|REG_REGION_NOT_LIVE_REGION|REG_REGION_NOT_WORK_REGION|LIVE_REGION_NOT_WORK_REGION|REG_CITY_NOT_LIVE_CITY|REG_CITY_NOT_WORK_CITY|LIVE_CITY_NOT_WORK_CITY|ORGANIZATION_TYPE     |EXT_SOURCE_1      |EXT_SOURCE_2      |EXT_SOURCE_3      |APARTMENTS_AVG    |BASEMENTAREA_AVG|YEARS_BEGINEXPLUATATION_AVG|YEARS_BUILD_AVG   |COMMONAREA_AVG|ELEVATORS_AVG|ENTRANCES_AVG|FLOORSMAX_AVG|FLOORSMIN_AVG|LANDAREA_AVG      |LIVINGAPARTMENTS_AVG|LIVINGAREA_AVG|NONLIVINGAPARTMENTS_AVG|NONLIVINGAREA_AVG |APARTMENTS_MODE|BASEMENTAREA_MODE|YEARS_BEGINEXPLUATATION_MODE|YEARS_BUILD_MODE|COMMONAREA_MODE|ELEVATORS_MODE|ENTRANCES_MODE|FLOORSMAX_MODE|FLOORSMIN_MODE|LANDAREA_MODE|LIVINGAPARTMENTS_MODE|LIVINGAREA_MODE|NONLIVINGAPARTMENTS_MODE|NONLIVINGAREA_MODE|APARTMENTS_MEDI|BASEMENTAREA_MEDI|YEARS_BEGINEXPLUATATION_MEDI|YEARS_BUILD_MEDI|COMMONAREA_MEDI|ELEVATORS_MEDI|ENTRANCES_MEDI|FLOORSMAX_MEDI|FLOORSMIN_MEDI|LANDAREA_MEDI|LIVINGAPARTMENTS_MEDI|LIVINGAREA_MEDI|NONLIVINGAPARTMENTS_MEDI|NONLIVINGAREA_MEDI|FONDKAPREMONT_MODE|HOUSETYPE_MODE|TOTALAREA_MODE|WALLSMATERIAL_MODE|EMERGENCYSTATE_MODE|OBS_30_CNT_SOCIAL_CIRCLE|DEF_30_CNT_SOCIAL_CIRCLE|OBS_60_CNT_SOCIAL_CIRCLE|DEF_60_CNT_SOCIAL_CIRCLE|DAYS_LAST_PHONE_CHANGE|FLAG_DOCUMENT_2|FLAG_DOCUMENT_3|FLAG_DOCUMENT_4|FLAG_DOCUMENT_5|FLAG_DOCUMENT_6|FLAG_DOCUMENT_7|FLAG_DOCUMENT_8|FLAG_DOCUMENT_9|FLAG_DOCUMENT_10|FLAG_DOCUMENT_11|FLAG_DOCUMENT_12|FLAG_DOCUMENT_13|FLAG_DOCUMENT_14|FLAG_DOCUMENT_15|FLAG_DOCUMENT_16|FLAG_DOCUMENT_17|FLAG_DOCUMENT_18|FLAG_DOCUMENT_19|FLAG_DOCUMENT_20|FLAG_DOCUMENT_21|AMT_REQ_CREDIT_BUREAU_HOUR|AMT_REQ_CREDIT_BUREAU_DAY|AMT_REQ_CREDIT_BUREAU_WEEK|AMT_REQ_CREDIT_BUREAU_MON|AMT_REQ_CREDIT_BUREAU_QRT|AMT_REQ_CREDIT_BUREAU_YEAR|var_1              |var_2              |var_3              |var_4              |var_5              |var_6               |var_7             |var_8               |var_9              |var_10              |var_11            |var_12             |var_13             |var_14             |var_15             |var_16              |var_17              |var_18             |var_19              |var_20             |var_21             |var_22             |var_23             |var_24               |var_25              |var_26              |var_27              |var_28             |var_29              |var_30             |var_31             |var_32             |var_33             |var_34             |var_35             |var_36             |var_37              |var_38             |var_39             |var_40             |var_41             |var_42              |var_43             |var_44             |var_45             |var_46             |var_47             |var_48             |var_49             |var_50             |\n",
            "+----------+------+------------------+-----------+------------+---------------+------------+----------------+----------+-----------+---------------+---------------+--------------------+-----------------------------+--------------------+-------------------+--------------------------+----------+-------------+-----------------+---------------+-----------+----------+--------------+---------------+----------------+----------+----------+---------------------+---------------+--------------------+---------------------------+--------------------------+-----------------------+--------------------------+--------------------------+---------------------------+----------------------+----------------------+-----------------------+----------------------+------------------+------------------+------------------+------------------+----------------+---------------------------+------------------+--------------+-------------+-------------+-------------+-------------+------------------+--------------------+--------------+-----------------------+------------------+---------------+-----------------+----------------------------+----------------+---------------+--------------+--------------+--------------+--------------+-------------+---------------------+---------------+------------------------+------------------+---------------+-----------------+----------------------------+----------------+---------------+--------------+--------------+--------------+--------------+-------------+---------------------+---------------+------------------------+------------------+------------------+--------------+--------------+------------------+-------------------+------------------------+------------------------+------------------------+------------------------+----------------------+---------------+---------------+---------------+---------------+---------------+---------------+---------------+---------------+----------------+----------------+----------------+----------------+----------------+----------------+----------------+----------------+----------------+----------------+----------------+----------------+--------------------------+-------------------------+--------------------------+-------------------------+-------------------------+--------------------------+-------------------+-------------------+-------------------+-------------------+-------------------+--------------------+------------------+--------------------+-------------------+--------------------+------------------+-------------------+-------------------+-------------------+-------------------+--------------------+--------------------+-------------------+--------------------+-------------------+-------------------+-------------------+-------------------+---------------------+--------------------+--------------------+--------------------+-------------------+--------------------+-------------------+-------------------+-------------------+-------------------+-------------------+-------------------+-------------------+--------------------+-------------------+-------------------+-------------------+-------------------+--------------------+-------------------+-------------------+-------------------+-------------------+-------------------+-------------------+-------------------+-------------------+\n",
            "|247330    |0     |Cash loans        |F          |N           |N              |0           |157500.0        |706410.0  |67072.5    |679500.0       |Unaccompanied  |Commercial associate|Higher education             |Married             |House / apartment  |0.032561                  |-14653    |-2062        |-8599.0          |-2087          |NULL       |1         |1             |0              |1               |1         |0         |Private service staff|2.0            |1                   |1                          |WEDNESDAY                 |13                     |0                         |0                         |0                          |0                     |0                     |0                      |Services              |NULL              |0.6324239460507313|0.22009464485041  |NULL              |0.105           |NULL                       |NULL              |NULL          |NULL         |NULL         |NULL         |NULL         |NULL              |NULL                |NULL          |NULL                   |NULL              |NULL           |0.109            |NULL                        |NULL            |NULL           |NULL          |NULL          |NULL          |NULL          |NULL         |NULL                 |NULL           |NULL                    |NULL              |NULL           |0.105            |NULL                        |NULL            |NULL           |NULL          |NULL          |NULL          |NULL          |NULL         |NULL                 |NULL           |NULL                    |NULL              |NULL              |NULL          |0.0702        |Panel             |No                 |1.0                     |0.0                     |1.0                     |0.0                     |-1254.0               |0              |1              |0              |0              |0              |0              |0              |0              |0               |0               |0               |0               |0               |0               |0               |0               |0               |0               |0               |0               |0.0                       |0.0                      |0.0                       |0.0                      |0.0                      |1.0                       |0.38133965039843054|0.25377339793899156|0.20572812018648545|0.8082605522516552 |0.9177001432100841 |0.48769818060272596 |0.9559213421805132|0.08934177933633347 |0.519432392721959  |0.6678060213555708  |0.3333202912839369|0.873507549111724  |0.2938369975706796 |0.758751370685052  |0.972639879657895  |0.8132374152147033  |0.39876183030998225 |0.06010874115063669|0.43202065096447406 |0.7117287020947736 |0.45597738695745127|0.5329769135157408 |0.6159554208595124 |0.0050829344256292375|0.4654490520568283  |0.14592364799108493 |0.02653406625372179 |0.5622166627174792 |0.38099663776114745 |0.6347125853239837 |0.32219473521744224|0.6778767451831661 |0.518136510768327  |0.28426692110807217|0.8964990394700657 |0.26093774551745463|0.03092282948835312 |0.0520234889930129 |0.9691933171705986 |0.9843781260735788 |0.8247617098091082 |0.333515951081393   |0.2932598195076287 |0.5648777101547645 |0.11505831772037989|0.6556052276358179 |0.41556216040539806|0.09264289217164834|0.7233310073651865 |0.7965229597223112 |\n",
            "|425716    |1     |Cash loans        |F          |Y           |Y              |1           |121500.0        |545040.0  |25407.0    |450000.0       |Unaccompanied  |Working             |Secondary / secondary special|Married             |House / apartment  |0.007114                  |-13995    |-2246        |-348.0           |-172           |12.0       |1         |1             |1              |1               |1         |0         |Secretaries          |3.0            |2                   |2                          |MONDAY                    |10                     |0                         |0                         |0                          |0                     |0                     |0                      |Business Entity Type 3|0.5934561804300743|0.6959970082869142|0.633031641417419 |0.6679999999999999|NULL            |0.9856                     |NULL              |NULL          |NULL         |NULL         |NULL         |NULL         |NULL              |NULL                |0.6817        |NULL                   |NULL              |0.6807         |NULL             |0.9856                      |NULL            |NULL           |NULL          |NULL          |NULL          |NULL          |NULL         |NULL                 |0.7102         |NULL                    |NULL              |0.6745         |NULL             |0.9856                      |NULL            |NULL           |NULL          |NULL          |NULL          |NULL          |NULL         |NULL                 |0.6939         |NULL                    |NULL              |NULL              |block of flats|0.5501        |Stone, brick      |No                 |1.0                     |0.0                     |1.0                     |0.0                     |-907.0                |0              |1              |0              |0              |0              |0              |0              |0              |0               |0               |0               |0               |0               |0               |0               |0               |0               |0               |0               |0               |0.0                       |0.0                      |0.0                       |0.0                      |0.0                      |0.0                       |0.9365153383898281 |0.17948111136639777|0.843631249288449  |0.5200293606034301 |0.9074207339609182 |0.4422794249284736  |0.3053189809992135|0.1259684497875463  |0.9254843412131474 |0.19871401450498116 |0.7931174066402618|0.9206239058270143 |0.5876971290136712 |0.19385797325111864|0.7208667042031188 |0.34718913727700784 |0.9060160787953815  |0.32969358876298416|0.8024929427873037  |0.15047308288490568|0.41828431764131957|0.8680253865145166 |0.25421920550105925|0.9561461192829226   |0.34759572422605356 |0.34143936266622865 |0.7441228341235621  |0.04589099627864113|0.9785605624469602  |0.9618678521369446 |0.9857353575154723 |0.5477683964935071 |0.8225287403314785 |0.3921723518090736 |0.4636419811819664 |0.5239000955755636 |0.3976215734115788  |0.48388895466335613|0.5995141043585471 |0.1013050738155079 |0.4162601539550145 |0.4042931976496069  |0.1379443228288888 |0.457971154221785  |0.3036911087667592 |0.21505926326838098|0.8388923591826062 |0.6083350684761425 |0.5856425994040045 |0.2984564024497547 |\n",
            "|331625    |0     |Cash loans        |M          |Y           |Y              |1           |225000.0        |942300.0  |27679.5    |675000.0       |Unaccompanied  |Working             |Secondary / secondary special|Married             |Municipal apartment|0.022625                  |-21687    |-1335        |-6306.0          |-4026          |1.0        |1         |1             |0              |1               |0         |0         |Laborers             |3.0            |2                   |2                          |THURSDAY                  |10                     |0                         |0                         |0                          |0                     |0                     |0                      |Self-employed         |NULL              |0.667685730843607 |0.6075573001388961|0.6443            |0.3483          |0.9791                     |0.7144            |0.3331        |0.72         |0.6207       |0.3333       |0.375        |0.3720000000000001|0.5253              |0.6223        |0.0                    |0.0               |0.6565         |0.3615           |0.9791                      |0.7256          |0.3361         |0.725         |0.6207        |0.3333        |0.375         |0.3804       |0.5739               |0.6483         |0.0                     |0.0               |0.6506         |0.3483           |0.9791                      |0.7182          |0.3352         |0.72          |0.6207        |0.3333        |0.375         |0.3784       |0.5344               |0.6334         |0.0                     |0.0               |reg oper account  |block of flats|0.6714        |Panel             |No                 |0.0                     |0.0                     |0.0                     |0.0                     |0.0                   |0              |1              |0              |0              |0              |0              |0              |0              |0               |0               |0               |0               |0               |0               |0               |0               |0               |0               |0               |0               |0.0                       |0.0                      |0.0                       |0.0                      |0.0                      |1.0                       |0.49989751373312474|0.9843003146950303 |0.14557263414632826|0.7636231014032149 |0.5171443457596231 |0.2519384145675352  |0.7780780735786718|0.7786328095800754  |0.7113062771449137 |0.6067483318542329  |0.8089923560913266|0.594886194234345  |0.8613063911204201 |0.2251317597915805 |0.5783058949978068 |0.007019190243685913|0.6513990067557386  |0.14508120803848412|0.7248071441474628  |0.15456776160576702|0.37945880387997033|0.9013507486464445 |0.5693518172244856 |0.3663495362145325   |0.004013530739536364|0.15174910030110944 |0.19755627538368903 |0.5125625756769874 |0.9327409954678023  |0.4274962040530992 |0.7378028391812618 |0.3991055245319335 |0.9003783425812003 |0.3481738419030863 |0.6143474100805294 |0.9342287064906811 |0.006251943088072753|0.5478678779508553 |0.4790797173276453 |0.6001690108526375 |0.03771070797182219|0.12446471602448061 |0.0918395888589979 |0.36460055729608953|0.9782197746384983 |0.5203089189277581 |0.594522775942415  |0.5596504605548295 |0.3618727890818375 |0.25480416707693077|\n",
            "|455397    |0     |Revolving loans   |F          |N           |Y              |2           |144000.0        |180000.0  |9000.0     |180000.0       |Unaccompanied  |Commercial associate|Secondary / secondary special|Separated           |House / apartment  |0.006629                  |-13071    |-2292        |-742.0           |-1201          |NULL       |1         |1             |1              |1               |1         |0         |Cooking staff        |3.0            |2                   |2                          |MONDAY                    |8                      |0                         |0                         |0                          |0                     |0                     |0                      |Restaurant            |NULL              |0.314633771944806 |0.4276573700350293|0.0261            |0.0             |0.9881                     |0.8640000000000001|NULL          |0.0          |0.0803       |0.0692       |NULL         |0.0085            |NULL                |0.019         |NULL                   |0.0               |0.0189         |0.0              |0.9871                      |0.8693          |NULL           |0.0           |0.1034        |0.0833        |NULL          |0.0068       |NULL                 |0.0114         |NULL                    |0.0               |0.0281         |0.0              |0.9871                      |0.8658          |NULL           |0.0           |0.1034        |0.0833        |NULL          |0.0088       |NULL                 |0.0195         |NULL                    |0.0               |reg oper account  |block of flats|0.018         |Block             |No                 |0.0                     |0.0                     |0.0                     |0.0                     |-394.0                |0              |0              |0              |0              |0              |0              |0              |0              |0               |0               |0               |0               |0               |0               |0               |0               |0               |0               |0               |0               |0.0                       |0.0                      |0.0                       |0.0                      |1.0                      |2.0                       |0.3151068093668098 |0.7660091240077689 |0.06540941943423118|0.205369507110285  |0.4269372828737069 |0.6693437539447569  |0.4909019637347539|0.3925656069382347  |0.3463180203763523 |0.025154584059862928|0.7607817495648797|0.5306272546414648 |0.8481789406696117 |0.7598068219094353 |0.7546675773660577 |0.7956262973524225  |0.24251132416807497 |0.8022910577595052 |0.026777598821456916|0.7878700315003645 |0.3550605935517387 |0.13229023734850498|0.24699303582502163|0.506481095748505    |0.684924414488561   |0.23368978831187415 |0.8041409948730168  |0.01013168473867787|0.932630567989622   |0.09053987438804778|0.6834679040346812 |0.36546632903771215|0.2803877693223642 |0.6709434075171322 |0.8504148016924532 |0.7598345700245056 |0.9798626706593571  |0.9220587623620888 |0.9503379501693888 |0.8220620665447309 |0.7846304216904584 |0.8314028605097469  |0.21087150815897793|0.04963913221128613|0.8142191403975102 |0.8301787965200871 |0.7551626329455876 |0.21666399439235384|0.6030019784645395 |0.429000625961821  |\n",
            "|449114    |0     |Cash loans        |F          |N           |Y              |0           |112500.0        |729792.0  |37390.5    |630000.0       |Unaccompanied  |Pensioner           |Secondary / secondary special|Civil marriage      |House / apartment  |0.04622                   |-19666    |365243       |-169.0           |-3112          |NULL       |1         |0             |0              |1               |0         |0         |NULL                 |2.0            |1                   |1                          |FRIDAY                    |10                     |0                         |0                         |0                          |0                     |0                     |0                      |XNA                   |0.5995791258525762|0.5059441189933327|0.2392262794694045|NULL              |NULL            |NULL                       |NULL              |NULL          |NULL         |NULL         |NULL         |NULL         |NULL              |NULL                |NULL          |NULL                   |NULL              |NULL           |NULL             |NULL                        |NULL            |NULL           |NULL          |NULL          |NULL          |NULL          |NULL         |NULL                 |NULL           |NULL                    |NULL              |NULL           |NULL             |NULL                        |NULL            |NULL           |NULL          |NULL          |NULL          |NULL          |NULL         |NULL                 |NULL           |NULL                    |NULL              |NULL              |NULL          |NULL          |NULL              |NULL               |0.0                     |0.0                     |0.0                     |0.0                     |0.0                   |0              |0              |0              |0              |1              |0              |0              |0              |0               |0               |0               |0               |0               |0               |0               |0               |0               |0               |0               |0               |0.0                       |0.0                      |0.0                       |0.0                      |1.0                      |0.0                       |0.44808857245660794|0.3749951505295266 |0.6061124344655214 |0.4883087432050338 |0.3215281216805753 |0.338131752717428   |0.8666520767290559|0.1021629884363745  |0.44925862681044704|0.6045126722310337  |0.6913546531663916|0.9786072157356622 |0.9783471732339105 |0.755776343141084  |0.03714397680507686|0.2030801831668274  |0.492793377294067   |0.3343779584957446 |0.44721006956238274 |0.2953941682322495 |0.6209383820001969 |0.3220723851874109 |0.26483392714383547|0.20945107123339235  |0.6547364565595762  |0.26453785448820555 |0.13338979559606512 |0.9186403306551475 |0.8909324361130552  |0.24339586230894583|0.10812050291966668|0.47234534708923936|0.04516378693705381|0.7460887082206624 |0.469676225685585  |0.5943081374901408 |0.9616978515482223  |0.6080983106960267 |0.04137482981648222|0.7673410692690447 |0.2653810525253658 |0.6553439524690605  |0.6687052951863605 |0.17139136654190013|0.33570223528628784|0.5854939663015881 |0.6195511068142575 |0.6867378529592892 |0.5404492330866939 |0.34363209601595046|\n",
            "|307634    |0     |Cash loans        |F          |Y           |Y              |0           |40149.0         |279000.0  |7672.5     |279000.0       |Unaccompanied  |Working             |Secondary / secondary special|Married             |House / apartment  |0.031329                  |-18299    |-4000        |-1616.0          |-1848          |6.0        |1         |1             |1              |1               |0         |0         |Security staff       |2.0            |2                   |2                          |TUESDAY                   |10                     |0                         |0                         |0                          |0                     |0                     |0                      |Medicine              |NULL              |0.309801868659496 |NULL              |0.1763            |0.1073          |0.9965                     |0.9524            |0.2568        |0.16         |0.1379       |0.375        |0.0417       |0.1013            |0.1429              |0.1047        |0.0039                 |0.0082            |0.1796         |0.1114           |0.9965                      |0.9543          |0.2591         |0.1611        |0.1379        |0.375         |0.0417        |0.1036       |0.1561               |0.1091         |0.0039                  |0.0087            |0.178          |0.1073           |0.9965                      |0.953           |0.2584         |0.16          |0.1379        |0.375         |0.0417        |0.1031       |0.1454               |0.1066         |0.0039                  |0.0084            |reg oper account  |block of flats|0.1422        |Mixed             |No                 |0.0                     |0.0                     |0.0                     |0.0                     |0.0                   |0              |0              |0              |0              |0              |0              |0              |0              |0               |0               |0               |0               |0               |0               |0               |0               |0               |0               |0               |0               |NULL                      |NULL                     |NULL                      |NULL                     |NULL                     |NULL                      |0.9317827882639861 |0.18645410230270576|0.4598914111186241 |0.19611441699084387|0.20716689963993162|0.19137205376119315 |0.6595724487023439|0.011923850398126934|0.8543555763394015 |0.4678588567656974  |0.6851336714311324|0.10378430042125075|0.8788999000684979 |0.741028942421439  |0.3560928885367268 |0.2963410239148201  |0.01447483287182616 |0.6444612826041984 |0.16262558687317763 |0.3341857826676209 |0.7400377490696579 |0.9053211596198482 |0.1682013407014451 |0.6343086793496797   |0.5576611621818331  |0.606459718505375   |0.4518834725731554  |0.7436507466097286 |0.06586456943134966 |0.07221475654069132|0.8134670742749298 |0.07793583116584268|0.4049818490672671 |0.3563975057183083 |0.6802738259787953 |0.23934463096674963|0.85932475930284    |0.18147828016984224|0.33598116614273554|0.1331858154074239 |0.7510337080461403 |0.8352429233956362  |0.4773676922004124 |0.1028897074044488 |0.09596769325956533|0.08642899375206214|0.18511787197866858|0.1423097460099102 |0.08907176989589904|0.07900602858026295|\n",
            "|184029    |0     |Cash loans        |F          |Y           |Y              |0           |337500.0        |1506816.0 |47313.0    |1350000.0      |Unaccompanied  |Working             |Higher education             |Married             |House / apartment  |0.010147                  |-20469    |-3767        |-5102.0          |-4015          |7.0        |1         |1             |0              |1               |1         |0         |HR staff             |2.0            |2                   |2                          |MONDAY                    |9                      |0                         |0                         |0                          |0                     |0                     |0                      |Business Entity Type 3|NULL              |0.7927430761452733|0.6512602186973006|0.3711            |0.2455          |0.9906                     |NULL              |NULL          |0.36         |0.3103       |0.375        |NULL         |0.0433            |NULL                |0.3886        |NULL                   |0.0069999999999999|0.3782         |0.2547           |0.9906                      |NULL            |NULL           |0.3625        |0.3103        |0.375         |NULL          |0.0443       |NULL                 |0.4049         |NULL                    |0.0075            |0.3747         |0.2455           |0.9906                      |NULL            |NULL           |0.36          |0.3103        |0.375         |NULL          |0.044        |NULL                 |0.3956         |NULL                    |0.0072            |NULL              |block of flats|0.307         |Panel             |No                 |0.0                     |0.0                     |0.0                     |0.0                     |-2132.0               |0              |1              |0              |0              |0              |0              |0              |0              |0               |0               |0               |0               |0               |0               |0               |0               |0               |0               |0               |0               |0.0                       |0.0                      |0.0                       |0.0                      |0.0                      |0.0                       |0.4746559414432985 |0.341256287881309  |0.6572799033052416 |0.9534055443797222 |0.0794357447294437 |0.020493103327748896|0.7276966767287458|0.8806213068103756  |0.5774337148165293 |0.46128377966758805 |0.5094680532346403|0.9020750104180897 |0.4977981095626669 |0.8958550425296624 |0.9749108684945178 |0.15535450347731283 |0.8314544914500621  |0.5723772546401584 |0.7855785469959424  |0.6614317151789768 |0.36272853261622395|0.7652657846637185 |0.2948009197007617 |0.5445799019115646   |0.634251321783042   |0.5903212763090868  |0.004225241528035939|0.6234676084608014 |0.024437155788821774|0.5760871840692692 |0.28550982311211426|0.1914126289384821 |0.7870381858432843 |0.3858425562418797 |0.15572117007825703|0.8520346181308558 |0.6523925785965491  |0.797791161678306  |0.05358759620622544|0.45858383496916744|0.7204233931034295 |0.055486932189802274|0.09846569407497585|0.9440480417837778 |0.27502417924139333|0.5960307864774965 |0.5773150683601768 |0.5202045865240781 |0.3449768304876063 |0.8173054525093753 |\n",
            "|279950    |0     |Cash loans        |M          |Y           |Y              |0           |247500.0        |1154655.0 |49050.0    |990000.0       |Unaccompanied  |Working             |Secondary / secondary special|Married             |House / apartment  |0.00733                   |-19103    |-169         |-5668.0          |-2612          |8.0        |1         |1             |0              |1               |0         |0         |Laborers             |2.0            |2                   |2                          |TUESDAY                   |13                     |0                         |1                         |1                          |0                     |0                     |0                      |Business Entity Type 3|NULL              |0.5265896232306497|0.4614823912998385|0.0082            |0.0             |0.9742                     |0.6464            |0.0           |0.0          |0.069        |0.0417       |0.0417       |0.0034            |0.0067              |0.0076        |0.0                    |0.0033            |0.0084         |0.0              |0.9742                      |0.6602          |0.0            |0.0           |0.069         |0.0417        |0.0417        |0.0035       |0.0073               |0.0079         |0.0                     |0.0035            |0.0083         |0.0              |0.9742                      |0.6511          |0.0            |0.0           |0.069         |0.0417        |0.0417        |0.0034       |0.0068               |0.0077         |0.0                     |0.0034            |reg oper account  |block of flats|0.0067        |Stone, brick      |No                 |1.0                     |0.0                     |1.0                     |0.0                     |-1272.0               |0              |0              |0              |0              |0              |0              |1              |0              |0               |0               |0               |0               |0               |0               |0               |0               |0               |0               |0               |0               |0.0                       |0.0                      |0.0                       |0.0                      |0.0                      |3.0                       |0.5757125938059516 |0.873795351112755  |0.5754469776227953 |0.24574831296003996|0.3696927253442329 |0.08320617462954871 |0.5609109399633182|0.9336174340873509  |0.8665655142459836 |0.3323095714700096  |0.5547062234851384|0.31588210560340324|0.4151823123527484 |0.9133621578638479 |0.35796332600949254|0.8486455303499516  |0.9145086667107654  |0.5644781226960097 |0.16496090358751636 |0.15494199596134683|0.12632820733742756|0.06697177881091376|0.8616576960530351 |0.7613470574007996   |0.7315063963310826  |0.5056381607647884  |0.7122911313786183  |0.5661295818644477 |0.8971996496278443  |0.874370720281117  |0.11950033626401191|0.5598213103642349 |0.7252132714017089 |0.5050157636876921 |0.12049205111859262|0.2507739738977036 |0.8685176504368162  |0.13604921565610895|0.4309051427545437 |0.8080838705367134 |0.6633804048125652 |0.25769617228412767 |0.22773677266863845|0.17887757309828334|0.9504327054752233 |0.6594404916504824 |0.8021099889576832 |0.6043780876886727 |0.17957578093744075|0.515468068768905  |\n",
            "|334424    |0     |Cash loans        |F          |N           |N              |0           |135000.0        |296280.0  |12681.0    |225000.0       |Unaccompanied  |Pensioner           |Secondary / secondary special|Civil marriage      |House / apartment  |0.006305                  |-21927    |365243       |-632.0           |-4484          |NULL       |1         |0             |0              |1               |0         |0         |NULL                 |2.0            |3                   |3                          |WEDNESDAY                 |15                     |0                         |0                         |0                          |0                     |0                     |0                      |XNA                   |0.7831124529997884|0.4879442489313642|0.4596904504249018|NULL              |NULL            |NULL                       |NULL              |NULL          |NULL         |NULL         |NULL         |NULL         |NULL              |NULL                |NULL          |NULL                   |NULL              |NULL           |NULL             |NULL                        |NULL            |NULL           |NULL          |NULL          |NULL          |NULL          |NULL         |NULL                 |NULL           |NULL                    |NULL              |NULL           |NULL             |NULL                        |NULL            |NULL           |NULL          |NULL          |NULL          |NULL          |NULL         |NULL                 |NULL           |NULL                    |NULL              |NULL              |NULL          |NULL          |NULL              |NULL               |1.0                     |0.0                     |1.0                     |0.0                     |-467.0                |0              |0              |0              |0              |1              |0              |0              |0              |0               |0               |0               |0               |0               |0               |0               |0               |0               |0               |0               |0               |0.0                       |0.0                      |0.0                       |1.0                      |0.0                      |1.0                       |0.1288175716834722 |0.49615113462540517|0.1665118157064862 |0.9446083302791063 |0.5836008637985801 |0.33369960478817906 |0.2844520180675808|0.9075157211611887  |0.6446881226513397 |0.42349959484993016 |0.7575777730819702|0.9280107652621815 |0.43109574207165247|0.8287184968173797 |0.3815655496322663 |0.995635672680082   |0.9278712452692819  |0.5045081655959721 |0.30559194176565974 |0.5020998935912204 |0.18208006560889423|0.35201920765421013|0.9009878148746558 |0.17434136932745625  |0.03582507378236088 |0.003220471896928645|0.25643379005094225 |0.4718054678546231 |0.25509035413952263 |0.08205657872060912|0.8009234632876087 |0.9045971265119431 |0.6172695414999602 |0.903140861560066  |0.16063362204690568|0.38551580605619795|0.756494196830794   |0.7988607882657586 |0.8559047568468929 |0.7289302648205751 |0.6008058038278962 |0.8444052875111393  |0.45573008357385814|0.34568388827252183|0.36306804820550176|0.5322771675699777 |0.9053768667524733 |0.07412193316106108|0.10924864573284021|0.9315381110648737 |\n",
            "|232884    |0     |Cash loans        |M          |N           |N              |0           |112500.0        |450000.0  |21888.0    |450000.0       |Unaccompanied  |Working             |Secondary / secondary special|Single / not married|With parents       |0.019101                  |-11949    |-624         |-6091.0          |-4174          |NULL       |1         |1             |1              |1               |1         |0         |NULL                 |1.0            |2                   |2                          |TUESDAY                   |18                     |0                         |0                         |0                          |0                     |0                     |0                      |Business Entity Type 3|0.3584461330322535|0.3629709888682018|0.5744466170995097|NULL              |NULL            |NULL                       |NULL              |NULL          |NULL         |NULL         |NULL         |NULL         |NULL              |NULL                |NULL          |NULL                   |NULL              |NULL           |NULL             |NULL                        |NULL            |NULL           |NULL          |NULL          |NULL          |NULL          |NULL         |NULL                 |NULL           |NULL                    |NULL              |NULL           |NULL             |NULL                        |NULL            |NULL           |NULL          |NULL          |NULL          |NULL          |NULL         |NULL                 |NULL           |NULL                    |NULL              |NULL              |NULL          |NULL          |NULL              |NULL               |7.0                     |0.0                     |7.0                     |0.0                     |-1320.0               |0              |1              |0              |0              |0              |0              |0              |0              |0               |0               |0               |0               |0               |0               |0               |0               |0               |0               |0               |0               |0.0                       |0.0                      |0.0                       |0.0                      |0.0                      |3.0                       |0.5933829458004498 |0.44898657825596133|0.583379949070172  |0.421032752707699  |0.564033178675373  |0.31609366789719806 |0.3332951786914665|0.5306005914182615  |0.9294075653667114 |0.30027921978473804 |0.7267926542675637|0.0753384773244411 |0.7744618963817606 |0.16259185511887397|0.6499873141015972 |0.11506269830847993 |0.019412680264793702|0.7594631497909677 |0.22310026464936583 |0.40745352229413245|0.47779430363277786|0.04321262183072638|0.34720408995597063|0.10184265545131876  |0.8730481885561868  |0.5743647409532323  |0.6087586473693642  |0.3656912974104175 |0.9188310051057412  |0.35848130668104217|0.15929258518518352|0.38587959178611664|0.8230499782659829 |0.4145711060724877 |0.8493707912982943 |0.49369733041014274|0.23654135019440659 |0.8503875341033055 |0.3347182721470703 |0.06681773121819035|0.6714953163345173 |0.2315464615189342  |0.7601654895837482 |0.07069719037755573|0.45861084264533236|0.9949377966393995 |0.3972673482561444 |0.33398356527689954|0.21621270553273686|0.25260304427841207|\n",
            "+----------+------+------------------+-----------+------------+---------------+------------+----------------+----------+-----------+---------------+---------------+--------------------+-----------------------------+--------------------+-------------------+--------------------------+----------+-------------+-----------------+---------------+-----------+----------+--------------+---------------+----------------+----------+----------+---------------------+---------------+--------------------+---------------------------+--------------------------+-----------------------+--------------------------+--------------------------+---------------------------+----------------------+----------------------+-----------------------+----------------------+------------------+------------------+------------------+------------------+----------------+---------------------------+------------------+--------------+-------------+-------------+-------------+-------------+------------------+--------------------+--------------+-----------------------+------------------+---------------+-----------------+----------------------------+----------------+---------------+--------------+--------------+--------------+--------------+-------------+---------------------+---------------+------------------------+------------------+---------------+-----------------+----------------------------+----------------+---------------+--------------+--------------+--------------+--------------+-------------+---------------------+---------------+------------------------+------------------+------------------+--------------+--------------+------------------+-------------------+------------------------+------------------------+------------------------+------------------------+----------------------+---------------+---------------+---------------+---------------+---------------+---------------+---------------+---------------+----------------+----------------+----------------+----------------+----------------+----------------+----------------+----------------+----------------+----------------+----------------+----------------+--------------------------+-------------------------+--------------------------+-------------------------+-------------------------+--------------------------+-------------------+-------------------+-------------------+-------------------+-------------------+--------------------+------------------+--------------------+-------------------+--------------------+------------------+-------------------+-------------------+-------------------+-------------------+--------------------+--------------------+-------------------+--------------------+-------------------+-------------------+-------------------+-------------------+---------------------+--------------------+--------------------+--------------------+-------------------+--------------------+-------------------+-------------------+-------------------+-------------------+-------------------+-------------------+-------------------+--------------------+-------------------+-------------------+-------------------+-------------------+--------------------+-------------------+-------------------+-------------------+-------------------+-------------------+-------------------+-------------------+-------------------+\n",
            "only showing top 10 rows\n",
            "\n"
          ]
        }
      ]
    },
    {
      "cell_type": "markdown",
      "source": [
        "# 03\n",
        "- O dataframe **df_application_test** contém os dados de teste\n"
      ],
      "metadata": {
        "id": "9C8VOfPaFmgY"
      }
    },
    {
      "cell_type": "code",
      "source": [
        "df_application_test = spark.read.csv('/content/gdrive/MyDrive/PoD Academy/11 - Hackaton/dados/application_test.csv', header=True)\n",
        "df_application_test.createOrReplaceTempView(\"df_application_test\")\n",
        "df_application_test.show(10, truncate=False)"
      ],
      "metadata": {
        "colab": {
          "base_uri": "https://localhost:8080/"
        },
        "id": "yocssegiFZ1j",
        "outputId": "9498b48e-6f35-4027-d31a-3a3915373ee2"
      },
      "execution_count": null,
      "outputs": [
        {
          "output_type": "stream",
          "name": "stdout",
          "text": [
            "+----------+------------------+-----------+------------+---------------+------------+----------------+----------+-----------+---------------+---------------+--------------------+-----------------------------+--------------------+-----------------+--------------------------+----------+-------------+-----------------+---------------+-----------+----------+--------------+---------------+----------------+----------+----------+---------------------+---------------+--------------------+---------------------------+--------------------------+-----------------------+--------------------------+--------------------------+---------------------------+----------------------+----------------------+-----------------------+----------------------+------------------+------------------+------------------+--------------+----------------+---------------------------+---------------+--------------+-------------+-------------+-------------+-------------+------------+--------------------+--------------+-----------------------+-----------------+---------------+-----------------+----------------------------+----------------+---------------+--------------+--------------+--------------+--------------+-------------+---------------------+---------------+------------------------+------------------+---------------+-----------------+----------------------------+----------------+---------------+--------------+--------------+--------------+--------------+-------------+---------------------+---------------+------------------------+------------------+------------------+--------------+--------------+------------------+-------------------+------------------------+------------------------+------------------------+------------------------+----------------------+---------------+---------------+---------------+---------------+---------------+---------------+---------------+---------------+----------------+----------------+----------------+----------------+----------------+----------------+----------------+----------------+----------------+----------------+----------------+----------------+--------------------------+-------------------------+--------------------------+-------------------------+-------------------------+--------------------------+-------------------+-------------------+-------------------+--------------------+--------------------+-------------------+-------------------+--------------------+-------------------+-------------------+--------------------+-------------------+--------------------+-------------------+--------------------+-------------------+-------------------+--------------------+-------------------+-------------------+-------------------+-------------------+------------------+---------------------+-------------------+-------------------+--------------------+-------------------+-------------------+-------------------+-------------------+--------------------+-------------------+-------------------+--------------------+-------------------+--------------------+-------------------+-------------------+-------------------+-------------------+-------------------+--------------------+-------------------+-------------------+-------------------+------------------+--------------------+------------------+-------------------+\n",
            "|SK_ID_CURR|NAME_CONTRACT_TYPE|CODE_GENDER|FLAG_OWN_CAR|FLAG_OWN_REALTY|CNT_CHILDREN|AMT_INCOME_TOTAL|AMT_CREDIT|AMT_ANNUITY|AMT_GOODS_PRICE|NAME_TYPE_SUITE|NAME_INCOME_TYPE    |NAME_EDUCATION_TYPE          |NAME_FAMILY_STATUS  |NAME_HOUSING_TYPE|REGION_POPULATION_RELATIVE|DAYS_BIRTH|DAYS_EMPLOYED|DAYS_REGISTRATION|DAYS_ID_PUBLISH|OWN_CAR_AGE|FLAG_MOBIL|FLAG_EMP_PHONE|FLAG_WORK_PHONE|FLAG_CONT_MOBILE|FLAG_PHONE|FLAG_EMAIL|OCCUPATION_TYPE      |CNT_FAM_MEMBERS|REGION_RATING_CLIENT|REGION_RATING_CLIENT_W_CITY|WEEKDAY_APPR_PROCESS_START|HOUR_APPR_PROCESS_START|REG_REGION_NOT_LIVE_REGION|REG_REGION_NOT_WORK_REGION|LIVE_REGION_NOT_WORK_REGION|REG_CITY_NOT_LIVE_CITY|REG_CITY_NOT_WORK_CITY|LIVE_CITY_NOT_WORK_CITY|ORGANIZATION_TYPE     |EXT_SOURCE_1      |EXT_SOURCE_2      |EXT_SOURCE_3      |APARTMENTS_AVG|BASEMENTAREA_AVG|YEARS_BEGINEXPLUATATION_AVG|YEARS_BUILD_AVG|COMMONAREA_AVG|ELEVATORS_AVG|ENTRANCES_AVG|FLOORSMAX_AVG|FLOORSMIN_AVG|LANDAREA_AVG|LIVINGAPARTMENTS_AVG|LIVINGAREA_AVG|NONLIVINGAPARTMENTS_AVG|NONLIVINGAREA_AVG|APARTMENTS_MODE|BASEMENTAREA_MODE|YEARS_BEGINEXPLUATATION_MODE|YEARS_BUILD_MODE|COMMONAREA_MODE|ELEVATORS_MODE|ENTRANCES_MODE|FLOORSMAX_MODE|FLOORSMIN_MODE|LANDAREA_MODE|LIVINGAPARTMENTS_MODE|LIVINGAREA_MODE|NONLIVINGAPARTMENTS_MODE|NONLIVINGAREA_MODE|APARTMENTS_MEDI|BASEMENTAREA_MEDI|YEARS_BEGINEXPLUATATION_MEDI|YEARS_BUILD_MEDI|COMMONAREA_MEDI|ELEVATORS_MEDI|ENTRANCES_MEDI|FLOORSMAX_MEDI|FLOORSMIN_MEDI|LANDAREA_MEDI|LIVINGAPARTMENTS_MEDI|LIVINGAREA_MEDI|NONLIVINGAPARTMENTS_MEDI|NONLIVINGAREA_MEDI|FONDKAPREMONT_MODE|HOUSETYPE_MODE|TOTALAREA_MODE|WALLSMATERIAL_MODE|EMERGENCYSTATE_MODE|OBS_30_CNT_SOCIAL_CIRCLE|DEF_30_CNT_SOCIAL_CIRCLE|OBS_60_CNT_SOCIAL_CIRCLE|DEF_60_CNT_SOCIAL_CIRCLE|DAYS_LAST_PHONE_CHANGE|FLAG_DOCUMENT_2|FLAG_DOCUMENT_3|FLAG_DOCUMENT_4|FLAG_DOCUMENT_5|FLAG_DOCUMENT_6|FLAG_DOCUMENT_7|FLAG_DOCUMENT_8|FLAG_DOCUMENT_9|FLAG_DOCUMENT_10|FLAG_DOCUMENT_11|FLAG_DOCUMENT_12|FLAG_DOCUMENT_13|FLAG_DOCUMENT_14|FLAG_DOCUMENT_15|FLAG_DOCUMENT_16|FLAG_DOCUMENT_17|FLAG_DOCUMENT_18|FLAG_DOCUMENT_19|FLAG_DOCUMENT_20|FLAG_DOCUMENT_21|AMT_REQ_CREDIT_BUREAU_HOUR|AMT_REQ_CREDIT_BUREAU_DAY|AMT_REQ_CREDIT_BUREAU_WEEK|AMT_REQ_CREDIT_BUREAU_MON|AMT_REQ_CREDIT_BUREAU_QRT|AMT_REQ_CREDIT_BUREAU_YEAR|var_1              |var_2              |var_3              |var_4               |var_5               |var_6              |var_7              |var_8               |var_9              |var_10             |var_11              |var_12             |var_13              |var_14             |var_15              |var_16             |var_17             |var_18              |var_19             |var_20             |var_21             |var_22             |var_23            |var_24               |var_25             |var_26             |var_27              |var_28             |var_29             |var_30             |var_31             |var_32              |var_33             |var_34             |var_35              |var_36             |var_37              |var_38             |var_39             |var_40             |var_41             |var_42             |var_43              |var_44             |var_45             |var_46             |var_47            |var_48              |var_49            |var_50             |\n",
            "+----------+------------------+-----------+------------+---------------+------------+----------------+----------+-----------+---------------+---------------+--------------------+-----------------------------+--------------------+-----------------+--------------------------+----------+-------------+-----------------+---------------+-----------+----------+--------------+---------------+----------------+----------+----------+---------------------+---------------+--------------------+---------------------------+--------------------------+-----------------------+--------------------------+--------------------------+---------------------------+----------------------+----------------------+-----------------------+----------------------+------------------+------------------+------------------+--------------+----------------+---------------------------+---------------+--------------+-------------+-------------+-------------+-------------+------------+--------------------+--------------+-----------------------+-----------------+---------------+-----------------+----------------------------+----------------+---------------+--------------+--------------+--------------+--------------+-------------+---------------------+---------------+------------------------+------------------+---------------+-----------------+----------------------------+----------------+---------------+--------------+--------------+--------------+--------------+-------------+---------------------+---------------+------------------------+------------------+------------------+--------------+--------------+------------------+-------------------+------------------------+------------------------+------------------------+------------------------+----------------------+---------------+---------------+---------------+---------------+---------------+---------------+---------------+---------------+----------------+----------------+----------------+----------------+----------------+----------------+----------------+----------------+----------------+----------------+----------------+----------------+--------------------------+-------------------------+--------------------------+-------------------------+-------------------------+--------------------------+-------------------+-------------------+-------------------+--------------------+--------------------+-------------------+-------------------+--------------------+-------------------+-------------------+--------------------+-------------------+--------------------+-------------------+--------------------+-------------------+-------------------+--------------------+-------------------+-------------------+-------------------+-------------------+------------------+---------------------+-------------------+-------------------+--------------------+-------------------+-------------------+-------------------+-------------------+--------------------+-------------------+-------------------+--------------------+-------------------+--------------------+-------------------+-------------------+-------------------+-------------------+-------------------+--------------------+-------------------+-------------------+-------------------+------------------+--------------------+------------------+-------------------+\n",
            "|384575    |Cash loans        |M          |Y           |N              |2           |207000.0        |465457.5  |52641.0    |418500.0       |Unaccompanied  |Commercial associate|Secondary / secondary special|Married             |House / apartment|0.00963                   |-13297    |-762         |-637.0           |-4307          |19.0       |1         |1             |0              |1               |0         |0         |Sales staff          |4.0            |2                   |2                          |THURSDAY                  |11                     |0                         |0                         |0                          |0                     |1                     |1                      |Business Entity Type 3|0.6758780692916837|0.6048943383603742|0.0005272652387098|NULL          |NULL            |NULL                       |NULL           |NULL          |NULL         |NULL         |NULL         |NULL         |NULL        |NULL                |NULL          |NULL                   |NULL             |NULL           |NULL             |NULL                        |NULL            |NULL           |NULL          |NULL          |NULL          |NULL          |NULL         |NULL                 |NULL           |NULL                    |NULL              |NULL           |NULL             |NULL                        |NULL            |NULL           |NULL          |NULL          |NULL          |NULL          |NULL         |NULL                 |NULL           |NULL                    |NULL              |NULL              |NULL          |NULL          |NULL              |NULL               |0.0                     |0.0                     |0.0                     |0.0                     |-2.0                  |0              |1              |0              |0              |0              |0              |0              |0              |0               |0               |0               |0               |0               |0               |0               |0               |0               |0               |0               |0               |0.0                       |0.0                      |0.0                       |1.0                      |0.0                      |1.0                       |0.4987778792414972 |0.6258844169126287 |0.2656591735635925 |0.025377782816201844|0.09828368507013596 |0.5700802575179027 |0.6882995201219607 |0.499184433676619   |0.16076798667128023|0.907587943220122  |0.41384356338372796 |0.43396228779463075|0.06278127406540845 |0.05616385150823122|0.05398419510123642 |0.1698295349858182 |0.7927870498010473 |0.7547340941039725  |0.09352787421099196|0.16629009949004336|0.18569927158385469|0.4234602134823001 |0.7728940276347376|0.9501597182285914   |0.7753634288359191 |0.3219920729461293 |0.059546985669486685|0.37823023105482834|0.5150260709409684 |0.6438324560660326 |0.5238986181274983 |0.9465183094916153  |0.6804607947775746 |0.2635760386179782 |0.5888164815687591  |0.32568982624425347|0.8926760614574816  |0.6085909783596248 |0.7007372921950489 |0.6919372991115323 |0.633685835024326  |0.6644009071248711 |0.0878851477150897  |0.35032048739357746|0.24783793717140035|0.7003137646707953 |0.7090031720716671|0.6251045227078077  |0.8472180010781343|0.44595771352759683|\n",
            "|214010    |Cash loans        |F          |Y           |Y              |0           |247500.0        |1281712.5 |48946.5    |1179000.0      |Unaccompanied  |Commercial associate|Higher education             |Single / not married|House / apartment|0.006852                  |-14778    |-1141        |-1610.0          |-4546          |11.0       |1         |1             |0              |1               |0         |1         |Managers             |1.0            |3                   |3                          |THURSDAY                  |10                     |0                         |0                         |0                          |0                     |0                     |0                      |Business Entity Type 3|0.4308270680689849|0.4253505221468029|0.7121551551910698|0.0753        |0.0568          |0.997                      |0.9592         |0.1326        |0.08         |0.0517       |0.4167       |0.2917       |0.0735      |0.0601              |0.0844        |0.0058                 |0.1118           |0.0756         |0.0566           |0.994                       |0.9216          |0.0523         |0.0806        |0.0345        |0.3333        |0.0417        |0.0445       |0.0652               |0.0857         |0.0                     |0.0               |0.076          |0.0568           |0.997                       |0.9597          |0.1335         |0.08          |0.0517        |0.4167        |0.2917        |0.0748       |0.0611               |0.0859         |0.0058                  |0.1142            |reg oper account  |block of flats|0.0754        |Monolithic        |No                 |2.0                     |0.0                     |2.0                     |0.0                     |-1071.0               |0              |1              |0              |0              |0              |0              |0              |0              |0               |0               |0               |0               |0               |0               |0               |0               |0               |0               |0               |0               |0.0                       |0.0                      |0.0                       |1.0                      |0.0                      |3.0                       |0.7438145653467414 |0.7063031895322915 |0.107169779520769  |0.2144133704317328  |0.5789010313302944  |0.9761522817136473 |0.08087687373421037|0.25816263507027915 |0.5566379290368054 |0.5143182612683926 |0.4667544699931865  |0.8389544156969764 |0.021138598601758818|0.829923368323339  |0.30784512043412604 |0.6480138175839177 |0.28950012028599814|0.23759036800488198 |0.3383129451351031 |0.7274741463178992 |0.7410908912680634 |0.8253452217670155 |0.4048552209112154|0.3585843404767932   |0.7789971137364364 |0.8212559845050125 |0.8417974859186835  |0.4566663309043335 |0.24258686815945185|0.1472496107867457 |0.23496771720624898|0.46647955939771457 |0.5057606690459031 |0.620883154389765  |0.2862850380161931  |0.11286907298979798|0.31160269573373045 |0.08143158930187233|0.9347763773606621 |0.41429720635680445|0.24982583310372442|0.5698894600983675 |0.16118306398713578 |0.932275908838677  |0.7202873386312278 |0.2518788151957977 |0.4395275393309135|0.26999243059934175 |0.5474861635261362|0.6579340714262362 |\n",
            "|142232    |Cash loans        |F          |Y           |N              |0           |202500.0        |495000.0  |39109.5    |495000.0       |Unaccompanied  |Working             |Secondary / secondary special|Married             |House / apartment|0.035792                  |-17907    |-639         |-2507.0          |-1461          |4.0        |1         |1             |1              |1               |0         |0         |Sales staff          |2.0            |2                   |2                          |TUESDAY                   |16                     |0                         |0                         |0                          |0                     |0                     |0                      |Self-employed         |0.5272390876896329|0.5317599965307688|0.2079641743053816|NULL          |NULL            |NULL                       |NULL           |NULL          |NULL         |NULL         |NULL         |NULL         |NULL        |NULL                |NULL          |NULL                   |NULL             |NULL           |NULL             |NULL                        |NULL            |NULL           |NULL          |NULL          |NULL          |NULL          |NULL         |NULL                 |NULL           |NULL                    |NULL              |NULL           |NULL             |NULL                        |NULL            |NULL           |NULL          |NULL          |NULL          |NULL          |NULL         |NULL                 |NULL           |NULL                    |NULL              |NULL              |NULL          |NULL          |NULL              |NULL               |5.0                     |0.0                     |5.0                     |0.0                     |-1435.0               |0              |1              |0              |0              |0              |0              |0              |0              |0               |0               |0               |0               |0               |0               |0               |0               |0               |0               |0               |0               |0.0                       |0.0                      |0.0                       |1.0                      |0.0                      |3.0                       |0.3218996245867487 |0.26746281832899443|0.08723840149711248|0.3561997437370358  |0.7397906826316423  |0.26751028711608327|0.418676433995549  |0.9372748566692435  |0.7903410193384612 |0.5116468289996472 |0.044839727329131884|0.5505069008024754 |0.8848422950117496  |0.7853023910670479 |0.020373305134728903|0.7635831987078976 |0.8348710201396279 |0.5727766090515041  |0.18439033202252875|0.7945549178011746 |0.4404557479426896 |0.30792631999242703|0.8352676112298882|0.9884962267091978   |0.36765083976928714|0.05428533828979043|0.3111333280180386  |0.29415593061182344|0.4182746960300098 |0.24788793429578437|0.4996050167857399 |0.2257942958773942  |0.6384103614965523 |0.6317806927823116 |0.45074828558703317 |0.9296282011202077 |0.045871454228722186|0.5826530862352931 |0.0368324651467945 |0.6535331079409953 |0.08130463421930734|0.02518617773098597|0.3915659464544967  |0.7373252302002676 |0.09099473679907   |0.32703134894775576|0.7877392347121641|0.8203448650512943  |0.5231179039298168|0.33955300755651996|\n",
            "|389171    |Cash loans        |F          |N           |Y              |0           |247500.0        |254700.0  |24939.0    |225000.0       |Unaccompanied  |State servant       |Secondary / secondary special|Widow               |House / apartment|0.04622                   |-19626    |-6982        |-11167.0         |-3158          |NULL       |1         |1             |0              |1               |0         |0         |High skill tech staff|1.0            |1                   |1                          |FRIDAY                    |14                     |0                         |0                         |0                          |0                     |0                     |0                      |Business Entity Type 3|NULL              |0.6935206274920988|0.6144143775673561|0.132         |0.0645          |0.9846                     |NULL           |NULL          |0.16         |0.069        |0.625        |NULL         |NULL        |NULL                |0.1628        |NULL                   |0.0022           |0.1345         |0.067            |0.9846                      |NULL            |NULL           |0.1611        |0.069         |0.625         |NULL          |NULL         |NULL                 |0.1696         |NULL                    |0.0023            |0.1332         |0.0645           |0.9846                      |NULL            |NULL           |0.16          |0.069         |0.625         |NULL          |NULL         |NULL                 |0.1657         |NULL                    |0.0022            |NULL              |NULL          |0.1285        |Panel             |No                 |0.0                     |0.0                     |0.0                     |0.0                     |-2000.0               |0              |1              |0              |0              |0              |0              |0              |0              |0               |0               |0               |0               |0               |0               |0               |0               |0               |0               |0               |0               |0.0                       |0.0                      |0.0                       |0.0                      |0.0                      |0.0                       |0.39095626882112877|0.6048969419996617 |0.303842013412559  |0.9994459467263541  |0.8995521035904327  |0.2615692012077321 |0.5481643275321594 |0.18170206733449523 |0.5437883009841962 |0.09517432586351382|0.16011788538669214 |0.40904543584590847|0.452320711781634   |0.7791802043553941 |0.8243552333504146  |0.38630657691007364|0.8120872889273472 |0.41373523282813596 |0.25547580924201163|0.7898995476423356 |0.48566948990246117|0.8103645973253202 |0.8040579151024466|0.2596189853267269   |0.11324153558289374|0.35904119600039297|0.5845013899528494  |0.27396489031380933|0.08540579041263374|0.3226653222173992 |0.3409358240262197 |0.9003579589961769  |0.5330369976957343 |0.6246523058888401 |0.9457126352498774  |0.45694544831727546|0.8690414132105223  |0.6812664667300552 |0.9053755144841551 |0.3913222226123009 |0.06278050142751901|0.1290043072547733 |0.0541820685416563  |0.08411010257509399|0.6194106593089725 |0.11511425492429717|0.3147851353251374|0.6599893751657971  |0.8642385795703835|0.31524269847577224|\n",
            "|283617    |Cash loans        |M          |N           |Y              |0           |112500.0        |308133.0  |15862.5    |234000.0       |Unaccompanied  |Working             |Secondary / secondary special|Single / not married|House / apartment|0.01885                   |-20327    |-1105        |-7299.0          |-494           |NULL       |1         |1             |0              |1               |0         |0         |Laborers             |1.0            |2                   |2                          |WEDNESDAY                 |11                     |0                         |0                         |0                          |0                     |0                     |0                      |Business Entity Type 3|0.6548815043678321|0.5606898594049499|0.6363761710860439|0.0619        |0.0553          |0.9717                     |NULL           |NULL          |0.0          |0.1724       |0.1667       |NULL         |0.0866      |NULL                |0.0749        |NULL                   |0.0149           |0.063          |0.0574           |0.9717                      |NULL            |NULL           |0.0           |0.1724        |0.1667        |NULL          |0.0885       |NULL                 |0.078          |NULL                    |0.0158            |0.0625         |0.0553           |0.9717                      |NULL            |NULL           |0.0           |0.1724        |0.1667        |NULL          |0.0881       |NULL                 |0.0762         |NULL                    |0.0152            |NULL              |block of flats|0.0765        |Stone, brick      |No                 |0.0                     |0.0                     |0.0                     |0.0                     |-173.0                |0              |1              |0              |0              |0              |0              |0              |0              |0               |0               |0               |0               |0               |0               |0               |0               |0               |0               |0               |0               |0.0                       |0.0                      |0.0                       |0.0                      |0.0                      |4.0                       |0.5518190047848851 |0.9540894946474096 |0.1935121583268662 |0.43998556962048907 |0.3793915063317286  |0.2070615564040338 |0.17319239408153464|0.033075136048436704|0.12281938716335572|0.46445213775404637|0.1290179008338609  |0.9390423413678496 |0.3163465061235591  |0.9520714136186392 |0.11562726347603958 |0.6938297271572536 |0.5195804411533741 |0.9503701037833511  |0.03749349435528859|0.1945991130707584 |0.46733850440080793|0.7167674966703879 |0.9507832267520481|0.8751146862933182   |0.8404900685751643 |0.1173948011274456 |0.016361158550227795|0.0336244503802694 |0.4601275957539832 |0.47500455649213214|0.24307255343613154|0.8529987409662889  |0.5174618274122867 |0.8009593262703822 |0.5517065479744268  |0.48945522633667193|0.3071849115145274  |0.1707987222337446 |0.41088484152284965|0.7309394440135241 |0.730765470187859  |0.29215707887893616|0.15571816501676483 |0.2762524051248638 |0.6663830771964165 |0.14051071728855513|0.5989341431017354|0.6313565036786655  |0.4127542422426428|0.6280675481129772 |\n",
            "|362171    |Cash loans        |M          |N           |Y              |0           |85500.0         |152820.0  |16456.5    |135000.0       |Unaccompanied  |Pensioner           |Secondary / secondary special|Married             |House / apartment|0.006629                  |-19130    |365243       |-8549.0          |-959           |NULL       |1         |0             |0              |1               |1         |0         |NULL                 |2.0            |2                   |2                          |THURSDAY                  |6                      |0                         |0                         |0                          |0                     |0                     |0                      |XNA                   |NULL              |0.5191266804311161|0.1047946227497676|NULL          |NULL            |NULL                       |NULL           |NULL          |NULL         |NULL         |NULL         |NULL         |NULL        |NULL                |NULL          |NULL                   |NULL             |NULL           |NULL             |NULL                        |NULL            |NULL           |NULL          |NULL          |NULL          |NULL          |NULL         |NULL                 |NULL           |NULL                    |NULL              |NULL           |NULL             |NULL                        |NULL            |NULL           |NULL          |NULL          |NULL          |NULL          |NULL         |NULL                 |NULL           |NULL                    |NULL              |NULL              |NULL          |NULL          |NULL              |NULL               |3.0                     |0.0                     |3.0                     |0.0                     |-1011.0               |0              |1              |0              |0              |0              |0              |0              |0              |0               |0               |0               |0               |0               |0               |0               |0               |0               |0               |0               |0               |0.0                       |0.0                      |0.0                       |0.0                      |0.0                      |1.0                       |0.6299206992133413 |0.7980843242025947 |0.5409902218897192 |0.3175701620294341  |0.6828199484616032  |0.30010193900145865|0.41075898365805263|0.8641023223366457  |0.21654001256046695|0.599960773329455  |0.8571996989236915  |0.8194957180143746 |0.09862031590150622 |0.04402836522588316|0.11741610784425927 |0.6628393371420199 |0.7829967733010259 |0.030757118506980485|0.5814072770444023 |0.09783874257784264|0.701662122619375  |0.2260150485477307 |0.6476599204490203|0.0014299352021226452|0.36893315960968565|0.9876514003719157 |0.05678186580180411 |0.67435901863738   |0.15183165016064126|0.3252606773879162 |0.35253737171284716|0.979649996037793   |0.7994375344723204 |0.9474077445217367 |0.8813805908008597  |0.26914716322392973|0.3039046082700574  |0.12241551632684844|0.14090196552667011|0.6547486041144837 |0.5828254174104773 |0.32296406538259137|0.23424651575439182 |0.8751992008137561 |0.27767197173485547|0.579773573784622  |0.2981986440968375|0.43995306718907257 |0.8240318305561285|0.09149209043660278|\n",
            "|180689    |Cash loans        |F          |N           |N              |1           |112500.0        |900000.0  |24750.0    |900000.0       |Family         |Commercial associate|Secondary / secondary special|Married             |House / apartment|0.015221                  |-15722    |-345         |-492.0           |-4672          |NULL       |1         |1             |0              |1               |1         |0         |NULL                 |3.0            |2                   |2                          |WEDNESDAY                 |12                     |0                         |0                         |0                          |1                     |0                     |1                      |Business Entity Type 3|0.7140669333212697|0.5479626352655883|NULL              |NULL          |NULL            |NULL                       |NULL           |NULL          |NULL         |NULL         |NULL         |NULL         |NULL        |NULL                |NULL          |NULL                   |NULL             |NULL           |NULL             |NULL                        |NULL            |NULL           |NULL          |NULL          |NULL          |NULL          |NULL         |NULL                 |NULL           |NULL                    |NULL              |NULL           |NULL             |NULL                        |NULL            |NULL           |NULL          |NULL          |NULL          |NULL          |NULL         |NULL                 |NULL           |NULL                    |NULL              |NULL              |NULL          |NULL          |NULL              |NULL               |0.0                     |0.0                     |0.0                     |0.0                     |-440.0                |0              |1              |0              |0              |0              |0              |0              |0              |0               |0               |0               |0               |0               |0               |0               |0               |0               |0               |0               |0               |0.0                       |0.0                      |0.0                       |0.0                      |2.0                      |0.0                       |0.8621637422329728 |0.0846385638851288 |0.4935500504482935 |0.08222584251428566 |0.20555887359593672 |0.4177716096582097 |0.7154072754903179 |0.8028905950393304  |0.921512423550577  |0.15369226790845014|0.12024527418340336 |0.5682761265323476 |0.7522099368427206  |0.05503954067440453|0.9408578153991987  |0.1916242679523581 |0.28292447063649995|0.03665698230990544 |0.32387626692484894|0.9522119271356944 |0.21326564297594286|0.7426852325494145 |0.9933133133946491|0.2801433006824475   |0.5119322982448349 |0.3997842311777714 |0.3035287774779848  |0.19794260221592275|0.6937867282871626 |0.09837029811323639|0.39490604154373055|0.7993429819386759  |0.9270122755910217 |0.6843915209020138 |0.488632977977595   |0.5048160812814463 |0.10048315596371882 |0.49492033218668363|0.3678380868748895 |0.6975219692911458 |0.31698742128278967|0.47651015435900634|0.006330460761309165|0.8825518485842322 |0.7351558637074532 |0.9633200457754628 |0.6148039641058564|0.9554292617346714  |0.9742551774709106|0.29138261090775097|\n",
            "|310328    |Cash loans        |M          |Y           |Y              |0           |141606.0        |810000.0  |33120.0    |810000.0       |Unaccompanied  |Commercial associate|Secondary / secondary special|Single / not married|House / apartment|0.018801                  |-10801    |-260         |-263.0           |-3152          |12.0       |1         |1             |1              |1               |0         |0         |Laborers             |1.0            |2                   |2                          |FRIDAY                    |10                     |0                         |0                         |0                          |0                     |0                     |0                      |Trade: type 3         |NULL              |0.0125875656953968|0.4902575124990026|0.0825        |0.088           |0.9747                     |0.6532         |0.0629        |0.0          |0.1379       |0.1667       |0.2083       |0.0824      |0.0672              |0.0709        |0.0                    |0.0              |0.084          |0.0913           |0.9747                      |0.6668          |0.0635         |0.0           |0.1379        |0.1667        |0.2083        |0.0843       |0.0735               |0.0739         |0.0                     |0.0               |0.0833         |0.088            |0.9747                      |0.6578          |0.0633         |0.0           |0.1379        |0.1667        |0.2083        |0.0838       |0.0684               |0.0722         |0.0                     |0.0               |reg oper account  |block of flats|0.0901        |Panel             |No                 |5.0                     |0.0                     |5.0                     |0.0                     |-222.0                |0              |0              |0              |0              |0              |0              |0              |0              |0               |0               |0               |0               |0               |0               |0               |0               |0               |0               |0               |0               |0.0                       |0.0                      |0.0                       |0.0                      |0.0                      |0.0                       |0.8859130040266756 |0.5857008997868255 |0.37447075002501473|0.1601870199502956  |0.3789593267870075  |0.1688535425061174 |0.44198188725318843|0.8211845488846888  |0.09903894487932963|0.1415206608191899 |0.5969401398061096  |0.5245343092747214 |0.05076461491316153 |0.9260051214189426 |0.08277795624574347 |0.733115672643461  |0.24570658790248212|0.9308335883068166  |0.6321099655242718 |0.3342235176234706 |0.06215427183676525|0.5676548398837103 |0.7232432784992695|0.906700151591192    |0.34948692333933196|0.39520724545122055|0.3340213728740765  |0.18128715179557975|0.9177774568044476 |0.6416299577141272 |0.3436760603917298 |0.5137405875100973  |0.10342194108845748|0.38804288981968493|0.054820429936898396|0.5612314947966722 |0.11113733949584792 |0.02099418314304302|0.7899601629329097 |0.10665843166192834|0.7601590366991378 |0.7729684850120515 |0.24843482247391668 |0.6848056919518801 |0.3248024716776038 |0.980925393136664  |0.6961411936710967|0.6520435552531813  |0.9249937415115816|0.4329816420916246 |\n",
            "|233043    |Cash loans        |F          |N           |Y              |0           |130500.0        |781920.0  |34443.0    |675000.0       |Unaccompanied  |Pensioner           |Secondary / secondary special|Married             |House / apartment|0.0228                    |-23516    |365243       |-1663.0          |-4763          |NULL       |1         |0             |0              |1               |0         |0         |NULL                 |2.0            |2                   |2                          |SATURDAY                  |8                      |0                         |0                         |0                          |0                     |0                     |0                      |XNA                   |NULL              |0.077534911185021 |0.633031641417419 |NULL          |NULL            |NULL                       |NULL           |NULL          |NULL         |NULL         |NULL         |NULL         |NULL        |NULL                |NULL          |NULL                   |NULL             |NULL           |NULL             |NULL                        |NULL            |NULL           |NULL          |NULL          |NULL          |NULL          |NULL         |NULL                 |NULL           |NULL                    |NULL              |NULL           |NULL             |NULL                        |NULL            |NULL           |NULL          |NULL          |NULL          |NULL          |NULL         |NULL                 |NULL           |NULL                    |NULL              |NULL              |NULL          |NULL          |NULL              |NULL               |0.0                     |0.0                     |0.0                     |0.0                     |0.0                   |0              |1              |0              |0              |0              |0              |0              |0              |0               |0               |0               |0               |0               |0               |0               |0               |0               |0               |0               |0               |0.0                       |0.0                      |0.0                       |1.0                      |0.0                      |5.0                       |0.9890257461901044 |0.37987039601459993|0.7806309138073569 |0.9289180985664792  |0.026309194698150518|0.5117818299006923 |0.6560391437167394 |0.22772668598109835 |0.6503952075949144 |0.8767448253428892 |0.7199336846567215  |0.4099110174041124 |0.47470368193615    |0.28878181352312826|0.6263535017802586  |0.9197421995839802 |0.5943875083689028 |0.6763674369638856  |0.946877010199558  |0.16136127404846412|0.9484638422880504 |0.5132720010883467 |0.981848239800869 |0.7616300006696629   |0.40670643424922315|0.5951606581876765 |0.1681811875303425  |0.4965815003814289 |0.8176459175490249 |0.9638480828560039 |0.5468209724047501 |0.032472349650145116|0.4105353377674602 |0.3140811728499523 |0.3632642871777788  |0.39693579884757   |0.6826815881194381  |0.34813472519065547|0.6567093059020146 |0.10181061596577379|0.6094323003037279 |0.2006225741757165 |0.40124681747481306 |0.7246300230922817 |0.4437112125271806 |0.7748362126301755 |0.9741650692224094|0.050416839951431314|0.9311440853670304|0.7952054034595991 |\n",
            "|232220    |Cash loans        |F          |N           |Y              |1           |99000.0         |900000.0  |35824.5    |900000.0       |Unaccompanied  |Working             |Secondary / secondary special|Separated           |House / apartment|0.026392                  |-8755     |-649         |-8733.0          |-1436          |NULL       |1         |1             |0              |1               |0         |0         |Laborers             |2.0            |2                   |2                          |WEDNESDAY                 |14                     |0                         |0                         |0                          |0                     |0                     |0                      |Trade: type 7         |NULL              |0.7400816968755699|NULL              |0.0804        |0.0609          |0.9762                     |NULL           |NULL          |0.0          |0.1379       |0.1667       |NULL         |0.0697      |NULL                |0.0608        |NULL                   |0.0              |0.0819         |0.0632           |0.9762                      |NULL            |NULL           |0.0           |0.1379        |0.1667        |NULL          |0.0712       |NULL                 |0.0634         |NULL                    |0.0               |0.0812         |0.0609           |0.9762                      |NULL            |NULL           |0.0           |0.1379        |0.1667        |NULL          |0.0709       |NULL                 |0.0619         |NULL                    |0.0               |NULL              |block of flats|0.0478        |Stone, brick      |No                 |3.0                     |0.0                     |3.0                     |0.0                     |0.0                   |0              |1              |0              |0              |0              |0              |0              |0              |0               |0               |0               |0               |0               |0               |0               |0               |0               |0               |0               |0               |NULL                      |NULL                     |NULL                      |NULL                     |NULL                     |NULL                      |0.7654349045088787 |0.5141986128272866 |0.5959718848943178 |0.9225115295544443  |0.552006901902933   |0.06735473736006614|0.665905811191149  |0.9072225106697995  |0.9638634314869013 |0.8766952047973733 |0.22531716279579694 |0.5891883083316836 |0.23442514062269904 |0.9741620136413903 |0.671586809191826   |0.787498682545583  |0.5704608400574552 |0.4672530161729914  |0.03347596629693206|0.27054255395748195|0.9828622537951422 |0.8144615113140359 |0.8977767007574343|0.05244103387177956  |0.5511831407046135 |0.5052678661085792 |0.14372419537630965 |0.8171845990174386 |0.5914034467184843 |0.32310996062755304|0.8143204607132738 |0.7457390562708055  |0.8496117563833377 |0.771725518657052  |0.20095335144285476 |0.2560955058004215 |0.6974605195484231  |0.27142071585290406|0.2721512697333477 |0.5136207657636623 |0.8617643473187573 |0.5207818855517684 |0.7974433813228243  |0.17106326074734213|0.6421212839599132 |0.1488173978691617 |0.1924624031532568|0.8558728067210364  |0.6506402180797275|0.8378469556171102 |\n",
            "+----------+------------------+-----------+------------+---------------+------------+----------------+----------+-----------+---------------+---------------+--------------------+-----------------------------+--------------------+-----------------+--------------------------+----------+-------------+-----------------+---------------+-----------+----------+--------------+---------------+----------------+----------+----------+---------------------+---------------+--------------------+---------------------------+--------------------------+-----------------------+--------------------------+--------------------------+---------------------------+----------------------+----------------------+-----------------------+----------------------+------------------+------------------+------------------+--------------+----------------+---------------------------+---------------+--------------+-------------+-------------+-------------+-------------+------------+--------------------+--------------+-----------------------+-----------------+---------------+-----------------+----------------------------+----------------+---------------+--------------+--------------+--------------+--------------+-------------+---------------------+---------------+------------------------+------------------+---------------+-----------------+----------------------------+----------------+---------------+--------------+--------------+--------------+--------------+-------------+---------------------+---------------+------------------------+------------------+------------------+--------------+--------------+------------------+-------------------+------------------------+------------------------+------------------------+------------------------+----------------------+---------------+---------------+---------------+---------------+---------------+---------------+---------------+---------------+----------------+----------------+----------------+----------------+----------------+----------------+----------------+----------------+----------------+----------------+----------------+----------------+--------------------------+-------------------------+--------------------------+-------------------------+-------------------------+--------------------------+-------------------+-------------------+-------------------+--------------------+--------------------+-------------------+-------------------+--------------------+-------------------+-------------------+--------------------+-------------------+--------------------+-------------------+--------------------+-------------------+-------------------+--------------------+-------------------+-------------------+-------------------+-------------------+------------------+---------------------+-------------------+-------------------+--------------------+-------------------+-------------------+-------------------+-------------------+--------------------+-------------------+-------------------+--------------------+-------------------+--------------------+-------------------+-------------------+-------------------+-------------------+-------------------+--------------------+-------------------+-------------------+-------------------+------------------+--------------------+------------------+-------------------+\n",
            "only showing top 10 rows\n",
            "\n"
          ]
        }
      ]
    },
    {
      "cell_type": "markdown",
      "source": [
        "# 04\n",
        "- O dataframe **previous_application**\n",
        "contém informações sobre aplicações de empréstimo anteriores de um cliente na PoD Bank"
      ],
      "metadata": {
        "id": "VFcU67SINHH9"
      }
    },
    {
      "cell_type": "code",
      "source": [
        "df_previous_application = spark.read.csv('/content/gdrive/MyDrive/PoD Academy/11 - Hackaton/dados/previous_application.csv', header=True)\n",
        "df_previous_application.createOrReplaceTempView(\"df_previous_application\")\n",
        "df_previous_application.show(10, truncate=False)"
      ],
      "metadata": {
        "colab": {
          "base_uri": "https://localhost:8080/"
        },
        "id": "a_aUupytNHR8",
        "outputId": "0d18878d-3d71-4dd2-8a6d-44b4b572344b"
      },
      "execution_count": null,
      "outputs": [
        {
          "output_type": "stream",
          "name": "stdout",
          "text": [
            "+----------+----------+------------------+-----------+---------------+----------+----------------+---------------+--------------------------+-----------------------+---------------------------+----------------------+-----------------+---------------------+------------------------+----------------------+--------------------+-------------+---------------------+------------------+---------------+----------------+-------------------+--------------+-----------------+-----------------------+----------------+--------------------+-----------+----------------+------------------------+------------------+--------------+-------------------------+-------------+----------------+-------------------------+\n",
            "|SK_ID_PREV|SK_ID_CURR|NAME_CONTRACT_TYPE|AMT_ANNUITY|AMT_APPLICATION|AMT_CREDIT|AMT_DOWN_PAYMENT|AMT_GOODS_PRICE|WEEKDAY_APPR_PROCESS_START|HOUR_APPR_PROCESS_START|FLAG_LAST_APPL_PER_CONTRACT|NFLAG_LAST_APPL_IN_DAY|RATE_DOWN_PAYMENT|RATE_INTEREST_PRIMARY|RATE_INTEREST_PRIVILEGED|NAME_CASH_LOAN_PURPOSE|NAME_CONTRACT_STATUS|DAYS_DECISION|NAME_PAYMENT_TYPE    |CODE_REJECT_REASON|NAME_TYPE_SUITE|NAME_CLIENT_TYPE|NAME_GOODS_CATEGORY|NAME_PORTFOLIO|NAME_PRODUCT_TYPE|CHANNEL_TYPE           |SELLERPLACE_AREA|NAME_SELLER_INDUSTRY|CNT_PAYMENT|NAME_YIELD_GROUP|PRODUCT_COMBINATION     |DAYS_FIRST_DRAWING|DAYS_FIRST_DUE|DAYS_LAST_DUE_1ST_VERSION|DAYS_LAST_DUE|DAYS_TERMINATION|NFLAG_INSURED_ON_APPROVAL|\n",
            "+----------+----------+------------------+-----------+---------------+----------+----------------+---------------+--------------------------+-----------------------+---------------------------+----------------------+-----------------+---------------------+------------------------+----------------------+--------------------+-------------+---------------------+------------------+---------------+----------------+-------------------+--------------+-----------------+-----------------------+----------------+--------------------+-----------+----------------+------------------------+------------------+--------------+-------------------------+-------------+----------------+-------------------------+\n",
            "|2030495   |271877    |Consumer loans    |1730.43    |17145.0        |17145.0   |0.0             |17145.0        |SATURDAY                  |15                     |Y                          |1                     |0.0              |0.18283180324152784  |0.8673361522198731      |XAP                   |Approved            |-73          |Cash through the bank|XAP               |NULL           |Repeater        |Mobile             |POS           |XNA              |Country-wide           |35              |Connectivity        |12.0       |middle          |POS mobile with interest|365243.0          |-42.0         |300.0                    |-42.0        |-37.0           |0.0                      |\n",
            "|2802425   |108129    |Cash loans        |25188.615  |607500.0       |679671.0  |NULL            |607500.0       |THURSDAY                  |11                     |Y                          |1                     |NULL             |NULL                 |NULL                    |XNA                   |Approved            |-164         |XNA                  |XAP               |Unaccompanied  |Repeater        |XNA                |Cash          |x-sell           |Contact center         |-1              |XNA                 |36.0       |low_action      |Cash X-Sell: low        |365243.0          |-134.0        |916.0                    |365243.0     |365243.0        |1.0                      |\n",
            "|2523466   |122040    |Cash loans        |15060.735  |112500.0       |136444.5  |NULL            |112500.0       |TUESDAY                   |11                     |Y                          |1                     |NULL             |NULL                 |NULL                    |XNA                   |Approved            |-301         |Cash through the bank|XAP               |Spouse, partner|Repeater        |XNA                |Cash          |x-sell           |Credit and cash offices|-1              |XNA                 |12.0       |high            |Cash X-Sell: high       |365243.0          |-271.0        |59.0                     |365243.0     |365243.0        |1.0                      |\n",
            "|2819243   |176158    |Cash loans        |47041.335  |450000.0       |470790.0  |NULL            |450000.0       |MONDAY                    |7                      |Y                          |1                     |NULL             |NULL                 |NULL                    |XNA                   |Approved            |-512         |Cash through the bank|XAP               |NULL           |Repeater        |XNA                |Cash          |x-sell           |Credit and cash offices|-1              |XNA                 |12.0       |middle          |Cash X-Sell: middle     |365243.0          |-482.0        |-152.0                   |-182.0       |-177.0          |1.0                      |\n",
            "|1784265   |202054    |Cash loans        |31924.395  |337500.0       |404055.0  |NULL            |337500.0       |THURSDAY                  |9                      |Y                          |1                     |NULL             |NULL                 |NULL                    |Repairs               |Refused             |-781         |Cash through the bank|HC                |NULL           |Repeater        |XNA                |Cash          |walk-in          |Credit and cash offices|-1              |XNA                 |24.0       |high            |Cash Street: high       |NULL              |NULL          |NULL                     |NULL         |NULL            |NULL                     |\n",
            "|1383531   |199383    |Cash loans        |23703.93   |315000.0       |340573.5  |NULL            |315000.0       |SATURDAY                  |8                      |Y                          |1                     |NULL             |NULL                 |NULL                    |Everyday expenses     |Approved            |-684         |Cash through the bank|XAP               |Family         |Repeater        |XNA                |Cash          |x-sell           |Credit and cash offices|-1              |XNA                 |18.0       |low_normal      |Cash X-Sell: low        |365243.0          |-654.0        |-144.0                   |-144.0       |-137.0          |1.0                      |\n",
            "|2315218   |175704    |Cash loans        |NULL       |0.0            |0.0       |NULL            |NULL           |TUESDAY                   |11                     |Y                          |1                     |NULL             |NULL                 |NULL                    |XNA                   |Canceled            |-14          |XNA                  |XAP               |NULL           |Repeater        |XNA                |XNA           |XNA              |Credit and cash offices|-1              |XNA                 |NULL       |XNA             |Cash                    |NULL              |NULL          |NULL                     |NULL         |NULL            |NULL                     |\n",
            "|1656711   |296299    |Cash loans        |NULL       |0.0            |0.0       |NULL            |NULL           |MONDAY                    |7                      |Y                          |1                     |NULL             |NULL                 |NULL                    |XNA                   |Canceled            |-21          |XNA                  |XAP               |NULL           |Repeater        |XNA                |XNA           |XNA              |Credit and cash offices|-1              |XNA                 |NULL       |XNA             |Cash                    |NULL              |NULL          |NULL                     |NULL         |NULL            |NULL                     |\n",
            "|2367563   |342292    |Cash loans        |NULL       |0.0            |0.0       |NULL            |NULL           |MONDAY                    |15                     |Y                          |1                     |NULL             |NULL                 |NULL                    |XNA                   |Canceled            |-386         |XNA                  |XAP               |NULL           |Repeater        |XNA                |XNA           |XNA              |Credit and cash offices|-1              |XNA                 |NULL       |XNA             |Cash                    |NULL              |NULL          |NULL                     |NULL         |NULL            |NULL                     |\n",
            "|2579447   |334349    |Cash loans        |NULL       |0.0            |0.0       |NULL            |NULL           |SATURDAY                  |15                     |Y                          |1                     |NULL             |NULL                 |NULL                    |XNA                   |Canceled            |-57          |XNA                  |XAP               |NULL           |Repeater        |XNA                |XNA           |XNA              |Credit and cash offices|-1              |XNA                 |NULL       |XNA             |Cash                    |NULL              |NULL          |NULL                     |NULL         |NULL            |NULL                     |\n",
            "+----------+----------+------------------+-----------+---------------+----------+----------------+---------------+--------------------------+-----------------------+---------------------------+----------------------+-----------------+---------------------+------------------------+----------------------+--------------------+-------------+---------------------+------------------+---------------+----------------+-------------------+--------------+-----------------+-----------------------+----------------+--------------------+-----------+----------------+------------------------+------------------+--------------+-------------------------+-------------+----------------+-------------------------+\n",
            "only showing top 10 rows\n",
            "\n"
          ]
        }
      ]
    },
    {
      "cell_type": "markdown",
      "source": [
        "# 05\n",
        "- O dataframe **installments_payments** detalha o histórico de pagamentos de empréstimos anteriores na PoD Bank.  Histórico do pagamento de parcelas"
      ],
      "metadata": {
        "id": "Sl7e7jOGMDfd"
      }
    },
    {
      "cell_type": "code",
      "source": [
        "df_installments_payments = spark.read.csv('/content/gdrive/MyDrive/PoD Academy/11 - Hackaton/dados/installments_payments.csv', header=True)\n",
        "df_installments_payments.createOrReplaceTempView(\"df_installments_payments\")\n",
        "df_installments_payments.show(10, truncate=False)"
      ],
      "metadata": {
        "colab": {
          "base_uri": "https://localhost:8080/"
        },
        "id": "IZ1Ja9cGMDoC",
        "outputId": "00c2e1ba-26e4-4122-f0f1-7342b8d6d51e"
      },
      "execution_count": null,
      "outputs": [
        {
          "output_type": "stream",
          "name": "stdout",
          "text": [
            "+----------+----------+----------------------+---------------------+---------------+------------------+--------------+-----------+\n",
            "|SK_ID_PREV|SK_ID_CURR|NUM_INSTALMENT_VERSION|NUM_INSTALMENT_NUMBER|DAYS_INSTALMENT|DAYS_ENTRY_PAYMENT|AMT_INSTALMENT|AMT_PAYMENT|\n",
            "+----------+----------+----------------------+---------------------+---------------+------------------+--------------+-----------+\n",
            "|1054186   |161674    |1.0                   |6                    |-1180.0        |-1187.0           |6948.36       |6948.36    |\n",
            "|1330831   |151639    |0.0                   |34                   |-2156.0        |-2156.0           |1716.525      |1716.525   |\n",
            "|2085231   |193053    |2.0                   |1                    |-63.0          |-63.0             |25425.0       |25425.0    |\n",
            "|2452527   |199697    |1.0                   |3                    |-2418.0        |-2426.0           |24350.13      |24350.13   |\n",
            "|2714724   |167756    |1.0                   |2                    |-1383.0        |-1366.0           |2165.04       |2160.585   |\n",
            "|1137312   |164489    |1.0                   |12                   |-1384.0        |-1417.0           |5970.375      |5970.375   |\n",
            "|2234264   |184693    |4.0                   |11                   |-349.0         |-352.0            |29432.295     |29432.295  |\n",
            "|1818599   |111420    |2.0                   |4                    |-968.0         |-994.0            |17862.165     |17862.165  |\n",
            "|2723183   |112102    |0.0                   |14                   |-197.0         |-197.0            |70.74         |70.74      |\n",
            "|1413990   |109741    |1.0                   |4                    |-570.0         |-609.0            |14308.47      |14308.47   |\n",
            "+----------+----------+----------------------+---------------------+---------------+------------------+--------------+-----------+\n",
            "only showing top 10 rows\n",
            "\n"
          ]
        }
      ]
    },
    {
      "cell_type": "markdown",
      "source": [
        "# 06\n",
        "- O dataframe **df_bureau** contém dados transacionais de saldos mensais dos créditos anteriores\n",
        " - Fornece dados de crédito de outras instituições financeiras."
      ],
      "metadata": {
        "id": "CJjDB3IW1SZW"
      }
    },
    {
      "cell_type": "code",
      "source": [
        "df_bureau = spark.read.csv('/content/gdrive/MyDrive/PoD Academy/11 - Hackaton/dados/bureau.csv', header=True)\n",
        "df_bureau.createOrReplaceTempView(\"df_bureau\")\n",
        "df_bureau.show(10, truncate=False)"
      ],
      "metadata": {
        "id": "xxL4ZlT3U9Dy",
        "colab": {
          "base_uri": "https://localhost:8080/"
        },
        "outputId": "e6472392-c0a5-490a-bc5d-75de56f427a9"
      },
      "execution_count": null,
      "outputs": [
        {
          "output_type": "stream",
          "name": "stdout",
          "text": [
            "+----------+------------+-------------+---------------+-----------+------------------+-------------------+-----------------+----------------------+------------------+--------------+-------------------+--------------------+----------------------+---------------+------------------+-----------+\n",
            "|SK_ID_CURR|SK_ID_BUREAU|CREDIT_ACTIVE|CREDIT_CURRENCY|DAYS_CREDIT|CREDIT_DAY_OVERDUE|DAYS_CREDIT_ENDDATE|DAYS_ENDDATE_FACT|AMT_CREDIT_MAX_OVERDUE|CNT_CREDIT_PROLONG|AMT_CREDIT_SUM|AMT_CREDIT_SUM_DEBT|AMT_CREDIT_SUM_LIMIT|AMT_CREDIT_SUM_OVERDUE|CREDIT_TYPE    |DAYS_CREDIT_UPDATE|AMT_ANNUITY|\n",
            "+----------+------------+-------------+---------------+-----------+------------------+-------------------+-----------------+----------------------+------------------+--------------+-------------------+--------------------+----------------------+---------------+------------------+-----------+\n",
            "|215354    |5714462     |Closed       |currency 1     |-497       |0                 |-153.0             |-153.0           |NULL                  |0                 |91323.0       |0.0                |NULL                |0.0                   |Consumer credit|-131              |NULL       |\n",
            "|215354    |5714463     |Active       |currency 1     |-208       |0                 |1075.0             |NULL             |NULL                  |0                 |225000.0      |171342.0           |NULL                |0.0                   |Credit card    |-20               |NULL       |\n",
            "|215354    |5714464     |Active       |currency 1     |-203       |0                 |528.0              |NULL             |NULL                  |0                 |464323.5      |NULL               |NULL                |0.0                   |Consumer credit|-16               |NULL       |\n",
            "|215354    |5714465     |Active       |currency 1     |-203       |0                 |NULL               |NULL             |NULL                  |0                 |90000.0       |NULL               |NULL                |0.0                   |Credit card    |-16               |NULL       |\n",
            "|215354    |5714466     |Active       |currency 1     |-629       |0                 |1197.0             |NULL             |77674.5               |0                 |2700000.0     |NULL               |NULL                |0.0                   |Consumer credit|-21               |NULL       |\n",
            "|215354    |5714467     |Active       |currency 1     |-273       |0                 |27460.0            |NULL             |0.0                   |0                 |180000.0      |71017.38           |108982.62           |0.0                   |Credit card    |-31               |NULL       |\n",
            "|215354    |5714468     |Active       |currency 1     |-43        |0                 |79.0               |NULL             |0.0                   |0                 |42103.8       |42103.8            |0.0                 |0.0                   |Consumer credit|-22               |NULL       |\n",
            "|162297    |5714469     |Closed       |currency 1     |-1896      |0                 |-1684.0            |-1710.0          |14985.0               |0                 |76878.45      |0.0                |0.0                 |0.0                   |Consumer credit|-1710             |NULL       |\n",
            "|162297    |5714470     |Closed       |currency 1     |-1146      |0                 |-811.0             |-840.0           |0.0                   |0                 |103007.7      |0.0                |0.0                 |0.0                   |Consumer credit|-840              |NULL       |\n",
            "|162297    |5714471     |Active       |currency 1     |-1146      |0                 |-484.0             |NULL             |0.0                   |0                 |4500.0        |0.0                |0.0                 |0.0                   |Credit card    |-690              |NULL       |\n",
            "+----------+------------+-------------+---------------+-----------+------------------+-------------------+-----------------+----------------------+------------------+--------------+-------------------+--------------------+----------------------+---------------+------------------+-----------+\n",
            "only showing top 10 rows\n",
            "\n"
          ]
        }
      ]
    },
    {
      "cell_type": "markdown",
      "source": [],
      "metadata": {
        "id": "4_FcFNNhpdbn"
      }
    },
    {
      "cell_type": "markdown",
      "source": [
        "# 07\n",
        "- O dataframe **df_pos_cash** contém as informações sobre o histórico de pagamentos de POS (Point of Sale) ou empréstimos em dinheiro na PoD Bank."
      ],
      "metadata": {
        "id": "j1kLGa99JXZT"
      }
    },
    {
      "cell_type": "code",
      "source": [
        "df_pos_cash = spark.read.csv(\"/content/gdrive/MyDrive/PoD Academy/11 - Hackaton/dados/POS_CASH_balance.csv\", header=True)\n",
        "df_pos_cash.createOrReplaceTempView(\"df_pos_cash\")\n",
        "df_pos_cash.show(10, truncate=False)"
      ],
      "metadata": {
        "colab": {
          "base_uri": "https://localhost:8080/"
        },
        "id": "cR3vLPmPJXih",
        "outputId": "581e527e-7047-4ee9-adb9-d3e30abdc4af"
      },
      "execution_count": null,
      "outputs": [
        {
          "output_type": "stream",
          "name": "stdout",
          "text": [
            "+----------+----------+--------------+--------------+---------------------+--------------------+------+----------+\n",
            "|SK_ID_PREV|SK_ID_CURR|MONTHS_BALANCE|CNT_INSTALMENT|CNT_INSTALMENT_FUTURE|NAME_CONTRACT_STATUS|SK_DPD|SK_DPD_DEF|\n",
            "+----------+----------+--------------+--------------+---------------------+--------------------+------+----------+\n",
            "|1803195   |182943    |-31           |48.0          |45.0                 |Active              |0     |0         |\n",
            "|1715348   |367990    |-33           |36.0          |35.0                 |Active              |0     |0         |\n",
            "|1784872   |397406    |-32           |12.0          |9.0                  |Active              |0     |0         |\n",
            "|1903291   |269225    |-35           |48.0          |42.0                 |Active              |0     |0         |\n",
            "|2341044   |334279    |-35           |36.0          |35.0                 |Active              |0     |0         |\n",
            "|2207092   |342166    |-32           |12.0          |12.0                 |Active              |0     |0         |\n",
            "|1110516   |204376    |-38           |48.0          |43.0                 |Active              |0     |0         |\n",
            "|1387235   |153211    |-35           |36.0          |36.0                 |Active              |0     |0         |\n",
            "|1220500   |112740    |-31           |12.0          |12.0                 |Active              |0     |0         |\n",
            "|2371489   |274851    |-32           |24.0          |16.0                 |Active              |0     |0         |\n",
            "+----------+----------+--------------+--------------+---------------------+--------------------+------+----------+\n",
            "only showing top 10 rows\n",
            "\n"
          ]
        }
      ]
    },
    {
      "cell_type": "markdown",
      "source": [
        "# 08\n",
        "- O dataframe **df_bureau_balance** contém dados transacionais de saldos mensais dos créditos anteriores\n",
        "  - Informações mensais sobre créditos anteriores do cliente em outras instituições financeiras."
      ],
      "metadata": {
        "id": "Q7ToxH51JAkB"
      }
    },
    {
      "cell_type": "code",
      "source": [
        "df_bureau_balance = spark.read.csv('/content/gdrive/MyDrive/PoD Academy/11 - Hackaton/dados/bureau_balance.csv', header=True)\n",
        "df_bureau_balance.createOrReplaceTempView(\"df_bureau_balance\")\n",
        "df_bureau_balance.show(10, truncate=False)"
      ],
      "metadata": {
        "colab": {
          "base_uri": "https://localhost:8080/"
        },
        "id": "lDd1G5qDJAu1",
        "outputId": "0c880ee6-7955-4d70-d285-b5b96674a297"
      },
      "execution_count": null,
      "outputs": [
        {
          "output_type": "stream",
          "name": "stdout",
          "text": [
            "+------------+--------------+------+\n",
            "|SK_ID_BUREAU|MONTHS_BALANCE|STATUS|\n",
            "+------------+--------------+------+\n",
            "|5715448     |0             |C     |\n",
            "|5715448     |-1            |C     |\n",
            "|5715448     |-2            |C     |\n",
            "|5715448     |-3            |C     |\n",
            "|5715448     |-4            |C     |\n",
            "|5715448     |-5            |C     |\n",
            "|5715448     |-6            |C     |\n",
            "|5715448     |-7            |C     |\n",
            "|5715448     |-8            |C     |\n",
            "|5715448     |-9            |0     |\n",
            "+------------+--------------+------+\n",
            "only showing top 10 rows\n",
            "\n"
          ]
        }
      ]
    },
    {
      "cell_type": "markdown",
      "source": [
        "# 09\n",
        " - O dataframe **credit_card_balance** contém informações mensais sobre saldos de cartões de crédito do cliente na PoD Bank"
      ],
      "metadata": {
        "id": "pYD5DP1fLkgV"
      }
    },
    {
      "cell_type": "code",
      "source": [
        "df_credit_card_balance = spark.read.csv('/content/gdrive/MyDrive/PoD Academy/11 - Hackaton/dados/credit_card_balance.csv', header=True)\n",
        "df_credit_card_balance.createOrReplaceTempView(\"df_credit_card_balance\")\n",
        "df_credit_card_balance.show(10, truncate=False)"
      ],
      "metadata": {
        "colab": {
          "base_uri": "https://localhost:8080/"
        },
        "id": "hcJlQuhNLkqw",
        "outputId": "ab69e8e8-1f4f-4837-8757-917fd3ae82e7"
      },
      "execution_count": null,
      "outputs": [
        {
          "output_type": "stream",
          "name": "stdout",
          "text": [
            "+----------+----------+--------------+-----------+-----------------------+------------------------+--------------------+--------------------------+------------------------+-----------------------+-------------------+-------------------------+------------------------+-------------+--------------------+------------------------+--------------------+--------------------------+------------------------+-------------------------+--------------------+------+----------+\n",
            "|SK_ID_PREV|SK_ID_CURR|MONTHS_BALANCE|AMT_BALANCE|AMT_CREDIT_LIMIT_ACTUAL|AMT_DRAWINGS_ATM_CURRENT|AMT_DRAWINGS_CURRENT|AMT_DRAWINGS_OTHER_CURRENT|AMT_DRAWINGS_POS_CURRENT|AMT_INST_MIN_REGULARITY|AMT_PAYMENT_CURRENT|AMT_PAYMENT_TOTAL_CURRENT|AMT_RECEIVABLE_PRINCIPAL|AMT_RECIVABLE|AMT_TOTAL_RECEIVABLE|CNT_DRAWINGS_ATM_CURRENT|CNT_DRAWINGS_CURRENT|CNT_DRAWINGS_OTHER_CURRENT|CNT_DRAWINGS_POS_CURRENT|CNT_INSTALMENT_MATURE_CUM|NAME_CONTRACT_STATUS|SK_DPD|SK_DPD_DEF|\n",
            "+----------+----------+--------------+-----------+-----------------------+------------------------+--------------------+--------------------------+------------------------+-----------------------+-------------------+-------------------------+------------------------+-------------+--------------------+------------------------+--------------------+--------------------------+------------------------+-------------------------+--------------------+------+----------+\n",
            "|2562384   |378907    |-6            |56.97      |135000                 |0.0                     |877.5               |0.0                       |877.5                   |1700.325               |1800.0             |1800.0                   |0.0                     |0.0          |0.0                 |0.0                     |1                   |0.0                       |1.0                     |35.0                     |Active              |0     |0         |\n",
            "|2582071   |363914    |-1            |63975.555  |45000                  |2250.0                  |2250.0              |0.0                       |0.0                     |2250.0                 |2250.0             |2250.0                   |60175.08                |64875.555    |64875.555           |1.0                     |1                   |0.0                       |0.0                     |69.0                     |Active              |0     |0         |\n",
            "|1740877   |371185    |-7            |31815.225  |450000                 |0.0                     |0.0                 |0.0                       |0.0                     |2250.0                 |2250.0             |2250.0                   |26926.425               |31460.085    |31460.085           |0.0                     |0                   |0.0                       |0.0                     |30.0                     |Active              |0     |0         |\n",
            "|1389973   |337855    |-4            |236572.11  |225000                 |2250.0                  |2250.0              |0.0                       |0.0                     |11795.76               |11925.0            |11925.0                  |224949.285              |233048.97    |233048.97           |1.0                     |1                   |0.0                       |0.0                     |10.0                     |Active              |0     |0         |\n",
            "|1891521   |126868    |-1            |453919.455 |450000                 |0.0                     |11547.0             |0.0                       |11547.0                 |22924.89               |27000.0            |27000.0                  |443044.395              |453919.455   |453919.455          |0.0                     |1                   |0.0                       |1.0                     |101.0                    |Active              |0     |0         |\n",
            "|2646502   |380010    |-7            |82903.815  |270000                 |0.0                     |0.0                 |0.0                       |0.0                     |4449.105               |3825.0             |3825.0                   |80519.04                |82773.315    |82773.315           |0.0                     |0                   |0.0                       |0.0                     |2.0                      |Active              |7     |0         |\n",
            "|1079071   |171320    |-6            |353451.645 |585000                 |67500.0                 |67500.0             |0.0                       |0.0                     |14684.175              |15750.0            |15750.0                  |345433.86               |351881.145   |351881.145          |1.0                     |1                   |0.0                       |0.0                     |6.0                      |Active              |0     |0         |\n",
            "|2095912   |118650    |-7            |47962.125  |45000                  |45000.0                 |45000.0             |0.0                       |0.0                     |0.0                    |264.69             |0.0                      |44735.31                |47962.125    |47962.125           |1.0                     |1                   |0.0                       |0.0                     |51.0                     |Active              |0     |0         |\n",
            "|2181852   |367360    |-4            |291543.075 |292500                 |90000.0                 |289339.425          |0.0                       |199339.425              |130.5                  |4093.515           |4093.515                 |285376.41               |286831.575   |286831.575          |3.0                     |8                   |0.0                       |5.0                     |3.0                      |Active              |0     |0         |\n",
            "|1235299   |203885    |-5            |201261.195 |225000                 |76500.0                 |111026.7            |0.0                       |34526.7                 |6338.34                |45000.0            |45000.0                  |192793.275              |197224.695   |197224.695          |3.0                     |9                   |0.0                       |6.0                     |38.0                     |Active              |0     |0         |\n",
            "+----------+----------+--------------+-----------+-----------------------+------------------------+--------------------+--------------------------+------------------------+-----------------------+-------------------+-------------------------+------------------------+-------------+--------------------+------------------------+--------------------+--------------------------+------------------------+-------------------------+--------------------+------+----------+\n",
            "only showing top 10 rows\n",
            "\n"
          ]
        }
      ]
    },
    {
      "cell_type": "markdown",
      "source": [
        "# 10\n",
        "- O dataframe **sample_submission** mostra uma amostra do arquivo que deve ser submetido"
      ],
      "metadata": {
        "id": "ug-n0H2INHuc"
      }
    },
    {
      "cell_type": "code",
      "source": [
        "df_sample_submission = spark.read.csv('/content/gdrive/MyDrive/PoD Academy/11 - Hackaton/dados/sample_submission.csv', header=True)\n",
        "df_sample_submission.createOrReplaceTempView(\"df_sample_submission\")\n",
        "df_sample_submission.show(5, truncate=False)"
      ],
      "metadata": {
        "colab": {
          "base_uri": "https://localhost:8080/"
        },
        "id": "Hqc8M_3bNH6v",
        "outputId": "7410c5dc-dde1-43af-a9b3-2f951ed3cd98"
      },
      "execution_count": null,
      "outputs": [
        {
          "output_type": "stream",
          "name": "stdout",
          "text": [
            "+----------+------+\n",
            "|SK_ID_CURR|TARGET|\n",
            "+----------+------+\n",
            "|100001    |0.5   |\n",
            "|100005    |0.5   |\n",
            "|100013    |0.5   |\n",
            "|100028    |0.5   |\n",
            "|100038    |0.5   |\n",
            "+----------+------+\n",
            "only showing top 5 rows\n",
            "\n"
          ]
        }
      ]
    },
    {
      "cell_type": "markdown",
      "source": [
        "###Consulta spark.sql"
      ],
      "metadata": {
        "id": "c45dNtUUA8r3"
      }
    },
    {
      "cell_type": "markdown",
      "source": [
        "- Lendo os dados da tabela application_train\n"
      ],
      "metadata": {
        "id": "VToBrX4pBF2j"
      }
    },
    {
      "cell_type": "code",
      "source": [
        "spark.sql(\"\"\"\n",
        "SELECT\n",
        "*\n",
        "FROM\n",
        "df_application_train\n",
        "LIMIT 20\n",
        "\"\"\").show()"
      ],
      "metadata": {
        "id": "y0ptwZ1MZmNd",
        "colab": {
          "base_uri": "https://localhost:8080/"
        },
        "outputId": "8a42593d-4501-4469-979e-c8c842b2f12d"
      },
      "execution_count": null,
      "outputs": [
        {
          "output_type": "stream",
          "name": "stdout",
          "text": [
            "+----------+------+------------------+-----------+------------+---------------+------------+----------------+----------+-----------+---------------+---------------+--------------------+--------------------+--------------------+-------------------+--------------------------+----------+-------------+-----------------+---------------+-----------+----------+--------------+---------------+----------------+----------+----------+--------------------+---------------+--------------------+---------------------------+--------------------------+-----------------------+--------------------------+--------------------------+---------------------------+----------------------+----------------------+-----------------------+--------------------+------------------+------------------+------------------+------------------+----------------+---------------------------+------------------+--------------+-------------+-------------+-------------+-------------+------------------+--------------------+--------------+-----------------------+------------------+---------------+-----------------+----------------------------+----------------+---------------+--------------+--------------+--------------+--------------+-------------+---------------------+---------------+------------------------+------------------+---------------+-----------------+----------------------------+----------------+---------------+--------------+--------------+--------------+--------------+-------------+---------------------+---------------+------------------------+------------------+------------------+----------------+--------------+------------------+-------------------+------------------------+------------------------+------------------------+------------------------+----------------------+---------------+---------------+---------------+---------------+---------------+---------------+---------------+---------------+----------------+----------------+----------------+----------------+----------------+----------------+----------------+----------------+----------------+----------------+----------------+----------------+--------------------------+-------------------------+--------------------------+-------------------------+-------------------------+--------------------------+-------------------+--------------------+--------------------+-------------------+-------------------+--------------------+-------------------+--------------------+-------------------+--------------------+--------------------+--------------------+--------------------+--------------------+--------------------+--------------------+--------------------+--------------------+--------------------+-------------------+-------------------+-------------------+-------------------+--------------------+--------------------+--------------------+--------------------+-------------------+--------------------+-------------------+--------------------+-------------------+-------------------+-------------------+-------------------+--------------------+--------------------+--------------------+-------------------+-------------------+-------------------+--------------------+-------------------+-------------------+-------------------+-------------------+-------------------+-------------------+-------------------+-------------------+\n",
            "|SK_ID_CURR|TARGET|NAME_CONTRACT_TYPE|CODE_GENDER|FLAG_OWN_CAR|FLAG_OWN_REALTY|CNT_CHILDREN|AMT_INCOME_TOTAL|AMT_CREDIT|AMT_ANNUITY|AMT_GOODS_PRICE|NAME_TYPE_SUITE|    NAME_INCOME_TYPE| NAME_EDUCATION_TYPE|  NAME_FAMILY_STATUS|  NAME_HOUSING_TYPE|REGION_POPULATION_RELATIVE|DAYS_BIRTH|DAYS_EMPLOYED|DAYS_REGISTRATION|DAYS_ID_PUBLISH|OWN_CAR_AGE|FLAG_MOBIL|FLAG_EMP_PHONE|FLAG_WORK_PHONE|FLAG_CONT_MOBILE|FLAG_PHONE|FLAG_EMAIL|     OCCUPATION_TYPE|CNT_FAM_MEMBERS|REGION_RATING_CLIENT|REGION_RATING_CLIENT_W_CITY|WEEKDAY_APPR_PROCESS_START|HOUR_APPR_PROCESS_START|REG_REGION_NOT_LIVE_REGION|REG_REGION_NOT_WORK_REGION|LIVE_REGION_NOT_WORK_REGION|REG_CITY_NOT_LIVE_CITY|REG_CITY_NOT_WORK_CITY|LIVE_CITY_NOT_WORK_CITY|   ORGANIZATION_TYPE|      EXT_SOURCE_1|      EXT_SOURCE_2|      EXT_SOURCE_3|    APARTMENTS_AVG|BASEMENTAREA_AVG|YEARS_BEGINEXPLUATATION_AVG|   YEARS_BUILD_AVG|COMMONAREA_AVG|ELEVATORS_AVG|ENTRANCES_AVG|FLOORSMAX_AVG|FLOORSMIN_AVG|      LANDAREA_AVG|LIVINGAPARTMENTS_AVG|LIVINGAREA_AVG|NONLIVINGAPARTMENTS_AVG| NONLIVINGAREA_AVG|APARTMENTS_MODE|BASEMENTAREA_MODE|YEARS_BEGINEXPLUATATION_MODE|YEARS_BUILD_MODE|COMMONAREA_MODE|ELEVATORS_MODE|ENTRANCES_MODE|FLOORSMAX_MODE|FLOORSMIN_MODE|LANDAREA_MODE|LIVINGAPARTMENTS_MODE|LIVINGAREA_MODE|NONLIVINGAPARTMENTS_MODE|NONLIVINGAREA_MODE|APARTMENTS_MEDI|BASEMENTAREA_MEDI|YEARS_BEGINEXPLUATATION_MEDI|YEARS_BUILD_MEDI|COMMONAREA_MEDI|ELEVATORS_MEDI|ENTRANCES_MEDI|FLOORSMAX_MEDI|FLOORSMIN_MEDI|LANDAREA_MEDI|LIVINGAPARTMENTS_MEDI|LIVINGAREA_MEDI|NONLIVINGAPARTMENTS_MEDI|NONLIVINGAREA_MEDI|FONDKAPREMONT_MODE|  HOUSETYPE_MODE|TOTALAREA_MODE|WALLSMATERIAL_MODE|EMERGENCYSTATE_MODE|OBS_30_CNT_SOCIAL_CIRCLE|DEF_30_CNT_SOCIAL_CIRCLE|OBS_60_CNT_SOCIAL_CIRCLE|DEF_60_CNT_SOCIAL_CIRCLE|DAYS_LAST_PHONE_CHANGE|FLAG_DOCUMENT_2|FLAG_DOCUMENT_3|FLAG_DOCUMENT_4|FLAG_DOCUMENT_5|FLAG_DOCUMENT_6|FLAG_DOCUMENT_7|FLAG_DOCUMENT_8|FLAG_DOCUMENT_9|FLAG_DOCUMENT_10|FLAG_DOCUMENT_11|FLAG_DOCUMENT_12|FLAG_DOCUMENT_13|FLAG_DOCUMENT_14|FLAG_DOCUMENT_15|FLAG_DOCUMENT_16|FLAG_DOCUMENT_17|FLAG_DOCUMENT_18|FLAG_DOCUMENT_19|FLAG_DOCUMENT_20|FLAG_DOCUMENT_21|AMT_REQ_CREDIT_BUREAU_HOUR|AMT_REQ_CREDIT_BUREAU_DAY|AMT_REQ_CREDIT_BUREAU_WEEK|AMT_REQ_CREDIT_BUREAU_MON|AMT_REQ_CREDIT_BUREAU_QRT|AMT_REQ_CREDIT_BUREAU_YEAR|              var_1|               var_2|               var_3|              var_4|              var_5|               var_6|              var_7|               var_8|              var_9|              var_10|              var_11|              var_12|              var_13|              var_14|              var_15|              var_16|              var_17|              var_18|              var_19|             var_20|             var_21|             var_22|             var_23|              var_24|              var_25|              var_26|              var_27|             var_28|              var_29|             var_30|              var_31|             var_32|             var_33|             var_34|             var_35|              var_36|              var_37|              var_38|             var_39|             var_40|             var_41|              var_42|             var_43|             var_44|             var_45|             var_46|             var_47|             var_48|             var_49|             var_50|\n",
            "+----------+------+------------------+-----------+------------+---------------+------------+----------------+----------+-----------+---------------+---------------+--------------------+--------------------+--------------------+-------------------+--------------------------+----------+-------------+-----------------+---------------+-----------+----------+--------------+---------------+----------------+----------+----------+--------------------+---------------+--------------------+---------------------------+--------------------------+-----------------------+--------------------------+--------------------------+---------------------------+----------------------+----------------------+-----------------------+--------------------+------------------+------------------+------------------+------------------+----------------+---------------------------+------------------+--------------+-------------+-------------+-------------+-------------+------------------+--------------------+--------------+-----------------------+------------------+---------------+-----------------+----------------------------+----------------+---------------+--------------+--------------+--------------+--------------+-------------+---------------------+---------------+------------------------+------------------+---------------+-----------------+----------------------------+----------------+---------------+--------------+--------------+--------------+--------------+-------------+---------------------+---------------+------------------------+------------------+------------------+----------------+--------------+------------------+-------------------+------------------------+------------------------+------------------------+------------------------+----------------------+---------------+---------------+---------------+---------------+---------------+---------------+---------------+---------------+----------------+----------------+----------------+----------------+----------------+----------------+----------------+----------------+----------------+----------------+----------------+----------------+--------------------------+-------------------------+--------------------------+-------------------------+-------------------------+--------------------------+-------------------+--------------------+--------------------+-------------------+-------------------+--------------------+-------------------+--------------------+-------------------+--------------------+--------------------+--------------------+--------------------+--------------------+--------------------+--------------------+--------------------+--------------------+--------------------+-------------------+-------------------+-------------------+-------------------+--------------------+--------------------+--------------------+--------------------+-------------------+--------------------+-------------------+--------------------+-------------------+-------------------+-------------------+-------------------+--------------------+--------------------+--------------------+-------------------+-------------------+-------------------+--------------------+-------------------+-------------------+-------------------+-------------------+-------------------+-------------------+-------------------+-------------------+\n",
            "|    247330|     0|        Cash loans|          F|           N|              N|           0|        157500.0|  706410.0|    67072.5|       679500.0|  Unaccompanied|Commercial associate|    Higher education|             Married|  House / apartment|                  0.032561|    -14653|        -2062|          -8599.0|          -2087|       NULL|         1|             1|              0|               1|         1|         0|Private service s...|            2.0|                   1|                          1|                 WEDNESDAY|                     13|                         0|                         0|                          0|                     0|                     0|                      0|            Services|              NULL|0.6324239460507313|  0.22009464485041|              NULL|           0.105|                       NULL|              NULL|          NULL|         NULL|         NULL|         NULL|         NULL|              NULL|                NULL|          NULL|                   NULL|              NULL|           NULL|            0.109|                        NULL|            NULL|           NULL|          NULL|          NULL|          NULL|          NULL|         NULL|                 NULL|           NULL|                    NULL|              NULL|           NULL|            0.105|                        NULL|            NULL|           NULL|          NULL|          NULL|          NULL|          NULL|         NULL|                 NULL|           NULL|                    NULL|              NULL|              NULL|            NULL|        0.0702|             Panel|                 No|                     1.0|                     0.0|                     1.0|                     0.0|               -1254.0|              0|              1|              0|              0|              0|              0|              0|              0|               0|               0|               0|               0|               0|               0|               0|               0|               0|               0|               0|               0|                       0.0|                      0.0|                       0.0|                      0.0|                      0.0|                       1.0|0.38133965039843054| 0.25377339793899156| 0.20572812018648545| 0.8082605522516552| 0.9177001432100841| 0.48769818060272596| 0.9559213421805132| 0.08934177933633347|  0.519432392721959|  0.6678060213555708|  0.3333202912839369|   0.873507549111724|  0.2938369975706796|   0.758751370685052|   0.972639879657895|  0.8132374152147033| 0.39876183030998225| 0.06010874115063669| 0.43202065096447406| 0.7117287020947736|0.45597738695745127| 0.5329769135157408| 0.6159554208595124|0.005082934425629...|  0.4654490520568283| 0.14592364799108493| 0.02653406625372179| 0.5622166627174792| 0.38099663776114745| 0.6347125853239837| 0.32219473521744224| 0.6778767451831661|  0.518136510768327|0.28426692110807217| 0.8964990394700657| 0.26093774551745463| 0.03092282948835312|  0.0520234889930129| 0.9691933171705986| 0.9843781260735788| 0.8247617098091082|   0.333515951081393| 0.2932598195076287| 0.5648777101547645|0.11505831772037989| 0.6556052276358179|0.41556216040539806|0.09264289217164834| 0.7233310073651865| 0.7965229597223112|\n",
            "|    425716|     1|        Cash loans|          F|           Y|              Y|           1|        121500.0|  545040.0|    25407.0|       450000.0|  Unaccompanied|             Working|Secondary / secon...|             Married|  House / apartment|                  0.007114|    -13995|        -2246|           -348.0|           -172|       12.0|         1|             1|              1|               1|         1|         0|         Secretaries|            3.0|                   2|                          2|                    MONDAY|                     10|                         0|                         0|                          0|                     0|                     0|                      0|Business Entity T...|0.5934561804300743|0.6959970082869142| 0.633031641417419|0.6679999999999999|            NULL|                     0.9856|              NULL|          NULL|         NULL|         NULL|         NULL|         NULL|              NULL|                NULL|        0.6817|                   NULL|              NULL|         0.6807|             NULL|                      0.9856|            NULL|           NULL|          NULL|          NULL|          NULL|          NULL|         NULL|                 NULL|         0.7102|                    NULL|              NULL|         0.6745|             NULL|                      0.9856|            NULL|           NULL|          NULL|          NULL|          NULL|          NULL|         NULL|                 NULL|         0.6939|                    NULL|              NULL|              NULL|  block of flats|        0.5501|      Stone, brick|                 No|                     1.0|                     0.0|                     1.0|                     0.0|                -907.0|              0|              1|              0|              0|              0|              0|              0|              0|               0|               0|               0|               0|               0|               0|               0|               0|               0|               0|               0|               0|                       0.0|                      0.0|                       0.0|                      0.0|                      0.0|                       0.0| 0.9365153383898281| 0.17948111136639777|   0.843631249288449| 0.5200293606034301| 0.9074207339609182|  0.4422794249284736| 0.3053189809992135|  0.1259684497875463| 0.9254843412131474| 0.19871401450498116|  0.7931174066402618|  0.9206239058270143|  0.5876971290136712| 0.19385797325111864|  0.7208667042031188| 0.34718913727700784|  0.9060160787953815| 0.32969358876298416|  0.8024929427873037|0.15047308288490568|0.41828431764131957| 0.8680253865145166|0.25421920550105925|  0.9561461192829226| 0.34759572422605356| 0.34143936266622865|  0.7441228341235621|0.04589099627864113|  0.9785605624469602| 0.9618678521369446|  0.9857353575154723| 0.5477683964935071| 0.8225287403314785| 0.3921723518090736| 0.4636419811819664|  0.5239000955755636|  0.3976215734115788| 0.48388895466335613| 0.5995141043585471| 0.1013050738155079| 0.4162601539550145|  0.4042931976496069| 0.1379443228288888|  0.457971154221785| 0.3036911087667592|0.21505926326838098| 0.8388923591826062| 0.6083350684761425| 0.5856425994040045| 0.2984564024497547|\n",
            "|    331625|     0|        Cash loans|          M|           Y|              Y|           1|        225000.0|  942300.0|    27679.5|       675000.0|  Unaccompanied|             Working|Secondary / secon...|             Married|Municipal apartment|                  0.022625|    -21687|        -1335|          -6306.0|          -4026|        1.0|         1|             1|              0|               1|         0|         0|            Laborers|            3.0|                   2|                          2|                  THURSDAY|                     10|                         0|                         0|                          0|                     0|                     0|                      0|       Self-employed|              NULL| 0.667685730843607|0.6075573001388961|            0.6443|          0.3483|                     0.9791|            0.7144|        0.3331|         0.72|       0.6207|       0.3333|        0.375|0.3720000000000001|              0.5253|        0.6223|                    0.0|               0.0|         0.6565|           0.3615|                      0.9791|          0.7256|         0.3361|         0.725|        0.6207|        0.3333|         0.375|       0.3804|               0.5739|         0.6483|                     0.0|               0.0|         0.6506|           0.3483|                      0.9791|          0.7182|         0.3352|          0.72|        0.6207|        0.3333|         0.375|       0.3784|               0.5344|         0.6334|                     0.0|               0.0|  reg oper account|  block of flats|        0.6714|             Panel|                 No|                     0.0|                     0.0|                     0.0|                     0.0|                   0.0|              0|              1|              0|              0|              0|              0|              0|              0|               0|               0|               0|               0|               0|               0|               0|               0|               0|               0|               0|               0|                       0.0|                      0.0|                       0.0|                      0.0|                      0.0|                       1.0|0.49989751373312474|  0.9843003146950303| 0.14557263414632826| 0.7636231014032149| 0.5171443457596231|  0.2519384145675352| 0.7780780735786718|  0.7786328095800754| 0.7113062771449137|  0.6067483318542329|  0.8089923560913266|   0.594886194234345|  0.8613063911204201|  0.2251317597915805|  0.5783058949978068|0.007019190243685913|  0.6513990067557386| 0.14508120803848412|  0.7248071441474628|0.15456776160576702|0.37945880387997033| 0.9013507486464445| 0.5693518172244856|  0.3663495362145325|0.004013530739536364| 0.15174910030110944| 0.19755627538368903| 0.5125625756769874|  0.9327409954678023| 0.4274962040530992|  0.7378028391812618| 0.3991055245319335| 0.9003783425812003| 0.3481738419030863| 0.6143474100805294|  0.9342287064906811|0.006251943088072753|  0.5478678779508553| 0.4790797173276453| 0.6001690108526375|0.03771070797182219| 0.12446471602448061| 0.0918395888589979|0.36460055729608953| 0.9782197746384983| 0.5203089189277581|  0.594522775942415| 0.5596504605548295| 0.3618727890818375|0.25480416707693077|\n",
            "|    455397|     0|   Revolving loans|          F|           N|              Y|           2|        144000.0|  180000.0|     9000.0|       180000.0|  Unaccompanied|Commercial associate|Secondary / secon...|           Separated|  House / apartment|                  0.006629|    -13071|        -2292|           -742.0|          -1201|       NULL|         1|             1|              1|               1|         1|         0|       Cooking staff|            3.0|                   2|                          2|                    MONDAY|                      8|                         0|                         0|                          0|                     0|                     0|                      0|          Restaurant|              NULL| 0.314633771944806|0.4276573700350293|            0.0261|             0.0|                     0.9881|0.8640000000000001|          NULL|          0.0|       0.0803|       0.0692|         NULL|            0.0085|                NULL|         0.019|                   NULL|               0.0|         0.0189|              0.0|                      0.9871|          0.8693|           NULL|           0.0|        0.1034|        0.0833|          NULL|       0.0068|                 NULL|         0.0114|                    NULL|               0.0|         0.0281|              0.0|                      0.9871|          0.8658|           NULL|           0.0|        0.1034|        0.0833|          NULL|       0.0088|                 NULL|         0.0195|                    NULL|               0.0|  reg oper account|  block of flats|         0.018|             Block|                 No|                     0.0|                     0.0|                     0.0|                     0.0|                -394.0|              0|              0|              0|              0|              0|              0|              0|              0|               0|               0|               0|               0|               0|               0|               0|               0|               0|               0|               0|               0|                       0.0|                      0.0|                       0.0|                      0.0|                      1.0|                       2.0| 0.3151068093668098|  0.7660091240077689| 0.06540941943423118|  0.205369507110285| 0.4269372828737069|  0.6693437539447569| 0.4909019637347539|  0.3925656069382347| 0.3463180203763523|0.025154584059862928|  0.7607817495648797|  0.5306272546414648|  0.8481789406696117|  0.7598068219094353|  0.7546675773660577|  0.7956262973524225| 0.24251132416807497|  0.8022910577595052|0.026777598821456916| 0.7878700315003645| 0.3550605935517387|0.13229023734850498|0.24699303582502163|   0.506481095748505|   0.684924414488561| 0.23368978831187415|  0.8041409948730168|0.01013168473867787|   0.932630567989622|0.09053987438804778|  0.6834679040346812|0.36546632903771215| 0.2803877693223642| 0.6709434075171322| 0.8504148016924532|  0.7598345700245056|  0.9798626706593571|  0.9220587623620888| 0.9503379501693888| 0.8220620665447309| 0.7846304216904584|  0.8314028605097469|0.21087150815897793|0.04963913221128613| 0.8142191403975102| 0.8301787965200871| 0.7551626329455876|0.21666399439235384| 0.6030019784645395|  0.429000625961821|\n",
            "|    449114|     0|        Cash loans|          F|           N|              Y|           0|        112500.0|  729792.0|    37390.5|       630000.0|  Unaccompanied|           Pensioner|Secondary / secon...|      Civil marriage|  House / apartment|                   0.04622|    -19666|       365243|           -169.0|          -3112|       NULL|         1|             0|              0|               1|         0|         0|                NULL|            2.0|                   1|                          1|                    FRIDAY|                     10|                         0|                         0|                          0|                     0|                     0|                      0|                 XNA|0.5995791258525762|0.5059441189933327|0.2392262794694045|              NULL|            NULL|                       NULL|              NULL|          NULL|         NULL|         NULL|         NULL|         NULL|              NULL|                NULL|          NULL|                   NULL|              NULL|           NULL|             NULL|                        NULL|            NULL|           NULL|          NULL|          NULL|          NULL|          NULL|         NULL|                 NULL|           NULL|                    NULL|              NULL|           NULL|             NULL|                        NULL|            NULL|           NULL|          NULL|          NULL|          NULL|          NULL|         NULL|                 NULL|           NULL|                    NULL|              NULL|              NULL|            NULL|          NULL|              NULL|               NULL|                     0.0|                     0.0|                     0.0|                     0.0|                   0.0|              0|              0|              0|              0|              1|              0|              0|              0|               0|               0|               0|               0|               0|               0|               0|               0|               0|               0|               0|               0|                       0.0|                      0.0|                       0.0|                      0.0|                      1.0|                       0.0|0.44808857245660794|  0.3749951505295266|  0.6061124344655214| 0.4883087432050338| 0.3215281216805753|   0.338131752717428| 0.8666520767290559|  0.1021629884363745|0.44925862681044704|  0.6045126722310337|  0.6913546531663916|  0.9786072157356622|  0.9783471732339105|   0.755776343141084| 0.03714397680507686|  0.2030801831668274|   0.492793377294067|  0.3343779584957446| 0.44721006956238274| 0.2953941682322495| 0.6209383820001969| 0.3220723851874109|0.26483392714383547| 0.20945107123339235|  0.6547364565595762| 0.26453785448820555| 0.13338979559606512| 0.9186403306551475|  0.8909324361130552|0.24339586230894583| 0.10812050291966668|0.47234534708923936|0.04516378693705381| 0.7460887082206624|  0.469676225685585|  0.5943081374901408|  0.9616978515482223|  0.6080983106960267|0.04137482981648222| 0.7673410692690447| 0.2653810525253658|  0.6553439524690605| 0.6687052951863605|0.17139136654190013|0.33570223528628784| 0.5854939663015881| 0.6195511068142575| 0.6867378529592892| 0.5404492330866939|0.34363209601595046|\n",
            "|    307634|     0|        Cash loans|          F|           Y|              Y|           0|         40149.0|  279000.0|     7672.5|       279000.0|  Unaccompanied|             Working|Secondary / secon...|             Married|  House / apartment|                  0.031329|    -18299|        -4000|          -1616.0|          -1848|        6.0|         1|             1|              1|               1|         0|         0|      Security staff|            2.0|                   2|                          2|                   TUESDAY|                     10|                         0|                         0|                          0|                     0|                     0|                      0|            Medicine|              NULL| 0.309801868659496|              NULL|            0.1763|          0.1073|                     0.9965|            0.9524|        0.2568|         0.16|       0.1379|        0.375|       0.0417|            0.1013|              0.1429|        0.1047|                 0.0039|            0.0082|         0.1796|           0.1114|                      0.9965|          0.9543|         0.2591|        0.1611|        0.1379|         0.375|        0.0417|       0.1036|               0.1561|         0.1091|                  0.0039|            0.0087|          0.178|           0.1073|                      0.9965|           0.953|         0.2584|          0.16|        0.1379|         0.375|        0.0417|       0.1031|               0.1454|         0.1066|                  0.0039|            0.0084|  reg oper account|  block of flats|        0.1422|             Mixed|                 No|                     0.0|                     0.0|                     0.0|                     0.0|                   0.0|              0|              0|              0|              0|              0|              0|              0|              0|               0|               0|               0|               0|               0|               0|               0|               0|               0|               0|               0|               0|                      NULL|                     NULL|                      NULL|                     NULL|                     NULL|                      NULL| 0.9317827882639861| 0.18645410230270576|  0.4598914111186241|0.19611441699084387|0.20716689963993162| 0.19137205376119315| 0.6595724487023439|0.011923850398126934| 0.8543555763394015|  0.4678588567656974|  0.6851336714311324| 0.10378430042125075|  0.8788999000684979|   0.741028942421439|  0.3560928885367268|  0.2963410239148201| 0.01447483287182616|  0.6444612826041984| 0.16262558687317763| 0.3341857826676209| 0.7400377490696579| 0.9053211596198482| 0.1682013407014451|  0.6343086793496797|  0.5576611621818331|   0.606459718505375|  0.4518834725731554| 0.7436507466097286| 0.06586456943134966|0.07221475654069132|  0.8134670742749298|0.07793583116584268| 0.4049818490672671| 0.3563975057183083| 0.6802738259787953| 0.23934463096674963|    0.85932475930284| 0.18147828016984224|0.33598116614273554| 0.1331858154074239| 0.7510337080461403|  0.8352429233956362| 0.4773676922004124| 0.1028897074044488|0.09596769325956533|0.08642899375206214|0.18511787197866858| 0.1423097460099102|0.08907176989589904|0.07900602858026295|\n",
            "|    184029|     0|        Cash loans|          F|           Y|              Y|           0|        337500.0| 1506816.0|    47313.0|      1350000.0|  Unaccompanied|             Working|    Higher education|             Married|  House / apartment|                  0.010147|    -20469|        -3767|          -5102.0|          -4015|        7.0|         1|             1|              0|               1|         1|         0|            HR staff|            2.0|                   2|                          2|                    MONDAY|                      9|                         0|                         0|                          0|                     0|                     0|                      0|Business Entity T...|              NULL|0.7927430761452733|0.6512602186973006|            0.3711|          0.2455|                     0.9906|              NULL|          NULL|         0.36|       0.3103|        0.375|         NULL|            0.0433|                NULL|        0.3886|                   NULL|0.0069999999999999|         0.3782|           0.2547|                      0.9906|            NULL|           NULL|        0.3625|        0.3103|         0.375|          NULL|       0.0443|                 NULL|         0.4049|                    NULL|            0.0075|         0.3747|           0.2455|                      0.9906|            NULL|           NULL|          0.36|        0.3103|         0.375|          NULL|        0.044|                 NULL|         0.3956|                    NULL|            0.0072|              NULL|  block of flats|         0.307|             Panel|                 No|                     0.0|                     0.0|                     0.0|                     0.0|               -2132.0|              0|              1|              0|              0|              0|              0|              0|              0|               0|               0|               0|               0|               0|               0|               0|               0|               0|               0|               0|               0|                       0.0|                      0.0|                       0.0|                      0.0|                      0.0|                       0.0| 0.4746559414432985|   0.341256287881309|  0.6572799033052416| 0.9534055443797222| 0.0794357447294437|0.020493103327748896| 0.7276966767287458|  0.8806213068103756| 0.5774337148165293| 0.46128377966758805|  0.5094680532346403|  0.9020750104180897|  0.4977981095626669|  0.8958550425296624|  0.9749108684945178| 0.15535450347731283|  0.8314544914500621|  0.5723772546401584|  0.7855785469959424| 0.6614317151789768|0.36272853261622395| 0.7652657846637185| 0.2948009197007617|  0.5445799019115646|   0.634251321783042|  0.5903212763090868|0.004225241528035939| 0.6234676084608014|0.024437155788821774| 0.5760871840692692| 0.28550982311211426| 0.1914126289384821| 0.7870381858432843| 0.3858425562418797|0.15572117007825703|  0.8520346181308558|  0.6523925785965491|   0.797791161678306|0.05358759620622544|0.45858383496916744| 0.7204233931034295|0.055486932189802274|0.09846569407497585| 0.9440480417837778|0.27502417924139333| 0.5960307864774965| 0.5773150683601768| 0.5202045865240781| 0.3449768304876063| 0.8173054525093753|\n",
            "|    279950|     0|        Cash loans|          M|           Y|              Y|           0|        247500.0| 1154655.0|    49050.0|       990000.0|  Unaccompanied|             Working|Secondary / secon...|             Married|  House / apartment|                   0.00733|    -19103|         -169|          -5668.0|          -2612|        8.0|         1|             1|              0|               1|         0|         0|            Laborers|            2.0|                   2|                          2|                   TUESDAY|                     13|                         0|                         1|                          1|                     0|                     0|                      0|Business Entity T...|              NULL|0.5265896232306497|0.4614823912998385|            0.0082|             0.0|                     0.9742|            0.6464|           0.0|          0.0|        0.069|       0.0417|       0.0417|            0.0034|              0.0067|        0.0076|                    0.0|            0.0033|         0.0084|              0.0|                      0.9742|          0.6602|            0.0|           0.0|         0.069|        0.0417|        0.0417|       0.0035|               0.0073|         0.0079|                     0.0|            0.0035|         0.0083|              0.0|                      0.9742|          0.6511|            0.0|           0.0|         0.069|        0.0417|        0.0417|       0.0034|               0.0068|         0.0077|                     0.0|            0.0034|  reg oper account|  block of flats|        0.0067|      Stone, brick|                 No|                     1.0|                     0.0|                     1.0|                     0.0|               -1272.0|              0|              0|              0|              0|              0|              0|              1|              0|               0|               0|               0|               0|               0|               0|               0|               0|               0|               0|               0|               0|                       0.0|                      0.0|                       0.0|                      0.0|                      0.0|                       3.0| 0.5757125938059516|   0.873795351112755|  0.5754469776227953|0.24574831296003996| 0.3696927253442329| 0.08320617462954871| 0.5609109399633182|  0.9336174340873509| 0.8665655142459836|  0.3323095714700096|  0.5547062234851384| 0.31588210560340324|  0.4151823123527484|  0.9133621578638479| 0.35796332600949254|  0.8486455303499516|  0.9145086667107654|  0.5644781226960097| 0.16496090358751636|0.15494199596134683|0.12632820733742756|0.06697177881091376| 0.8616576960530351|  0.7613470574007996|  0.7315063963310826|  0.5056381607647884|  0.7122911313786183| 0.5661295818644477|  0.8971996496278443|  0.874370720281117| 0.11950033626401191| 0.5598213103642349| 0.7252132714017089| 0.5050157636876921|0.12049205111859262|  0.2507739738977036|  0.8685176504368162| 0.13604921565610895| 0.4309051427545437| 0.8080838705367134| 0.6633804048125652| 0.25769617228412767|0.22773677266863845|0.17887757309828334| 0.9504327054752233| 0.6594404916504824| 0.8021099889576832| 0.6043780876886727|0.17957578093744075|  0.515468068768905|\n",
            "|    334424|     0|        Cash loans|          F|           N|              N|           0|        135000.0|  296280.0|    12681.0|       225000.0|  Unaccompanied|           Pensioner|Secondary / secon...|      Civil marriage|  House / apartment|                  0.006305|    -21927|       365243|           -632.0|          -4484|       NULL|         1|             0|              0|               1|         0|         0|                NULL|            2.0|                   3|                          3|                 WEDNESDAY|                     15|                         0|                         0|                          0|                     0|                     0|                      0|                 XNA|0.7831124529997884|0.4879442489313642|0.4596904504249018|              NULL|            NULL|                       NULL|              NULL|          NULL|         NULL|         NULL|         NULL|         NULL|              NULL|                NULL|          NULL|                   NULL|              NULL|           NULL|             NULL|                        NULL|            NULL|           NULL|          NULL|          NULL|          NULL|          NULL|         NULL|                 NULL|           NULL|                    NULL|              NULL|           NULL|             NULL|                        NULL|            NULL|           NULL|          NULL|          NULL|          NULL|          NULL|         NULL|                 NULL|           NULL|                    NULL|              NULL|              NULL|            NULL|          NULL|              NULL|               NULL|                     1.0|                     0.0|                     1.0|                     0.0|                -467.0|              0|              0|              0|              0|              1|              0|              0|              0|               0|               0|               0|               0|               0|               0|               0|               0|               0|               0|               0|               0|                       0.0|                      0.0|                       0.0|                      1.0|                      0.0|                       1.0| 0.1288175716834722| 0.49615113462540517|  0.1665118157064862| 0.9446083302791063| 0.5836008637985801| 0.33369960478817906| 0.2844520180675808|  0.9075157211611887| 0.6446881226513397| 0.42349959484993016|  0.7575777730819702|  0.9280107652621815| 0.43109574207165247|  0.8287184968173797|  0.3815655496322663|   0.995635672680082|  0.9278712452692819|  0.5045081655959721| 0.30559194176565974| 0.5020998935912204|0.18208006560889423|0.35201920765421013| 0.9009878148746558| 0.17434136932745625| 0.03582507378236088|0.003220471896928645| 0.25643379005094225| 0.4718054678546231| 0.25509035413952263|0.08205657872060912|  0.8009234632876087| 0.9045971265119431| 0.6172695414999602|  0.903140861560066|0.16063362204690568| 0.38551580605619795|   0.756494196830794|  0.7988607882657586| 0.8559047568468929| 0.7289302648205751| 0.6008058038278962|  0.8444052875111393|0.45573008357385814|0.34568388827252183|0.36306804820550176| 0.5322771675699777| 0.9053768667524733|0.07412193316106108|0.10924864573284021| 0.9315381110648737|\n",
            "|    232884|     0|        Cash loans|          M|           N|              N|           0|        112500.0|  450000.0|    21888.0|       450000.0|  Unaccompanied|             Working|Secondary / secon...|Single / not married|       With parents|                  0.019101|    -11949|         -624|          -6091.0|          -4174|       NULL|         1|             1|              1|               1|         1|         0|                NULL|            1.0|                   2|                          2|                   TUESDAY|                     18|                         0|                         0|                          0|                     0|                     0|                      0|Business Entity T...|0.3584461330322535|0.3629709888682018|0.5744466170995097|              NULL|            NULL|                       NULL|              NULL|          NULL|         NULL|         NULL|         NULL|         NULL|              NULL|                NULL|          NULL|                   NULL|              NULL|           NULL|             NULL|                        NULL|            NULL|           NULL|          NULL|          NULL|          NULL|          NULL|         NULL|                 NULL|           NULL|                    NULL|              NULL|           NULL|             NULL|                        NULL|            NULL|           NULL|          NULL|          NULL|          NULL|          NULL|         NULL|                 NULL|           NULL|                    NULL|              NULL|              NULL|            NULL|          NULL|              NULL|               NULL|                     7.0|                     0.0|                     7.0|                     0.0|               -1320.0|              0|              1|              0|              0|              0|              0|              0|              0|               0|               0|               0|               0|               0|               0|               0|               0|               0|               0|               0|               0|                       0.0|                      0.0|                       0.0|                      0.0|                      0.0|                       3.0| 0.5933829458004498| 0.44898657825596133|   0.583379949070172|  0.421032752707699|  0.564033178675373| 0.31609366789719806| 0.3332951786914665|  0.5306005914182615| 0.9294075653667114| 0.30027921978473804|  0.7267926542675637|  0.0753384773244411|  0.7744618963817606| 0.16259185511887397|  0.6499873141015972| 0.11506269830847993|0.019412680264793702|  0.7594631497909677| 0.22310026464936583|0.40745352229413245|0.47779430363277786|0.04321262183072638|0.34720408995597063| 0.10184265545131876|  0.8730481885561868|  0.5743647409532323|  0.6087586473693642| 0.3656912974104175|  0.9188310051057412|0.35848130668104217| 0.15929258518518352|0.38587959178611664| 0.8230499782659829| 0.4145711060724877| 0.8493707912982943| 0.49369733041014274| 0.23654135019440659|  0.8503875341033055| 0.3347182721470703|0.06681773121819035| 0.6714953163345173|  0.2315464615189342| 0.7601654895837482|0.07069719037755573|0.45861084264533236| 0.9949377966393995| 0.3972673482561444|0.33398356527689954|0.21621270553273686|0.25260304427841207|\n",
            "|    137949|     0|        Cash loans|          F|           N|              Y|           0|        157500.0|  188460.0|     8113.5|       135000.0|Spouse, partner|       State servant|Secondary / secon...|      Civil marriage|  House / apartment|                  0.035792|    -14152|        -2676|          -2970.0|          -2984|       NULL|         1|             1|              0|               1|         0|         0|          Core staff|            2.0|                   2|                          2|                  THURSDAY|                     13|                         0|                         0|                          0|                     0|                     0|                      0|            Military|              NULL|0.7065054929765335|              NULL|              NULL|            NULL|                       NULL|              NULL|          NULL|         NULL|         NULL|         NULL|         NULL|              NULL|                NULL|          NULL|                   NULL|              NULL|           NULL|             NULL|                        NULL|            NULL|           NULL|          NULL|          NULL|          NULL|          NULL|         NULL|                 NULL|           NULL|                    NULL|              NULL|           NULL|             NULL|                        NULL|            NULL|           NULL|          NULL|          NULL|          NULL|          NULL|         NULL|                 NULL|           NULL|                    NULL|              NULL|              NULL|            NULL|          NULL|              NULL|               NULL|                     2.0|                     1.0|                     2.0|                     1.0|               -1185.0|              0|              1|              0|              0|              0|              0|              0|              0|               0|               0|               0|               0|               0|               0|               0|               0|               0|               0|               0|               0|                      NULL|                     NULL|                      NULL|                     NULL|                     NULL|                      NULL|0.09486630183817424| 0.25389977183430823|  0.4902723856744041|0.03819253745950435| 0.3687961870429973|  0.1822605133595323|  0.516929795420385|  0.9685810704206921| 0.9272329358519501| 0.36635239761342175|  0.9464402828214815|  0.5704250022993522|  0.3957224960499852|  0.1289100253054255| 0.12813687520847372|  0.3179150328961128|  0.9659839494346004| 0.47810542003501344| 0.14123763536451972| 0.2606712963471317| 0.4039482849067001| 0.4908863339819014|0.36888402497308637|  0.9770372538139064|   0.464168195210626| 0.07191495615079513| 0.11659661704905566| 0.9828930304427251| 0.07902542314862093| 0.1155553796076011| 0.03583453773355205| 0.9399619475297454|0.04029149131003129| 0.6957227216792911|0.13604929640981822|  0.5021080258049389| 0.37281947020436645|  0.7006154196351934|0.48101999461003875| 0.3969542698487435| 0.7525031544485622|  0.4978347089709926| 0.8019071310954798|0.31923023051272115|0.09458293688684904| 0.6406871270783069| 0.4630238198229212|0.10192422861354078| 0.7995751571661119| 0.7600330037548121|\n",
            "|    432407|     0|        Cash loans|          F|           N|              Y|           0|        225000.0| 1725120.0|    47569.5|      1440000.0|  Unaccompanied|       State servant|Secondary / secon...|             Married|  House / apartment|                  0.032561|    -14389|        -3870|          -2470.0|          -4288|       NULL|         1|             1|              0|               1|         0|         0|          Core staff|            2.0|                   1|                          1|                 WEDNESDAY|                     11|                         0|                         0|                          0|                     0|                     0|                      0|            Medicine|              NULL|0.7393364609583454|0.6863823354047934|            0.0128|          0.0128|                     0.9478|              NULL|          NULL|          0.0|        0.069|       0.1083|         NULL|            0.0137|                NULL|        0.0215|                   NULL|            0.0025|         0.0021|           0.0102|                      0.9429|            NULL|           NULL|           0.0|        0.0345|        0.0417|          NULL|          0.0|                 NULL|         0.0043|                    NULL|               0.0|         0.0125|           0.0098|                      0.9503|            NULL|           NULL|           0.0|         0.069|         0.125|          NULL|       0.0156|                 NULL|         0.0295|                    NULL|             0.001|              NULL|  block of flats|        0.0262|      Stone, brick|                 No|                     1.0|                     1.0|                     1.0|                     0.0|               -1794.0|              0|              1|              0|              0|              0|              0|              0|              0|               0|               0|               0|               0|               0|               0|               0|               0|               0|               0|               0|               0|                       0.0|                      0.0|                       0.0|                      0.0|                      0.0|                       2.0| 0.6722080501892538| 0.02553613429356405|  0.8579302665256907| 0.9825966300247354|0.05398755744042372| 0.42228351540658804| 0.6385868032505645|   0.714141158853973| 0.9331842219609018|  0.6465807454524007| 0.16201968827232927|  0.7181517286488968|  0.4495895432540481|  0.3459655103232173|  0.6716555327814523|  0.9650050662939756| 0.05161476578769986|   0.403160911132075| 0.19530224041247457|  0.535387994253133| 0.6022686392462973|0.19962603734469275|0.17446782718133058|  0.7244096404154061|  0.9602051158198168|  0.9948626986931502|  0.3201889060158776| 0.5893686859618826|   0.261603608779148| 0.9141369331900066|0.048571508197426616|  0.640941411054682|0.24301656921039327|0.07146677694546322| 0.8931200287967708| 0.44615272473096224|  0.9108915977059627|  0.8255370489034062| 0.7464940056021615| 0.5750107472578047|0.23952827022366008|  0.6731252288590903| 0.0763824998390421| 0.5806859070891287|0.41307216613737574| 0.6511806559414121|  0.506875731580633| 0.8444534160345776| 0.6104600549882223| 0.1194804705807272|\n",
            "|    259337|     0|        Cash loans|          F|           Y|              Y|           0|        139500.0|  474048.0|    20214.0|       360000.0|         Family|             Working|Secondary / secon...|             Married|  House / apartment|                  0.030755|    -17047|        -1392|          -3103.0|           -583|        5.0|         1|             1|              0|               1|         0|         0|       Realty agents|            2.0|                   2|                          2|                    FRIDAY|                     13|                         0|                         0|                          0|                     0|                     0|                      0|            Services|              NULL|0.6453634243095455|0.2539628093363117|              NULL|            NULL|                       NULL|              NULL|          NULL|         NULL|         NULL|         NULL|         NULL|              NULL|                NULL|          NULL|                   NULL|              NULL|           NULL|             NULL|                        NULL|            NULL|           NULL|          NULL|          NULL|          NULL|          NULL|         NULL|                 NULL|           NULL|                    NULL|              NULL|           NULL|             NULL|                        NULL|            NULL|           NULL|          NULL|          NULL|          NULL|          NULL|         NULL|                 NULL|           NULL|                    NULL|              NULL|              NULL|            NULL|          NULL|              NULL|               NULL|                     7.0|                     0.0|                     7.0|                     0.0|               -1577.0|              0|              1|              0|              0|              0|              0|              0|              0|               0|               0|               0|               0|               0|               0|               0|               0|               0|               0|               0|               0|                       0.0|                      0.0|                       0.0|                      1.0|                      2.0|                       4.0| 0.1786913281180723|   0.088240711614891| 0.24969997017588064|0.42470809688749356| 0.8269473888123186| 0.28285187994302974| 0.5302383668312632|  0.2935632344767457| 0.9727152108643095| 0.48979709268439886| 0.09526606199076981|  0.0947599249252572|  0.1327839622357675| 0.14443458624895245|  0.8356996098356361|  0.4516115263463226| 0.15243823344352636|  0.1573967882342716|  0.5699939546282519| 0.6349212644052439| 0.8908263631297564|  0.622575689967067|0.31122798494663684| 0.18972482218383913| 0.06660352260861269| 0.28351271858431004|  0.6004080131263748|  0.572825466838736|  0.5602445926948298| 0.4951214966206131|   0.074408799885882| 0.6117042353265194| 0.8715137232780896| 0.8602797997377131| 0.4550331043458751|0.028748375323384034| 0.43589777618894165|  0.9517277676978323|0.03574540804850934|0.24020302420517892| 0.8908479468031589|  0.7428118429677102|    0.1948630804864| 0.9306240212003855| 0.9750155453645375| 0.2205614946759259|0.12613507979406868| 0.4817726514708467| 0.5914497101570854|0.18266341930632324|\n",
            "|    385428|     0|        Cash loans|          F|           N|              Y|           0|        121500.0|  945000.0|    40167.0|       945000.0|  Unaccompanied|           Pensioner|Secondary / secon...|             Married|  House / apartment|                  0.026392|    -20967|       365243|           -704.0|          -4215|       NULL|         1|             0|              0|               1|         0|         1|                NULL|            2.0|                   2|                          2|                   TUESDAY|                     16|                         0|                         0|                          0|                     0|                     0|                      0|                 XNA|0.8560585222813524|0.7022937579316251|0.3312508645909018|               0.0|            NULL|                        0.0|              NULL|          NULL|          0.0|        0.069|         0.75|         NULL|              NULL|                NULL|        0.1065|                   NULL|            0.3324|            0.0|             NULL|                         0.0|            NULL|           NULL|           0.0|         0.069|          0.75|          NULL|         NULL|                 NULL|          0.111|                    NULL|            0.3519|            0.0|             NULL|                         0.0|            NULL|           NULL|           0.0|         0.069|          0.75|          NULL|         NULL|                 NULL|         0.1084|                    NULL|            0.3393|              NULL|  block of flats|         0.156|              NULL|                 No|                     3.0|                     0.0|                     3.0|                     0.0|                -691.0|              0|              0|              0|              0|              1|              0|              0|              0|               0|               0|               0|               0|               0|               0|               0|               0|               0|               0|               0|               0|                       0.0|                      0.0|                       0.0|                      0.0|                      1.0|                       1.0| 0.5112882399979084| 0.10299930657804413|  0.6669596332418738|0.48059273331732166| 0.7800536353829501|  0.9107752736817589|  0.695570806643653|   0.576110887586955| 0.7152295267589286|  0.3946328953822825| 0.22830773143911465|0.011448620043072344|  0.6587840248248159|  0.3760330532875127|   0.744872742489751|  0.3031983381718335| 0.27564948519213983|  0.6903836118276745|  0.2637164096247552| 0.7827736074816537| 0.4101487830434444| 0.2609624939530506|0.03556181829654659| 0.35609528259754897| 0.42863777074076537| 0.16897281165510847|   0.988075573753317|  0.936530055334541| 0.08541541066733715|0.30765398672823274|  0.3119637984142215| 0.3994334065158115| 0.2766581144902178|0.16665126800623242|  0.828629734243419|  0.6127127751451721| 0.09333533139539074|  0.9096647341778296|0.37627559606562366| 0.4328786211814716|0.41012897918967584| 0.16592482442652756| 0.4288738477034073|0.22850273301063795| 0.1887702041825008| 0.4523151012211868|0.13663751631036947| 0.6376701066669493| 0.2821884904892752| 0.5529656753000101|\n",
            "|    279599|     0|        Cash loans|          M|           N|              N|           2|        157500.0|  755190.0|    38686.5|       675000.0|  Unaccompanied|             Working|Secondary / secon...|             Married|  House / apartment|                  0.015221|    -13100|        -1362|          -3846.0|          -3846|       NULL|         1|             1|              1|               1|         0|         0|            Laborers|            4.0|                   2|                          2|                    SUNDAY|                     10|                         0|                         0|                          0|                     1|                     1|                      0|Business Entity T...|              NULL|0.3677117362712825|0.6446794549585961|              NULL|            NULL|                       NULL|              NULL|          NULL|         NULL|         NULL|         NULL|         NULL|              NULL|                NULL|          NULL|                   NULL|              NULL|           NULL|             NULL|                        NULL|            NULL|           NULL|          NULL|          NULL|          NULL|          NULL|         NULL|                 NULL|           NULL|                    NULL|              NULL|           NULL|             NULL|                        NULL|            NULL|           NULL|          NULL|          NULL|          NULL|          NULL|         NULL|                 NULL|           NULL|                    NULL|              NULL|              NULL|            NULL|          NULL|              NULL|               NULL|                     2.0|                     1.0|                     2.0|                     0.0|                -614.0|              0|              1|              0|              0|              0|              0|              0|              0|               0|               0|               0|               0|               0|               0|               0|               0|               0|               0|               0|               0|                       0.0|                      0.0|                       0.0|                      0.0|                      0.0|                       0.0|  0.924228956959926| 0.04418610132714984|  0.8870487487766269|  0.353735043909445| 0.6391818190530222|  0.5588529694897756|0.30978920598116055|  0.8395869604250483| 0.6603829833231635| 0.22944556053887344|0.054488048610879636|  0.4490454321461219|0.020405831207743086|  0.4300160644150387|  0.4645995140377679|  0.9622787901078825|  0.4411578219310832| 0.32768312056742144|  0.9629044047046244|0.08490109368912013| 0.8220335178393852|0.07163107934010271|0.23080145796557572|  0.6722402419456307|  0.6814499772034516|   0.915680045758009|  0.8793778196658286|0.27645442223131567| 0.04726024024370634|0.19224055785208405| 0.15527542913601144| 0.8262698219798544| 0.8949979923841691| 0.7110905749859538| 0.8378675745738483|  0.3031908451079871| 0.07788968240594962|  0.3143610006426373| 0.4202350207139912|0.12815192026929623|   0.68030134881285|  0.8632309941975136|0.34294889558082864|0.09395659359644881|  0.137114663041215|0.10147020753357627| 0.6512821510475173|0.17769989096605232| 0.8107407676642754| 0.3893525037182002|\n",
            "|    343399|     0|        Cash loans|          M|           Y|              N|           0|        189000.0|  284400.0|    14854.5|       225000.0|  Unaccompanied|             Working|    Higher education|             Married|  House / apartment|                  0.022625|    -11681|        -2383|          -5307.0|          -3515|        3.0|         1|             1|              0|               1|         1|         0|            Managers|            2.0|                   2|                          2|                 WEDNESDAY|                     18|                         0|                         0|                          0|                     0|                     0|                      0|        Construction|0.3245762925933344|0.7070176144161534|0.5460231970049609|            0.1485|          0.1147|                     0.9816|            0.7484|        0.0235|          0.0|       0.1034|       0.3333|        0.375|             0.047|               0.121|        0.1335|                 0.0077|            0.1899|         0.1513|           0.1191|                      0.9816|          0.7583|         0.0238|           0.0|        0.1034|        0.3333|         0.375|       0.0481|               0.1322|         0.1391|                  0.0078|             0.201|         0.1499|           0.1147|                      0.9816|          0.7518|         0.0237|           0.0|        0.1034|        0.3333|         0.375|       0.0478|               0.1231|         0.1359|                  0.0078|            0.1939|  reg oper account|  block of flats|        0.1789|      Stone, brick|                 No|                     3.0|                     0.0|                     3.0|                     0.0|                -552.0|              0|              0|              0|              0|              0|              0|              0|              0|               0|               0|               0|               0|               0|               0|               0|               0|               0|               0|               0|               0|                       0.0|                      0.0|                       0.0|                      0.0|                      0.0|                       5.0| 0.8207631471483708|  0.4080877285814216| 0.07659500853850654| 0.6913049817407872| 0.7433524982741931|  0.8838420524187053|0.10389684209488792|  0.3650833622616223| 0.2633117620398563|   0.825187336579575|  0.2786375792920862|  0.6140626434562172|  0.9685837849051354|0.009096585795966394|  0.2731400336428086|  0.5771158439061346| 0.45829086959520204|  0.8981659489057927|  0.2826051723223173|  0.458592976102445|  0.775490861335933| 0.4581439344383569| 0.3274724070433538|  0.5653889877836247|  0.8329935923345494|  0.8704554996997813| 0.07978316674578789| 0.3045309984527014|  0.3383244292703771|0.42200359074338145| 0.10022203046500278| 0.7121745299501517| 0.3682791786002747| 0.4644857421335944| 0.4362966224162854|  0.1744990254084703|  0.8603411770424549|  0.8661929997187919|  0.708522439948419|0.38478808877981874| 0.6015297446905632|  0.7016742413067065| 0.6370159685562409| 0.4778879933290713|  0.778841064252167| 0.7111710584477334|0.20208784660578982| 0.8561427470963192|  0.912402535202217|0.20559670673677055|\n",
            "|    276618|     0|        Cash loans|          F|           N|              Y|           0|        112500.0|  225000.0|    23625.0|       225000.0|  Unaccompanied|             Working|Secondary / secon...|             Married|   Rented apartment|                   0.01885|    -14742|        -1114|          -6292.0|          -4221|       NULL|         1|             1|              1|               1|         1|         0|High skill tech s...|            2.0|                   2|                          2|                    MONDAY|                     12|                         0|                         0|                          0|                     0|                     0|                      0|       Self-employed|0.5683589309476994|0.6594798415350884|0.8095082892315094|              NULL|            NULL|                       NULL|              NULL|          NULL|         NULL|         NULL|         NULL|         NULL|              NULL|                NULL|          NULL|                   NULL|              NULL|           NULL|             NULL|                        NULL|            NULL|           NULL|          NULL|          NULL|          NULL|          NULL|         NULL|                 NULL|           NULL|                    NULL|              NULL|           NULL|             NULL|                        NULL|            NULL|           NULL|          NULL|          NULL|          NULL|          NULL|         NULL|                 NULL|           NULL|                    NULL|              NULL|              NULL|            NULL|          NULL|              NULL|               NULL|                     0.0|                     0.0|                     0.0|                     0.0|                -314.0|              0|              1|              0|              0|              0|              0|              0|              0|               0|               0|               0|               0|               0|               0|               0|               0|               0|               0|               0|               0|                       0.0|                      0.0|                       0.0|                      0.0|                      0.0|                       3.0| 0.6418545218025294|0.006389244192874899| 0.07757767577742392|0.04963292286645149|0.48792176094596296|  0.7529534009831157| 0.9510154077400993|0.014113380148586208| 0.9396428079751654| 0.14625073642008024|  0.6100973131727159|  0.2783326845534243| 0.19537933179872502|  0.7519211061659975| 0.45498270694696663|  0.2776142470172549|  0.3461912907179311|0.016051809655848293|  0.3411596475507269| 0.5163568302007715|0.28933926660970766| 0.2109420185301809|0.24832781115155655|  0.7446502147280245|   0.922000535394837| 0.27708517591836923| 0.19428592377829457|  0.426606639712961| 0.17370986387164133|0.43245256145262345|  0.5161858458537232| 0.9606843317534142| 0.8959024207892534|0.04838694241041397| 0.5877659193830849|  0.7633621212581327| 0.00795373517986453|  0.8655295049016285| 0.7294457916877052| 0.3724144583698308|0.10653527620065317|  0.7672340363650012| 0.5332660595751261|0.24778056511116653|  0.851432807218409|0.41829810029179704| 0.3375459528000655| 0.7195883741629006|0.16817173831063437|0.07305087830388934|\n",
            "|    244086|     0|        Cash loans|          M|           N|              N|           1|        121500.0|  307152.0|     8230.5|       243000.0|  Unaccompanied|             Working|Secondary / secon...|             Married|  House / apartment|                   0.00963|    -11892|        -4362|          -2254.0|          -3837|       NULL|         1|             1|              0|               1|         0|         0|            Laborers|            3.0|                   2|                          2|                    SUNDAY|                     12|                         0|                         0|                          0|                     0|                     0|                      0|Business Entity T...|              NULL|0.1339522996593644|0.5867400085415683|            0.0247|             0.0|                     0.9717|              NULL|          NULL|          0.0|       0.0345|       0.0417|         NULL|              NULL|                NULL|         0.009|                   NULL|               0.0|         0.0252|              0.0|                      0.9717|            NULL|           NULL|           0.0|        0.0345|        0.0417|          NULL|         NULL|                 NULL|         0.0094|                    NULL|               0.0|          0.025|              0.0|                      0.9717|            NULL|           NULL|           0.0|        0.0345|        0.0417|          NULL|         NULL|                 NULL|         0.0092|                    NULL|               0.0|              NULL|specific housing|        0.0151|      Stone, brick|                 No|                     6.0|                     0.0|                     6.0|                     0.0|               -1188.0|              0|              1|              0|              0|              0|              0|              0|              0|               0|               0|               0|               0|               0|               0|               0|               0|               0|               0|               0|               0|                       0.0|                      0.0|                       0.0|                      0.0|                      0.0|                       0.0| 0.6001215774993609|  0.9377420944075274| 0.35109493079691745|0.30357059016697185| 0.5022776865412234| 0.19284385129818393| 0.6247075866061134| 0.09516501286226398|0.13124143602383975|  0.4212822802772923| 0.19928643319304684|  0.8069173928588967|  0.7546126982803533| 0.20799243963748104|  0.3610236099763078|  0.6057413890102508|  0.6391772888455698|  0.9322574910085908|  0.7644399585435853| 0.6934639866388567| 0.6850958441464933| 0.1753885499263219| 0.9146466362187518|  0.4840738362545498|   0.523675393833138|  0.8830544490772136|  0.6687911638556341| 0.5980026000365369| 0.21470806627004502| 0.7794495553704713|  0.9813541428165885|0.17350685032298507|0.46432636204495903|0.07007783186809002| 0.6055293890132903|  0.5982678402382025|   0.765752903595459| 0.33475104598416694| 0.9160137621857732|0.26318361890947606|0.08110472024592541| 0.25929817398505883| 0.6446517684780037|0.30165345015247336|0.49938388500434805| 0.2753440897370001| 0.6431958114009295| 0.9831759811214387|0.24267133519923867| 0.5517515623793745|\n",
            "|    441030|     0|        Cash loans|          F|           N|              Y|           2|        157500.0|  589045.5|    26077.5|       508500.0|  Unaccompanied|             Working|Secondary / secon...|      Civil marriage|  House / apartment|                  0.025164|    -12842|        -2003|           -178.0|          -4603|       NULL|         1|             1|              0|               1|         0|         0|         Sales staff|            4.0|                   2|                          2|                    FRIDAY|                     15|                         0|                         0|                          0|                     0|                     0|                      0|       Self-employed|0.3634046944789375|0.2059760860925113|0.5316861425197883|              NULL|            NULL|                       NULL|              NULL|          NULL|         NULL|         NULL|         NULL|         NULL|              NULL|                NULL|          NULL|                   NULL|              NULL|           NULL|             NULL|                        NULL|            NULL|           NULL|          NULL|          NULL|          NULL|          NULL|         NULL|                 NULL|           NULL|                    NULL|              NULL|           NULL|             NULL|                        NULL|            NULL|           NULL|          NULL|          NULL|          NULL|          NULL|         NULL|                 NULL|           NULL|                    NULL|              NULL|              NULL|            NULL|          NULL|              NULL|               NULL|                     6.0|                     0.0|                     6.0|                     0.0|                -925.0|              0|              1|              0|              0|              0|              0|              0|              0|               0|               0|               0|               0|               0|               0|               0|               0|               0|               0|               0|               0|                       0.0|                      0.0|                       0.0|                      0.0|                      0.0|                       6.0| 0.1197684461143973|  0.6698462369230254|  0.5551605273961557| 0.8677179535039607| 0.1942518754411583|  0.8220776649412043| 0.7335649101575458|  0.6735238721972994| 0.6959099805126722|  0.5320652222942727|0.010787794899295822|  0.4590142078918471|  0.2897876327744683|  0.3209447540416738|0.001951594250711...| 0.08680943318233214| 0.20565040945697444|  0.4228264935000895|   0.579083613194446| 0.8855198530954762|  0.708798411938774| 0.3359909699499407| 0.0811835938358948| 0.31128532416689336| 0.20474782387816703|  0.0526412434522201|  0.1048550739033478| 0.7327164898504421|  0.8556435625632293|0.06340736063047159|   0.931834784553752|  0.627846911380231| 0.8075018873207678|  0.399155447292702| 0.3910854017919554| 0.39615289754867467| 0.41989745673378687|0.053137474779523464|0.34399708095862147| 0.2644735200031846|  0.774561272607018|  0.5273436957380854| 0.8176844557673683|0.41880587661939384| 0.9723315334856039| 0.9907964981347074|0.38910367190618955| 0.3061770266755367| 0.9629550264334699| 0.2333472739724235|\n",
            "|    309657|     0|        Cash loans|          F|           Y|              N|           0|         67500.0|  679981.5|    27094.5|       679981.5|  Unaccompanied|           Pensioner|Secondary / secon...|Single / not married|  House / apartment|                  0.035792|    -20968|       365243|          -6234.0|          -2760|       31.0|         1|             0|              0|               1|         1|         0|                NULL|            1.0|                   2|                          2|                  SATURDAY|                     15|                         0|                         0|                          0|                     0|                     0|                      0|                 XNA|0.7372567865208359|0.6667243359788899|              NULL|              NULL|            NULL|                       NULL|              NULL|          NULL|         NULL|         NULL|         NULL|         NULL|              NULL|                NULL|          NULL|                   NULL|              NULL|           NULL|             NULL|                        NULL|            NULL|           NULL|          NULL|          NULL|          NULL|          NULL|         NULL|                 NULL|           NULL|                    NULL|              NULL|           NULL|             NULL|                        NULL|            NULL|           NULL|          NULL|          NULL|          NULL|          NULL|         NULL|                 NULL|           NULL|                    NULL|              NULL|              NULL|            NULL|          NULL|              NULL|               NULL|                     2.0|                     1.0|                     2.0|                     1.0|               -2206.0|              0|              1|              0|              0|              0|              0|              0|              0|               0|               0|               0|               0|               0|               0|               0|               0|               0|               0|               0|               0|                       0.0|                      0.0|                       0.0|                      0.0|                      0.0|                       0.0| 0.3171849121924821|  0.5335713459289401|0.059169540457403524|0.42417044791979874|  0.495892201255817|  0.9985195408031526|  0.825139370969563|  0.4387585172663728| 0.9198670466924631|  0.9310146968213988|  0.4606252857800417|  0.8997867887204898|  0.3879522063644417|  0.7665717539582113|  0.4468210313098292|  0.7728823722626296|  0.8216201666641004|   0.684908199959164|  0.5446993322264675|0.37118184274348753|0.24828828293297123| 0.7357324885995459| 0.8237224580724788|  0.3827504182384619|  0.4012489584788296|  0.8442819106583058|  0.8280664991049612| 0.2644593161119032|  0.3281222295394981| 0.4842287960306956|  0.9334925693946484| 0.8160907144761923| 0.9539571133252811| 0.9233842120365419| 0.6500813347401093|  0.3162672715385304| 0.27151024771705023| 0.12270624553257037| 0.9865653457031361| 0.9887345081677257| 0.3898876871422786|0.058200239876326276|0.15233100989562542| 0.7807250653273791| 0.9571276265855885| 0.8701295963206679|0.23030844399479344| 0.9939506633467455| 0.7471131244229741| 0.4078643491687043|\n",
            "+----------+------+------------------+-----------+------------+---------------+------------+----------------+----------+-----------+---------------+---------------+--------------------+--------------------+--------------------+-------------------+--------------------------+----------+-------------+-----------------+---------------+-----------+----------+--------------+---------------+----------------+----------+----------+--------------------+---------------+--------------------+---------------------------+--------------------------+-----------------------+--------------------------+--------------------------+---------------------------+----------------------+----------------------+-----------------------+--------------------+------------------+------------------+------------------+------------------+----------------+---------------------------+------------------+--------------+-------------+-------------+-------------+-------------+------------------+--------------------+--------------+-----------------------+------------------+---------------+-----------------+----------------------------+----------------+---------------+--------------+--------------+--------------+--------------+-------------+---------------------+---------------+------------------------+------------------+---------------+-----------------+----------------------------+----------------+---------------+--------------+--------------+--------------+--------------+-------------+---------------------+---------------+------------------------+------------------+------------------+----------------+--------------+------------------+-------------------+------------------------+------------------------+------------------------+------------------------+----------------------+---------------+---------------+---------------+---------------+---------------+---------------+---------------+---------------+----------------+----------------+----------------+----------------+----------------+----------------+----------------+----------------+----------------+----------------+----------------+----------------+--------------------------+-------------------------+--------------------------+-------------------------+-------------------------+--------------------------+-------------------+--------------------+--------------------+-------------------+-------------------+--------------------+-------------------+--------------------+-------------------+--------------------+--------------------+--------------------+--------------------+--------------------+--------------------+--------------------+--------------------+--------------------+--------------------+-------------------+-------------------+-------------------+-------------------+--------------------+--------------------+--------------------+--------------------+-------------------+--------------------+-------------------+--------------------+-------------------+-------------------+-------------------+-------------------+--------------------+--------------------+--------------------+-------------------+-------------------+-------------------+--------------------+-------------------+-------------------+-------------------+-------------------+-------------------+-------------------+-------------------+-------------------+\n",
            "\n"
          ]
        }
      ]
    },
    {
      "cell_type": "markdown",
      "source": [
        "- Lendo os dados da tabela bureau"
      ],
      "metadata": {
        "id": "TZ9xJqPlMLhs"
      }
    },
    {
      "cell_type": "code",
      "source": [
        "spark.sql(\"\"\"\n",
        "SELECT\n",
        "*\n",
        "FROM\n",
        "df_bureau\n",
        "LIMIT 20\n",
        "\"\"\").show()"
      ],
      "metadata": {
        "id": "EKvjAcdRMMAi",
        "colab": {
          "base_uri": "https://localhost:8080/"
        },
        "outputId": "990faabe-891d-4048-babd-3aadac406e93"
      },
      "execution_count": null,
      "outputs": [
        {
          "output_type": "stream",
          "name": "stdout",
          "text": [
            "+----------+------------+-------------+---------------+-----------+------------------+-------------------+-----------------+----------------------+------------------+--------------+-------------------+--------------------+----------------------+---------------+------------------+-----------+\n",
            "|SK_ID_CURR|SK_ID_BUREAU|CREDIT_ACTIVE|CREDIT_CURRENCY|DAYS_CREDIT|CREDIT_DAY_OVERDUE|DAYS_CREDIT_ENDDATE|DAYS_ENDDATE_FACT|AMT_CREDIT_MAX_OVERDUE|CNT_CREDIT_PROLONG|AMT_CREDIT_SUM|AMT_CREDIT_SUM_DEBT|AMT_CREDIT_SUM_LIMIT|AMT_CREDIT_SUM_OVERDUE|    CREDIT_TYPE|DAYS_CREDIT_UPDATE|AMT_ANNUITY|\n",
            "+----------+------------+-------------+---------------+-----------+------------------+-------------------+-----------------+----------------------+------------------+--------------+-------------------+--------------------+----------------------+---------------+------------------+-----------+\n",
            "|    215354|     5714462|       Closed|     currency 1|       -497|                 0|             -153.0|           -153.0|                  NULL|                 0|       91323.0|                0.0|                NULL|                   0.0|Consumer credit|              -131|       NULL|\n",
            "|    215354|     5714463|       Active|     currency 1|       -208|                 0|             1075.0|             NULL|                  NULL|                 0|      225000.0|           171342.0|                NULL|                   0.0|    Credit card|               -20|       NULL|\n",
            "|    215354|     5714464|       Active|     currency 1|       -203|                 0|              528.0|             NULL|                  NULL|                 0|      464323.5|               NULL|                NULL|                   0.0|Consumer credit|               -16|       NULL|\n",
            "|    215354|     5714465|       Active|     currency 1|       -203|                 0|               NULL|             NULL|                  NULL|                 0|       90000.0|               NULL|                NULL|                   0.0|    Credit card|               -16|       NULL|\n",
            "|    215354|     5714466|       Active|     currency 1|       -629|                 0|             1197.0|             NULL|               77674.5|                 0|     2700000.0|               NULL|                NULL|                   0.0|Consumer credit|               -21|       NULL|\n",
            "|    215354|     5714467|       Active|     currency 1|       -273|                 0|            27460.0|             NULL|                   0.0|                 0|      180000.0|           71017.38|           108982.62|                   0.0|    Credit card|               -31|       NULL|\n",
            "|    215354|     5714468|       Active|     currency 1|        -43|                 0|               79.0|             NULL|                   0.0|                 0|       42103.8|            42103.8|                 0.0|                   0.0|Consumer credit|               -22|       NULL|\n",
            "|    162297|     5714469|       Closed|     currency 1|      -1896|                 0|            -1684.0|          -1710.0|               14985.0|                 0|      76878.45|                0.0|                 0.0|                   0.0|Consumer credit|             -1710|       NULL|\n",
            "|    162297|     5714470|       Closed|     currency 1|      -1146|                 0|             -811.0|           -840.0|                   0.0|                 0|      103007.7|                0.0|                 0.0|                   0.0|Consumer credit|              -840|       NULL|\n",
            "|    162297|     5714471|       Active|     currency 1|      -1146|                 0|             -484.0|             NULL|                   0.0|                 0|        4500.0|                0.0|                 0.0|                   0.0|    Credit card|              -690|       NULL|\n",
            "|    162297|     5714472|       Active|     currency 1|      -1146|                 0|             -180.0|             NULL|                   0.0|                 0|      337500.0|                0.0|                 0.0|                   0.0|    Credit card|              -690|       NULL|\n",
            "|    162297|     5714473|       Closed|     currency 1|      -2456|                 0|             -629.0|           -825.0|                  NULL|                 0|      675000.0|                0.0|                 0.0|                   0.0|Consumer credit|              -706|       NULL|\n",
            "|    162297|     5714474|       Active|     currency 1|       -277|                 0|             5261.0|             NULL|                   0.0|                 0|     7033500.0|               NULL|                NULL|                   0.0|       Mortgage|               -31|       NULL|\n",
            "|    402440|     5714475|       Active|     currency 1|        -96|                 0|              269.0|             NULL|                   0.0|                 0|       89910.0|            76905.0|                 0.0|                   0.0|Consumer credit|               -22|       NULL|\n",
            "|    238881|     5714482|       Closed|     currency 1|       -318|                 0|             -187.0|           -187.0|                  NULL|                 0|           0.0|                0.0|                 0.0|                   0.0|    Credit card|              -185|       NULL|\n",
            "|    238881|     5714484|       Closed|     currency 1|      -2911|                 0|            -2607.0|          -2604.0|                  NULL|                 0|       48555.0|               NULL|                NULL|                   0.0|Consumer credit|             -2601|       NULL|\n",
            "|    238881|     5714485|       Closed|     currency 1|      -2148|                 0|            -1595.0|           -987.0|                  NULL|                 0|      135000.0|               NULL|                NULL|                   0.0|Consumer credit|              -984|       NULL|\n",
            "|    238881|     5714486|       Active|     currency 1|       -381|                 0|               NULL|             NULL|                  NULL|                 0|      450000.0|           520920.0|                NULL|                   0.0|Consumer credit|                -4|       NULL|\n",
            "|    238881|     5714487|       Active|     currency 1|        -95|                 0|             1720.0|             NULL|                  NULL|                 0|       67500.0|             8131.5|                NULL|                   0.0|    Credit card|                -7|       NULL|\n",
            "|    238881|     5714488|       Closed|     currency 1|       -444|                 0|              -77.0|            -77.0|                   0.0|                 0|     107184.06|                0.0|                 0.0|                   0.0|Consumer credit|               -71|       NULL|\n",
            "+----------+------------+-------------+---------------+-----------+------------------+-------------------+-----------------+----------------------+------------------+--------------+-------------------+--------------------+----------------------+---------------+------------------+-----------+\n",
            "\n"
          ]
        }
      ]
    },
    {
      "cell_type": "markdown",
      "source": [
        "- Contando a quantidade de linhas das tabelas application_train e bureau"
      ],
      "metadata": {
        "id": "GUaFoMIKGJ27"
      }
    },
    {
      "cell_type": "code",
      "source": [
        "spark.sql(\"\"\"\n",
        "SELECT\n",
        "COUNT(SK_ID_CURR) AS Quantidade_SK_ID\n",
        "FROM\n",
        "df_application_train\n",
        "\"\"\").show()"
      ],
      "metadata": {
        "colab": {
          "base_uri": "https://localhost:8080/"
        },
        "id": "R0ffr3LFsFFE",
        "outputId": "777e4d6d-4066-4e8b-85d7-a8f6a19a819b"
      },
      "execution_count": null,
      "outputs": [
        {
          "output_type": "stream",
          "name": "stdout",
          "text": [
            "+----------------+\n",
            "|Quantidade_SK_ID|\n",
            "+----------------+\n",
            "|          215257|\n",
            "+----------------+\n",
            "\n"
          ]
        }
      ]
    },
    {
      "cell_type": "code",
      "source": [
        "spark.sql(\"\"\"\n",
        "SELECT\n",
        "COUNT (DISTINCT SK_ID_CURR) AS Quantidade_SK_ID_UNICOS\n",
        "FROM\n",
        "df_application_train\n",
        "\"\"\").show()"
      ],
      "metadata": {
        "colab": {
          "base_uri": "https://localhost:8080/"
        },
        "id": "BoJNfCi_sW5b",
        "outputId": "9aee43a8-7b5b-4caa-c7a9-9e11e4073be5"
      },
      "execution_count": null,
      "outputs": [
        {
          "output_type": "stream",
          "name": "stdout",
          "text": [
            "+-----------------------+\n",
            "|Quantidade_SK_ID_UNICOS|\n",
            "+-----------------------+\n",
            "|                 215257|\n",
            "+-----------------------+\n",
            "\n"
          ]
        }
      ]
    },
    {
      "cell_type": "code",
      "source": [
        "spark.sql(\"\"\"\n",
        "SELECT\n",
        "COUNT(SK_ID_CURR) AS Quantidade_SK_ID\n",
        "FROM\n",
        "df_installments_payments\n",
        "\"\"\").show()"
      ],
      "metadata": {
        "colab": {
          "base_uri": "https://localhost:8080/"
        },
        "id": "BelDPWK3somo",
        "outputId": "1ab86b6b-db81-427e-ae0d-95440247d2e4"
      },
      "execution_count": null,
      "outputs": [
        {
          "output_type": "stream",
          "name": "stdout",
          "text": [
            "+----------------+\n",
            "|Quantidade_SK_ID|\n",
            "+----------------+\n",
            "|        13605401|\n",
            "+----------------+\n",
            "\n"
          ]
        }
      ]
    },
    {
      "cell_type": "code",
      "source": [
        "spark.sql(\"\"\"\n",
        "SELECT\n",
        "COUNT (DISTINCT SK_ID_CURR) AS Quantidade_SK_ID_UNICOS\n",
        "FROM\n",
        "df_installments_payments\n",
        "\"\"\").show()"
      ],
      "metadata": {
        "colab": {
          "base_uri": "https://localhost:8080/"
        },
        "id": "oj8TgTEgcGx1",
        "outputId": "908a0377-993b-4ff7-f845-2961f9362be5"
      },
      "execution_count": null,
      "outputs": [
        {
          "output_type": "stream",
          "name": "stdout",
          "text": [
            "+-----------------------+\n",
            "|Quantidade_SK_ID_UNICOS|\n",
            "+-----------------------+\n",
            "|                 339587|\n",
            "+-----------------------+\n",
            "\n"
          ]
        }
      ]
    },
    {
      "cell_type": "code",
      "source": [
        "spark.sql(\"\"\"\n",
        "SELECT\n",
        "Count(*) AS Quantidadede_Transacoes\n",
        "FROM\n",
        "df_bureau\n",
        "\"\"\").show()"
      ],
      "metadata": {
        "colab": {
          "base_uri": "https://localhost:8080/"
        },
        "id": "O61UGhh5tDAy",
        "outputId": "4014cf6c-bd15-4b2c-e7e6-657707d8d71c"
      },
      "execution_count": null,
      "outputs": [
        {
          "output_type": "stream",
          "name": "stdout",
          "text": [
            "+-----------------------+\n",
            "|Quantidadede_Transacoes|\n",
            "+-----------------------+\n",
            "|                1716428|\n",
            "+-----------------------+\n",
            "\n"
          ]
        }
      ]
    },
    {
      "cell_type": "code",
      "source": [
        "# Quantidade de IDs únicos df_bureau_balance\n",
        "spark.sql(\"\"\"\n",
        "SELECT\n",
        "COUNT(DISTINCT SK_ID_CURR) AS Quantidade_SK_ID_UNICOS\n",
        "FROM\n",
        "df_bureau\n",
        "\"\"\").show()"
      ],
      "metadata": {
        "colab": {
          "base_uri": "https://localhost:8080/"
        },
        "id": "zeHaNRaRcDCh",
        "outputId": "56f204d3-ff5f-4cf1-f0e4-ef53608ee8e3"
      },
      "execution_count": null,
      "outputs": [
        {
          "output_type": "stream",
          "name": "stdout",
          "text": [
            "+-----------------------+\n",
            "|Quantidade_SK_ID_UNICOS|\n",
            "+-----------------------+\n",
            "|                 305811|\n",
            "+-----------------------+\n",
            "\n"
          ]
        }
      ]
    },
    {
      "cell_type": "code",
      "source": [
        "# df_previous_application\n",
        "spark.sql(\"\"\"\n",
        "SELECT\n",
        "Count(DISTINCT SK_ID_CURR) AS Quantidadede_IDs_unicos\n",
        "FROM\n",
        "df_previous_application\n",
        "\"\"\").show()"
      ],
      "metadata": {
        "colab": {
          "base_uri": "https://localhost:8080/"
        },
        "id": "KRxj8Fd-ceZQ",
        "outputId": "65035148-f969-49bb-f418-24a2372ea3f0"
      },
      "execution_count": null,
      "outputs": [
        {
          "output_type": "stream",
          "name": "stdout",
          "text": [
            "+-----------------------+\n",
            "|Quantidadede_IDs_unicos|\n",
            "+-----------------------+\n",
            "|                 338857|\n",
            "+-----------------------+\n",
            "\n"
          ]
        }
      ]
    },
    {
      "cell_type": "code",
      "source": [
        "# df_previous_application\n",
        "spark.sql(\"\"\"\n",
        "SELECT\n",
        "Count(DISTINCT SK_ID_CURR) AS Quantidadede_IDs_unicos\n",
        "FROM\n",
        "df_previous_application\n",
        "\"\"\").show()"
      ],
      "metadata": {
        "id": "D42kRtAQcecc"
      },
      "execution_count": null,
      "outputs": []
    },
    {
      "cell_type": "code",
      "source": [],
      "metadata": {
        "id": "3e4iE3P9eU5O"
      },
      "execution_count": null,
      "outputs": []
    },
    {
      "cell_type": "code",
      "source": [],
      "metadata": {
        "id": "5TMISo2AeU9v"
      },
      "execution_count": null,
      "outputs": []
    },
    {
      "cell_type": "code",
      "source": [
        "# quantidade de transações iguais a Credit card\n",
        "spark.sql(\"\"\"\n",
        "SELECT COUNT(DISTINCT SK_ID_CURR) AS TotalCreditCard\n",
        "FROM df_bureau\n",
        "WHERE CREDIT_TYPE = 'Credit card'\n",
        "\"\"\").show()"
      ],
      "metadata": {
        "colab": {
          "base_uri": "https://localhost:8080/"
        },
        "id": "X8Ync68KSskM",
        "outputId": "d185d804-ee17-4d9a-bea0-94c879a7dc7a"
      },
      "execution_count": null,
      "outputs": [
        {
          "output_type": "stream",
          "name": "stdout",
          "text": [
            "+---------------+\n",
            "|TotalCreditCard|\n",
            "+---------------+\n",
            "|         199965|\n",
            "+---------------+\n",
            "\n"
          ]
        }
      ]
    },
    {
      "cell_type": "code",
      "source": [
        "# quantidade de transações iguais a Credit card\n",
        "spark.sql(\"\"\"\n",
        "SELECT COUNT(DISTINCT SK_ID_CURR) AS TotalRealEstateLoan\n",
        "FROM df_bureau\n",
        "WHERE CREDIT_TYPE = 'Real estate loan'\n",
        "\"\"\").show()"
      ],
      "metadata": {
        "colab": {
          "base_uri": "https://localhost:8080/"
        },
        "id": "EosJJZAmVBqu",
        "outputId": "c99a90c6-38dd-4062-f6d2-ae5324dd2725"
      },
      "execution_count": null,
      "outputs": [
        {
          "output_type": "stream",
          "name": "stdout",
          "text": [
            "+-------------------+\n",
            "|TotalRealEstateLoan|\n",
            "+-------------------+\n",
            "|                 27|\n",
            "+-------------------+\n",
            "\n"
          ]
        }
      ]
    },
    {
      "cell_type": "code",
      "source": [
        "# quantidade de transações iguais a Credit card\n",
        "spark.sql(\"\"\"\n",
        "SELECT COUNT(DISTINCT SK_ID_CURR) AS TotalCarLoan\n",
        "FROM df_bureau\n",
        "WHERE CREDIT_TYPE = 'Car loan'\n",
        "\"\"\").show()"
      ],
      "metadata": {
        "colab": {
          "base_uri": "https://localhost:8080/"
        },
        "id": "e4Ruo6lqVS0z",
        "outputId": "168f8995-bc33-4d56-f1b3-ef9c1cb34658"
      },
      "execution_count": null,
      "outputs": [
        {
          "output_type": "stream",
          "name": "stdout",
          "text": [
            "+------------+\n",
            "|TotalCarLoan|\n",
            "+------------+\n",
            "|       22796|\n",
            "+------------+\n",
            "\n"
          ]
        }
      ]
    },
    {
      "cell_type": "code",
      "source": [
        "spark.sql(\"\"\"\n",
        "SELECT\n",
        "NAME_CONTRACT_TYPE,\n",
        "Count(*)\n",
        "FROM\n",
        "df_application_train\n",
        "GROUP BY\n",
        "NAME_CONTRACT_TYPE\n",
        "ORDER BY Count(*)\n",
        "\"\"\").show(truncate=False)"
      ],
      "metadata": {
        "colab": {
          "base_uri": "https://localhost:8080/"
        },
        "id": "qeYRQgQ8Zyn-",
        "outputId": "3fff218a-fe23-4886-d749-ff7de0bedf24"
      },
      "execution_count": null,
      "outputs": [
        {
          "output_type": "stream",
          "name": "stdout",
          "text": [
            "+------------------+--------+\n",
            "|NAME_CONTRACT_TYPE|count(1)|\n",
            "+------------------+--------+\n",
            "|Revolving loans   |20594   |\n",
            "|Cash loans        |194663  |\n",
            "+------------------+--------+\n",
            "\n"
          ]
        }
      ]
    },
    {
      "cell_type": "code",
      "source": [],
      "metadata": {
        "id": "E-6dWqHWSZZe"
      },
      "execution_count": null,
      "outputs": []
    },
    {
      "cell_type": "code",
      "source": [
        "spark.sql(\"\"\"\n",
        "SELECT\n",
        "CREDIT_TYPE,\n",
        "Count(*)\n",
        "FROM\n",
        "df_bureau\n",
        "GROUP BY\n",
        "CREDIT_TYPE\n",
        "ORDER BY Count(*)\n",
        "\"\"\").show(truncate=False)"
      ],
      "metadata": {
        "colab": {
          "base_uri": "https://localhost:8080/"
        },
        "id": "rNwsnfn9aUwF",
        "outputId": "a03776c9-fe54-4e81-f0c8-dc2f15f75130"
      },
      "execution_count": null,
      "outputs": [
        {
          "output_type": "stream",
          "name": "stdout",
          "text": [
            "+--------------------------------------------+--------+\n",
            "|CREDIT_TYPE                                 |count(1)|\n",
            "+--------------------------------------------+--------+\n",
            "|Mobile operator loan                        |1       |\n",
            "|Interbank credit                            |1       |\n",
            "|Loan for purchase of shares (margin lending)|4       |\n",
            "|Loan for the purchase of equipment          |19      |\n",
            "|Real estate loan                            |27      |\n",
            "|Cash loan (non-earmarked)                   |56      |\n",
            "|Loan for working capital replenishment      |469     |\n",
            "|Unknown type of loan                        |555     |\n",
            "|Another type of loan                        |1017    |\n",
            "|Loan for business development               |1975    |\n",
            "|Microloan                                   |12413   |\n",
            "|Mortgage                                    |18391   |\n",
            "|Car loan                                    |27690   |\n",
            "|Credit card                                 |402195  |\n",
            "|Consumer credit                             |1251615 |\n",
            "+--------------------------------------------+--------+\n",
            "\n"
          ]
        }
      ]
    },
    {
      "cell_type": "markdown",
      "source": [
        "**### A PARTIR DAQUI Não faz parte do Hackaton é só pra ter uma ideia do que fazer.**"
      ],
      "metadata": {
        "id": "_ysUn4fcZydA"
      }
    },
    {
      "cell_type": "markdown",
      "source": [
        "###Análise exploratória da chave SK_ID_CURR = '100002'\n",
        "\n",
        "Pelo modelo entidade relacionamento (MER) tem-se que as tabelas application_train e bureau se relacionam pela chave 'SK_ID_CURR'."
      ],
      "metadata": {
        "id": "07jpFnCVZY9O"
      }
    },
    {
      "cell_type": "markdown",
      "source": [
        "- Lendo os dados do SK_ID_CURR = '100002' na tabela applicantion_train"
      ],
      "metadata": {
        "id": "jzcap2hTCTZq"
      }
    },
    {
      "cell_type": "code",
      "source": [
        "spark.sql(\"\"\"\n",
        "SELECT\n",
        "*\n",
        "FROM\n",
        "df_application_train\n",
        "WHERE SK_ID_CURR = '100002'\n",
        "\"\"\").show()\n"
      ],
      "metadata": {
        "id": "Smj_xgvuZPGT",
        "colab": {
          "base_uri": "https://localhost:8080/"
        },
        "outputId": "c4af06b2-bf3d-49e5-fa41-ed24203d55e3"
      },
      "execution_count": null,
      "outputs": [
        {
          "output_type": "stream",
          "name": "stdout",
          "text": [
            "+----------+------+------------------+-----------+------------+---------------+------------+----------------+----------+-----------+---------------+---------------+----------------+-------------------+------------------+-----------------+--------------------------+----------+-------------+-----------------+---------------+-----------+----------+--------------+---------------+----------------+----------+----------+---------------+---------------+--------------------+---------------------------+--------------------------+-----------------------+--------------------------+--------------------------+---------------------------+----------------------+----------------------+-----------------------+-----------------+------------+------------+------------+--------------+----------------+---------------------------+---------------+--------------+-------------+-------------+-------------+-------------+------------+--------------------+--------------+-----------------------+-----------------+---------------+-----------------+----------------------------+----------------+---------------+--------------+--------------+--------------+--------------+-------------+---------------------+---------------+------------------------+------------------+---------------+-----------------+----------------------------+----------------+---------------+--------------+--------------+--------------+--------------+-------------+---------------------+---------------+------------------------+------------------+------------------+--------------+--------------+------------------+-------------------+------------------------+------------------------+------------------------+------------------------+----------------------+---------------+---------------+---------------+---------------+---------------+---------------+---------------+---------------+----------------+----------------+----------------+----------------+----------------+----------------+----------------+----------------+----------------+----------------+----------------+----------------+--------------------------+-------------------------+--------------------------+-------------------------+-------------------------+--------------------------+-----+-----+-----+-----+-----+-----+-----+-----+-----+------+------+------+------+------+------+------+------+------+------+------+------+------+------+------+------+------+------+------+------+------+------+------+------+------+------+------+------+------+------+------+------+------+------+------+------+------+------+------+------+------+\n",
            "|SK_ID_CURR|TARGET|NAME_CONTRACT_TYPE|CODE_GENDER|FLAG_OWN_CAR|FLAG_OWN_REALTY|CNT_CHILDREN|AMT_INCOME_TOTAL|AMT_CREDIT|AMT_ANNUITY|AMT_GOODS_PRICE|NAME_TYPE_SUITE|NAME_INCOME_TYPE|NAME_EDUCATION_TYPE|NAME_FAMILY_STATUS|NAME_HOUSING_TYPE|REGION_POPULATION_RELATIVE|DAYS_BIRTH|DAYS_EMPLOYED|DAYS_REGISTRATION|DAYS_ID_PUBLISH|OWN_CAR_AGE|FLAG_MOBIL|FLAG_EMP_PHONE|FLAG_WORK_PHONE|FLAG_CONT_MOBILE|FLAG_PHONE|FLAG_EMAIL|OCCUPATION_TYPE|CNT_FAM_MEMBERS|REGION_RATING_CLIENT|REGION_RATING_CLIENT_W_CITY|WEEKDAY_APPR_PROCESS_START|HOUR_APPR_PROCESS_START|REG_REGION_NOT_LIVE_REGION|REG_REGION_NOT_WORK_REGION|LIVE_REGION_NOT_WORK_REGION|REG_CITY_NOT_LIVE_CITY|REG_CITY_NOT_WORK_CITY|LIVE_CITY_NOT_WORK_CITY|ORGANIZATION_TYPE|EXT_SOURCE_1|EXT_SOURCE_2|EXT_SOURCE_3|APARTMENTS_AVG|BASEMENTAREA_AVG|YEARS_BEGINEXPLUATATION_AVG|YEARS_BUILD_AVG|COMMONAREA_AVG|ELEVATORS_AVG|ENTRANCES_AVG|FLOORSMAX_AVG|FLOORSMIN_AVG|LANDAREA_AVG|LIVINGAPARTMENTS_AVG|LIVINGAREA_AVG|NONLIVINGAPARTMENTS_AVG|NONLIVINGAREA_AVG|APARTMENTS_MODE|BASEMENTAREA_MODE|YEARS_BEGINEXPLUATATION_MODE|YEARS_BUILD_MODE|COMMONAREA_MODE|ELEVATORS_MODE|ENTRANCES_MODE|FLOORSMAX_MODE|FLOORSMIN_MODE|LANDAREA_MODE|LIVINGAPARTMENTS_MODE|LIVINGAREA_MODE|NONLIVINGAPARTMENTS_MODE|NONLIVINGAREA_MODE|APARTMENTS_MEDI|BASEMENTAREA_MEDI|YEARS_BEGINEXPLUATATION_MEDI|YEARS_BUILD_MEDI|COMMONAREA_MEDI|ELEVATORS_MEDI|ENTRANCES_MEDI|FLOORSMAX_MEDI|FLOORSMIN_MEDI|LANDAREA_MEDI|LIVINGAPARTMENTS_MEDI|LIVINGAREA_MEDI|NONLIVINGAPARTMENTS_MEDI|NONLIVINGAREA_MEDI|FONDKAPREMONT_MODE|HOUSETYPE_MODE|TOTALAREA_MODE|WALLSMATERIAL_MODE|EMERGENCYSTATE_MODE|OBS_30_CNT_SOCIAL_CIRCLE|DEF_30_CNT_SOCIAL_CIRCLE|OBS_60_CNT_SOCIAL_CIRCLE|DEF_60_CNT_SOCIAL_CIRCLE|DAYS_LAST_PHONE_CHANGE|FLAG_DOCUMENT_2|FLAG_DOCUMENT_3|FLAG_DOCUMENT_4|FLAG_DOCUMENT_5|FLAG_DOCUMENT_6|FLAG_DOCUMENT_7|FLAG_DOCUMENT_8|FLAG_DOCUMENT_9|FLAG_DOCUMENT_10|FLAG_DOCUMENT_11|FLAG_DOCUMENT_12|FLAG_DOCUMENT_13|FLAG_DOCUMENT_14|FLAG_DOCUMENT_15|FLAG_DOCUMENT_16|FLAG_DOCUMENT_17|FLAG_DOCUMENT_18|FLAG_DOCUMENT_19|FLAG_DOCUMENT_20|FLAG_DOCUMENT_21|AMT_REQ_CREDIT_BUREAU_HOUR|AMT_REQ_CREDIT_BUREAU_DAY|AMT_REQ_CREDIT_BUREAU_WEEK|AMT_REQ_CREDIT_BUREAU_MON|AMT_REQ_CREDIT_BUREAU_QRT|AMT_REQ_CREDIT_BUREAU_YEAR|var_1|var_2|var_3|var_4|var_5|var_6|var_7|var_8|var_9|var_10|var_11|var_12|var_13|var_14|var_15|var_16|var_17|var_18|var_19|var_20|var_21|var_22|var_23|var_24|var_25|var_26|var_27|var_28|var_29|var_30|var_31|var_32|var_33|var_34|var_35|var_36|var_37|var_38|var_39|var_40|var_41|var_42|var_43|var_44|var_45|var_46|var_47|var_48|var_49|var_50|\n",
            "+----------+------+------------------+-----------+------------+---------------+------------+----------------+----------+-----------+---------------+---------------+----------------+-------------------+------------------+-----------------+--------------------------+----------+-------------+-----------------+---------------+-----------+----------+--------------+---------------+----------------+----------+----------+---------------+---------------+--------------------+---------------------------+--------------------------+-----------------------+--------------------------+--------------------------+---------------------------+----------------------+----------------------+-----------------------+-----------------+------------+------------+------------+--------------+----------------+---------------------------+---------------+--------------+-------------+-------------+-------------+-------------+------------+--------------------+--------------+-----------------------+-----------------+---------------+-----------------+----------------------------+----------------+---------------+--------------+--------------+--------------+--------------+-------------+---------------------+---------------+------------------------+------------------+---------------+-----------------+----------------------------+----------------+---------------+--------------+--------------+--------------+--------------+-------------+---------------------+---------------+------------------------+------------------+------------------+--------------+--------------+------------------+-------------------+------------------------+------------------------+------------------------+------------------------+----------------------+---------------+---------------+---------------+---------------+---------------+---------------+---------------+---------------+----------------+----------------+----------------+----------------+----------------+----------------+----------------+----------------+----------------+----------------+----------------+----------------+--------------------------+-------------------------+--------------------------+-------------------------+-------------------------+--------------------------+-----+-----+-----+-----+-----+-----+-----+-----+-----+------+------+------+------+------+------+------+------+------+------+------+------+------+------+------+------+------+------+------+------+------+------+------+------+------+------+------+------+------+------+------+------+------+------+------+------+------+------+------+------+------+\n",
            "+----------+------+------------------+-----------+------------+---------------+------------+----------------+----------+-----------+---------------+---------------+----------------+-------------------+------------------+-----------------+--------------------------+----------+-------------+-----------------+---------------+-----------+----------+--------------+---------------+----------------+----------+----------+---------------+---------------+--------------------+---------------------------+--------------------------+-----------------------+--------------------------+--------------------------+---------------------------+----------------------+----------------------+-----------------------+-----------------+------------+------------+------------+--------------+----------------+---------------------------+---------------+--------------+-------------+-------------+-------------+-------------+------------+--------------------+--------------+-----------------------+-----------------+---------------+-----------------+----------------------------+----------------+---------------+--------------+--------------+--------------+--------------+-------------+---------------------+---------------+------------------------+------------------+---------------+-----------------+----------------------------+----------------+---------------+--------------+--------------+--------------+--------------+-------------+---------------------+---------------+------------------------+------------------+------------------+--------------+--------------+------------------+-------------------+------------------------+------------------------+------------------------+------------------------+----------------------+---------------+---------------+---------------+---------------+---------------+---------------+---------------+---------------+----------------+----------------+----------------+----------------+----------------+----------------+----------------+----------------+----------------+----------------+----------------+----------------+--------------------------+-------------------------+--------------------------+-------------------------+-------------------------+--------------------------+-----+-----+-----+-----+-----+-----+-----+-----+-----+------+------+------+------+------+------+------+------+------+------+------+------+------+------+------+------+------+------+------+------+------+------+------+------+------+------+------+------+------+------+------+------+------+------+------+------+------+------+------+------+------+\n",
            "\n"
          ]
        }
      ]
    },
    {
      "cell_type": "markdown",
      "source": [
        "- Lendo os dados do SK_ID_CURR = '100002' na tabela bureau"
      ],
      "metadata": {
        "id": "cLThQ2uFCjJS"
      }
    },
    {
      "cell_type": "code",
      "source": [
        "spark.sql(\"\"\"\n",
        "SELECT\n",
        "*\n",
        "FROM\n",
        "bureau\n",
        "WHERE SK_ID_CURR = '100002'\n",
        "\"\"\").show()\n"
      ],
      "metadata": {
        "id": "kkQwkDBLaPUR"
      },
      "execution_count": null,
      "outputs": []
    },
    {
      "cell_type": "markdown",
      "source": [
        "Através da vizualização da chave SK_ID_CURR = '100002' vemos que para um cadastro (tabela application_train) pode-se ter várias transações (tabela bureau).\n"
      ],
      "metadata": {
        "id": "OWzORSyGtenJ"
      }
    },
    {
      "cell_type": "markdown",
      "source": [
        "- Analisando os dados categóricos da tabela bureau, colunas:\n",
        "  - CREDIT_ACTIVE\n",
        "  - CREDIT_CURRENCY\n",
        "  - CREDIT_TYPE"
      ],
      "metadata": {
        "id": "ds_97bBdGVrv"
      }
    },
    {
      "cell_type": "code",
      "source": [
        "spark.sql(\"\"\"\n",
        "SELECT\n",
        "SK_ID_CURR,\n",
        "CREDIT_ACTIVE,\n",
        "CREDIT_CURRENCY,\n",
        "CREDIT_TYPE\n",
        "FROM\n",
        "bureau\n",
        "WHERE SK_ID_CURR = '100002'\n",
        "\"\"\").show()"
      ],
      "metadata": {
        "colab": {
          "base_uri": "https://localhost:8080/"
        },
        "id": "bxBvGu1_f7vO",
        "outputId": "8a36fbe9-76ba-4f70-a1e9-7bd4873e260e"
      },
      "execution_count": null,
      "outputs": [
        {
          "output_type": "stream",
          "name": "stdout",
          "text": [
            "+----------+-------------+---------------+---------------+\n",
            "|SK_ID_CURR|CREDIT_ACTIVE|CREDIT_CURRENCY|    CREDIT_TYPE|\n",
            "+----------+-------------+---------------+---------------+\n",
            "|    100002|       Closed|     currency 1|    Credit card|\n",
            "|    100002|       Closed|     currency 1|    Credit card|\n",
            "|    100002|       Closed|     currency 1|Consumer credit|\n",
            "|    100002|       Closed|     currency 1|Consumer credit|\n",
            "|    100002|       Closed|     currency 1|Consumer credit|\n",
            "|    100002|       Active|     currency 1|    Credit card|\n",
            "|    100002|       Active|     currency 1|Consumer credit|\n",
            "|    100002|       Closed|     currency 1|    Credit card|\n",
            "+----------+-------------+---------------+---------------+\n",
            "\n"
          ]
        }
      ]
    },
    {
      "cell_type": "markdown",
      "source": [
        "Analisando a tabela acima vemos que cada coluna categórica possui domínios variados."
      ],
      "metadata": {
        "id": "ThbWXT0pLQD7"
      }
    },
    {
      "cell_type": "markdown",
      "source": [
        "###Metodologia"
      ],
      "metadata": {
        "id": "UwwHdZDFNmFs"
      }
    },
    {
      "cell_type": "markdown",
      "source": [
        "- Como o foco principal é enriquecer a tabela de treino application_train com mais colunas, de modo que explique melhor as transações que determinado indivíduo fez, temos que agrupar as categorias em colunas.\n",
        "\n",
        "- Para isso vamos criar colunas agregadas como:\n",
        "  - SUM(CASE WHEN CREDIT_ACTIVE = 'Closed' THEN 1 ELSE 0 END)\n",
        "  \n",
        "- A rotina acima cria uma coluna agregada que quando o crédito for igual a 'Closed' então conta como 1 senão é zero, e como está dentro de um SUM, cada vez que achar um 'Closed' vai somar 1. Com isso eu crio uma variável que pode ter vários créditos em situação 'Closed'.  Após isso, posso pegar esse dado e juntar com a tabela application_train, pois agora eu só tenho 1 linha para um único ID e não mais várias linhas.\n",
        "\n",
        "- Com isso, podemos aplicar o máximo de conceitos de negócio, de combinação de conceitos e criar variáveis massivamente, ou seja, podemos criar um books de variáveis, com foco de aumentar o poder preditivo na parte de modelagem.\n"
      ],
      "metadata": {
        "id": "NcLYXWtTxvr9"
      }
    },
    {
      "cell_type": "markdown",
      "source": [
        "###Identificando todos domínios das variáveis categóricas da tabela 'bureau':\n",
        "  - CREDIT_ACTIVE\n",
        "  - CREDIT_CURRENCY\n",
        "  - CREDIT_TYPE"
      ],
      "metadata": {
        "id": "OtAzvd42TPFl"
      }
    },
    {
      "cell_type": "code",
      "source": [
        "spark.sql(\"\"\"\n",
        "SELECT\n",
        "CREDIT_ACTIVE,\n",
        "Count(*)\n",
        "FROM\n",
        "bureau\n",
        "GROUP BY CREDIT_ACTIVE\n",
        "ORDER BY Count(*)\n",
        "\"\"\").show()"
      ],
      "metadata": {
        "colab": {
          "base_uri": "https://localhost:8080/"
        },
        "id": "okoy52_PdXdl",
        "outputId": "d86a5301-288e-4363-f02f-5234c685e9b0"
      },
      "execution_count": null,
      "outputs": [
        {
          "output_type": "stream",
          "name": "stdout",
          "text": [
            "+-------------+--------+\n",
            "|CREDIT_ACTIVE|count(1)|\n",
            "+-------------+--------+\n",
            "|     Bad debt|      21|\n",
            "|         Sold|    6527|\n",
            "|       Active|  630607|\n",
            "|       Closed| 1079273|\n",
            "+-------------+--------+\n",
            "\n"
          ]
        }
      ]
    },
    {
      "cell_type": "code",
      "source": [
        "spark.sql(\"\"\"\n",
        "SELECT\n",
        "CREDIT_TYPE,\n",
        "Count(*)\n",
        "FROM\n",
        "bureau\n",
        "GROUP BY\n",
        "CREDIT_TYPE\n",
        "ORDER BY Count(*)\n",
        "\"\"\").show(truncate=False)"
      ],
      "metadata": {
        "colab": {
          "base_uri": "https://localhost:8080/",
          "height": 477
        },
        "id": "QS_sI65xvMj-",
        "outputId": "517cff9b-b06e-4cd3-ded2-aa53064ac9b5"
      },
      "execution_count": null,
      "outputs": [
        {
          "output_type": "error",
          "ename": "AnalysisException",
          "evalue": "ignored",
          "traceback": [
            "\u001b[0;31m---------------------------------------------------------------------------\u001b[0m",
            "\u001b[0;31mAnalysisException\u001b[0m                         Traceback (most recent call last)",
            "\u001b[0;32m<ipython-input-49-2d0784bbe6f7>\u001b[0m in \u001b[0;36m<cell line: 1>\u001b[0;34m()\u001b[0m\n\u001b[0;32m----> 1\u001b[0;31m spark.sql(\"\"\"\n\u001b[0m\u001b[1;32m      2\u001b[0m \u001b[0mSELECT\u001b[0m\u001b[0;34m\u001b[0m\u001b[0;34m\u001b[0m\u001b[0m\n\u001b[1;32m      3\u001b[0m \u001b[0mCREDIT_TYPE\u001b[0m\u001b[0;34m,\u001b[0m\u001b[0;34m\u001b[0m\u001b[0;34m\u001b[0m\u001b[0m\n\u001b[1;32m      4\u001b[0m \u001b[0mCount\u001b[0m\u001b[0;34m(\u001b[0m\u001b[0;34m*\u001b[0m\u001b[0;34m)\u001b[0m\u001b[0;34m\u001b[0m\u001b[0;34m\u001b[0m\u001b[0m\n\u001b[1;32m      5\u001b[0m \u001b[0mFROM\u001b[0m\u001b[0;34m\u001b[0m\u001b[0;34m\u001b[0m\u001b[0m\n",
            "\u001b[0;32m/usr/local/lib/python3.10/dist-packages/pyspark/sql/session.py\u001b[0m in \u001b[0;36msql\u001b[0;34m(self, sqlQuery, args, **kwargs)\u001b[0m\n\u001b[1;32m   1629\u001b[0m                     \u001b[0;34m[\u001b[0m\u001b[0m_to_java_column\u001b[0m\u001b[0;34m(\u001b[0m\u001b[0mlit\u001b[0m\u001b[0;34m(\u001b[0m\u001b[0mv\u001b[0m\u001b[0;34m)\u001b[0m\u001b[0;34m)\u001b[0m \u001b[0;32mfor\u001b[0m \u001b[0mv\u001b[0m \u001b[0;32min\u001b[0m \u001b[0;34m(\u001b[0m\u001b[0margs\u001b[0m \u001b[0;32mor\u001b[0m \u001b[0;34m[\u001b[0m\u001b[0;34m]\u001b[0m\u001b[0;34m)\u001b[0m\u001b[0;34m]\u001b[0m\u001b[0;34m\u001b[0m\u001b[0;34m\u001b[0m\u001b[0m\n\u001b[1;32m   1630\u001b[0m                 )\n\u001b[0;32m-> 1631\u001b[0;31m             \u001b[0;32mreturn\u001b[0m \u001b[0mDataFrame\u001b[0m\u001b[0;34m(\u001b[0m\u001b[0mself\u001b[0m\u001b[0;34m.\u001b[0m\u001b[0m_jsparkSession\u001b[0m\u001b[0;34m.\u001b[0m\u001b[0msql\u001b[0m\u001b[0;34m(\u001b[0m\u001b[0msqlQuery\u001b[0m\u001b[0;34m,\u001b[0m \u001b[0mlitArgs\u001b[0m\u001b[0;34m)\u001b[0m\u001b[0;34m,\u001b[0m \u001b[0mself\u001b[0m\u001b[0;34m)\u001b[0m\u001b[0;34m\u001b[0m\u001b[0;34m\u001b[0m\u001b[0m\n\u001b[0m\u001b[1;32m   1632\u001b[0m         \u001b[0;32mfinally\u001b[0m\u001b[0;34m:\u001b[0m\u001b[0;34m\u001b[0m\u001b[0;34m\u001b[0m\u001b[0m\n\u001b[1;32m   1633\u001b[0m             \u001b[0;32mif\u001b[0m \u001b[0mlen\u001b[0m\u001b[0;34m(\u001b[0m\u001b[0mkwargs\u001b[0m\u001b[0;34m)\u001b[0m \u001b[0;34m>\u001b[0m \u001b[0;36m0\u001b[0m\u001b[0;34m:\u001b[0m\u001b[0;34m\u001b[0m\u001b[0;34m\u001b[0m\u001b[0m\n",
            "\u001b[0;32m/usr/local/lib/python3.10/dist-packages/py4j/java_gateway.py\u001b[0m in \u001b[0;36m__call__\u001b[0;34m(self, *args)\u001b[0m\n\u001b[1;32m   1320\u001b[0m \u001b[0;34m\u001b[0m\u001b[0m\n\u001b[1;32m   1321\u001b[0m         \u001b[0manswer\u001b[0m \u001b[0;34m=\u001b[0m \u001b[0mself\u001b[0m\u001b[0;34m.\u001b[0m\u001b[0mgateway_client\u001b[0m\u001b[0;34m.\u001b[0m\u001b[0msend_command\u001b[0m\u001b[0;34m(\u001b[0m\u001b[0mcommand\u001b[0m\u001b[0;34m)\u001b[0m\u001b[0;34m\u001b[0m\u001b[0;34m\u001b[0m\u001b[0m\n\u001b[0;32m-> 1322\u001b[0;31m         return_value = get_return_value(\n\u001b[0m\u001b[1;32m   1323\u001b[0m             answer, self.gateway_client, self.target_id, self.name)\n\u001b[1;32m   1324\u001b[0m \u001b[0;34m\u001b[0m\u001b[0m\n",
            "\u001b[0;32m/usr/local/lib/python3.10/dist-packages/pyspark/errors/exceptions/captured.py\u001b[0m in \u001b[0;36mdeco\u001b[0;34m(*a, **kw)\u001b[0m\n\u001b[1;32m    183\u001b[0m                 \u001b[0;31m# Hide where the exception came from that shows a non-Pythonic\u001b[0m\u001b[0;34m\u001b[0m\u001b[0;34m\u001b[0m\u001b[0m\n\u001b[1;32m    184\u001b[0m                 \u001b[0;31m# JVM exception message.\u001b[0m\u001b[0;34m\u001b[0m\u001b[0;34m\u001b[0m\u001b[0m\n\u001b[0;32m--> 185\u001b[0;31m                 \u001b[0;32mraise\u001b[0m \u001b[0mconverted\u001b[0m \u001b[0;32mfrom\u001b[0m \u001b[0;32mNone\u001b[0m\u001b[0;34m\u001b[0m\u001b[0;34m\u001b[0m\u001b[0m\n\u001b[0m\u001b[1;32m    186\u001b[0m             \u001b[0;32melse\u001b[0m\u001b[0;34m:\u001b[0m\u001b[0;34m\u001b[0m\u001b[0;34m\u001b[0m\u001b[0m\n\u001b[1;32m    187\u001b[0m                 \u001b[0;32mraise\u001b[0m\u001b[0;34m\u001b[0m\u001b[0;34m\u001b[0m\u001b[0m\n",
            "\u001b[0;31mAnalysisException\u001b[0m: [TABLE_OR_VIEW_NOT_FOUND] The table or view `bureau` cannot be found. Verify the spelling and correctness of the schema and catalog.\nIf you did not qualify the name with a schema, verify the current_schema() output, or qualify the name with the correct schema and catalog.\nTo tolerate the error on drop use DROP VIEW IF EXISTS or DROP TABLE IF EXISTS.; line 6 pos 0;\n'Sort [count(1) ASC NULLS FIRST], true\n+- 'Aggregate ['CREDIT_TYPE], ['CREDIT_TYPE, unresolvedalias(count(1), None)]\n   +- 'UnresolvedRelation [bureau], [], false\n"
          ]
        }
      ]
    },
    {
      "cell_type": "code",
      "source": [
        "spark.sql(\"\"\"\n",
        "SELECT\n",
        "CREDIT_CURRENCY,\n",
        "Count(*)\n",
        "FROM\n",
        "bureau\n",
        "GROUP BY CREDIT_CURRENCY\n",
        "ORDER BY Count(*)\n",
        "\"\"\").show()"
      ],
      "metadata": {
        "colab": {
          "base_uri": "https://localhost:8080/"
        },
        "id": "x5oFlkCkhjdc",
        "outputId": "5ea59f27-74a8-4f16-807e-bd94c3907999"
      },
      "execution_count": null,
      "outputs": [
        {
          "output_type": "stream",
          "name": "stdout",
          "text": [
            "+---------------+--------+\n",
            "|CREDIT_CURRENCY|count(1)|\n",
            "+---------------+--------+\n",
            "|     currency 4|      10|\n",
            "|     currency 3|     174|\n",
            "|     currency 2|    1224|\n",
            "|     currency 1| 1715020|\n",
            "+---------------+--------+\n",
            "\n"
          ]
        }
      ]
    },
    {
      "cell_type": "markdown",
      "source": [
        "###Transformando as variáveis categóricas em variáveis numéricas"
      ],
      "metadata": {
        "id": "p1wKVSrvqvee"
      }
    },
    {
      "cell_type": "markdown",
      "source": [
        "- Agregando apenas as variáveis categóricas e seus domínios"
      ],
      "metadata": {
        "id": "X8fD0uB6jrJq"
      }
    },
    {
      "cell_type": "code",
      "source": [
        "df_bureau_cat = spark.sql(\"\"\"\n",
        "SELECT\n",
        "  SK_ID_CURR,\n",
        "  SUM(CASE WHEN CREDIT_ACTIVE = 'Closed' THEN 1 ELSE 0 END) AS qtd_credit_active_closed,\n",
        "  SUM(CASE WHEN CREDIT_ACTIVE = 'Active' THEN 1 ELSE 0 END) AS qtd_credit_active_active,\n",
        "  SUM(CASE WHEN CREDIT_ACTIVE = 'Bad debt' THEN 1 ELSE 0 END) AS qtd_credit_active_bad_debt,\n",
        "  SUM(CASE WHEN CREDIT_ACTIVE = 'Sold' THEN 1 ELSE 0 END) AS qtd_credit_active_sold,\n",
        "  SUM(CASE WHEN CREDIT_CURRENCY = 'currency 4' THEN 1 ELSE 0 END) AS qtd_credit_currency_4,\n",
        "  SUM(CASE WHEN CREDIT_CURRENCY = 'currency 3' THEN 1 ELSE 0 END) AS qtd_credit_currency_3,\n",
        "  SUM(CASE WHEN CREDIT_CURRENCY = 'currency 2' THEN 1 ELSE 0 END) AS qtd_credit_currency_2,\n",
        "  SUM(CASE WHEN CREDIT_CURRENCY = 'currency 1' THEN 1 ELSE 0 END) AS qtd_credit_currency_1,\n",
        "  SUM(CASE WHEN CREDIT_Type = 'Mobile operator loan' THEN 1 ELSE 0 END) AS qtd_credit_type_mobile_operator_loan,\n",
        "  SUM(CASE WHEN CREDIT_Type = 'Interbank credit' THEN 1 ELSE 0 END) AS qtd_credit_type_interbank_credit,\n",
        "  SUM(CASE WHEN CREDIT_Type = 'Loan for purchase of shares (margin lending)' THEN 1 ELSE 0 END) AS qtd_credit_type_loan_for_purchase_of_shares,\n",
        "  SUM(CASE WHEN CREDIT_Type = 'Loan for the purchase of equipment' THEN 1 ELSE 0 END) AS qtd_credit_type_mobile_operator_loan_for_the_purchase_of_equipament,\n",
        "  SUM(CASE WHEN CREDIT_Type = 'Real estate loan' THEN 1 ELSE 0 END) AS qtd_credit_type_real_estate_loan,\n",
        "  SUM(CASE WHEN CREDIT_Type = 'Cash loan (non-earmarked)' THEN 1 ELSE 0 END) AS qtd_credit_type_cash_loan,\n",
        "  SUM(CASE WHEN CREDIT_Type = 'Loan for working capital replenishment' THEN 1 ELSE 0 END) AS qtd_credit_type_loan_for_working_capital_replenishment,\n",
        "  SUM(CASE WHEN CREDIT_Type = 'Unknown type of loan' THEN 1 ELSE 0 END) AS qtd_credit_type_unknown_type_of_loan,\n",
        "  SUM(CASE WHEN CREDIT_Type = 'Another type of loan' THEN 1 ELSE 0 END) AS qtd_credit_type_another_type_of_loan,\n",
        "  SUM(CASE WHEN CREDIT_Type = 'Loan for business development' THEN 1 ELSE 0 END) AS qtd_credit_type_loan_for_business_development,\n",
        "  SUM(CASE WHEN CREDIT_Type = 'Microloan' THEN 1 ELSE 0 END) AS qtd_credit_type_microloan,\n",
        "  SUM(CASE WHEN CREDIT_Type = 'Mortgage' THEN 1 ELSE 0 END) AS qtd_credit_type_mortgage,\n",
        "  SUM(CASE WHEN CREDIT_Type = 'Car loan ' THEN 1 ELSE 0 END) AS qtd_credit_type_car_loan,\n",
        "  SUM(CASE WHEN CREDIT_Type = 'Credit card' THEN 1 ELSE 0 END) AS qtd_credit_type_real_estate_loan,\n",
        "  SUM(CASE WHEN CREDIT_Type = 'Consumer credit' THEN 1 ELSE 0 END) AS qtd_credit_type_real_estate_loan,\n",
        "  MIN(CASE WHEN CREDIT_ACTIVE = 'Closed' THEN 1 ELSE 0 END) AS min_credit_active_closed,\n",
        "  MIN(CASE WHEN CREDIT_ACTIVE = 'Active' THEN 1 ELSE 0 END) AS min_credit_active_active,\n",
        "  MIN(CASE WHEN CREDIT_ACTIVE = 'Bad debt' THEN 1 ELSE 0 END) AS min_credit_active_bad_debt,\n",
        "  MIN(CASE WHEN CREDIT_ACTIVE = 'Sold' THEN 1 ELSE 0 END) AS min_credit_active_sold,\n",
        "  MIN(CASE WHEN CREDIT_CURRENCY = 'currency 4' THEN 1 ELSE 0 END) AS min_credit_currency_4,\n",
        "  MIN(CASE WHEN CREDIT_CURRENCY = 'currency 3' THEN 1 ELSE 0 END) AS min_credit_currency_3,\n",
        "  MIN(CASE WHEN CREDIT_CURRENCY = 'currency 2' THEN 1 ELSE 0 END) AS min_credit_currency_2,\n",
        "  MIN(CASE WHEN CREDIT_CURRENCY = 'currency 1' THEN 1 ELSE 0 END) AS min_credit_currency_1,\n",
        "  MIN(CASE WHEN CREDIT_Type = 'Mobile operator loan' THEN 1 ELSE 0 END) AS min_credit_type_mobile_operator_loan,\n",
        "  MIN(CASE WHEN CREDIT_Type = 'Interbank credit' THEN 1 ELSE 0 END) AS min_credit_type_interbank_credit,\n",
        "  MIN(CASE WHEN CREDIT_Type = 'Loan for purchase of shares (margin lending)' THEN 1 ELSE 0 END) AS min_credit_type_loan_for_purchase_of_shares,\n",
        "  MIN(CASE WHEN CREDIT_Type = 'Loan for the purchase of equipment' THEN 1 ELSE 0 END) AS min_credit_type_mobile_operator_loan_for_the_purchase_of_equipament,\n",
        "  MIN(CASE WHEN CREDIT_Type = 'Real estate loan' THEN 1 ELSE 0 END) AS min_credit_type_real_estate_loan,\n",
        "  MIN(CASE WHEN CREDIT_Type = 'Cash loan (non-earmarked)' THEN 1 ELSE 0 END) AS min_credit_type_cash_loan,\n",
        "  MIN(CASE WHEN CREDIT_Type = 'Loan for working capital replenishment' THEN 1 ELSE 0 END) AS min_credit_type_loan_for_working_capital_replenishment,\n",
        "  MIN(CASE WHEN CREDIT_Type = 'Unknown type of loan' THEN 1 ELSE 0 END) AS min_credit_type_unknown_type_of_loan,\n",
        "  MIN(CASE WHEN CREDIT_Type = 'Another type of loan' THEN 1 ELSE 0 END) AS min_credit_type_another_type_of_loan,\n",
        "  MIN(CASE WHEN CREDIT_Type = 'Loan for business development' THEN 1 ELSE 0 END) AS min_credit_type_loan_for_business_development,\n",
        "  MIN(CASE WHEN CREDIT_Type = 'Microloan' THEN 1 ELSE 0 END) AS min_credit_type_microloan,\n",
        "  MIN(CASE WHEN CREDIT_Type = 'Mortgage' THEN 1 ELSE 0 END) AS min_credit_type_mortgage,\n",
        "  MIN(CASE WHEN CREDIT_Type = 'Car loan ' THEN 1 ELSE 0 END) AS min_credit_type_car_loan,\n",
        "  MIN(CASE WHEN CREDIT_Type = 'Credit card' THEN 1 ELSE 0 END) AS min_credit_type_real_estate_loan,\n",
        "  MIN(CASE WHEN CREDIT_Type = 'Consumer credit' THEN 1 ELSE 0 END) AS min_credit_type_real_estate_loan,\n",
        "  MAX(CASE WHEN CREDIT_ACTIVE = 'Closed' THEN 1 ELSE 0 END) AS max_credit_active_closed,\n",
        "  MAX(CASE WHEN CREDIT_ACTIVE = 'Active' THEN 1 ELSE 0 END) AS max_credit_active_active,\n",
        "  MAX(CASE WHEN CREDIT_ACTIVE = 'Bad debt' THEN 1 ELSE 0 END) AS max_credit_active_bad_debt,\n",
        "  MAX(CASE WHEN CREDIT_ACTIVE = 'Sold' THEN 1 ELSE 0 END) AS max_credit_active_sold,\n",
        "  MAX(CASE WHEN CREDIT_CURRENCY = 'currency 4' THEN 1 ELSE 0 END) AS max_credit_currency_4,\n",
        "  MAX(CASE WHEN CREDIT_CURRENCY = 'currency 3' THEN 1 ELSE 0 END) AS max_credit_currency_3,\n",
        "  MAX(CASE WHEN CREDIT_CURRENCY = 'currency 2' THEN 1 ELSE 0 END) AS max_credit_currency_2,\n",
        "  MAX(CASE WHEN CREDIT_CURRENCY = 'currency 1' THEN 1 ELSE 0 END) AS max_credit_currency_1,\n",
        "  MAX(CASE WHEN CREDIT_Type = 'Mobile operator loan' THEN 1 ELSE 0 END) AS max_credit_type_mobile_operator_loan,\n",
        "  MAX(CASE WHEN CREDIT_Type = 'Interbank credit' THEN 1 ELSE 0 END) AS max_credit_type_interbank_credit,\n",
        "  MAX(CASE WHEN CREDIT_Type = 'Loan for purchase of shares (margin lending)' THEN 1 ELSE 0 END) AS max_credit_type_loan_for_purchase_of_shares,\n",
        "  MAX(CASE WHEN CREDIT_Type = 'Loan for the purchase of equipment' THEN 1 ELSE 0 END) AS max_credit_type_mobile_operator_loan_for_the_purchase_of_equipament,\n",
        "  MAX(CASE WHEN CREDIT_Type = 'Real estate loan' THEN 1 ELSE 0 END) AS max_credit_type_real_estate_loan,\n",
        "  MAX(CASE WHEN CREDIT_Type = 'Cash loan (non-earmarked)' THEN 1 ELSE 0 END) AS max_credit_type_cash_loan,\n",
        "  MAX(CASE WHEN CREDIT_Type = 'Loan for working capital replenishment' THEN 1 ELSE 0 END) AS max_credit_type_loan_for_working_capital_replenishment,\n",
        "  MAX(CASE WHEN CREDIT_Type = 'Unknown type of loan' THEN 1 ELSE 0 END) AS max_credit_type_unknown_type_of_loan,\n",
        "  MAX(CASE WHEN CREDIT_Type = 'Another type of loan' THEN 1 ELSE 0 END) AS max_credit_type_another_type_of_loan,\n",
        "  MAX(CASE WHEN CREDIT_Type = 'Loan for business development' THEN 1 ELSE 0 END) AS max_credit_type_loan_for_business_development,\n",
        "  MAX(CASE WHEN CREDIT_Type = 'Microloan' THEN 1 ELSE 0 END) AS max_credit_type_microloan,\n",
        "  MAX(CASE WHEN CREDIT_Type = 'Mortgage' THEN 1 ELSE 0 END) AS max_credit_type_mortgage,\n",
        "  MAX(CASE WHEN CREDIT_Type = 'Car loan ' THEN 1 ELSE 0 END) AS max_credit_type_car_loan,\n",
        "  MAX(CASE WHEN CREDIT_Type = 'Credit card' THEN 1 ELSE 0 END) AS max_credit_type_real_estate_loan,\n",
        "  MAX(CASE WHEN CREDIT_Type = 'Consumer credit' THEN 1 ELSE 0 END) AS max_credit_type_real_estate_loan,\n",
        "  AVG(CASE WHEN CREDIT_ACTIVE = 'Closed' THEN 1 ELSE 0 END) AS avg_credit_active_closed,\n",
        "  AVG(CASE WHEN CREDIT_ACTIVE = 'Active' THEN 1 ELSE 0 END) AS avg_credit_active_active,\n",
        "  AVG(CASE WHEN CREDIT_ACTIVE = 'Bad debt' THEN 1 ELSE 0 END) AS avg_credit_active_bad_debt,\n",
        "  AVG(CASE WHEN CREDIT_ACTIVE = 'Sold' THEN 1 ELSE 0 END) AS avg_credit_active_sold,\n",
        "  AVG(CASE WHEN CREDIT_CURRENCY = 'currency 4' THEN 1 ELSE 0 END) AS avg_credit_currency_4,\n",
        "  AVG(CASE WHEN CREDIT_CURRENCY = 'currency 3' THEN 1 ELSE 0 END) AS avg_credit_currency_3,\n",
        "  AVG(CASE WHEN CREDIT_CURRENCY = 'currency 2' THEN 1 ELSE 0 END) AS avg_credit_currency_2,\n",
        "  AVG(CASE WHEN CREDIT_CURRENCY = 'currency 1' THEN 1 ELSE 0 END) AS avg_credit_currency_1,\n",
        "  AVG(CASE WHEN CREDIT_Type = 'Mobile operator loan' THEN 1 ELSE 0 END) AS avg_credit_type_mobile_operator_loan,\n",
        "  AVG(CASE WHEN CREDIT_Type = 'Interbank credit' THEN 1 ELSE 0 END) AS avg_credit_type_interbank_credit,\n",
        "  AVG(CASE WHEN CREDIT_Type = 'Loan for purchase of shares (margin lending)' THEN 1 ELSE 0 END) AS avg_credit_type_loan_for_purchase_of_shares,\n",
        "  AVG(CASE WHEN CREDIT_Type = 'Loan for the purchase of equipment' THEN 1 ELSE 0 END) AS avg_credit_type_mobile_operator_loan_for_the_purchase_of_equipament,\n",
        "  AVG(CASE WHEN CREDIT_Type = 'Real estate loan' THEN 1 ELSE 0 END) AS avg_credit_type_real_estate_loan,\n",
        "  AVG(CASE WHEN CREDIT_Type = 'Cash loan (non-earmarked)' THEN 1 ELSE 0 END) AS avg_credit_type_cash_loan,\n",
        "  AVG(CASE WHEN CREDIT_Type = 'Loan for working capital replenishment' THEN 1 ELSE 0 END) AS avg_credit_type_loan_for_working_capital_replenishment,\n",
        "  AVG(CASE WHEN CREDIT_Type = 'Unknown type of loan' THEN 1 ELSE 0 END) AS avg_credit_type_unknown_type_of_loan,\n",
        "  AVG(CASE WHEN CREDIT_Type = 'Another type of loan' THEN 1 ELSE 0 END) AS avg_credit_type_another_type_of_loan,\n",
        "  AVG(CASE WHEN CREDIT_Type = 'Loan for business development' THEN 1 ELSE 0 END) AS avg_credit_type_loan_for_business_development,\n",
        "  AVG(CASE WHEN CREDIT_Type = 'Microloan' THEN 1 ELSE 0 END) AS avg_credit_type_microloan,\n",
        "  AVG(CASE WHEN CREDIT_Type = 'Mortgage' THEN 1 ELSE 0 END) AS avg_credit_type_mortgage,\n",
        "  AVG(CASE WHEN CREDIT_Type = 'Car loan ' THEN 1 ELSE 0 END) AS avg_credit_type_car_loan,\n",
        "  AVG(CASE WHEN CREDIT_Type = 'Credit card' THEN 1 ELSE 0 END) AS avg_credit_type_real_estate_loan,\n",
        "  AVG(CASE WHEN CREDIT_Type = 'Consumer credit' THEN 1 ELSE 0 END) AS avg_credit_type_real_estate_loan\n",
        "FROM\n",
        "  bureau\n",
        "GROUP BY\n",
        "  SK_ID_CURR\n",
        "\"\"\")"
      ],
      "metadata": {
        "id": "gAPizziWl0Cv"
      },
      "execution_count": null,
      "outputs": []
    },
    {
      "cell_type": "markdown",
      "source": [
        "Após criar o dataframe df_bureau_cat somente com agregações de variáveis categóricas, podemos criar outros dataframes com agregações entre as variáveis categóricas e numéricas. As variáveis numéricas da tabela bureau são:\n",
        "\n",
        "- AMT_CREDIT_MAX_OVERDUE\n",
        "- CNT_CREDIT_PROLONG\n",
        "- AMT_CREDIT_SUM\n",
        "- AMT_CREDIT_SUM_DEBT\n",
        "- AMT_CREDIT_SUM_LIMIT\n",
        "- AMT_CREDIT_SUM_OVERDUE\n",
        "- AMT_ANNUITY\n",
        "\n",
        "OBS: Para automatizar a criação de cada linha de agregação vamos desenvolver uma rotina que gera o texto de agregação. Após, basta susbstiruir na requesição SQL."
      ],
      "metadata": {
        "id": "fS2iEmcVkP9M"
      }
    },
    {
      "cell_type": "markdown",
      "source": [
        "###Agregando cada variável numérica a cada variável categórica e seus domínios\n"
      ],
      "metadata": {
        "id": "norih1QiqheF"
      }
    },
    {
      "cell_type": "markdown",
      "source": [
        "1- Considerando a variável categórica CREDIT_ACTIVE\n"
      ],
      "metadata": {
        "id": "nLwVYLqmvKXl"
      }
    },
    {
      "cell_type": "code",
      "source": [
        "# Criando as agregações\n",
        "\n",
        "agg = ['SUM', 'MIN', 'MAX', 'AVG']\n",
        "\n",
        "# Criando a variável categórica\n",
        "\n",
        "cat = ['CREDIT_ACTIVE']\n",
        "\n",
        "# Criando os domínios\n",
        "\n",
        "dominios_cat = ['Active', 'Closed', 'Bad debt', 'Sold']\n",
        "\n",
        "# Criando variável numérica\n",
        "\n",
        "var_num = ['AMT_CREDIT_MAX_OVERDUE', 'CNT_CREDIT_PROLONG', 'AMT_CREDIT_SUM', \\\n",
        "           'AMT_CREDIT_SUM_DEBT', 'AMT_CREDIT_SUM_LIMIT', \\\n",
        "           'AMT_CREDIT_SUM_OVERDUE', 'AMT_ANNUITY']"
      ],
      "metadata": {
        "id": "2klZKt_sq8EY"
      },
      "execution_count": null,
      "outputs": []
    },
    {
      "cell_type": "code",
      "source": [
        "# Criando uma rotina que gera o texto da função de agregação\n",
        "\n",
        "for ag in agg:\n",
        "  for cate in cat:\n",
        "    for dominio in dominios_cat:\n",
        "      for var_n in var_num:\n",
        "        print(ag +'(CASE WHEN ' + cate + '= ' + \"'\" + dominio + \"'\" + \" THEN \" + var_n + \" ELSE 0 END) AS \" + ag + \"_\" + cate + \"_\" + dominio.replace(\" \", \"_\") + \"_\" + var_n + ',')\n",
        "\n",
        "    #SUM(CASE WHEN CREDIT_Type = 'Real estate loan' THEN 1 ELSE 0 END) AS qtd_credit_type_real_estate_loan"
      ],
      "metadata": {
        "colab": {
          "base_uri": "https://localhost:8080/"
        },
        "id": "Ewdykm8lqqJG",
        "outputId": "11fe447a-04f6-4aaf-e25b-51660171b10b"
      },
      "execution_count": null,
      "outputs": [
        {
          "output_type": "stream",
          "name": "stdout",
          "text": [
            "SUM(CASE WHEN CREDIT_ACTIVE= 'Active' THEN AMT_CREDIT_MAX_OVERDUE ELSE 0 END) AS SUM_CREDIT_ACTIVE_Active_AMT_CREDIT_MAX_OVERDUE,\n",
            "SUM(CASE WHEN CREDIT_ACTIVE= 'Active' THEN CNT_CREDIT_PROLONG ELSE 0 END) AS SUM_CREDIT_ACTIVE_Active_CNT_CREDIT_PROLONG,\n",
            "SUM(CASE WHEN CREDIT_ACTIVE= 'Active' THEN AMT_CREDIT_SUM ELSE 0 END) AS SUM_CREDIT_ACTIVE_Active_AMT_CREDIT_SUM,\n",
            "SUM(CASE WHEN CREDIT_ACTIVE= 'Active' THEN AMT_CREDIT_SUM_DEBT ELSE 0 END) AS SUM_CREDIT_ACTIVE_Active_AMT_CREDIT_SUM_DEBT,\n",
            "SUM(CASE WHEN CREDIT_ACTIVE= 'Active' THEN AMT_CREDIT_SUM_LIMIT ELSE 0 END) AS SUM_CREDIT_ACTIVE_Active_AMT_CREDIT_SUM_LIMIT,\n",
            "SUM(CASE WHEN CREDIT_ACTIVE= 'Active' THEN AMT_CREDIT_SUM_OVERDUE ELSE 0 END) AS SUM_CREDIT_ACTIVE_Active_AMT_CREDIT_SUM_OVERDUE,\n",
            "SUM(CASE WHEN CREDIT_ACTIVE= 'Active' THEN AMT_ANNUITY ELSE 0 END) AS SUM_CREDIT_ACTIVE_Active_AMT_ANNUITY,\n",
            "SUM(CASE WHEN CREDIT_ACTIVE= 'Closed' THEN AMT_CREDIT_MAX_OVERDUE ELSE 0 END) AS SUM_CREDIT_ACTIVE_Closed_AMT_CREDIT_MAX_OVERDUE,\n",
            "SUM(CASE WHEN CREDIT_ACTIVE= 'Closed' THEN CNT_CREDIT_PROLONG ELSE 0 END) AS SUM_CREDIT_ACTIVE_Closed_CNT_CREDIT_PROLONG,\n",
            "SUM(CASE WHEN CREDIT_ACTIVE= 'Closed' THEN AMT_CREDIT_SUM ELSE 0 END) AS SUM_CREDIT_ACTIVE_Closed_AMT_CREDIT_SUM,\n",
            "SUM(CASE WHEN CREDIT_ACTIVE= 'Closed' THEN AMT_CREDIT_SUM_DEBT ELSE 0 END) AS SUM_CREDIT_ACTIVE_Closed_AMT_CREDIT_SUM_DEBT,\n",
            "SUM(CASE WHEN CREDIT_ACTIVE= 'Closed' THEN AMT_CREDIT_SUM_LIMIT ELSE 0 END) AS SUM_CREDIT_ACTIVE_Closed_AMT_CREDIT_SUM_LIMIT,\n",
            "SUM(CASE WHEN CREDIT_ACTIVE= 'Closed' THEN AMT_CREDIT_SUM_OVERDUE ELSE 0 END) AS SUM_CREDIT_ACTIVE_Closed_AMT_CREDIT_SUM_OVERDUE,\n",
            "SUM(CASE WHEN CREDIT_ACTIVE= 'Closed' THEN AMT_ANNUITY ELSE 0 END) AS SUM_CREDIT_ACTIVE_Closed_AMT_ANNUITY,\n",
            "SUM(CASE WHEN CREDIT_ACTIVE= 'Bad debt' THEN AMT_CREDIT_MAX_OVERDUE ELSE 0 END) AS SUM_CREDIT_ACTIVE_Bad_debt_AMT_CREDIT_MAX_OVERDUE,\n",
            "SUM(CASE WHEN CREDIT_ACTIVE= 'Bad debt' THEN CNT_CREDIT_PROLONG ELSE 0 END) AS SUM_CREDIT_ACTIVE_Bad_debt_CNT_CREDIT_PROLONG,\n",
            "SUM(CASE WHEN CREDIT_ACTIVE= 'Bad debt' THEN AMT_CREDIT_SUM ELSE 0 END) AS SUM_CREDIT_ACTIVE_Bad_debt_AMT_CREDIT_SUM,\n",
            "SUM(CASE WHEN CREDIT_ACTIVE= 'Bad debt' THEN AMT_CREDIT_SUM_DEBT ELSE 0 END) AS SUM_CREDIT_ACTIVE_Bad_debt_AMT_CREDIT_SUM_DEBT,\n",
            "SUM(CASE WHEN CREDIT_ACTIVE= 'Bad debt' THEN AMT_CREDIT_SUM_LIMIT ELSE 0 END) AS SUM_CREDIT_ACTIVE_Bad_debt_AMT_CREDIT_SUM_LIMIT,\n",
            "SUM(CASE WHEN CREDIT_ACTIVE= 'Bad debt' THEN AMT_CREDIT_SUM_OVERDUE ELSE 0 END) AS SUM_CREDIT_ACTIVE_Bad_debt_AMT_CREDIT_SUM_OVERDUE,\n",
            "SUM(CASE WHEN CREDIT_ACTIVE= 'Bad debt' THEN AMT_ANNUITY ELSE 0 END) AS SUM_CREDIT_ACTIVE_Bad_debt_AMT_ANNUITY,\n",
            "SUM(CASE WHEN CREDIT_ACTIVE= 'Sold' THEN AMT_CREDIT_MAX_OVERDUE ELSE 0 END) AS SUM_CREDIT_ACTIVE_Sold_AMT_CREDIT_MAX_OVERDUE,\n",
            "SUM(CASE WHEN CREDIT_ACTIVE= 'Sold' THEN CNT_CREDIT_PROLONG ELSE 0 END) AS SUM_CREDIT_ACTIVE_Sold_CNT_CREDIT_PROLONG,\n",
            "SUM(CASE WHEN CREDIT_ACTIVE= 'Sold' THEN AMT_CREDIT_SUM ELSE 0 END) AS SUM_CREDIT_ACTIVE_Sold_AMT_CREDIT_SUM,\n",
            "SUM(CASE WHEN CREDIT_ACTIVE= 'Sold' THEN AMT_CREDIT_SUM_DEBT ELSE 0 END) AS SUM_CREDIT_ACTIVE_Sold_AMT_CREDIT_SUM_DEBT,\n",
            "SUM(CASE WHEN CREDIT_ACTIVE= 'Sold' THEN AMT_CREDIT_SUM_LIMIT ELSE 0 END) AS SUM_CREDIT_ACTIVE_Sold_AMT_CREDIT_SUM_LIMIT,\n",
            "SUM(CASE WHEN CREDIT_ACTIVE= 'Sold' THEN AMT_CREDIT_SUM_OVERDUE ELSE 0 END) AS SUM_CREDIT_ACTIVE_Sold_AMT_CREDIT_SUM_OVERDUE,\n",
            "SUM(CASE WHEN CREDIT_ACTIVE= 'Sold' THEN AMT_ANNUITY ELSE 0 END) AS SUM_CREDIT_ACTIVE_Sold_AMT_ANNUITY,\n",
            "MIN(CASE WHEN CREDIT_ACTIVE= 'Active' THEN AMT_CREDIT_MAX_OVERDUE ELSE 0 END) AS MIN_CREDIT_ACTIVE_Active_AMT_CREDIT_MAX_OVERDUE,\n",
            "MIN(CASE WHEN CREDIT_ACTIVE= 'Active' THEN CNT_CREDIT_PROLONG ELSE 0 END) AS MIN_CREDIT_ACTIVE_Active_CNT_CREDIT_PROLONG,\n",
            "MIN(CASE WHEN CREDIT_ACTIVE= 'Active' THEN AMT_CREDIT_SUM ELSE 0 END) AS MIN_CREDIT_ACTIVE_Active_AMT_CREDIT_SUM,\n",
            "MIN(CASE WHEN CREDIT_ACTIVE= 'Active' THEN AMT_CREDIT_SUM_DEBT ELSE 0 END) AS MIN_CREDIT_ACTIVE_Active_AMT_CREDIT_SUM_DEBT,\n",
            "MIN(CASE WHEN CREDIT_ACTIVE= 'Active' THEN AMT_CREDIT_SUM_LIMIT ELSE 0 END) AS MIN_CREDIT_ACTIVE_Active_AMT_CREDIT_SUM_LIMIT,\n",
            "MIN(CASE WHEN CREDIT_ACTIVE= 'Active' THEN AMT_CREDIT_SUM_OVERDUE ELSE 0 END) AS MIN_CREDIT_ACTIVE_Active_AMT_CREDIT_SUM_OVERDUE,\n",
            "MIN(CASE WHEN CREDIT_ACTIVE= 'Active' THEN AMT_ANNUITY ELSE 0 END) AS MIN_CREDIT_ACTIVE_Active_AMT_ANNUITY,\n",
            "MIN(CASE WHEN CREDIT_ACTIVE= 'Closed' THEN AMT_CREDIT_MAX_OVERDUE ELSE 0 END) AS MIN_CREDIT_ACTIVE_Closed_AMT_CREDIT_MAX_OVERDUE,\n",
            "MIN(CASE WHEN CREDIT_ACTIVE= 'Closed' THEN CNT_CREDIT_PROLONG ELSE 0 END) AS MIN_CREDIT_ACTIVE_Closed_CNT_CREDIT_PROLONG,\n",
            "MIN(CASE WHEN CREDIT_ACTIVE= 'Closed' THEN AMT_CREDIT_SUM ELSE 0 END) AS MIN_CREDIT_ACTIVE_Closed_AMT_CREDIT_SUM,\n",
            "MIN(CASE WHEN CREDIT_ACTIVE= 'Closed' THEN AMT_CREDIT_SUM_DEBT ELSE 0 END) AS MIN_CREDIT_ACTIVE_Closed_AMT_CREDIT_SUM_DEBT,\n",
            "MIN(CASE WHEN CREDIT_ACTIVE= 'Closed' THEN AMT_CREDIT_SUM_LIMIT ELSE 0 END) AS MIN_CREDIT_ACTIVE_Closed_AMT_CREDIT_SUM_LIMIT,\n",
            "MIN(CASE WHEN CREDIT_ACTIVE= 'Closed' THEN AMT_CREDIT_SUM_OVERDUE ELSE 0 END) AS MIN_CREDIT_ACTIVE_Closed_AMT_CREDIT_SUM_OVERDUE,\n",
            "MIN(CASE WHEN CREDIT_ACTIVE= 'Closed' THEN AMT_ANNUITY ELSE 0 END) AS MIN_CREDIT_ACTIVE_Closed_AMT_ANNUITY,\n",
            "MIN(CASE WHEN CREDIT_ACTIVE= 'Bad debt' THEN AMT_CREDIT_MAX_OVERDUE ELSE 0 END) AS MIN_CREDIT_ACTIVE_Bad_debt_AMT_CREDIT_MAX_OVERDUE,\n",
            "MIN(CASE WHEN CREDIT_ACTIVE= 'Bad debt' THEN CNT_CREDIT_PROLONG ELSE 0 END) AS MIN_CREDIT_ACTIVE_Bad_debt_CNT_CREDIT_PROLONG,\n",
            "MIN(CASE WHEN CREDIT_ACTIVE= 'Bad debt' THEN AMT_CREDIT_SUM ELSE 0 END) AS MIN_CREDIT_ACTIVE_Bad_debt_AMT_CREDIT_SUM,\n",
            "MIN(CASE WHEN CREDIT_ACTIVE= 'Bad debt' THEN AMT_CREDIT_SUM_DEBT ELSE 0 END) AS MIN_CREDIT_ACTIVE_Bad_debt_AMT_CREDIT_SUM_DEBT,\n",
            "MIN(CASE WHEN CREDIT_ACTIVE= 'Bad debt' THEN AMT_CREDIT_SUM_LIMIT ELSE 0 END) AS MIN_CREDIT_ACTIVE_Bad_debt_AMT_CREDIT_SUM_LIMIT,\n",
            "MIN(CASE WHEN CREDIT_ACTIVE= 'Bad debt' THEN AMT_CREDIT_SUM_OVERDUE ELSE 0 END) AS MIN_CREDIT_ACTIVE_Bad_debt_AMT_CREDIT_SUM_OVERDUE,\n",
            "MIN(CASE WHEN CREDIT_ACTIVE= 'Bad debt' THEN AMT_ANNUITY ELSE 0 END) AS MIN_CREDIT_ACTIVE_Bad_debt_AMT_ANNUITY,\n",
            "MIN(CASE WHEN CREDIT_ACTIVE= 'Sold' THEN AMT_CREDIT_MAX_OVERDUE ELSE 0 END) AS MIN_CREDIT_ACTIVE_Sold_AMT_CREDIT_MAX_OVERDUE,\n",
            "MIN(CASE WHEN CREDIT_ACTIVE= 'Sold' THEN CNT_CREDIT_PROLONG ELSE 0 END) AS MIN_CREDIT_ACTIVE_Sold_CNT_CREDIT_PROLONG,\n",
            "MIN(CASE WHEN CREDIT_ACTIVE= 'Sold' THEN AMT_CREDIT_SUM ELSE 0 END) AS MIN_CREDIT_ACTIVE_Sold_AMT_CREDIT_SUM,\n",
            "MIN(CASE WHEN CREDIT_ACTIVE= 'Sold' THEN AMT_CREDIT_SUM_DEBT ELSE 0 END) AS MIN_CREDIT_ACTIVE_Sold_AMT_CREDIT_SUM_DEBT,\n",
            "MIN(CASE WHEN CREDIT_ACTIVE= 'Sold' THEN AMT_CREDIT_SUM_LIMIT ELSE 0 END) AS MIN_CREDIT_ACTIVE_Sold_AMT_CREDIT_SUM_LIMIT,\n",
            "MIN(CASE WHEN CREDIT_ACTIVE= 'Sold' THEN AMT_CREDIT_SUM_OVERDUE ELSE 0 END) AS MIN_CREDIT_ACTIVE_Sold_AMT_CREDIT_SUM_OVERDUE,\n",
            "MIN(CASE WHEN CREDIT_ACTIVE= 'Sold' THEN AMT_ANNUITY ELSE 0 END) AS MIN_CREDIT_ACTIVE_Sold_AMT_ANNUITY,\n",
            "MAX(CASE WHEN CREDIT_ACTIVE= 'Active' THEN AMT_CREDIT_MAX_OVERDUE ELSE 0 END) AS MAX_CREDIT_ACTIVE_Active_AMT_CREDIT_MAX_OVERDUE,\n",
            "MAX(CASE WHEN CREDIT_ACTIVE= 'Active' THEN CNT_CREDIT_PROLONG ELSE 0 END) AS MAX_CREDIT_ACTIVE_Active_CNT_CREDIT_PROLONG,\n",
            "MAX(CASE WHEN CREDIT_ACTIVE= 'Active' THEN AMT_CREDIT_SUM ELSE 0 END) AS MAX_CREDIT_ACTIVE_Active_AMT_CREDIT_SUM,\n",
            "MAX(CASE WHEN CREDIT_ACTIVE= 'Active' THEN AMT_CREDIT_SUM_DEBT ELSE 0 END) AS MAX_CREDIT_ACTIVE_Active_AMT_CREDIT_SUM_DEBT,\n",
            "MAX(CASE WHEN CREDIT_ACTIVE= 'Active' THEN AMT_CREDIT_SUM_LIMIT ELSE 0 END) AS MAX_CREDIT_ACTIVE_Active_AMT_CREDIT_SUM_LIMIT,\n",
            "MAX(CASE WHEN CREDIT_ACTIVE= 'Active' THEN AMT_CREDIT_SUM_OVERDUE ELSE 0 END) AS MAX_CREDIT_ACTIVE_Active_AMT_CREDIT_SUM_OVERDUE,\n",
            "MAX(CASE WHEN CREDIT_ACTIVE= 'Active' THEN AMT_ANNUITY ELSE 0 END) AS MAX_CREDIT_ACTIVE_Active_AMT_ANNUITY,\n",
            "MAX(CASE WHEN CREDIT_ACTIVE= 'Closed' THEN AMT_CREDIT_MAX_OVERDUE ELSE 0 END) AS MAX_CREDIT_ACTIVE_Closed_AMT_CREDIT_MAX_OVERDUE,\n",
            "MAX(CASE WHEN CREDIT_ACTIVE= 'Closed' THEN CNT_CREDIT_PROLONG ELSE 0 END) AS MAX_CREDIT_ACTIVE_Closed_CNT_CREDIT_PROLONG,\n",
            "MAX(CASE WHEN CREDIT_ACTIVE= 'Closed' THEN AMT_CREDIT_SUM ELSE 0 END) AS MAX_CREDIT_ACTIVE_Closed_AMT_CREDIT_SUM,\n",
            "MAX(CASE WHEN CREDIT_ACTIVE= 'Closed' THEN AMT_CREDIT_SUM_DEBT ELSE 0 END) AS MAX_CREDIT_ACTIVE_Closed_AMT_CREDIT_SUM_DEBT,\n",
            "MAX(CASE WHEN CREDIT_ACTIVE= 'Closed' THEN AMT_CREDIT_SUM_LIMIT ELSE 0 END) AS MAX_CREDIT_ACTIVE_Closed_AMT_CREDIT_SUM_LIMIT,\n",
            "MAX(CASE WHEN CREDIT_ACTIVE= 'Closed' THEN AMT_CREDIT_SUM_OVERDUE ELSE 0 END) AS MAX_CREDIT_ACTIVE_Closed_AMT_CREDIT_SUM_OVERDUE,\n",
            "MAX(CASE WHEN CREDIT_ACTIVE= 'Closed' THEN AMT_ANNUITY ELSE 0 END) AS MAX_CREDIT_ACTIVE_Closed_AMT_ANNUITY,\n",
            "MAX(CASE WHEN CREDIT_ACTIVE= 'Bad debt' THEN AMT_CREDIT_MAX_OVERDUE ELSE 0 END) AS MAX_CREDIT_ACTIVE_Bad_debt_AMT_CREDIT_MAX_OVERDUE,\n",
            "MAX(CASE WHEN CREDIT_ACTIVE= 'Bad debt' THEN CNT_CREDIT_PROLONG ELSE 0 END) AS MAX_CREDIT_ACTIVE_Bad_debt_CNT_CREDIT_PROLONG,\n",
            "MAX(CASE WHEN CREDIT_ACTIVE= 'Bad debt' THEN AMT_CREDIT_SUM ELSE 0 END) AS MAX_CREDIT_ACTIVE_Bad_debt_AMT_CREDIT_SUM,\n",
            "MAX(CASE WHEN CREDIT_ACTIVE= 'Bad debt' THEN AMT_CREDIT_SUM_DEBT ELSE 0 END) AS MAX_CREDIT_ACTIVE_Bad_debt_AMT_CREDIT_SUM_DEBT,\n",
            "MAX(CASE WHEN CREDIT_ACTIVE= 'Bad debt' THEN AMT_CREDIT_SUM_LIMIT ELSE 0 END) AS MAX_CREDIT_ACTIVE_Bad_debt_AMT_CREDIT_SUM_LIMIT,\n",
            "MAX(CASE WHEN CREDIT_ACTIVE= 'Bad debt' THEN AMT_CREDIT_SUM_OVERDUE ELSE 0 END) AS MAX_CREDIT_ACTIVE_Bad_debt_AMT_CREDIT_SUM_OVERDUE,\n",
            "MAX(CASE WHEN CREDIT_ACTIVE= 'Bad debt' THEN AMT_ANNUITY ELSE 0 END) AS MAX_CREDIT_ACTIVE_Bad_debt_AMT_ANNUITY,\n",
            "MAX(CASE WHEN CREDIT_ACTIVE= 'Sold' THEN AMT_CREDIT_MAX_OVERDUE ELSE 0 END) AS MAX_CREDIT_ACTIVE_Sold_AMT_CREDIT_MAX_OVERDUE,\n",
            "MAX(CASE WHEN CREDIT_ACTIVE= 'Sold' THEN CNT_CREDIT_PROLONG ELSE 0 END) AS MAX_CREDIT_ACTIVE_Sold_CNT_CREDIT_PROLONG,\n",
            "MAX(CASE WHEN CREDIT_ACTIVE= 'Sold' THEN AMT_CREDIT_SUM ELSE 0 END) AS MAX_CREDIT_ACTIVE_Sold_AMT_CREDIT_SUM,\n",
            "MAX(CASE WHEN CREDIT_ACTIVE= 'Sold' THEN AMT_CREDIT_SUM_DEBT ELSE 0 END) AS MAX_CREDIT_ACTIVE_Sold_AMT_CREDIT_SUM_DEBT,\n",
            "MAX(CASE WHEN CREDIT_ACTIVE= 'Sold' THEN AMT_CREDIT_SUM_LIMIT ELSE 0 END) AS MAX_CREDIT_ACTIVE_Sold_AMT_CREDIT_SUM_LIMIT,\n",
            "MAX(CASE WHEN CREDIT_ACTIVE= 'Sold' THEN AMT_CREDIT_SUM_OVERDUE ELSE 0 END) AS MAX_CREDIT_ACTIVE_Sold_AMT_CREDIT_SUM_OVERDUE,\n",
            "MAX(CASE WHEN CREDIT_ACTIVE= 'Sold' THEN AMT_ANNUITY ELSE 0 END) AS MAX_CREDIT_ACTIVE_Sold_AMT_ANNUITY,\n",
            "AVG(CASE WHEN CREDIT_ACTIVE= 'Active' THEN AMT_CREDIT_MAX_OVERDUE ELSE 0 END) AS AVG_CREDIT_ACTIVE_Active_AMT_CREDIT_MAX_OVERDUE,\n",
            "AVG(CASE WHEN CREDIT_ACTIVE= 'Active' THEN CNT_CREDIT_PROLONG ELSE 0 END) AS AVG_CREDIT_ACTIVE_Active_CNT_CREDIT_PROLONG,\n",
            "AVG(CASE WHEN CREDIT_ACTIVE= 'Active' THEN AMT_CREDIT_SUM ELSE 0 END) AS AVG_CREDIT_ACTIVE_Active_AMT_CREDIT_SUM,\n",
            "AVG(CASE WHEN CREDIT_ACTIVE= 'Active' THEN AMT_CREDIT_SUM_DEBT ELSE 0 END) AS AVG_CREDIT_ACTIVE_Active_AMT_CREDIT_SUM_DEBT,\n",
            "AVG(CASE WHEN CREDIT_ACTIVE= 'Active' THEN AMT_CREDIT_SUM_LIMIT ELSE 0 END) AS AVG_CREDIT_ACTIVE_Active_AMT_CREDIT_SUM_LIMIT,\n",
            "AVG(CASE WHEN CREDIT_ACTIVE= 'Active' THEN AMT_CREDIT_SUM_OVERDUE ELSE 0 END) AS AVG_CREDIT_ACTIVE_Active_AMT_CREDIT_SUM_OVERDUE,\n",
            "AVG(CASE WHEN CREDIT_ACTIVE= 'Active' THEN AMT_ANNUITY ELSE 0 END) AS AVG_CREDIT_ACTIVE_Active_AMT_ANNUITY,\n",
            "AVG(CASE WHEN CREDIT_ACTIVE= 'Closed' THEN AMT_CREDIT_MAX_OVERDUE ELSE 0 END) AS AVG_CREDIT_ACTIVE_Closed_AMT_CREDIT_MAX_OVERDUE,\n",
            "AVG(CASE WHEN CREDIT_ACTIVE= 'Closed' THEN CNT_CREDIT_PROLONG ELSE 0 END) AS AVG_CREDIT_ACTIVE_Closed_CNT_CREDIT_PROLONG,\n",
            "AVG(CASE WHEN CREDIT_ACTIVE= 'Closed' THEN AMT_CREDIT_SUM ELSE 0 END) AS AVG_CREDIT_ACTIVE_Closed_AMT_CREDIT_SUM,\n",
            "AVG(CASE WHEN CREDIT_ACTIVE= 'Closed' THEN AMT_CREDIT_SUM_DEBT ELSE 0 END) AS AVG_CREDIT_ACTIVE_Closed_AMT_CREDIT_SUM_DEBT,\n",
            "AVG(CASE WHEN CREDIT_ACTIVE= 'Closed' THEN AMT_CREDIT_SUM_LIMIT ELSE 0 END) AS AVG_CREDIT_ACTIVE_Closed_AMT_CREDIT_SUM_LIMIT,\n",
            "AVG(CASE WHEN CREDIT_ACTIVE= 'Closed' THEN AMT_CREDIT_SUM_OVERDUE ELSE 0 END) AS AVG_CREDIT_ACTIVE_Closed_AMT_CREDIT_SUM_OVERDUE,\n",
            "AVG(CASE WHEN CREDIT_ACTIVE= 'Closed' THEN AMT_ANNUITY ELSE 0 END) AS AVG_CREDIT_ACTIVE_Closed_AMT_ANNUITY,\n",
            "AVG(CASE WHEN CREDIT_ACTIVE= 'Bad debt' THEN AMT_CREDIT_MAX_OVERDUE ELSE 0 END) AS AVG_CREDIT_ACTIVE_Bad_debt_AMT_CREDIT_MAX_OVERDUE,\n",
            "AVG(CASE WHEN CREDIT_ACTIVE= 'Bad debt' THEN CNT_CREDIT_PROLONG ELSE 0 END) AS AVG_CREDIT_ACTIVE_Bad_debt_CNT_CREDIT_PROLONG,\n",
            "AVG(CASE WHEN CREDIT_ACTIVE= 'Bad debt' THEN AMT_CREDIT_SUM ELSE 0 END) AS AVG_CREDIT_ACTIVE_Bad_debt_AMT_CREDIT_SUM,\n",
            "AVG(CASE WHEN CREDIT_ACTIVE= 'Bad debt' THEN AMT_CREDIT_SUM_DEBT ELSE 0 END) AS AVG_CREDIT_ACTIVE_Bad_debt_AMT_CREDIT_SUM_DEBT,\n",
            "AVG(CASE WHEN CREDIT_ACTIVE= 'Bad debt' THEN AMT_CREDIT_SUM_LIMIT ELSE 0 END) AS AVG_CREDIT_ACTIVE_Bad_debt_AMT_CREDIT_SUM_LIMIT,\n",
            "AVG(CASE WHEN CREDIT_ACTIVE= 'Bad debt' THEN AMT_CREDIT_SUM_OVERDUE ELSE 0 END) AS AVG_CREDIT_ACTIVE_Bad_debt_AMT_CREDIT_SUM_OVERDUE,\n",
            "AVG(CASE WHEN CREDIT_ACTIVE= 'Bad debt' THEN AMT_ANNUITY ELSE 0 END) AS AVG_CREDIT_ACTIVE_Bad_debt_AMT_ANNUITY,\n",
            "AVG(CASE WHEN CREDIT_ACTIVE= 'Sold' THEN AMT_CREDIT_MAX_OVERDUE ELSE 0 END) AS AVG_CREDIT_ACTIVE_Sold_AMT_CREDIT_MAX_OVERDUE,\n",
            "AVG(CASE WHEN CREDIT_ACTIVE= 'Sold' THEN CNT_CREDIT_PROLONG ELSE 0 END) AS AVG_CREDIT_ACTIVE_Sold_CNT_CREDIT_PROLONG,\n",
            "AVG(CASE WHEN CREDIT_ACTIVE= 'Sold' THEN AMT_CREDIT_SUM ELSE 0 END) AS AVG_CREDIT_ACTIVE_Sold_AMT_CREDIT_SUM,\n",
            "AVG(CASE WHEN CREDIT_ACTIVE= 'Sold' THEN AMT_CREDIT_SUM_DEBT ELSE 0 END) AS AVG_CREDIT_ACTIVE_Sold_AMT_CREDIT_SUM_DEBT,\n",
            "AVG(CASE WHEN CREDIT_ACTIVE= 'Sold' THEN AMT_CREDIT_SUM_LIMIT ELSE 0 END) AS AVG_CREDIT_ACTIVE_Sold_AMT_CREDIT_SUM_LIMIT,\n",
            "AVG(CASE WHEN CREDIT_ACTIVE= 'Sold' THEN AMT_CREDIT_SUM_OVERDUE ELSE 0 END) AS AVG_CREDIT_ACTIVE_Sold_AMT_CREDIT_SUM_OVERDUE,\n",
            "AVG(CASE WHEN CREDIT_ACTIVE= 'Sold' THEN AMT_ANNUITY ELSE 0 END) AS AVG_CREDIT_ACTIVE_Sold_AMT_ANNUITY,\n"
          ]
        }
      ]
    },
    {
      "cell_type": "markdown",
      "source": [
        "- Criando o dataframe df_bureau_credit_active_num"
      ],
      "metadata": {
        "id": "iRpQcNPAshQq"
      }
    },
    {
      "cell_type": "code",
      "source": [
        "df_bureau_credit_active_num = spark.sql(\"\"\"\n",
        "SELECT\n",
        "  SK_ID_CURR,\n",
        "  SUM(CASE WHEN CREDIT_ACTIVE= 'Active' THEN AMT_CREDIT_MAX_OVERDUE ELSE 0 END) AS SUM_CREDIT_ACTIVE_Active_AMT_CREDIT_MAX_OVERDUE,\n",
        "SUM(CASE WHEN CREDIT_ACTIVE= 'Active' THEN CNT_CREDIT_PROLONG ELSE 0 END) AS SUM_CREDIT_ACTIVE_Active_CNT_CREDIT_PROLONG,\n",
        "SUM(CASE WHEN CREDIT_ACTIVE= 'Active' THEN AMT_CREDIT_SUM ELSE 0 END) AS SUM_CREDIT_ACTIVE_Active_AMT_CREDIT_SUM,\n",
        "SUM(CASE WHEN CREDIT_ACTIVE= 'Active' THEN AMT_CREDIT_SUM_DEBT ELSE 0 END) AS SUM_CREDIT_ACTIVE_Active_AMT_CREDIT_SUM_DEBT,\n",
        "SUM(CASE WHEN CREDIT_ACTIVE= 'Active' THEN AMT_CREDIT_SUM_LIMIT ELSE 0 END) AS SUM_CREDIT_ACTIVE_Active_AMT_CREDIT_SUM_LIMIT,\n",
        "SUM(CASE WHEN CREDIT_ACTIVE= 'Active' THEN AMT_CREDIT_SUM_OVERDUE ELSE 0 END) AS SUM_CREDIT_ACTIVE_Active_AMT_CREDIT_SUM_OVERDUE,\n",
        "SUM(CASE WHEN CREDIT_ACTIVE= 'Active' THEN AMT_ANNUITY ELSE 0 END) AS SUM_CREDIT_ACTIVE_Active_AMT_ANNUITY,\n",
        "SUM(CASE WHEN CREDIT_ACTIVE= 'Closed' THEN AMT_CREDIT_MAX_OVERDUE ELSE 0 END) AS SUM_CREDIT_ACTIVE_Closed_AMT_CREDIT_MAX_OVERDUE,\n",
        "SUM(CASE WHEN CREDIT_ACTIVE= 'Closed' THEN CNT_CREDIT_PROLONG ELSE 0 END) AS SUM_CREDIT_ACTIVE_Closed_CNT_CREDIT_PROLONG,\n",
        "SUM(CASE WHEN CREDIT_ACTIVE= 'Closed' THEN AMT_CREDIT_SUM ELSE 0 END) AS SUM_CREDIT_ACTIVE_Closed_AMT_CREDIT_SUM,\n",
        "SUM(CASE WHEN CREDIT_ACTIVE= 'Closed' THEN AMT_CREDIT_SUM_DEBT ELSE 0 END) AS SUM_CREDIT_ACTIVE_Closed_AMT_CREDIT_SUM_DEBT,\n",
        "SUM(CASE WHEN CREDIT_ACTIVE= 'Closed' THEN AMT_CREDIT_SUM_LIMIT ELSE 0 END) AS SUM_CREDIT_ACTIVE_Closed_AMT_CREDIT_SUM_LIMIT,\n",
        "SUM(CASE WHEN CREDIT_ACTIVE= 'Closed' THEN AMT_CREDIT_SUM_OVERDUE ELSE 0 END) AS SUM_CREDIT_ACTIVE_Closed_AMT_CREDIT_SUM_OVERDUE,\n",
        "SUM(CASE WHEN CREDIT_ACTIVE= 'Closed' THEN AMT_ANNUITY ELSE 0 END) AS SUM_CREDIT_ACTIVE_Closed_AMT_ANNUITY,\n",
        "SUM(CASE WHEN CREDIT_ACTIVE= 'Bad debt' THEN AMT_CREDIT_MAX_OVERDUE ELSE 0 END) AS SUM_CREDIT_ACTIVE_Bad_debt_AMT_CREDIT_MAX_OVERDUE,\n",
        "SUM(CASE WHEN CREDIT_ACTIVE= 'Bad debt' THEN CNT_CREDIT_PROLONG ELSE 0 END) AS SUM_CREDIT_ACTIVE_Bad_debt_CNT_CREDIT_PROLONG,\n",
        "SUM(CASE WHEN CREDIT_ACTIVE= 'Bad debt' THEN AMT_CREDIT_SUM ELSE 0 END) AS SUM_CREDIT_ACTIVE_Bad_debt_AMT_CREDIT_SUM,\n",
        "SUM(CASE WHEN CREDIT_ACTIVE= 'Bad debt' THEN AMT_CREDIT_SUM_DEBT ELSE 0 END) AS SUM_CREDIT_ACTIVE_Bad_debt_AMT_CREDIT_SUM_DEBT,\n",
        "SUM(CASE WHEN CREDIT_ACTIVE= 'Bad debt' THEN AMT_CREDIT_SUM_LIMIT ELSE 0 END) AS SUM_CREDIT_ACTIVE_Bad_debt_AMT_CREDIT_SUM_LIMIT,\n",
        "SUM(CASE WHEN CREDIT_ACTIVE= 'Bad debt' THEN AMT_CREDIT_SUM_OVERDUE ELSE 0 END) AS SUM_CREDIT_ACTIVE_Bad_debt_AMT_CREDIT_SUM_OVERDUE,\n",
        "SUM(CASE WHEN CREDIT_ACTIVE= 'Bad debt' THEN AMT_ANNUITY ELSE 0 END) AS SUM_CREDIT_ACTIVE_Bad_debt_AMT_ANNUITY,\n",
        "SUM(CASE WHEN CREDIT_ACTIVE= 'Sold' THEN AMT_CREDIT_MAX_OVERDUE ELSE 0 END) AS SUM_CREDIT_ACTIVE_Sold_AMT_CREDIT_MAX_OVERDUE,\n",
        "SUM(CASE WHEN CREDIT_ACTIVE= 'Sold' THEN CNT_CREDIT_PROLONG ELSE 0 END) AS SUM_CREDIT_ACTIVE_Sold_CNT_CREDIT_PROLONG,\n",
        "SUM(CASE WHEN CREDIT_ACTIVE= 'Sold' THEN AMT_CREDIT_SUM ELSE 0 END) AS SUM_CREDIT_ACTIVE_Sold_AMT_CREDIT_SUM,\n",
        "SUM(CASE WHEN CREDIT_ACTIVE= 'Sold' THEN AMT_CREDIT_SUM_DEBT ELSE 0 END) AS SUM_CREDIT_ACTIVE_Sold_AMT_CREDIT_SUM_DEBT,\n",
        "SUM(CASE WHEN CREDIT_ACTIVE= 'Sold' THEN AMT_CREDIT_SUM_LIMIT ELSE 0 END) AS SUM_CREDIT_ACTIVE_Sold_AMT_CREDIT_SUM_LIMIT,\n",
        "SUM(CASE WHEN CREDIT_ACTIVE= 'Sold' THEN AMT_CREDIT_SUM_OVERDUE ELSE 0 END) AS SUM_CREDIT_ACTIVE_Sold_AMT_CREDIT_SUM_OVERDUE,\n",
        "SUM(CASE WHEN CREDIT_ACTIVE= 'Sold' THEN AMT_ANNUITY ELSE 0 END) AS SUM_CREDIT_ACTIVE_Sold_AMT_ANNUITY,\n",
        "MIN(CASE WHEN CREDIT_ACTIVE= 'Active' THEN AMT_CREDIT_MAX_OVERDUE ELSE 0 END) AS MIN_CREDIT_ACTIVE_Active_AMT_CREDIT_MAX_OVERDUE,\n",
        "MIN(CASE WHEN CREDIT_ACTIVE= 'Active' THEN CNT_CREDIT_PROLONG ELSE 0 END) AS MIN_CREDIT_ACTIVE_Active_CNT_CREDIT_PROLONG,\n",
        "MIN(CASE WHEN CREDIT_ACTIVE= 'Active' THEN AMT_CREDIT_SUM ELSE 0 END) AS MIN_CREDIT_ACTIVE_Active_AMT_CREDIT_SUM,\n",
        "MIN(CASE WHEN CREDIT_ACTIVE= 'Active' THEN AMT_CREDIT_SUM_DEBT ELSE 0 END) AS MIN_CREDIT_ACTIVE_Active_AMT_CREDIT_SUM_DEBT,\n",
        "MIN(CASE WHEN CREDIT_ACTIVE= 'Active' THEN AMT_CREDIT_SUM_LIMIT ELSE 0 END) AS MIN_CREDIT_ACTIVE_Active_AMT_CREDIT_SUM_LIMIT,\n",
        "MIN(CASE WHEN CREDIT_ACTIVE= 'Active' THEN AMT_CREDIT_SUM_OVERDUE ELSE 0 END) AS MIN_CREDIT_ACTIVE_Active_AMT_CREDIT_SUM_OVERDUE,\n",
        "MIN(CASE WHEN CREDIT_ACTIVE= 'Active' THEN AMT_ANNUITY ELSE 0 END) AS MIN_CREDIT_ACTIVE_Active_AMT_ANNUITY,\n",
        "MIN(CASE WHEN CREDIT_ACTIVE= 'Closed' THEN AMT_CREDIT_MAX_OVERDUE ELSE 0 END) AS MIN_CREDIT_ACTIVE_Closed_AMT_CREDIT_MAX_OVERDUE,\n",
        "MIN(CASE WHEN CREDIT_ACTIVE= 'Closed' THEN CNT_CREDIT_PROLONG ELSE 0 END) AS MIN_CREDIT_ACTIVE_Closed_CNT_CREDIT_PROLONG,\n",
        "MIN(CASE WHEN CREDIT_ACTIVE= 'Closed' THEN AMT_CREDIT_SUM ELSE 0 END) AS MIN_CREDIT_ACTIVE_Closed_AMT_CREDIT_SUM,\n",
        "MIN(CASE WHEN CREDIT_ACTIVE= 'Closed' THEN AMT_CREDIT_SUM_DEBT ELSE 0 END) AS MIN_CREDIT_ACTIVE_Closed_AMT_CREDIT_SUM_DEBT,\n",
        "MIN(CASE WHEN CREDIT_ACTIVE= 'Closed' THEN AMT_CREDIT_SUM_LIMIT ELSE 0 END) AS MIN_CREDIT_ACTIVE_Closed_AMT_CREDIT_SUM_LIMIT,\n",
        "MIN(CASE WHEN CREDIT_ACTIVE= 'Closed' THEN AMT_CREDIT_SUM_OVERDUE ELSE 0 END) AS MIN_CREDIT_ACTIVE_Closed_AMT_CREDIT_SUM_OVERDUE,\n",
        "MIN(CASE WHEN CREDIT_ACTIVE= 'Closed' THEN AMT_ANNUITY ELSE 0 END) AS MIN_CREDIT_ACTIVE_Closed_AMT_ANNUITY,\n",
        "MIN(CASE WHEN CREDIT_ACTIVE= 'Bad debt' THEN AMT_CREDIT_MAX_OVERDUE ELSE 0 END) AS MIN_CREDIT_ACTIVE_Bad_debt_AMT_CREDIT_MAX_OVERDUE,\n",
        "MIN(CASE WHEN CREDIT_ACTIVE= 'Bad debt' THEN CNT_CREDIT_PROLONG ELSE 0 END) AS MIN_CREDIT_ACTIVE_Bad_debt_CNT_CREDIT_PROLONG,\n",
        "MIN(CASE WHEN CREDIT_ACTIVE= 'Bad debt' THEN AMT_CREDIT_SUM ELSE 0 END) AS MIN_CREDIT_ACTIVE_Bad_debt_AMT_CREDIT_SUM,\n",
        "MIN(CASE WHEN CREDIT_ACTIVE= 'Bad debt' THEN AMT_CREDIT_SUM_DEBT ELSE 0 END) AS MIN_CREDIT_ACTIVE_Bad_debt_AMT_CREDIT_SUM_DEBT,\n",
        "MIN(CASE WHEN CREDIT_ACTIVE= 'Bad debt' THEN AMT_CREDIT_SUM_LIMIT ELSE 0 END) AS MIN_CREDIT_ACTIVE_Bad_debt_AMT_CREDIT_SUM_LIMIT,\n",
        "MIN(CASE WHEN CREDIT_ACTIVE= 'Bad debt' THEN AMT_CREDIT_SUM_OVERDUE ELSE 0 END) AS MIN_CREDIT_ACTIVE_Bad_debt_AMT_CREDIT_SUM_OVERDUE,\n",
        "MIN(CASE WHEN CREDIT_ACTIVE= 'Bad debt' THEN AMT_ANNUITY ELSE 0 END) AS MIN_CREDIT_ACTIVE_Bad_debt_AMT_ANNUITY,\n",
        "MIN(CASE WHEN CREDIT_ACTIVE= 'Sold' THEN AMT_CREDIT_MAX_OVERDUE ELSE 0 END) AS MIN_CREDIT_ACTIVE_Sold_AMT_CREDIT_MAX_OVERDUE,\n",
        "MIN(CASE WHEN CREDIT_ACTIVE= 'Sold' THEN CNT_CREDIT_PROLONG ELSE 0 END) AS MIN_CREDIT_ACTIVE_Sold_CNT_CREDIT_PROLONG,\n",
        "MIN(CASE WHEN CREDIT_ACTIVE= 'Sold' THEN AMT_CREDIT_SUM ELSE 0 END) AS MIN_CREDIT_ACTIVE_Sold_AMT_CREDIT_SUM,\n",
        "MIN(CASE WHEN CREDIT_ACTIVE= 'Sold' THEN AMT_CREDIT_SUM_DEBT ELSE 0 END) AS MIN_CREDIT_ACTIVE_Sold_AMT_CREDIT_SUM_DEBT,\n",
        "MIN(CASE WHEN CREDIT_ACTIVE= 'Sold' THEN AMT_CREDIT_SUM_LIMIT ELSE 0 END) AS MIN_CREDIT_ACTIVE_Sold_AMT_CREDIT_SUM_LIMIT,\n",
        "MIN(CASE WHEN CREDIT_ACTIVE= 'Sold' THEN AMT_CREDIT_SUM_OVERDUE ELSE 0 END) AS MIN_CREDIT_ACTIVE_Sold_AMT_CREDIT_SUM_OVERDUE,\n",
        "MIN(CASE WHEN CREDIT_ACTIVE= 'Sold' THEN AMT_ANNUITY ELSE 0 END) AS MIN_CREDIT_ACTIVE_Sold_AMT_ANNUITY,\n",
        "MAX(CASE WHEN CREDIT_ACTIVE= 'Active' THEN AMT_CREDIT_MAX_OVERDUE ELSE 0 END) AS MAX_CREDIT_ACTIVE_Active_AMT_CREDIT_MAX_OVERDUE,\n",
        "MAX(CASE WHEN CREDIT_ACTIVE= 'Active' THEN CNT_CREDIT_PROLONG ELSE 0 END) AS MAX_CREDIT_ACTIVE_Active_CNT_CREDIT_PROLONG,\n",
        "MAX(CASE WHEN CREDIT_ACTIVE= 'Active' THEN AMT_CREDIT_SUM ELSE 0 END) AS MAX_CREDIT_ACTIVE_Active_AMT_CREDIT_SUM,\n",
        "MAX(CASE WHEN CREDIT_ACTIVE= 'Active' THEN AMT_CREDIT_SUM_DEBT ELSE 0 END) AS MAX_CREDIT_ACTIVE_Active_AMT_CREDIT_SUM_DEBT,\n",
        "MAX(CASE WHEN CREDIT_ACTIVE= 'Active' THEN AMT_CREDIT_SUM_LIMIT ELSE 0 END) AS MAX_CREDIT_ACTIVE_Active_AMT_CREDIT_SUM_LIMIT,\n",
        "MAX(CASE WHEN CREDIT_ACTIVE= 'Active' THEN AMT_CREDIT_SUM_OVERDUE ELSE 0 END) AS MAX_CREDIT_ACTIVE_Active_AMT_CREDIT_SUM_OVERDUE,\n",
        "MAX(CASE WHEN CREDIT_ACTIVE= 'Active' THEN AMT_ANNUITY ELSE 0 END) AS MAX_CREDIT_ACTIVE_Active_AMT_ANNUITY,\n",
        "MAX(CASE WHEN CREDIT_ACTIVE= 'Closed' THEN AMT_CREDIT_MAX_OVERDUE ELSE 0 END) AS MAX_CREDIT_ACTIVE_Closed_AMT_CREDIT_MAX_OVERDUE,\n",
        "MAX(CASE WHEN CREDIT_ACTIVE= 'Closed' THEN CNT_CREDIT_PROLONG ELSE 0 END) AS MAX_CREDIT_ACTIVE_Closed_CNT_CREDIT_PROLONG,\n",
        "MAX(CASE WHEN CREDIT_ACTIVE= 'Closed' THEN AMT_CREDIT_SUM ELSE 0 END) AS MAX_CREDIT_ACTIVE_Closed_AMT_CREDIT_SUM,\n",
        "MAX(CASE WHEN CREDIT_ACTIVE= 'Closed' THEN AMT_CREDIT_SUM_DEBT ELSE 0 END) AS MAX_CREDIT_ACTIVE_Closed_AMT_CREDIT_SUM_DEBT,\n",
        "MAX(CASE WHEN CREDIT_ACTIVE= 'Closed' THEN AMT_CREDIT_SUM_LIMIT ELSE 0 END) AS MAX_CREDIT_ACTIVE_Closed_AMT_CREDIT_SUM_LIMIT,\n",
        "MAX(CASE WHEN CREDIT_ACTIVE= 'Closed' THEN AMT_CREDIT_SUM_OVERDUE ELSE 0 END) AS MAX_CREDIT_ACTIVE_Closed_AMT_CREDIT_SUM_OVERDUE,\n",
        "MAX(CASE WHEN CREDIT_ACTIVE= 'Closed' THEN AMT_ANNUITY ELSE 0 END) AS MAX_CREDIT_ACTIVE_Closed_AMT_ANNUITY,\n",
        "MAX(CASE WHEN CREDIT_ACTIVE= 'Bad debt' THEN AMT_CREDIT_MAX_OVERDUE ELSE 0 END) AS MAX_CREDIT_ACTIVE_Bad_debt_AMT_CREDIT_MAX_OVERDUE,\n",
        "MAX(CASE WHEN CREDIT_ACTIVE= 'Bad debt' THEN CNT_CREDIT_PROLONG ELSE 0 END) AS MAX_CREDIT_ACTIVE_Bad_debt_CNT_CREDIT_PROLONG,\n",
        "MAX(CASE WHEN CREDIT_ACTIVE= 'Bad debt' THEN AMT_CREDIT_SUM ELSE 0 END) AS MAX_CREDIT_ACTIVE_Bad_debt_AMT_CREDIT_SUM,\n",
        "MAX(CASE WHEN CREDIT_ACTIVE= 'Bad debt' THEN AMT_CREDIT_SUM_DEBT ELSE 0 END) AS MAX_CREDIT_ACTIVE_Bad_debt_AMT_CREDIT_SUM_DEBT,\n",
        "MAX(CASE WHEN CREDIT_ACTIVE= 'Bad debt' THEN AMT_CREDIT_SUM_LIMIT ELSE 0 END) AS MAX_CREDIT_ACTIVE_Bad_debt_AMT_CREDIT_SUM_LIMIT,\n",
        "MAX(CASE WHEN CREDIT_ACTIVE= 'Bad debt' THEN AMT_CREDIT_SUM_OVERDUE ELSE 0 END) AS MAX_CREDIT_ACTIVE_Bad_debt_AMT_CREDIT_SUM_OVERDUE,\n",
        "MAX(CASE WHEN CREDIT_ACTIVE= 'Bad debt' THEN AMT_ANNUITY ELSE 0 END) AS MAX_CREDIT_ACTIVE_Bad_debt_AMT_ANNUITY,\n",
        "MAX(CASE WHEN CREDIT_ACTIVE= 'Sold' THEN AMT_CREDIT_MAX_OVERDUE ELSE 0 END) AS MAX_CREDIT_ACTIVE_Sold_AMT_CREDIT_MAX_OVERDUE,\n",
        "MAX(CASE WHEN CREDIT_ACTIVE= 'Sold' THEN CNT_CREDIT_PROLONG ELSE 0 END) AS MAX_CREDIT_ACTIVE_Sold_CNT_CREDIT_PROLONG,\n",
        "MAX(CASE WHEN CREDIT_ACTIVE= 'Sold' THEN AMT_CREDIT_SUM ELSE 0 END) AS MAX_CREDIT_ACTIVE_Sold_AMT_CREDIT_SUM,\n",
        "MAX(CASE WHEN CREDIT_ACTIVE= 'Sold' THEN AMT_CREDIT_SUM_DEBT ELSE 0 END) AS MAX_CREDIT_ACTIVE_Sold_AMT_CREDIT_SUM_DEBT,\n",
        "MAX(CASE WHEN CREDIT_ACTIVE= 'Sold' THEN AMT_CREDIT_SUM_LIMIT ELSE 0 END) AS MAX_CREDIT_ACTIVE_Sold_AMT_CREDIT_SUM_LIMIT,\n",
        "MAX(CASE WHEN CREDIT_ACTIVE= 'Sold' THEN AMT_CREDIT_SUM_OVERDUE ELSE 0 END) AS MAX_CREDIT_ACTIVE_Sold_AMT_CREDIT_SUM_OVERDUE,\n",
        "MAX(CASE WHEN CREDIT_ACTIVE= 'Sold' THEN AMT_ANNUITY ELSE 0 END) AS MAX_CREDIT_ACTIVE_Sold_AMT_ANNUITY,\n",
        "AVG(CASE WHEN CREDIT_ACTIVE= 'Active' THEN AMT_CREDIT_MAX_OVERDUE ELSE 0 END) AS AVG_CREDIT_ACTIVE_Active_AMT_CREDIT_MAX_OVERDUE,\n",
        "AVG(CASE WHEN CREDIT_ACTIVE= 'Active' THEN CNT_CREDIT_PROLONG ELSE 0 END) AS AVG_CREDIT_ACTIVE_Active_CNT_CREDIT_PROLONG,\n",
        "AVG(CASE WHEN CREDIT_ACTIVE= 'Active' THEN AMT_CREDIT_SUM ELSE 0 END) AS AVG_CREDIT_ACTIVE_Active_AMT_CREDIT_SUM,\n",
        "AVG(CASE WHEN CREDIT_ACTIVE= 'Active' THEN AMT_CREDIT_SUM_DEBT ELSE 0 END) AS AVG_CREDIT_ACTIVE_Active_AMT_CREDIT_SUM_DEBT,\n",
        "AVG(CASE WHEN CREDIT_ACTIVE= 'Active' THEN AMT_CREDIT_SUM_LIMIT ELSE 0 END) AS AVG_CREDIT_ACTIVE_Active_AMT_CREDIT_SUM_LIMIT,\n",
        "AVG(CASE WHEN CREDIT_ACTIVE= 'Active' THEN AMT_CREDIT_SUM_OVERDUE ELSE 0 END) AS AVG_CREDIT_ACTIVE_Active_AMT_CREDIT_SUM_OVERDUE,\n",
        "AVG(CASE WHEN CREDIT_ACTIVE= 'Active' THEN AMT_ANNUITY ELSE 0 END) AS AVG_CREDIT_ACTIVE_Active_AMT_ANNUITY,\n",
        "AVG(CASE WHEN CREDIT_ACTIVE= 'Closed' THEN AMT_CREDIT_MAX_OVERDUE ELSE 0 END) AS AVG_CREDIT_ACTIVE_Closed_AMT_CREDIT_MAX_OVERDUE,\n",
        "AVG(CASE WHEN CREDIT_ACTIVE= 'Closed' THEN CNT_CREDIT_PROLONG ELSE 0 END) AS AVG_CREDIT_ACTIVE_Closed_CNT_CREDIT_PROLONG,\n",
        "AVG(CASE WHEN CREDIT_ACTIVE= 'Closed' THEN AMT_CREDIT_SUM ELSE 0 END) AS AVG_CREDIT_ACTIVE_Closed_AMT_CREDIT_SUM,\n",
        "AVG(CASE WHEN CREDIT_ACTIVE= 'Closed' THEN AMT_CREDIT_SUM_DEBT ELSE 0 END) AS AVG_CREDIT_ACTIVE_Closed_AMT_CREDIT_SUM_DEBT,\n",
        "AVG(CASE WHEN CREDIT_ACTIVE= 'Closed' THEN AMT_CREDIT_SUM_LIMIT ELSE 0 END) AS AVG_CREDIT_ACTIVE_Closed_AMT_CREDIT_SUM_LIMIT,\n",
        "AVG(CASE WHEN CREDIT_ACTIVE= 'Closed' THEN AMT_CREDIT_SUM_OVERDUE ELSE 0 END) AS AVG_CREDIT_ACTIVE_Closed_AMT_CREDIT_SUM_OVERDUE,\n",
        "AVG(CASE WHEN CREDIT_ACTIVE= 'Closed' THEN AMT_ANNUITY ELSE 0 END) AS AVG_CREDIT_ACTIVE_Closed_AMT_ANNUITY,\n",
        "AVG(CASE WHEN CREDIT_ACTIVE= 'Bad debt' THEN AMT_CREDIT_MAX_OVERDUE ELSE 0 END) AS AVG_CREDIT_ACTIVE_Bad_debt_AMT_CREDIT_MAX_OVERDUE,\n",
        "AVG(CASE WHEN CREDIT_ACTIVE= 'Bad debt' THEN CNT_CREDIT_PROLONG ELSE 0 END) AS AVG_CREDIT_ACTIVE_Bad_debt_CNT_CREDIT_PROLONG,\n",
        "AVG(CASE WHEN CREDIT_ACTIVE= 'Bad debt' THEN AMT_CREDIT_SUM ELSE 0 END) AS AVG_CREDIT_ACTIVE_Bad_debt_AMT_CREDIT_SUM,\n",
        "AVG(CASE WHEN CREDIT_ACTIVE= 'Bad debt' THEN AMT_CREDIT_SUM_DEBT ELSE 0 END) AS AVG_CREDIT_ACTIVE_Bad_debt_AMT_CREDIT_SUM_DEBT,\n",
        "AVG(CASE WHEN CREDIT_ACTIVE= 'Bad debt' THEN AMT_CREDIT_SUM_LIMIT ELSE 0 END) AS AVG_CREDIT_ACTIVE_Bad_debt_AMT_CREDIT_SUM_LIMIT,\n",
        "AVG(CASE WHEN CREDIT_ACTIVE= 'Bad debt' THEN AMT_CREDIT_SUM_OVERDUE ELSE 0 END) AS AVG_CREDIT_ACTIVE_Bad_debt_AMT_CREDIT_SUM_OVERDUE,\n",
        "AVG(CASE WHEN CREDIT_ACTIVE= 'Bad debt' THEN AMT_ANNUITY ELSE 0 END) AS AVG_CREDIT_ACTIVE_Bad_debt_AMT_ANNUITY,\n",
        "AVG(CASE WHEN CREDIT_ACTIVE= 'Sold' THEN AMT_CREDIT_MAX_OVERDUE ELSE 0 END) AS AVG_CREDIT_ACTIVE_Sold_AMT_CREDIT_MAX_OVERDUE,\n",
        "AVG(CASE WHEN CREDIT_ACTIVE= 'Sold' THEN CNT_CREDIT_PROLONG ELSE 0 END) AS AVG_CREDIT_ACTIVE_Sold_CNT_CREDIT_PROLONG,\n",
        "AVG(CASE WHEN CREDIT_ACTIVE= 'Sold' THEN AMT_CREDIT_SUM ELSE 0 END) AS AVG_CREDIT_ACTIVE_Sold_AMT_CREDIT_SUM,\n",
        "AVG(CASE WHEN CREDIT_ACTIVE= 'Sold' THEN AMT_CREDIT_SUM_DEBT ELSE 0 END) AS AVG_CREDIT_ACTIVE_Sold_AMT_CREDIT_SUM_DEBT,\n",
        "AVG(CASE WHEN CREDIT_ACTIVE= 'Sold' THEN AMT_CREDIT_SUM_LIMIT ELSE 0 END) AS AVG_CREDIT_ACTIVE_Sold_AMT_CREDIT_SUM_LIMIT,\n",
        "AVG(CASE WHEN CREDIT_ACTIVE= 'Sold' THEN AMT_CREDIT_SUM_OVERDUE ELSE 0 END) AS AVG_CREDIT_ACTIVE_Sold_AMT_CREDIT_SUM_OVERDUE,\n",
        "AVG(CASE WHEN CREDIT_ACTIVE= 'Sold' THEN AMT_ANNUITY ELSE 0 END) AS AVG_CREDIT_ACTIVE_Sold_AMT_ANNUITY\n",
        "FROM\n",
        "  bureau\n",
        "GROUP BY\n",
        "  SK_ID_CURR\n",
        "\"\"\")"
      ],
      "metadata": {
        "id": "e_z7Ip9Pvb5P"
      },
      "execution_count": null,
      "outputs": []
    },
    {
      "cell_type": "markdown",
      "source": [
        "2- Considerando a variável categórica CREDIT_CURRENCY"
      ],
      "metadata": {
        "id": "bhsfWGmHwHDx"
      }
    },
    {
      "cell_type": "code",
      "source": [
        "# Criando as agregações\n",
        "\n",
        "agg = ['SUM', 'MIN', 'MAX', 'AVG']\n",
        "\n",
        "# Criando a variável categórica\n",
        "\n",
        "cat = ['CREDIT_CURRENCY']\n",
        "\n",
        "# Criando os domínios\n",
        "\n",
        "dominios_cat = ['currency 4', 'currency 3', 'currency 2', 'currency 1']\n",
        "\n",
        "# Criando a variável numérica\n",
        "\n",
        "var_num = ['AMT_CREDIT_MAX_OVERDUE', 'CNT_CREDIT_PROLONG', 'AMT_CREDIT_SUM', \\\n",
        "           'AMT_CREDIT_SUM_DEBT', 'AMT_CREDIT_SUM_LIMIT', \\\n",
        "           'AMT_CREDIT_SUM_OVERDUE', 'AMT_ANNUITY']"
      ],
      "metadata": {
        "id": "LF-WyBg-wDeW"
      },
      "execution_count": null,
      "outputs": []
    },
    {
      "cell_type": "code",
      "source": [
        "# Criando uma rotina que gera o texto da função de agregação\n",
        "\n",
        "for ag in agg:\n",
        "  for cate in cat:\n",
        "    for dominio in dominios_cat:\n",
        "      for var_n in var_num:\n",
        "        print(ag +'(CASE WHEN ' + cate + '= ' + \"'\" + dominio + \"'\" + \" THEN \" + var_n + \" ELSE 0 END) AS \" + ag + \"_\" + cate + \"_\" + dominio.replace(\" \", \"_\") + \"_\" + var_n + ',')\n"
      ],
      "metadata": {
        "colab": {
          "base_uri": "https://localhost:8080/"
        },
        "id": "34RZgqefwpVW",
        "outputId": "c27664f4-4a27-4f00-92ec-debae5090d95"
      },
      "execution_count": null,
      "outputs": [
        {
          "output_type": "stream",
          "name": "stdout",
          "text": [
            "SUM(CASE WHEN CREDIT_CURRENCY= 'currency 4' THEN AMT_CREDIT_MAX_OVERDUE ELSE 0 END) AS SUM_CREDIT_CURRENCY_currency_4_AMT_CREDIT_MAX_OVERDUE,\n",
            "SUM(CASE WHEN CREDIT_CURRENCY= 'currency 4' THEN CNT_CREDIT_PROLONG ELSE 0 END) AS SUM_CREDIT_CURRENCY_currency_4_CNT_CREDIT_PROLONG,\n",
            "SUM(CASE WHEN CREDIT_CURRENCY= 'currency 4' THEN AMT_CREDIT_SUM ELSE 0 END) AS SUM_CREDIT_CURRENCY_currency_4_AMT_CREDIT_SUM,\n",
            "SUM(CASE WHEN CREDIT_CURRENCY= 'currency 4' THEN AMT_CREDIT_SUM_DEBT ELSE 0 END) AS SUM_CREDIT_CURRENCY_currency_4_AMT_CREDIT_SUM_DEBT,\n",
            "SUM(CASE WHEN CREDIT_CURRENCY= 'currency 4' THEN AMT_CREDIT_SUM_LIMIT ELSE 0 END) AS SUM_CREDIT_CURRENCY_currency_4_AMT_CREDIT_SUM_LIMIT,\n",
            "SUM(CASE WHEN CREDIT_CURRENCY= 'currency 4' THEN AMT_CREDIT_SUM_OVERDUE ELSE 0 END) AS SUM_CREDIT_CURRENCY_currency_4_AMT_CREDIT_SUM_OVERDUE,\n",
            "SUM(CASE WHEN CREDIT_CURRENCY= 'currency 4' THEN AMT_ANNUITY ELSE 0 END) AS SUM_CREDIT_CURRENCY_currency_4_AMT_ANNUITY,\n",
            "SUM(CASE WHEN CREDIT_CURRENCY= 'currency 3' THEN AMT_CREDIT_MAX_OVERDUE ELSE 0 END) AS SUM_CREDIT_CURRENCY_currency_3_AMT_CREDIT_MAX_OVERDUE,\n",
            "SUM(CASE WHEN CREDIT_CURRENCY= 'currency 3' THEN CNT_CREDIT_PROLONG ELSE 0 END) AS SUM_CREDIT_CURRENCY_currency_3_CNT_CREDIT_PROLONG,\n",
            "SUM(CASE WHEN CREDIT_CURRENCY= 'currency 3' THEN AMT_CREDIT_SUM ELSE 0 END) AS SUM_CREDIT_CURRENCY_currency_3_AMT_CREDIT_SUM,\n",
            "SUM(CASE WHEN CREDIT_CURRENCY= 'currency 3' THEN AMT_CREDIT_SUM_DEBT ELSE 0 END) AS SUM_CREDIT_CURRENCY_currency_3_AMT_CREDIT_SUM_DEBT,\n",
            "SUM(CASE WHEN CREDIT_CURRENCY= 'currency 3' THEN AMT_CREDIT_SUM_LIMIT ELSE 0 END) AS SUM_CREDIT_CURRENCY_currency_3_AMT_CREDIT_SUM_LIMIT,\n",
            "SUM(CASE WHEN CREDIT_CURRENCY= 'currency 3' THEN AMT_CREDIT_SUM_OVERDUE ELSE 0 END) AS SUM_CREDIT_CURRENCY_currency_3_AMT_CREDIT_SUM_OVERDUE,\n",
            "SUM(CASE WHEN CREDIT_CURRENCY= 'currency 3' THEN AMT_ANNUITY ELSE 0 END) AS SUM_CREDIT_CURRENCY_currency_3_AMT_ANNUITY,\n",
            "SUM(CASE WHEN CREDIT_CURRENCY= 'currency 2' THEN AMT_CREDIT_MAX_OVERDUE ELSE 0 END) AS SUM_CREDIT_CURRENCY_currency_2_AMT_CREDIT_MAX_OVERDUE,\n",
            "SUM(CASE WHEN CREDIT_CURRENCY= 'currency 2' THEN CNT_CREDIT_PROLONG ELSE 0 END) AS SUM_CREDIT_CURRENCY_currency_2_CNT_CREDIT_PROLONG,\n",
            "SUM(CASE WHEN CREDIT_CURRENCY= 'currency 2' THEN AMT_CREDIT_SUM ELSE 0 END) AS SUM_CREDIT_CURRENCY_currency_2_AMT_CREDIT_SUM,\n",
            "SUM(CASE WHEN CREDIT_CURRENCY= 'currency 2' THEN AMT_CREDIT_SUM_DEBT ELSE 0 END) AS SUM_CREDIT_CURRENCY_currency_2_AMT_CREDIT_SUM_DEBT,\n",
            "SUM(CASE WHEN CREDIT_CURRENCY= 'currency 2' THEN AMT_CREDIT_SUM_LIMIT ELSE 0 END) AS SUM_CREDIT_CURRENCY_currency_2_AMT_CREDIT_SUM_LIMIT,\n",
            "SUM(CASE WHEN CREDIT_CURRENCY= 'currency 2' THEN AMT_CREDIT_SUM_OVERDUE ELSE 0 END) AS SUM_CREDIT_CURRENCY_currency_2_AMT_CREDIT_SUM_OVERDUE,\n",
            "SUM(CASE WHEN CREDIT_CURRENCY= 'currency 2' THEN AMT_ANNUITY ELSE 0 END) AS SUM_CREDIT_CURRENCY_currency_2_AMT_ANNUITY,\n",
            "SUM(CASE WHEN CREDIT_CURRENCY= 'currency 1' THEN AMT_CREDIT_MAX_OVERDUE ELSE 0 END) AS SUM_CREDIT_CURRENCY_currency_1_AMT_CREDIT_MAX_OVERDUE,\n",
            "SUM(CASE WHEN CREDIT_CURRENCY= 'currency 1' THEN CNT_CREDIT_PROLONG ELSE 0 END) AS SUM_CREDIT_CURRENCY_currency_1_CNT_CREDIT_PROLONG,\n",
            "SUM(CASE WHEN CREDIT_CURRENCY= 'currency 1' THEN AMT_CREDIT_SUM ELSE 0 END) AS SUM_CREDIT_CURRENCY_currency_1_AMT_CREDIT_SUM,\n",
            "SUM(CASE WHEN CREDIT_CURRENCY= 'currency 1' THEN AMT_CREDIT_SUM_DEBT ELSE 0 END) AS SUM_CREDIT_CURRENCY_currency_1_AMT_CREDIT_SUM_DEBT,\n",
            "SUM(CASE WHEN CREDIT_CURRENCY= 'currency 1' THEN AMT_CREDIT_SUM_LIMIT ELSE 0 END) AS SUM_CREDIT_CURRENCY_currency_1_AMT_CREDIT_SUM_LIMIT,\n",
            "SUM(CASE WHEN CREDIT_CURRENCY= 'currency 1' THEN AMT_CREDIT_SUM_OVERDUE ELSE 0 END) AS SUM_CREDIT_CURRENCY_currency_1_AMT_CREDIT_SUM_OVERDUE,\n",
            "SUM(CASE WHEN CREDIT_CURRENCY= 'currency 1' THEN AMT_ANNUITY ELSE 0 END) AS SUM_CREDIT_CURRENCY_currency_1_AMT_ANNUITY,\n",
            "MIN(CASE WHEN CREDIT_CURRENCY= 'currency 4' THEN AMT_CREDIT_MAX_OVERDUE ELSE 0 END) AS MIN_CREDIT_CURRENCY_currency_4_AMT_CREDIT_MAX_OVERDUE,\n",
            "MIN(CASE WHEN CREDIT_CURRENCY= 'currency 4' THEN CNT_CREDIT_PROLONG ELSE 0 END) AS MIN_CREDIT_CURRENCY_currency_4_CNT_CREDIT_PROLONG,\n",
            "MIN(CASE WHEN CREDIT_CURRENCY= 'currency 4' THEN AMT_CREDIT_SUM ELSE 0 END) AS MIN_CREDIT_CURRENCY_currency_4_AMT_CREDIT_SUM,\n",
            "MIN(CASE WHEN CREDIT_CURRENCY= 'currency 4' THEN AMT_CREDIT_SUM_DEBT ELSE 0 END) AS MIN_CREDIT_CURRENCY_currency_4_AMT_CREDIT_SUM_DEBT,\n",
            "MIN(CASE WHEN CREDIT_CURRENCY= 'currency 4' THEN AMT_CREDIT_SUM_LIMIT ELSE 0 END) AS MIN_CREDIT_CURRENCY_currency_4_AMT_CREDIT_SUM_LIMIT,\n",
            "MIN(CASE WHEN CREDIT_CURRENCY= 'currency 4' THEN AMT_CREDIT_SUM_OVERDUE ELSE 0 END) AS MIN_CREDIT_CURRENCY_currency_4_AMT_CREDIT_SUM_OVERDUE,\n",
            "MIN(CASE WHEN CREDIT_CURRENCY= 'currency 4' THEN AMT_ANNUITY ELSE 0 END) AS MIN_CREDIT_CURRENCY_currency_4_AMT_ANNUITY,\n",
            "MIN(CASE WHEN CREDIT_CURRENCY= 'currency 3' THEN AMT_CREDIT_MAX_OVERDUE ELSE 0 END) AS MIN_CREDIT_CURRENCY_currency_3_AMT_CREDIT_MAX_OVERDUE,\n",
            "MIN(CASE WHEN CREDIT_CURRENCY= 'currency 3' THEN CNT_CREDIT_PROLONG ELSE 0 END) AS MIN_CREDIT_CURRENCY_currency_3_CNT_CREDIT_PROLONG,\n",
            "MIN(CASE WHEN CREDIT_CURRENCY= 'currency 3' THEN AMT_CREDIT_SUM ELSE 0 END) AS MIN_CREDIT_CURRENCY_currency_3_AMT_CREDIT_SUM,\n",
            "MIN(CASE WHEN CREDIT_CURRENCY= 'currency 3' THEN AMT_CREDIT_SUM_DEBT ELSE 0 END) AS MIN_CREDIT_CURRENCY_currency_3_AMT_CREDIT_SUM_DEBT,\n",
            "MIN(CASE WHEN CREDIT_CURRENCY= 'currency 3' THEN AMT_CREDIT_SUM_LIMIT ELSE 0 END) AS MIN_CREDIT_CURRENCY_currency_3_AMT_CREDIT_SUM_LIMIT,\n",
            "MIN(CASE WHEN CREDIT_CURRENCY= 'currency 3' THEN AMT_CREDIT_SUM_OVERDUE ELSE 0 END) AS MIN_CREDIT_CURRENCY_currency_3_AMT_CREDIT_SUM_OVERDUE,\n",
            "MIN(CASE WHEN CREDIT_CURRENCY= 'currency 3' THEN AMT_ANNUITY ELSE 0 END) AS MIN_CREDIT_CURRENCY_currency_3_AMT_ANNUITY,\n",
            "MIN(CASE WHEN CREDIT_CURRENCY= 'currency 2' THEN AMT_CREDIT_MAX_OVERDUE ELSE 0 END) AS MIN_CREDIT_CURRENCY_currency_2_AMT_CREDIT_MAX_OVERDUE,\n",
            "MIN(CASE WHEN CREDIT_CURRENCY= 'currency 2' THEN CNT_CREDIT_PROLONG ELSE 0 END) AS MIN_CREDIT_CURRENCY_currency_2_CNT_CREDIT_PROLONG,\n",
            "MIN(CASE WHEN CREDIT_CURRENCY= 'currency 2' THEN AMT_CREDIT_SUM ELSE 0 END) AS MIN_CREDIT_CURRENCY_currency_2_AMT_CREDIT_SUM,\n",
            "MIN(CASE WHEN CREDIT_CURRENCY= 'currency 2' THEN AMT_CREDIT_SUM_DEBT ELSE 0 END) AS MIN_CREDIT_CURRENCY_currency_2_AMT_CREDIT_SUM_DEBT,\n",
            "MIN(CASE WHEN CREDIT_CURRENCY= 'currency 2' THEN AMT_CREDIT_SUM_LIMIT ELSE 0 END) AS MIN_CREDIT_CURRENCY_currency_2_AMT_CREDIT_SUM_LIMIT,\n",
            "MIN(CASE WHEN CREDIT_CURRENCY= 'currency 2' THEN AMT_CREDIT_SUM_OVERDUE ELSE 0 END) AS MIN_CREDIT_CURRENCY_currency_2_AMT_CREDIT_SUM_OVERDUE,\n",
            "MIN(CASE WHEN CREDIT_CURRENCY= 'currency 2' THEN AMT_ANNUITY ELSE 0 END) AS MIN_CREDIT_CURRENCY_currency_2_AMT_ANNUITY,\n",
            "MIN(CASE WHEN CREDIT_CURRENCY= 'currency 1' THEN AMT_CREDIT_MAX_OVERDUE ELSE 0 END) AS MIN_CREDIT_CURRENCY_currency_1_AMT_CREDIT_MAX_OVERDUE,\n",
            "MIN(CASE WHEN CREDIT_CURRENCY= 'currency 1' THEN CNT_CREDIT_PROLONG ELSE 0 END) AS MIN_CREDIT_CURRENCY_currency_1_CNT_CREDIT_PROLONG,\n",
            "MIN(CASE WHEN CREDIT_CURRENCY= 'currency 1' THEN AMT_CREDIT_SUM ELSE 0 END) AS MIN_CREDIT_CURRENCY_currency_1_AMT_CREDIT_SUM,\n",
            "MIN(CASE WHEN CREDIT_CURRENCY= 'currency 1' THEN AMT_CREDIT_SUM_DEBT ELSE 0 END) AS MIN_CREDIT_CURRENCY_currency_1_AMT_CREDIT_SUM_DEBT,\n",
            "MIN(CASE WHEN CREDIT_CURRENCY= 'currency 1' THEN AMT_CREDIT_SUM_LIMIT ELSE 0 END) AS MIN_CREDIT_CURRENCY_currency_1_AMT_CREDIT_SUM_LIMIT,\n",
            "MIN(CASE WHEN CREDIT_CURRENCY= 'currency 1' THEN AMT_CREDIT_SUM_OVERDUE ELSE 0 END) AS MIN_CREDIT_CURRENCY_currency_1_AMT_CREDIT_SUM_OVERDUE,\n",
            "MIN(CASE WHEN CREDIT_CURRENCY= 'currency 1' THEN AMT_ANNUITY ELSE 0 END) AS MIN_CREDIT_CURRENCY_currency_1_AMT_ANNUITY,\n",
            "MAX(CASE WHEN CREDIT_CURRENCY= 'currency 4' THEN AMT_CREDIT_MAX_OVERDUE ELSE 0 END) AS MAX_CREDIT_CURRENCY_currency_4_AMT_CREDIT_MAX_OVERDUE,\n",
            "MAX(CASE WHEN CREDIT_CURRENCY= 'currency 4' THEN CNT_CREDIT_PROLONG ELSE 0 END) AS MAX_CREDIT_CURRENCY_currency_4_CNT_CREDIT_PROLONG,\n",
            "MAX(CASE WHEN CREDIT_CURRENCY= 'currency 4' THEN AMT_CREDIT_SUM ELSE 0 END) AS MAX_CREDIT_CURRENCY_currency_4_AMT_CREDIT_SUM,\n",
            "MAX(CASE WHEN CREDIT_CURRENCY= 'currency 4' THEN AMT_CREDIT_SUM_DEBT ELSE 0 END) AS MAX_CREDIT_CURRENCY_currency_4_AMT_CREDIT_SUM_DEBT,\n",
            "MAX(CASE WHEN CREDIT_CURRENCY= 'currency 4' THEN AMT_CREDIT_SUM_LIMIT ELSE 0 END) AS MAX_CREDIT_CURRENCY_currency_4_AMT_CREDIT_SUM_LIMIT,\n",
            "MAX(CASE WHEN CREDIT_CURRENCY= 'currency 4' THEN AMT_CREDIT_SUM_OVERDUE ELSE 0 END) AS MAX_CREDIT_CURRENCY_currency_4_AMT_CREDIT_SUM_OVERDUE,\n",
            "MAX(CASE WHEN CREDIT_CURRENCY= 'currency 4' THEN AMT_ANNUITY ELSE 0 END) AS MAX_CREDIT_CURRENCY_currency_4_AMT_ANNUITY,\n",
            "MAX(CASE WHEN CREDIT_CURRENCY= 'currency 3' THEN AMT_CREDIT_MAX_OVERDUE ELSE 0 END) AS MAX_CREDIT_CURRENCY_currency_3_AMT_CREDIT_MAX_OVERDUE,\n",
            "MAX(CASE WHEN CREDIT_CURRENCY= 'currency 3' THEN CNT_CREDIT_PROLONG ELSE 0 END) AS MAX_CREDIT_CURRENCY_currency_3_CNT_CREDIT_PROLONG,\n",
            "MAX(CASE WHEN CREDIT_CURRENCY= 'currency 3' THEN AMT_CREDIT_SUM ELSE 0 END) AS MAX_CREDIT_CURRENCY_currency_3_AMT_CREDIT_SUM,\n",
            "MAX(CASE WHEN CREDIT_CURRENCY= 'currency 3' THEN AMT_CREDIT_SUM_DEBT ELSE 0 END) AS MAX_CREDIT_CURRENCY_currency_3_AMT_CREDIT_SUM_DEBT,\n",
            "MAX(CASE WHEN CREDIT_CURRENCY= 'currency 3' THEN AMT_CREDIT_SUM_LIMIT ELSE 0 END) AS MAX_CREDIT_CURRENCY_currency_3_AMT_CREDIT_SUM_LIMIT,\n",
            "MAX(CASE WHEN CREDIT_CURRENCY= 'currency 3' THEN AMT_CREDIT_SUM_OVERDUE ELSE 0 END) AS MAX_CREDIT_CURRENCY_currency_3_AMT_CREDIT_SUM_OVERDUE,\n",
            "MAX(CASE WHEN CREDIT_CURRENCY= 'currency 3' THEN AMT_ANNUITY ELSE 0 END) AS MAX_CREDIT_CURRENCY_currency_3_AMT_ANNUITY,\n",
            "MAX(CASE WHEN CREDIT_CURRENCY= 'currency 2' THEN AMT_CREDIT_MAX_OVERDUE ELSE 0 END) AS MAX_CREDIT_CURRENCY_currency_2_AMT_CREDIT_MAX_OVERDUE,\n",
            "MAX(CASE WHEN CREDIT_CURRENCY= 'currency 2' THEN CNT_CREDIT_PROLONG ELSE 0 END) AS MAX_CREDIT_CURRENCY_currency_2_CNT_CREDIT_PROLONG,\n",
            "MAX(CASE WHEN CREDIT_CURRENCY= 'currency 2' THEN AMT_CREDIT_SUM ELSE 0 END) AS MAX_CREDIT_CURRENCY_currency_2_AMT_CREDIT_SUM,\n",
            "MAX(CASE WHEN CREDIT_CURRENCY= 'currency 2' THEN AMT_CREDIT_SUM_DEBT ELSE 0 END) AS MAX_CREDIT_CURRENCY_currency_2_AMT_CREDIT_SUM_DEBT,\n",
            "MAX(CASE WHEN CREDIT_CURRENCY= 'currency 2' THEN AMT_CREDIT_SUM_LIMIT ELSE 0 END) AS MAX_CREDIT_CURRENCY_currency_2_AMT_CREDIT_SUM_LIMIT,\n",
            "MAX(CASE WHEN CREDIT_CURRENCY= 'currency 2' THEN AMT_CREDIT_SUM_OVERDUE ELSE 0 END) AS MAX_CREDIT_CURRENCY_currency_2_AMT_CREDIT_SUM_OVERDUE,\n",
            "MAX(CASE WHEN CREDIT_CURRENCY= 'currency 2' THEN AMT_ANNUITY ELSE 0 END) AS MAX_CREDIT_CURRENCY_currency_2_AMT_ANNUITY,\n",
            "MAX(CASE WHEN CREDIT_CURRENCY= 'currency 1' THEN AMT_CREDIT_MAX_OVERDUE ELSE 0 END) AS MAX_CREDIT_CURRENCY_currency_1_AMT_CREDIT_MAX_OVERDUE,\n",
            "MAX(CASE WHEN CREDIT_CURRENCY= 'currency 1' THEN CNT_CREDIT_PROLONG ELSE 0 END) AS MAX_CREDIT_CURRENCY_currency_1_CNT_CREDIT_PROLONG,\n",
            "MAX(CASE WHEN CREDIT_CURRENCY= 'currency 1' THEN AMT_CREDIT_SUM ELSE 0 END) AS MAX_CREDIT_CURRENCY_currency_1_AMT_CREDIT_SUM,\n",
            "MAX(CASE WHEN CREDIT_CURRENCY= 'currency 1' THEN AMT_CREDIT_SUM_DEBT ELSE 0 END) AS MAX_CREDIT_CURRENCY_currency_1_AMT_CREDIT_SUM_DEBT,\n",
            "MAX(CASE WHEN CREDIT_CURRENCY= 'currency 1' THEN AMT_CREDIT_SUM_LIMIT ELSE 0 END) AS MAX_CREDIT_CURRENCY_currency_1_AMT_CREDIT_SUM_LIMIT,\n",
            "MAX(CASE WHEN CREDIT_CURRENCY= 'currency 1' THEN AMT_CREDIT_SUM_OVERDUE ELSE 0 END) AS MAX_CREDIT_CURRENCY_currency_1_AMT_CREDIT_SUM_OVERDUE,\n",
            "MAX(CASE WHEN CREDIT_CURRENCY= 'currency 1' THEN AMT_ANNUITY ELSE 0 END) AS MAX_CREDIT_CURRENCY_currency_1_AMT_ANNUITY,\n",
            "AVG(CASE WHEN CREDIT_CURRENCY= 'currency 4' THEN AMT_CREDIT_MAX_OVERDUE ELSE 0 END) AS AVG_CREDIT_CURRENCY_currency_4_AMT_CREDIT_MAX_OVERDUE,\n",
            "AVG(CASE WHEN CREDIT_CURRENCY= 'currency 4' THEN CNT_CREDIT_PROLONG ELSE 0 END) AS AVG_CREDIT_CURRENCY_currency_4_CNT_CREDIT_PROLONG,\n",
            "AVG(CASE WHEN CREDIT_CURRENCY= 'currency 4' THEN AMT_CREDIT_SUM ELSE 0 END) AS AVG_CREDIT_CURRENCY_currency_4_AMT_CREDIT_SUM,\n",
            "AVG(CASE WHEN CREDIT_CURRENCY= 'currency 4' THEN AMT_CREDIT_SUM_DEBT ELSE 0 END) AS AVG_CREDIT_CURRENCY_currency_4_AMT_CREDIT_SUM_DEBT,\n",
            "AVG(CASE WHEN CREDIT_CURRENCY= 'currency 4' THEN AMT_CREDIT_SUM_LIMIT ELSE 0 END) AS AVG_CREDIT_CURRENCY_currency_4_AMT_CREDIT_SUM_LIMIT,\n",
            "AVG(CASE WHEN CREDIT_CURRENCY= 'currency 4' THEN AMT_CREDIT_SUM_OVERDUE ELSE 0 END) AS AVG_CREDIT_CURRENCY_currency_4_AMT_CREDIT_SUM_OVERDUE,\n",
            "AVG(CASE WHEN CREDIT_CURRENCY= 'currency 4' THEN AMT_ANNUITY ELSE 0 END) AS AVG_CREDIT_CURRENCY_currency_4_AMT_ANNUITY,\n",
            "AVG(CASE WHEN CREDIT_CURRENCY= 'currency 3' THEN AMT_CREDIT_MAX_OVERDUE ELSE 0 END) AS AVG_CREDIT_CURRENCY_currency_3_AMT_CREDIT_MAX_OVERDUE,\n",
            "AVG(CASE WHEN CREDIT_CURRENCY= 'currency 3' THEN CNT_CREDIT_PROLONG ELSE 0 END) AS AVG_CREDIT_CURRENCY_currency_3_CNT_CREDIT_PROLONG,\n",
            "AVG(CASE WHEN CREDIT_CURRENCY= 'currency 3' THEN AMT_CREDIT_SUM ELSE 0 END) AS AVG_CREDIT_CURRENCY_currency_3_AMT_CREDIT_SUM,\n",
            "AVG(CASE WHEN CREDIT_CURRENCY= 'currency 3' THEN AMT_CREDIT_SUM_DEBT ELSE 0 END) AS AVG_CREDIT_CURRENCY_currency_3_AMT_CREDIT_SUM_DEBT,\n",
            "AVG(CASE WHEN CREDIT_CURRENCY= 'currency 3' THEN AMT_CREDIT_SUM_LIMIT ELSE 0 END) AS AVG_CREDIT_CURRENCY_currency_3_AMT_CREDIT_SUM_LIMIT,\n",
            "AVG(CASE WHEN CREDIT_CURRENCY= 'currency 3' THEN AMT_CREDIT_SUM_OVERDUE ELSE 0 END) AS AVG_CREDIT_CURRENCY_currency_3_AMT_CREDIT_SUM_OVERDUE,\n",
            "AVG(CASE WHEN CREDIT_CURRENCY= 'currency 3' THEN AMT_ANNUITY ELSE 0 END) AS AVG_CREDIT_CURRENCY_currency_3_AMT_ANNUITY,\n",
            "AVG(CASE WHEN CREDIT_CURRENCY= 'currency 2' THEN AMT_CREDIT_MAX_OVERDUE ELSE 0 END) AS AVG_CREDIT_CURRENCY_currency_2_AMT_CREDIT_MAX_OVERDUE,\n",
            "AVG(CASE WHEN CREDIT_CURRENCY= 'currency 2' THEN CNT_CREDIT_PROLONG ELSE 0 END) AS AVG_CREDIT_CURRENCY_currency_2_CNT_CREDIT_PROLONG,\n",
            "AVG(CASE WHEN CREDIT_CURRENCY= 'currency 2' THEN AMT_CREDIT_SUM ELSE 0 END) AS AVG_CREDIT_CURRENCY_currency_2_AMT_CREDIT_SUM,\n",
            "AVG(CASE WHEN CREDIT_CURRENCY= 'currency 2' THEN AMT_CREDIT_SUM_DEBT ELSE 0 END) AS AVG_CREDIT_CURRENCY_currency_2_AMT_CREDIT_SUM_DEBT,\n",
            "AVG(CASE WHEN CREDIT_CURRENCY= 'currency 2' THEN AMT_CREDIT_SUM_LIMIT ELSE 0 END) AS AVG_CREDIT_CURRENCY_currency_2_AMT_CREDIT_SUM_LIMIT,\n",
            "AVG(CASE WHEN CREDIT_CURRENCY= 'currency 2' THEN AMT_CREDIT_SUM_OVERDUE ELSE 0 END) AS AVG_CREDIT_CURRENCY_currency_2_AMT_CREDIT_SUM_OVERDUE,\n",
            "AVG(CASE WHEN CREDIT_CURRENCY= 'currency 2' THEN AMT_ANNUITY ELSE 0 END) AS AVG_CREDIT_CURRENCY_currency_2_AMT_ANNUITY,\n",
            "AVG(CASE WHEN CREDIT_CURRENCY= 'currency 1' THEN AMT_CREDIT_MAX_OVERDUE ELSE 0 END) AS AVG_CREDIT_CURRENCY_currency_1_AMT_CREDIT_MAX_OVERDUE,\n",
            "AVG(CASE WHEN CREDIT_CURRENCY= 'currency 1' THEN CNT_CREDIT_PROLONG ELSE 0 END) AS AVG_CREDIT_CURRENCY_currency_1_CNT_CREDIT_PROLONG,\n",
            "AVG(CASE WHEN CREDIT_CURRENCY= 'currency 1' THEN AMT_CREDIT_SUM ELSE 0 END) AS AVG_CREDIT_CURRENCY_currency_1_AMT_CREDIT_SUM,\n",
            "AVG(CASE WHEN CREDIT_CURRENCY= 'currency 1' THEN AMT_CREDIT_SUM_DEBT ELSE 0 END) AS AVG_CREDIT_CURRENCY_currency_1_AMT_CREDIT_SUM_DEBT,\n",
            "AVG(CASE WHEN CREDIT_CURRENCY= 'currency 1' THEN AMT_CREDIT_SUM_LIMIT ELSE 0 END) AS AVG_CREDIT_CURRENCY_currency_1_AMT_CREDIT_SUM_LIMIT,\n",
            "AVG(CASE WHEN CREDIT_CURRENCY= 'currency 1' THEN AMT_CREDIT_SUM_OVERDUE ELSE 0 END) AS AVG_CREDIT_CURRENCY_currency_1_AMT_CREDIT_SUM_OVERDUE,\n",
            "AVG(CASE WHEN CREDIT_CURRENCY= 'currency 1' THEN AMT_ANNUITY ELSE 0 END) AS AVG_CREDIT_CURRENCY_currency_1_AMT_ANNUITY,\n"
          ]
        }
      ]
    },
    {
      "cell_type": "markdown",
      "source": [
        "- Criando o dataframe df_bureau_credit_currency_num"
      ],
      "metadata": {
        "id": "F_z-eE9cs6Gh"
      }
    },
    {
      "cell_type": "code",
      "source": [
        "df_bureau_credit_currency_num = spark.sql(\"\"\"\n",
        "SELECT\n",
        "  SK_ID_CURR,\n",
        "  SUM(CASE WHEN CREDIT_CURRENCY= 'currency 4' THEN AMT_CREDIT_MAX_OVERDUE ELSE 0 END) AS SUM_CREDIT_CURRENCY_currency_4_AMT_CREDIT_MAX_OVERDUE,\n",
        "SUM(CASE WHEN CREDIT_CURRENCY= 'currency 4' THEN CNT_CREDIT_PROLONG ELSE 0 END) AS SUM_CREDIT_CURRENCY_currency_4_CNT_CREDIT_PROLONG,\n",
        "SUM(CASE WHEN CREDIT_CURRENCY= 'currency 4' THEN AMT_CREDIT_SUM ELSE 0 END) AS SUM_CREDIT_CURRENCY_currency_4_AMT_CREDIT_SUM,\n",
        "SUM(CASE WHEN CREDIT_CURRENCY= 'currency 4' THEN AMT_CREDIT_SUM_DEBT ELSE 0 END) AS SUM_CREDIT_CURRENCY_currency_4_AMT_CREDIT_SUM_DEBT,\n",
        "SUM(CASE WHEN CREDIT_CURRENCY= 'currency 4' THEN AMT_CREDIT_SUM_LIMIT ELSE 0 END) AS SUM_CREDIT_CURRENCY_currency_4_AMT_CREDIT_SUM_LIMIT,\n",
        "SUM(CASE WHEN CREDIT_CURRENCY= 'currency 4' THEN AMT_CREDIT_SUM_OVERDUE ELSE 0 END) AS SUM_CREDIT_CURRENCY_currency_4_AMT_CREDIT_SUM_OVERDUE,\n",
        "SUM(CASE WHEN CREDIT_CURRENCY= 'currency 4' THEN AMT_ANNUITY ELSE 0 END) AS SUM_CREDIT_CURRENCY_currency_4_AMT_ANNUITY,\n",
        "SUM(CASE WHEN CREDIT_CURRENCY= 'currency 3' THEN AMT_CREDIT_MAX_OVERDUE ELSE 0 END) AS SUM_CREDIT_CURRENCY_currency_3_AMT_CREDIT_MAX_OVERDUE,\n",
        "SUM(CASE WHEN CREDIT_CURRENCY= 'currency 3' THEN CNT_CREDIT_PROLONG ELSE 0 END) AS SUM_CREDIT_CURRENCY_currency_3_CNT_CREDIT_PROLONG,\n",
        "SUM(CASE WHEN CREDIT_CURRENCY= 'currency 3' THEN AMT_CREDIT_SUM ELSE 0 END) AS SUM_CREDIT_CURRENCY_currency_3_AMT_CREDIT_SUM,\n",
        "SUM(CASE WHEN CREDIT_CURRENCY= 'currency 3' THEN AMT_CREDIT_SUM_DEBT ELSE 0 END) AS SUM_CREDIT_CURRENCY_currency_3_AMT_CREDIT_SUM_DEBT,\n",
        "SUM(CASE WHEN CREDIT_CURRENCY= 'currency 3' THEN AMT_CREDIT_SUM_LIMIT ELSE 0 END) AS SUM_CREDIT_CURRENCY_currency_3_AMT_CREDIT_SUM_LIMIT,\n",
        "SUM(CASE WHEN CREDIT_CURRENCY= 'currency 3' THEN AMT_CREDIT_SUM_OVERDUE ELSE 0 END) AS SUM_CREDIT_CURRENCY_currency_3_AMT_CREDIT_SUM_OVERDUE,\n",
        "SUM(CASE WHEN CREDIT_CURRENCY= 'currency 3' THEN AMT_ANNUITY ELSE 0 END) AS SUM_CREDIT_CURRENCY_currency_3_AMT_ANNUITY,\n",
        "SUM(CASE WHEN CREDIT_CURRENCY= 'currency 2' THEN AMT_CREDIT_MAX_OVERDUE ELSE 0 END) AS SUM_CREDIT_CURRENCY_currency_2_AMT_CREDIT_MAX_OVERDUE,\n",
        "SUM(CASE WHEN CREDIT_CURRENCY= 'currency 2' THEN CNT_CREDIT_PROLONG ELSE 0 END) AS SUM_CREDIT_CURRENCY_currency_2_CNT_CREDIT_PROLONG,\n",
        "SUM(CASE WHEN CREDIT_CURRENCY= 'currency 2' THEN AMT_CREDIT_SUM ELSE 0 END) AS SUM_CREDIT_CURRENCY_currency_2_AMT_CREDIT_SUM,\n",
        "SUM(CASE WHEN CREDIT_CURRENCY= 'currency 2' THEN AMT_CREDIT_SUM_DEBT ELSE 0 END) AS SUM_CREDIT_CURRENCY_currency_2_AMT_CREDIT_SUM_DEBT,\n",
        "SUM(CASE WHEN CREDIT_CURRENCY= 'currency 2' THEN AMT_CREDIT_SUM_LIMIT ELSE 0 END) AS SUM_CREDIT_CURRENCY_currency_2_AMT_CREDIT_SUM_LIMIT,\n",
        "SUM(CASE WHEN CREDIT_CURRENCY= 'currency 2' THEN AMT_CREDIT_SUM_OVERDUE ELSE 0 END) AS SUM_CREDIT_CURRENCY_currency_2_AMT_CREDIT_SUM_OVERDUE,\n",
        "SUM(CASE WHEN CREDIT_CURRENCY= 'currency 2' THEN AMT_ANNUITY ELSE 0 END) AS SUM_CREDIT_CURRENCY_currency_2_AMT_ANNUITY,\n",
        "SUM(CASE WHEN CREDIT_CURRENCY= 'currency 1' THEN AMT_CREDIT_MAX_OVERDUE ELSE 0 END) AS SUM_CREDIT_CURRENCY_currency_1_AMT_CREDIT_MAX_OVERDUE,\n",
        "SUM(CASE WHEN CREDIT_CURRENCY= 'currency 1' THEN CNT_CREDIT_PROLONG ELSE 0 END) AS SUM_CREDIT_CURRENCY_currency_1_CNT_CREDIT_PROLONG,\n",
        "SUM(CASE WHEN CREDIT_CURRENCY= 'currency 1' THEN AMT_CREDIT_SUM ELSE 0 END) AS SUM_CREDIT_CURRENCY_currency_1_AMT_CREDIT_SUM,\n",
        "SUM(CASE WHEN CREDIT_CURRENCY= 'currency 1' THEN AMT_CREDIT_SUM_DEBT ELSE 0 END) AS SUM_CREDIT_CURRENCY_currency_1_AMT_CREDIT_SUM_DEBT,\n",
        "SUM(CASE WHEN CREDIT_CURRENCY= 'currency 1' THEN AMT_CREDIT_SUM_LIMIT ELSE 0 END) AS SUM_CREDIT_CURRENCY_currency_1_AMT_CREDIT_SUM_LIMIT,\n",
        "SUM(CASE WHEN CREDIT_CURRENCY= 'currency 1' THEN AMT_CREDIT_SUM_OVERDUE ELSE 0 END) AS SUM_CREDIT_CURRENCY_currency_1_AMT_CREDIT_SUM_OVERDUE,\n",
        "SUM(CASE WHEN CREDIT_CURRENCY= 'currency 1' THEN AMT_ANNUITY ELSE 0 END) AS SUM_CREDIT_CURRENCY_currency_1_AMT_ANNUITY,\n",
        "MIN(CASE WHEN CREDIT_CURRENCY= 'currency 4' THEN AMT_CREDIT_MAX_OVERDUE ELSE 0 END) AS MIN_CREDIT_CURRENCY_currency_4_AMT_CREDIT_MAX_OVERDUE,\n",
        "MIN(CASE WHEN CREDIT_CURRENCY= 'currency 4' THEN CNT_CREDIT_PROLONG ELSE 0 END) AS MIN_CREDIT_CURRENCY_currency_4_CNT_CREDIT_PROLONG,\n",
        "MIN(CASE WHEN CREDIT_CURRENCY= 'currency 4' THEN AMT_CREDIT_SUM ELSE 0 END) AS MIN_CREDIT_CURRENCY_currency_4_AMT_CREDIT_SUM,\n",
        "MIN(CASE WHEN CREDIT_CURRENCY= 'currency 4' THEN AMT_CREDIT_SUM_DEBT ELSE 0 END) AS MIN_CREDIT_CURRENCY_currency_4_AMT_CREDIT_SUM_DEBT,\n",
        "MIN(CASE WHEN CREDIT_CURRENCY= 'currency 4' THEN AMT_CREDIT_SUM_LIMIT ELSE 0 END) AS MIN_CREDIT_CURRENCY_currency_4_AMT_CREDIT_SUM_LIMIT,\n",
        "MIN(CASE WHEN CREDIT_CURRENCY= 'currency 4' THEN AMT_CREDIT_SUM_OVERDUE ELSE 0 END) AS MIN_CREDIT_CURRENCY_currency_4_AMT_CREDIT_SUM_OVERDUE,\n",
        "MIN(CASE WHEN CREDIT_CURRENCY= 'currency 4' THEN AMT_ANNUITY ELSE 0 END) AS MIN_CREDIT_CURRENCY_currency_4_AMT_ANNUITY,\n",
        "MIN(CASE WHEN CREDIT_CURRENCY= 'currency 3' THEN AMT_CREDIT_MAX_OVERDUE ELSE 0 END) AS MIN_CREDIT_CURRENCY_currency_3_AMT_CREDIT_MAX_OVERDUE,\n",
        "MIN(CASE WHEN CREDIT_CURRENCY= 'currency 3' THEN CNT_CREDIT_PROLONG ELSE 0 END) AS MIN_CREDIT_CURRENCY_currency_3_CNT_CREDIT_PROLONG,\n",
        "MIN(CASE WHEN CREDIT_CURRENCY= 'currency 3' THEN AMT_CREDIT_SUM ELSE 0 END) AS MIN_CREDIT_CURRENCY_currency_3_AMT_CREDIT_SUM,\n",
        "MIN(CASE WHEN CREDIT_CURRENCY= 'currency 3' THEN AMT_CREDIT_SUM_DEBT ELSE 0 END) AS MIN_CREDIT_CURRENCY_currency_3_AMT_CREDIT_SUM_DEBT,\n",
        "MIN(CASE WHEN CREDIT_CURRENCY= 'currency 3' THEN AMT_CREDIT_SUM_LIMIT ELSE 0 END) AS MIN_CREDIT_CURRENCY_currency_3_AMT_CREDIT_SUM_LIMIT,\n",
        "MIN(CASE WHEN CREDIT_CURRENCY= 'currency 3' THEN AMT_CREDIT_SUM_OVERDUE ELSE 0 END) AS MIN_CREDIT_CURRENCY_currency_3_AMT_CREDIT_SUM_OVERDUE,\n",
        "MIN(CASE WHEN CREDIT_CURRENCY= 'currency 3' THEN AMT_ANNUITY ELSE 0 END) AS MIN_CREDIT_CURRENCY_currency_3_AMT_ANNUITY,\n",
        "MIN(CASE WHEN CREDIT_CURRENCY= 'currency 2' THEN AMT_CREDIT_MAX_OVERDUE ELSE 0 END) AS MIN_CREDIT_CURRENCY_currency_2_AMT_CREDIT_MAX_OVERDUE,\n",
        "MIN(CASE WHEN CREDIT_CURRENCY= 'currency 2' THEN CNT_CREDIT_PROLONG ELSE 0 END) AS MIN_CREDIT_CURRENCY_currency_2_CNT_CREDIT_PROLONG,\n",
        "MIN(CASE WHEN CREDIT_CURRENCY= 'currency 2' THEN AMT_CREDIT_SUM ELSE 0 END) AS MIN_CREDIT_CURRENCY_currency_2_AMT_CREDIT_SUM,\n",
        "MIN(CASE WHEN CREDIT_CURRENCY= 'currency 2' THEN AMT_CREDIT_SUM_DEBT ELSE 0 END) AS MIN_CREDIT_CURRENCY_currency_2_AMT_CREDIT_SUM_DEBT,\n",
        "MIN(CASE WHEN CREDIT_CURRENCY= 'currency 2' THEN AMT_CREDIT_SUM_LIMIT ELSE 0 END) AS MIN_CREDIT_CURRENCY_currency_2_AMT_CREDIT_SUM_LIMIT,\n",
        "MIN(CASE WHEN CREDIT_CURRENCY= 'currency 2' THEN AMT_CREDIT_SUM_OVERDUE ELSE 0 END) AS MIN_CREDIT_CURRENCY_currency_2_AMT_CREDIT_SUM_OVERDUE,\n",
        "MIN(CASE WHEN CREDIT_CURRENCY= 'currency 2' THEN AMT_ANNUITY ELSE 0 END) AS MIN_CREDIT_CURRENCY_currency_2_AMT_ANNUITY,\n",
        "MIN(CASE WHEN CREDIT_CURRENCY= 'currency 1' THEN AMT_CREDIT_MAX_OVERDUE ELSE 0 END) AS MIN_CREDIT_CURRENCY_currency_1_AMT_CREDIT_MAX_OVERDUE,\n",
        "MIN(CASE WHEN CREDIT_CURRENCY= 'currency 1' THEN CNT_CREDIT_PROLONG ELSE 0 END) AS MIN_CREDIT_CURRENCY_currency_1_CNT_CREDIT_PROLONG,\n",
        "MIN(CASE WHEN CREDIT_CURRENCY= 'currency 1' THEN AMT_CREDIT_SUM ELSE 0 END) AS MIN_CREDIT_CURRENCY_currency_1_AMT_CREDIT_SUM,\n",
        "MIN(CASE WHEN CREDIT_CURRENCY= 'currency 1' THEN AMT_CREDIT_SUM_DEBT ELSE 0 END) AS MIN_CREDIT_CURRENCY_currency_1_AMT_CREDIT_SUM_DEBT,\n",
        "MIN(CASE WHEN CREDIT_CURRENCY= 'currency 1' THEN AMT_CREDIT_SUM_LIMIT ELSE 0 END) AS MIN_CREDIT_CURRENCY_currency_1_AMT_CREDIT_SUM_LIMIT,\n",
        "MIN(CASE WHEN CREDIT_CURRENCY= 'currency 1' THEN AMT_CREDIT_SUM_OVERDUE ELSE 0 END) AS MIN_CREDIT_CURRENCY_currency_1_AMT_CREDIT_SUM_OVERDUE,\n",
        "MIN(CASE WHEN CREDIT_CURRENCY= 'currency 1' THEN AMT_ANNUITY ELSE 0 END) AS MIN_CREDIT_CURRENCY_currency_1_AMT_ANNUITY,\n",
        "MAX(CASE WHEN CREDIT_CURRENCY= 'currency 4' THEN AMT_CREDIT_MAX_OVERDUE ELSE 0 END) AS MAX_CREDIT_CURRENCY_currency_4_AMT_CREDIT_MAX_OVERDUE,\n",
        "MAX(CASE WHEN CREDIT_CURRENCY= 'currency 4' THEN CNT_CREDIT_PROLONG ELSE 0 END) AS MAX_CREDIT_CURRENCY_currency_4_CNT_CREDIT_PROLONG,\n",
        "MAX(CASE WHEN CREDIT_CURRENCY= 'currency 4' THEN AMT_CREDIT_SUM ELSE 0 END) AS MAX_CREDIT_CURRENCY_currency_4_AMT_CREDIT_SUM,\n",
        "MAX(CASE WHEN CREDIT_CURRENCY= 'currency 4' THEN AMT_CREDIT_SUM_DEBT ELSE 0 END) AS MAX_CREDIT_CURRENCY_currency_4_AMT_CREDIT_SUM_DEBT,\n",
        "MAX(CASE WHEN CREDIT_CURRENCY= 'currency 4' THEN AMT_CREDIT_SUM_LIMIT ELSE 0 END) AS MAX_CREDIT_CURRENCY_currency_4_AMT_CREDIT_SUM_LIMIT,\n",
        "MAX(CASE WHEN CREDIT_CURRENCY= 'currency 4' THEN AMT_CREDIT_SUM_OVERDUE ELSE 0 END) AS MAX_CREDIT_CURRENCY_currency_4_AMT_CREDIT_SUM_OVERDUE,\n",
        "MAX(CASE WHEN CREDIT_CURRENCY= 'currency 4' THEN AMT_ANNUITY ELSE 0 END) AS MAX_CREDIT_CURRENCY_currency_4_AMT_ANNUITY,\n",
        "MAX(CASE WHEN CREDIT_CURRENCY= 'currency 3' THEN AMT_CREDIT_MAX_OVERDUE ELSE 0 END) AS MAX_CREDIT_CURRENCY_currency_3_AMT_CREDIT_MAX_OVERDUE,\n",
        "MAX(CASE WHEN CREDIT_CURRENCY= 'currency 3' THEN CNT_CREDIT_PROLONG ELSE 0 END) AS MAX_CREDIT_CURRENCY_currency_3_CNT_CREDIT_PROLONG,\n",
        "MAX(CASE WHEN CREDIT_CURRENCY= 'currency 3' THEN AMT_CREDIT_SUM ELSE 0 END) AS MAX_CREDIT_CURRENCY_currency_3_AMT_CREDIT_SUM,\n",
        "MAX(CASE WHEN CREDIT_CURRENCY= 'currency 3' THEN AMT_CREDIT_SUM_DEBT ELSE 0 END) AS MAX_CREDIT_CURRENCY_currency_3_AMT_CREDIT_SUM_DEBT,\n",
        "MAX(CASE WHEN CREDIT_CURRENCY= 'currency 3' THEN AMT_CREDIT_SUM_LIMIT ELSE 0 END) AS MAX_CREDIT_CURRENCY_currency_3_AMT_CREDIT_SUM_LIMIT,\n",
        "MAX(CASE WHEN CREDIT_CURRENCY= 'currency 3' THEN AMT_CREDIT_SUM_OVERDUE ELSE 0 END) AS MAX_CREDIT_CURRENCY_currency_3_AMT_CREDIT_SUM_OVERDUE,\n",
        "MAX(CASE WHEN CREDIT_CURRENCY= 'currency 3' THEN AMT_ANNUITY ELSE 0 END) AS MAX_CREDIT_CURRENCY_currency_3_AMT_ANNUITY,\n",
        "MAX(CASE WHEN CREDIT_CURRENCY= 'currency 2' THEN AMT_CREDIT_MAX_OVERDUE ELSE 0 END) AS MAX_CREDIT_CURRENCY_currency_2_AMT_CREDIT_MAX_OVERDUE,\n",
        "MAX(CASE WHEN CREDIT_CURRENCY= 'currency 2' THEN CNT_CREDIT_PROLONG ELSE 0 END) AS MAX_CREDIT_CURRENCY_currency_2_CNT_CREDIT_PROLONG,\n",
        "MAX(CASE WHEN CREDIT_CURRENCY= 'currency 2' THEN AMT_CREDIT_SUM ELSE 0 END) AS MAX_CREDIT_CURRENCY_currency_2_AMT_CREDIT_SUM,\n",
        "MAX(CASE WHEN CREDIT_CURRENCY= 'currency 2' THEN AMT_CREDIT_SUM_DEBT ELSE 0 END) AS MAX_CREDIT_CURRENCY_currency_2_AMT_CREDIT_SUM_DEBT,\n",
        "MAX(CASE WHEN CREDIT_CURRENCY= 'currency 2' THEN AMT_CREDIT_SUM_LIMIT ELSE 0 END) AS MAX_CREDIT_CURRENCY_currency_2_AMT_CREDIT_SUM_LIMIT,\n",
        "MAX(CASE WHEN CREDIT_CURRENCY= 'currency 2' THEN AMT_CREDIT_SUM_OVERDUE ELSE 0 END) AS MAX_CREDIT_CURRENCY_currency_2_AMT_CREDIT_SUM_OVERDUE,\n",
        "MAX(CASE WHEN CREDIT_CURRENCY= 'currency 2' THEN AMT_ANNUITY ELSE 0 END) AS MAX_CREDIT_CURRENCY_currency_2_AMT_ANNUITY,\n",
        "MAX(CASE WHEN CREDIT_CURRENCY= 'currency 1' THEN AMT_CREDIT_MAX_OVERDUE ELSE 0 END) AS MAX_CREDIT_CURRENCY_currency_1_AMT_CREDIT_MAX_OVERDUE,\n",
        "MAX(CASE WHEN CREDIT_CURRENCY= 'currency 1' THEN CNT_CREDIT_PROLONG ELSE 0 END) AS MAX_CREDIT_CURRENCY_currency_1_CNT_CREDIT_PROLONG,\n",
        "MAX(CASE WHEN CREDIT_CURRENCY= 'currency 1' THEN AMT_CREDIT_SUM ELSE 0 END) AS MAX_CREDIT_CURRENCY_currency_1_AMT_CREDIT_SUM,\n",
        "MAX(CASE WHEN CREDIT_CURRENCY= 'currency 1' THEN AMT_CREDIT_SUM_DEBT ELSE 0 END) AS MAX_CREDIT_CURRENCY_currency_1_AMT_CREDIT_SUM_DEBT,\n",
        "MAX(CASE WHEN CREDIT_CURRENCY= 'currency 1' THEN AMT_CREDIT_SUM_LIMIT ELSE 0 END) AS MAX_CREDIT_CURRENCY_currency_1_AMT_CREDIT_SUM_LIMIT,\n",
        "MAX(CASE WHEN CREDIT_CURRENCY= 'currency 1' THEN AMT_CREDIT_SUM_OVERDUE ELSE 0 END) AS MAX_CREDIT_CURRENCY_currency_1_AMT_CREDIT_SUM_OVERDUE,\n",
        "MAX(CASE WHEN CREDIT_CURRENCY= 'currency 1' THEN AMT_ANNUITY ELSE 0 END) AS MAX_CREDIT_CURRENCY_currency_1_AMT_ANNUITY,\n",
        "AVG(CASE WHEN CREDIT_CURRENCY= 'currency 4' THEN AMT_CREDIT_MAX_OVERDUE ELSE 0 END) AS AVG_CREDIT_CURRENCY_currency_4_AMT_CREDIT_MAX_OVERDUE,\n",
        "AVG(CASE WHEN CREDIT_CURRENCY= 'currency 4' THEN CNT_CREDIT_PROLONG ELSE 0 END) AS AVG_CREDIT_CURRENCY_currency_4_CNT_CREDIT_PROLONG,\n",
        "AVG(CASE WHEN CREDIT_CURRENCY= 'currency 4' THEN AMT_CREDIT_SUM ELSE 0 END) AS AVG_CREDIT_CURRENCY_currency_4_AMT_CREDIT_SUM,\n",
        "AVG(CASE WHEN CREDIT_CURRENCY= 'currency 4' THEN AMT_CREDIT_SUM_DEBT ELSE 0 END) AS AVG_CREDIT_CURRENCY_currency_4_AMT_CREDIT_SUM_DEBT,\n",
        "AVG(CASE WHEN CREDIT_CURRENCY= 'currency 4' THEN AMT_CREDIT_SUM_LIMIT ELSE 0 END) AS AVG_CREDIT_CURRENCY_currency_4_AMT_CREDIT_SUM_LIMIT,\n",
        "AVG(CASE WHEN CREDIT_CURRENCY= 'currency 4' THEN AMT_CREDIT_SUM_OVERDUE ELSE 0 END) AS AVG_CREDIT_CURRENCY_currency_4_AMT_CREDIT_SUM_OVERDUE,\n",
        "AVG(CASE WHEN CREDIT_CURRENCY= 'currency 4' THEN AMT_ANNUITY ELSE 0 END) AS AVG_CREDIT_CURRENCY_currency_4_AMT_ANNUITY,\n",
        "AVG(CASE WHEN CREDIT_CURRENCY= 'currency 3' THEN AMT_CREDIT_MAX_OVERDUE ELSE 0 END) AS AVG_CREDIT_CURRENCY_currency_3_AMT_CREDIT_MAX_OVERDUE,\n",
        "AVG(CASE WHEN CREDIT_CURRENCY= 'currency 3' THEN CNT_CREDIT_PROLONG ELSE 0 END) AS AVG_CREDIT_CURRENCY_currency_3_CNT_CREDIT_PROLONG,\n",
        "AVG(CASE WHEN CREDIT_CURRENCY= 'currency 3' THEN AMT_CREDIT_SUM ELSE 0 END) AS AVG_CREDIT_CURRENCY_currency_3_AMT_CREDIT_SUM,\n",
        "AVG(CASE WHEN CREDIT_CURRENCY= 'currency 3' THEN AMT_CREDIT_SUM_DEBT ELSE 0 END) AS AVG_CREDIT_CURRENCY_currency_3_AMT_CREDIT_SUM_DEBT,\n",
        "AVG(CASE WHEN CREDIT_CURRENCY= 'currency 3' THEN AMT_CREDIT_SUM_LIMIT ELSE 0 END) AS AVG_CREDIT_CURRENCY_currency_3_AMT_CREDIT_SUM_LIMIT,\n",
        "AVG(CASE WHEN CREDIT_CURRENCY= 'currency 3' THEN AMT_CREDIT_SUM_OVERDUE ELSE 0 END) AS AVG_CREDIT_CURRENCY_currency_3_AMT_CREDIT_SUM_OVERDUE,\n",
        "AVG(CASE WHEN CREDIT_CURRENCY= 'currency 3' THEN AMT_ANNUITY ELSE 0 END) AS AVG_CREDIT_CURRENCY_currency_3_AMT_ANNUITY,\n",
        "AVG(CASE WHEN CREDIT_CURRENCY= 'currency 2' THEN AMT_CREDIT_MAX_OVERDUE ELSE 0 END) AS AVG_CREDIT_CURRENCY_currency_2_AMT_CREDIT_MAX_OVERDUE,\n",
        "AVG(CASE WHEN CREDIT_CURRENCY= 'currency 2' THEN CNT_CREDIT_PROLONG ELSE 0 END) AS AVG_CREDIT_CURRENCY_currency_2_CNT_CREDIT_PROLONG,\n",
        "AVG(CASE WHEN CREDIT_CURRENCY= 'currency 2' THEN AMT_CREDIT_SUM ELSE 0 END) AS AVG_CREDIT_CURRENCY_currency_2_AMT_CREDIT_SUM,\n",
        "AVG(CASE WHEN CREDIT_CURRENCY= 'currency 2' THEN AMT_CREDIT_SUM_DEBT ELSE 0 END) AS AVG_CREDIT_CURRENCY_currency_2_AMT_CREDIT_SUM_DEBT,\n",
        "AVG(CASE WHEN CREDIT_CURRENCY= 'currency 2' THEN AMT_CREDIT_SUM_LIMIT ELSE 0 END) AS AVG_CREDIT_CURRENCY_currency_2_AMT_CREDIT_SUM_LIMIT,\n",
        "AVG(CASE WHEN CREDIT_CURRENCY= 'currency 2' THEN AMT_CREDIT_SUM_OVERDUE ELSE 0 END) AS AVG_CREDIT_CURRENCY_currency_2_AMT_CREDIT_SUM_OVERDUE,\n",
        "AVG(CASE WHEN CREDIT_CURRENCY= 'currency 2' THEN AMT_ANNUITY ELSE 0 END) AS AVG_CREDIT_CURRENCY_currency_2_AMT_ANNUITY,\n",
        "AVG(CASE WHEN CREDIT_CURRENCY= 'currency 1' THEN AMT_CREDIT_MAX_OVERDUE ELSE 0 END) AS AVG_CREDIT_CURRENCY_currency_1_AMT_CREDIT_MAX_OVERDUE,\n",
        "AVG(CASE WHEN CREDIT_CURRENCY= 'currency 1' THEN CNT_CREDIT_PROLONG ELSE 0 END) AS AVG_CREDIT_CURRENCY_currency_1_CNT_CREDIT_PROLONG,\n",
        "AVG(CASE WHEN CREDIT_CURRENCY= 'currency 1' THEN AMT_CREDIT_SUM ELSE 0 END) AS AVG_CREDIT_CURRENCY_currency_1_AMT_CREDIT_SUM,\n",
        "AVG(CASE WHEN CREDIT_CURRENCY= 'currency 1' THEN AMT_CREDIT_SUM_DEBT ELSE 0 END) AS AVG_CREDIT_CURRENCY_currency_1_AMT_CREDIT_SUM_DEBT,\n",
        "AVG(CASE WHEN CREDIT_CURRENCY= 'currency 1' THEN AMT_CREDIT_SUM_LIMIT ELSE 0 END) AS AVG_CREDIT_CURRENCY_currency_1_AMT_CREDIT_SUM_LIMIT,\n",
        "AVG(CASE WHEN CREDIT_CURRENCY= 'currency 1' THEN AMT_CREDIT_SUM_OVERDUE ELSE 0 END) AS AVG_CREDIT_CURRENCY_currency_1_AMT_CREDIT_SUM_OVERDUE,\n",
        "AVG(CASE WHEN CREDIT_CURRENCY= 'currency 1' THEN AMT_ANNUITY ELSE 0 END) AS AVG_CREDIT_CURRENCY_currency_1_AMT_ANNUIT\n",
        "FROM\n",
        "  bureau\n",
        "GROUP BY\n",
        "  SK_ID_CURR\n",
        "\"\"\")"
      ],
      "metadata": {
        "id": "vy589WQvwv0q"
      },
      "execution_count": null,
      "outputs": []
    },
    {
      "cell_type": "markdown",
      "source": [
        "3- Considerando a variável categórica CREDIT_TYPE"
      ],
      "metadata": {
        "id": "bY2Hqxt0xNqd"
      }
    },
    {
      "cell_type": "code",
      "source": [
        "# Criando as agregações\n",
        "\n",
        "agg = ['SUM', 'MIN', 'MAX', 'AVG']\n",
        "\n",
        "# Criando a variável categórica\n",
        "\n",
        "cat = ['CREDIT_TYPE']\n",
        "\n",
        "# Criando os domínios\n",
        "\n",
        "dominios_cat = ['Mobile operator loan', 'Interbank credit', \\\n",
        "                'Loan for purchase of shares', \\\n",
        "                'Loan for the purchase of equipment', \\\n",
        "                'Real estate loan', 'Cash loan', \\\n",
        "                'Loan for working capital replenishment', \\\n",
        "                'Unknown type of loan', 'Another type of loan', \\\n",
        "                'Loan for business development', 'Microloan', \\\n",
        "                'Mortgage', 'Car loan', 'Credit card', 'Consumer credit']\n",
        "\n",
        "# Criando a variável numérica\n",
        "\n",
        "var_num = ['AMT_CREDIT_MAX_OVERDUE', 'CNT_CREDIT_PROLONG', 'AMT_CREDIT_SUM', \\\n",
        "           'AMT_CREDIT_SUM_DEBT', 'AMT_CREDIT_SUM_LIMIT', \\\n",
        "           'AMT_CREDIT_SUM_OVERDUE', 'AMT_ANNUITY']"
      ],
      "metadata": {
        "id": "at9qLFvKxRNr"
      },
      "execution_count": null,
      "outputs": []
    },
    {
      "cell_type": "code",
      "source": [
        "# Criando uma rotina que gera o texto da função de agregação\n",
        "\n",
        "for ag in agg:\n",
        "  for cate in cat:\n",
        "    for dominio in dominios_cat:\n",
        "      for var_n in var_num:\n",
        "        print(ag +'(CASE WHEN ' + cate + '= ' + \"'\" + dominio + \"'\" + \" THEN \" + var_n + \" ELSE 0 END) AS \" + ag + \"_\" + cate + \"_\" + dominio.replace(\" \", \"_\") + \"_\" + var_n + ',')\n",
        "\n",
        "    #SUM(CASE WHEN CREDIT_Type = 'Real estate loan' THEN 1 ELSE 0 END) AS qtd_credit_type_real_estate_loan"
      ],
      "metadata": {
        "colab": {
          "base_uri": "https://localhost:8080/"
        },
        "id": "m0Z8IXpdyyCD",
        "outputId": "b4790528-a7a5-4aca-e362-4b411ac8f675"
      },
      "execution_count": null,
      "outputs": [
        {
          "output_type": "stream",
          "name": "stdout",
          "text": [
            "SUM(CASE WHEN CREDIT_TYPE= 'Mobile operator loan' THEN AMT_CREDIT_MAX_OVERDUE ELSE 0 END) AS SUM_CREDIT_TYPE_Mobile_operator_loan_AMT_CREDIT_MAX_OVERDUE,\n",
            "SUM(CASE WHEN CREDIT_TYPE= 'Mobile operator loan' THEN CNT_CREDIT_PROLONG ELSE 0 END) AS SUM_CREDIT_TYPE_Mobile_operator_loan_CNT_CREDIT_PROLONG,\n",
            "SUM(CASE WHEN CREDIT_TYPE= 'Mobile operator loan' THEN AMT_CREDIT_SUM ELSE 0 END) AS SUM_CREDIT_TYPE_Mobile_operator_loan_AMT_CREDIT_SUM,\n",
            "SUM(CASE WHEN CREDIT_TYPE= 'Mobile operator loan' THEN AMT_CREDIT_SUM_DEBT ELSE 0 END) AS SUM_CREDIT_TYPE_Mobile_operator_loan_AMT_CREDIT_SUM_DEBT,\n",
            "SUM(CASE WHEN CREDIT_TYPE= 'Mobile operator loan' THEN AMT_CREDIT_SUM_LIMIT ELSE 0 END) AS SUM_CREDIT_TYPE_Mobile_operator_loan_AMT_CREDIT_SUM_LIMIT,\n",
            "SUM(CASE WHEN CREDIT_TYPE= 'Mobile operator loan' THEN AMT_CREDIT_SUM_OVERDUE ELSE 0 END) AS SUM_CREDIT_TYPE_Mobile_operator_loan_AMT_CREDIT_SUM_OVERDUE,\n",
            "SUM(CASE WHEN CREDIT_TYPE= 'Mobile operator loan' THEN AMT_ANNUITY ELSE 0 END) AS SUM_CREDIT_TYPE_Mobile_operator_loan_AMT_ANNUITY,\n",
            "SUM(CASE WHEN CREDIT_TYPE= 'Interbank credit' THEN AMT_CREDIT_MAX_OVERDUE ELSE 0 END) AS SUM_CREDIT_TYPE_Interbank_credit_AMT_CREDIT_MAX_OVERDUE,\n",
            "SUM(CASE WHEN CREDIT_TYPE= 'Interbank credit' THEN CNT_CREDIT_PROLONG ELSE 0 END) AS SUM_CREDIT_TYPE_Interbank_credit_CNT_CREDIT_PROLONG,\n",
            "SUM(CASE WHEN CREDIT_TYPE= 'Interbank credit' THEN AMT_CREDIT_SUM ELSE 0 END) AS SUM_CREDIT_TYPE_Interbank_credit_AMT_CREDIT_SUM,\n",
            "SUM(CASE WHEN CREDIT_TYPE= 'Interbank credit' THEN AMT_CREDIT_SUM_DEBT ELSE 0 END) AS SUM_CREDIT_TYPE_Interbank_credit_AMT_CREDIT_SUM_DEBT,\n",
            "SUM(CASE WHEN CREDIT_TYPE= 'Interbank credit' THEN AMT_CREDIT_SUM_LIMIT ELSE 0 END) AS SUM_CREDIT_TYPE_Interbank_credit_AMT_CREDIT_SUM_LIMIT,\n",
            "SUM(CASE WHEN CREDIT_TYPE= 'Interbank credit' THEN AMT_CREDIT_SUM_OVERDUE ELSE 0 END) AS SUM_CREDIT_TYPE_Interbank_credit_AMT_CREDIT_SUM_OVERDUE,\n",
            "SUM(CASE WHEN CREDIT_TYPE= 'Interbank credit' THEN AMT_ANNUITY ELSE 0 END) AS SUM_CREDIT_TYPE_Interbank_credit_AMT_ANNUITY,\n",
            "SUM(CASE WHEN CREDIT_TYPE= 'Loan for purchase of shares' THEN AMT_CREDIT_MAX_OVERDUE ELSE 0 END) AS SUM_CREDIT_TYPE_Loan_for_purchase_of_shares_AMT_CREDIT_MAX_OVERDUE,\n",
            "SUM(CASE WHEN CREDIT_TYPE= 'Loan for purchase of shares' THEN CNT_CREDIT_PROLONG ELSE 0 END) AS SUM_CREDIT_TYPE_Loan_for_purchase_of_shares_CNT_CREDIT_PROLONG,\n",
            "SUM(CASE WHEN CREDIT_TYPE= 'Loan for purchase of shares' THEN AMT_CREDIT_SUM ELSE 0 END) AS SUM_CREDIT_TYPE_Loan_for_purchase_of_shares_AMT_CREDIT_SUM,\n",
            "SUM(CASE WHEN CREDIT_TYPE= 'Loan for purchase of shares' THEN AMT_CREDIT_SUM_DEBT ELSE 0 END) AS SUM_CREDIT_TYPE_Loan_for_purchase_of_shares_AMT_CREDIT_SUM_DEBT,\n",
            "SUM(CASE WHEN CREDIT_TYPE= 'Loan for purchase of shares' THEN AMT_CREDIT_SUM_LIMIT ELSE 0 END) AS SUM_CREDIT_TYPE_Loan_for_purchase_of_shares_AMT_CREDIT_SUM_LIMIT,\n",
            "SUM(CASE WHEN CREDIT_TYPE= 'Loan for purchase of shares' THEN AMT_CREDIT_SUM_OVERDUE ELSE 0 END) AS SUM_CREDIT_TYPE_Loan_for_purchase_of_shares_AMT_CREDIT_SUM_OVERDUE,\n",
            "SUM(CASE WHEN CREDIT_TYPE= 'Loan for purchase of shares' THEN AMT_ANNUITY ELSE 0 END) AS SUM_CREDIT_TYPE_Loan_for_purchase_of_shares_AMT_ANNUITY,\n",
            "SUM(CASE WHEN CREDIT_TYPE= 'Loan for the purchase of equipment' THEN AMT_CREDIT_MAX_OVERDUE ELSE 0 END) AS SUM_CREDIT_TYPE_Loan_for_the_purchase_of_equipment_AMT_CREDIT_MAX_OVERDUE,\n",
            "SUM(CASE WHEN CREDIT_TYPE= 'Loan for the purchase of equipment' THEN CNT_CREDIT_PROLONG ELSE 0 END) AS SUM_CREDIT_TYPE_Loan_for_the_purchase_of_equipment_CNT_CREDIT_PROLONG,\n",
            "SUM(CASE WHEN CREDIT_TYPE= 'Loan for the purchase of equipment' THEN AMT_CREDIT_SUM ELSE 0 END) AS SUM_CREDIT_TYPE_Loan_for_the_purchase_of_equipment_AMT_CREDIT_SUM,\n",
            "SUM(CASE WHEN CREDIT_TYPE= 'Loan for the purchase of equipment' THEN AMT_CREDIT_SUM_DEBT ELSE 0 END) AS SUM_CREDIT_TYPE_Loan_for_the_purchase_of_equipment_AMT_CREDIT_SUM_DEBT,\n",
            "SUM(CASE WHEN CREDIT_TYPE= 'Loan for the purchase of equipment' THEN AMT_CREDIT_SUM_LIMIT ELSE 0 END) AS SUM_CREDIT_TYPE_Loan_for_the_purchase_of_equipment_AMT_CREDIT_SUM_LIMIT,\n",
            "SUM(CASE WHEN CREDIT_TYPE= 'Loan for the purchase of equipment' THEN AMT_CREDIT_SUM_OVERDUE ELSE 0 END) AS SUM_CREDIT_TYPE_Loan_for_the_purchase_of_equipment_AMT_CREDIT_SUM_OVERDUE,\n",
            "SUM(CASE WHEN CREDIT_TYPE= 'Loan for the purchase of equipment' THEN AMT_ANNUITY ELSE 0 END) AS SUM_CREDIT_TYPE_Loan_for_the_purchase_of_equipment_AMT_ANNUITY,\n",
            "SUM(CASE WHEN CREDIT_TYPE= 'Real estate loan' THEN AMT_CREDIT_MAX_OVERDUE ELSE 0 END) AS SUM_CREDIT_TYPE_Real_estate_loan_AMT_CREDIT_MAX_OVERDUE,\n",
            "SUM(CASE WHEN CREDIT_TYPE= 'Real estate loan' THEN CNT_CREDIT_PROLONG ELSE 0 END) AS SUM_CREDIT_TYPE_Real_estate_loan_CNT_CREDIT_PROLONG,\n",
            "SUM(CASE WHEN CREDIT_TYPE= 'Real estate loan' THEN AMT_CREDIT_SUM ELSE 0 END) AS SUM_CREDIT_TYPE_Real_estate_loan_AMT_CREDIT_SUM,\n",
            "SUM(CASE WHEN CREDIT_TYPE= 'Real estate loan' THEN AMT_CREDIT_SUM_DEBT ELSE 0 END) AS SUM_CREDIT_TYPE_Real_estate_loan_AMT_CREDIT_SUM_DEBT,\n",
            "SUM(CASE WHEN CREDIT_TYPE= 'Real estate loan' THEN AMT_CREDIT_SUM_LIMIT ELSE 0 END) AS SUM_CREDIT_TYPE_Real_estate_loan_AMT_CREDIT_SUM_LIMIT,\n",
            "SUM(CASE WHEN CREDIT_TYPE= 'Real estate loan' THEN AMT_CREDIT_SUM_OVERDUE ELSE 0 END) AS SUM_CREDIT_TYPE_Real_estate_loan_AMT_CREDIT_SUM_OVERDUE,\n",
            "SUM(CASE WHEN CREDIT_TYPE= 'Real estate loan' THEN AMT_ANNUITY ELSE 0 END) AS SUM_CREDIT_TYPE_Real_estate_loan_AMT_ANNUITY,\n",
            "SUM(CASE WHEN CREDIT_TYPE= 'Cash loan' THEN AMT_CREDIT_MAX_OVERDUE ELSE 0 END) AS SUM_CREDIT_TYPE_Cash_loan_AMT_CREDIT_MAX_OVERDUE,\n",
            "SUM(CASE WHEN CREDIT_TYPE= 'Cash loan' THEN CNT_CREDIT_PROLONG ELSE 0 END) AS SUM_CREDIT_TYPE_Cash_loan_CNT_CREDIT_PROLONG,\n",
            "SUM(CASE WHEN CREDIT_TYPE= 'Cash loan' THEN AMT_CREDIT_SUM ELSE 0 END) AS SUM_CREDIT_TYPE_Cash_loan_AMT_CREDIT_SUM,\n",
            "SUM(CASE WHEN CREDIT_TYPE= 'Cash loan' THEN AMT_CREDIT_SUM_DEBT ELSE 0 END) AS SUM_CREDIT_TYPE_Cash_loan_AMT_CREDIT_SUM_DEBT,\n",
            "SUM(CASE WHEN CREDIT_TYPE= 'Cash loan' THEN AMT_CREDIT_SUM_LIMIT ELSE 0 END) AS SUM_CREDIT_TYPE_Cash_loan_AMT_CREDIT_SUM_LIMIT,\n",
            "SUM(CASE WHEN CREDIT_TYPE= 'Cash loan' THEN AMT_CREDIT_SUM_OVERDUE ELSE 0 END) AS SUM_CREDIT_TYPE_Cash_loan_AMT_CREDIT_SUM_OVERDUE,\n",
            "SUM(CASE WHEN CREDIT_TYPE= 'Cash loan' THEN AMT_ANNUITY ELSE 0 END) AS SUM_CREDIT_TYPE_Cash_loan_AMT_ANNUITY,\n",
            "SUM(CASE WHEN CREDIT_TYPE= 'Loan for working capital replenishment' THEN AMT_CREDIT_MAX_OVERDUE ELSE 0 END) AS SUM_CREDIT_TYPE_Loan_for_working_capital_replenishment_AMT_CREDIT_MAX_OVERDUE,\n",
            "SUM(CASE WHEN CREDIT_TYPE= 'Loan for working capital replenishment' THEN CNT_CREDIT_PROLONG ELSE 0 END) AS SUM_CREDIT_TYPE_Loan_for_working_capital_replenishment_CNT_CREDIT_PROLONG,\n",
            "SUM(CASE WHEN CREDIT_TYPE= 'Loan for working capital replenishment' THEN AMT_CREDIT_SUM ELSE 0 END) AS SUM_CREDIT_TYPE_Loan_for_working_capital_replenishment_AMT_CREDIT_SUM,\n",
            "SUM(CASE WHEN CREDIT_TYPE= 'Loan for working capital replenishment' THEN AMT_CREDIT_SUM_DEBT ELSE 0 END) AS SUM_CREDIT_TYPE_Loan_for_working_capital_replenishment_AMT_CREDIT_SUM_DEBT,\n",
            "SUM(CASE WHEN CREDIT_TYPE= 'Loan for working capital replenishment' THEN AMT_CREDIT_SUM_LIMIT ELSE 0 END) AS SUM_CREDIT_TYPE_Loan_for_working_capital_replenishment_AMT_CREDIT_SUM_LIMIT,\n",
            "SUM(CASE WHEN CREDIT_TYPE= 'Loan for working capital replenishment' THEN AMT_CREDIT_SUM_OVERDUE ELSE 0 END) AS SUM_CREDIT_TYPE_Loan_for_working_capital_replenishment_AMT_CREDIT_SUM_OVERDUE,\n",
            "SUM(CASE WHEN CREDIT_TYPE= 'Loan for working capital replenishment' THEN AMT_ANNUITY ELSE 0 END) AS SUM_CREDIT_TYPE_Loan_for_working_capital_replenishment_AMT_ANNUITY,\n",
            "SUM(CASE WHEN CREDIT_TYPE= 'Unknown type of loan' THEN AMT_CREDIT_MAX_OVERDUE ELSE 0 END) AS SUM_CREDIT_TYPE_Unknown_type_of_loan_AMT_CREDIT_MAX_OVERDUE,\n",
            "SUM(CASE WHEN CREDIT_TYPE= 'Unknown type of loan' THEN CNT_CREDIT_PROLONG ELSE 0 END) AS SUM_CREDIT_TYPE_Unknown_type_of_loan_CNT_CREDIT_PROLONG,\n",
            "SUM(CASE WHEN CREDIT_TYPE= 'Unknown type of loan' THEN AMT_CREDIT_SUM ELSE 0 END) AS SUM_CREDIT_TYPE_Unknown_type_of_loan_AMT_CREDIT_SUM,\n",
            "SUM(CASE WHEN CREDIT_TYPE= 'Unknown type of loan' THEN AMT_CREDIT_SUM_DEBT ELSE 0 END) AS SUM_CREDIT_TYPE_Unknown_type_of_loan_AMT_CREDIT_SUM_DEBT,\n",
            "SUM(CASE WHEN CREDIT_TYPE= 'Unknown type of loan' THEN AMT_CREDIT_SUM_LIMIT ELSE 0 END) AS SUM_CREDIT_TYPE_Unknown_type_of_loan_AMT_CREDIT_SUM_LIMIT,\n",
            "SUM(CASE WHEN CREDIT_TYPE= 'Unknown type of loan' THEN AMT_CREDIT_SUM_OVERDUE ELSE 0 END) AS SUM_CREDIT_TYPE_Unknown_type_of_loan_AMT_CREDIT_SUM_OVERDUE,\n",
            "SUM(CASE WHEN CREDIT_TYPE= 'Unknown type of loan' THEN AMT_ANNUITY ELSE 0 END) AS SUM_CREDIT_TYPE_Unknown_type_of_loan_AMT_ANNUITY,\n",
            "SUM(CASE WHEN CREDIT_TYPE= 'Another type of loan' THEN AMT_CREDIT_MAX_OVERDUE ELSE 0 END) AS SUM_CREDIT_TYPE_Another_type_of_loan_AMT_CREDIT_MAX_OVERDUE,\n",
            "SUM(CASE WHEN CREDIT_TYPE= 'Another type of loan' THEN CNT_CREDIT_PROLONG ELSE 0 END) AS SUM_CREDIT_TYPE_Another_type_of_loan_CNT_CREDIT_PROLONG,\n",
            "SUM(CASE WHEN CREDIT_TYPE= 'Another type of loan' THEN AMT_CREDIT_SUM ELSE 0 END) AS SUM_CREDIT_TYPE_Another_type_of_loan_AMT_CREDIT_SUM,\n",
            "SUM(CASE WHEN CREDIT_TYPE= 'Another type of loan' THEN AMT_CREDIT_SUM_DEBT ELSE 0 END) AS SUM_CREDIT_TYPE_Another_type_of_loan_AMT_CREDIT_SUM_DEBT,\n",
            "SUM(CASE WHEN CREDIT_TYPE= 'Another type of loan' THEN AMT_CREDIT_SUM_LIMIT ELSE 0 END) AS SUM_CREDIT_TYPE_Another_type_of_loan_AMT_CREDIT_SUM_LIMIT,\n",
            "SUM(CASE WHEN CREDIT_TYPE= 'Another type of loan' THEN AMT_CREDIT_SUM_OVERDUE ELSE 0 END) AS SUM_CREDIT_TYPE_Another_type_of_loan_AMT_CREDIT_SUM_OVERDUE,\n",
            "SUM(CASE WHEN CREDIT_TYPE= 'Another type of loan' THEN AMT_ANNUITY ELSE 0 END) AS SUM_CREDIT_TYPE_Another_type_of_loan_AMT_ANNUITY,\n",
            "SUM(CASE WHEN CREDIT_TYPE= 'Loan for business development' THEN AMT_CREDIT_MAX_OVERDUE ELSE 0 END) AS SUM_CREDIT_TYPE_Loan_for_business_development_AMT_CREDIT_MAX_OVERDUE,\n",
            "SUM(CASE WHEN CREDIT_TYPE= 'Loan for business development' THEN CNT_CREDIT_PROLONG ELSE 0 END) AS SUM_CREDIT_TYPE_Loan_for_business_development_CNT_CREDIT_PROLONG,\n",
            "SUM(CASE WHEN CREDIT_TYPE= 'Loan for business development' THEN AMT_CREDIT_SUM ELSE 0 END) AS SUM_CREDIT_TYPE_Loan_for_business_development_AMT_CREDIT_SUM,\n",
            "SUM(CASE WHEN CREDIT_TYPE= 'Loan for business development' THEN AMT_CREDIT_SUM_DEBT ELSE 0 END) AS SUM_CREDIT_TYPE_Loan_for_business_development_AMT_CREDIT_SUM_DEBT,\n",
            "SUM(CASE WHEN CREDIT_TYPE= 'Loan for business development' THEN AMT_CREDIT_SUM_LIMIT ELSE 0 END) AS SUM_CREDIT_TYPE_Loan_for_business_development_AMT_CREDIT_SUM_LIMIT,\n",
            "SUM(CASE WHEN CREDIT_TYPE= 'Loan for business development' THEN AMT_CREDIT_SUM_OVERDUE ELSE 0 END) AS SUM_CREDIT_TYPE_Loan_for_business_development_AMT_CREDIT_SUM_OVERDUE,\n",
            "SUM(CASE WHEN CREDIT_TYPE= 'Loan for business development' THEN AMT_ANNUITY ELSE 0 END) AS SUM_CREDIT_TYPE_Loan_for_business_development_AMT_ANNUITY,\n",
            "SUM(CASE WHEN CREDIT_TYPE= 'Microloan' THEN AMT_CREDIT_MAX_OVERDUE ELSE 0 END) AS SUM_CREDIT_TYPE_Microloan_AMT_CREDIT_MAX_OVERDUE,\n",
            "SUM(CASE WHEN CREDIT_TYPE= 'Microloan' THEN CNT_CREDIT_PROLONG ELSE 0 END) AS SUM_CREDIT_TYPE_Microloan_CNT_CREDIT_PROLONG,\n",
            "SUM(CASE WHEN CREDIT_TYPE= 'Microloan' THEN AMT_CREDIT_SUM ELSE 0 END) AS SUM_CREDIT_TYPE_Microloan_AMT_CREDIT_SUM,\n",
            "SUM(CASE WHEN CREDIT_TYPE= 'Microloan' THEN AMT_CREDIT_SUM_DEBT ELSE 0 END) AS SUM_CREDIT_TYPE_Microloan_AMT_CREDIT_SUM_DEBT,\n",
            "SUM(CASE WHEN CREDIT_TYPE= 'Microloan' THEN AMT_CREDIT_SUM_LIMIT ELSE 0 END) AS SUM_CREDIT_TYPE_Microloan_AMT_CREDIT_SUM_LIMIT,\n",
            "SUM(CASE WHEN CREDIT_TYPE= 'Microloan' THEN AMT_CREDIT_SUM_OVERDUE ELSE 0 END) AS SUM_CREDIT_TYPE_Microloan_AMT_CREDIT_SUM_OVERDUE,\n",
            "SUM(CASE WHEN CREDIT_TYPE= 'Microloan' THEN AMT_ANNUITY ELSE 0 END) AS SUM_CREDIT_TYPE_Microloan_AMT_ANNUITY,\n",
            "SUM(CASE WHEN CREDIT_TYPE= 'Mortgage' THEN AMT_CREDIT_MAX_OVERDUE ELSE 0 END) AS SUM_CREDIT_TYPE_Mortgage_AMT_CREDIT_MAX_OVERDUE,\n",
            "SUM(CASE WHEN CREDIT_TYPE= 'Mortgage' THEN CNT_CREDIT_PROLONG ELSE 0 END) AS SUM_CREDIT_TYPE_Mortgage_CNT_CREDIT_PROLONG,\n",
            "SUM(CASE WHEN CREDIT_TYPE= 'Mortgage' THEN AMT_CREDIT_SUM ELSE 0 END) AS SUM_CREDIT_TYPE_Mortgage_AMT_CREDIT_SUM,\n",
            "SUM(CASE WHEN CREDIT_TYPE= 'Mortgage' THEN AMT_CREDIT_SUM_DEBT ELSE 0 END) AS SUM_CREDIT_TYPE_Mortgage_AMT_CREDIT_SUM_DEBT,\n",
            "SUM(CASE WHEN CREDIT_TYPE= 'Mortgage' THEN AMT_CREDIT_SUM_LIMIT ELSE 0 END) AS SUM_CREDIT_TYPE_Mortgage_AMT_CREDIT_SUM_LIMIT,\n",
            "SUM(CASE WHEN CREDIT_TYPE= 'Mortgage' THEN AMT_CREDIT_SUM_OVERDUE ELSE 0 END) AS SUM_CREDIT_TYPE_Mortgage_AMT_CREDIT_SUM_OVERDUE,\n",
            "SUM(CASE WHEN CREDIT_TYPE= 'Mortgage' THEN AMT_ANNUITY ELSE 0 END) AS SUM_CREDIT_TYPE_Mortgage_AMT_ANNUITY,\n",
            "SUM(CASE WHEN CREDIT_TYPE= 'Car loan' THEN AMT_CREDIT_MAX_OVERDUE ELSE 0 END) AS SUM_CREDIT_TYPE_Car_loan_AMT_CREDIT_MAX_OVERDUE,\n",
            "SUM(CASE WHEN CREDIT_TYPE= 'Car loan' THEN CNT_CREDIT_PROLONG ELSE 0 END) AS SUM_CREDIT_TYPE_Car_loan_CNT_CREDIT_PROLONG,\n",
            "SUM(CASE WHEN CREDIT_TYPE= 'Car loan' THEN AMT_CREDIT_SUM ELSE 0 END) AS SUM_CREDIT_TYPE_Car_loan_AMT_CREDIT_SUM,\n",
            "SUM(CASE WHEN CREDIT_TYPE= 'Car loan' THEN AMT_CREDIT_SUM_DEBT ELSE 0 END) AS SUM_CREDIT_TYPE_Car_loan_AMT_CREDIT_SUM_DEBT,\n",
            "SUM(CASE WHEN CREDIT_TYPE= 'Car loan' THEN AMT_CREDIT_SUM_LIMIT ELSE 0 END) AS SUM_CREDIT_TYPE_Car_loan_AMT_CREDIT_SUM_LIMIT,\n",
            "SUM(CASE WHEN CREDIT_TYPE= 'Car loan' THEN AMT_CREDIT_SUM_OVERDUE ELSE 0 END) AS SUM_CREDIT_TYPE_Car_loan_AMT_CREDIT_SUM_OVERDUE,\n",
            "SUM(CASE WHEN CREDIT_TYPE= 'Car loan' THEN AMT_ANNUITY ELSE 0 END) AS SUM_CREDIT_TYPE_Car_loan_AMT_ANNUITY,\n",
            "SUM(CASE WHEN CREDIT_TYPE= 'Credit card' THEN AMT_CREDIT_MAX_OVERDUE ELSE 0 END) AS SUM_CREDIT_TYPE_Credit_card_AMT_CREDIT_MAX_OVERDUE,\n",
            "SUM(CASE WHEN CREDIT_TYPE= 'Credit card' THEN CNT_CREDIT_PROLONG ELSE 0 END) AS SUM_CREDIT_TYPE_Credit_card_CNT_CREDIT_PROLONG,\n",
            "SUM(CASE WHEN CREDIT_TYPE= 'Credit card' THEN AMT_CREDIT_SUM ELSE 0 END) AS SUM_CREDIT_TYPE_Credit_card_AMT_CREDIT_SUM,\n",
            "SUM(CASE WHEN CREDIT_TYPE= 'Credit card' THEN AMT_CREDIT_SUM_DEBT ELSE 0 END) AS SUM_CREDIT_TYPE_Credit_card_AMT_CREDIT_SUM_DEBT,\n",
            "SUM(CASE WHEN CREDIT_TYPE= 'Credit card' THEN AMT_CREDIT_SUM_LIMIT ELSE 0 END) AS SUM_CREDIT_TYPE_Credit_card_AMT_CREDIT_SUM_LIMIT,\n",
            "SUM(CASE WHEN CREDIT_TYPE= 'Credit card' THEN AMT_CREDIT_SUM_OVERDUE ELSE 0 END) AS SUM_CREDIT_TYPE_Credit_card_AMT_CREDIT_SUM_OVERDUE,\n",
            "SUM(CASE WHEN CREDIT_TYPE= 'Credit card' THEN AMT_ANNUITY ELSE 0 END) AS SUM_CREDIT_TYPE_Credit_card_AMT_ANNUITY,\n",
            "SUM(CASE WHEN CREDIT_TYPE= 'Consumer credit' THEN AMT_CREDIT_MAX_OVERDUE ELSE 0 END) AS SUM_CREDIT_TYPE_Consumer_credit_AMT_CREDIT_MAX_OVERDUE,\n",
            "SUM(CASE WHEN CREDIT_TYPE= 'Consumer credit' THEN CNT_CREDIT_PROLONG ELSE 0 END) AS SUM_CREDIT_TYPE_Consumer_credit_CNT_CREDIT_PROLONG,\n",
            "SUM(CASE WHEN CREDIT_TYPE= 'Consumer credit' THEN AMT_CREDIT_SUM ELSE 0 END) AS SUM_CREDIT_TYPE_Consumer_credit_AMT_CREDIT_SUM,\n",
            "SUM(CASE WHEN CREDIT_TYPE= 'Consumer credit' THEN AMT_CREDIT_SUM_DEBT ELSE 0 END) AS SUM_CREDIT_TYPE_Consumer_credit_AMT_CREDIT_SUM_DEBT,\n",
            "SUM(CASE WHEN CREDIT_TYPE= 'Consumer credit' THEN AMT_CREDIT_SUM_LIMIT ELSE 0 END) AS SUM_CREDIT_TYPE_Consumer_credit_AMT_CREDIT_SUM_LIMIT,\n",
            "SUM(CASE WHEN CREDIT_TYPE= 'Consumer credit' THEN AMT_CREDIT_SUM_OVERDUE ELSE 0 END) AS SUM_CREDIT_TYPE_Consumer_credit_AMT_CREDIT_SUM_OVERDUE,\n",
            "SUM(CASE WHEN CREDIT_TYPE= 'Consumer credit' THEN AMT_ANNUITY ELSE 0 END) AS SUM_CREDIT_TYPE_Consumer_credit_AMT_ANNUITY,\n",
            "MIN(CASE WHEN CREDIT_TYPE= 'Mobile operator loan' THEN AMT_CREDIT_MAX_OVERDUE ELSE 0 END) AS MIN_CREDIT_TYPE_Mobile_operator_loan_AMT_CREDIT_MAX_OVERDUE,\n",
            "MIN(CASE WHEN CREDIT_TYPE= 'Mobile operator loan' THEN CNT_CREDIT_PROLONG ELSE 0 END) AS MIN_CREDIT_TYPE_Mobile_operator_loan_CNT_CREDIT_PROLONG,\n",
            "MIN(CASE WHEN CREDIT_TYPE= 'Mobile operator loan' THEN AMT_CREDIT_SUM ELSE 0 END) AS MIN_CREDIT_TYPE_Mobile_operator_loan_AMT_CREDIT_SUM,\n",
            "MIN(CASE WHEN CREDIT_TYPE= 'Mobile operator loan' THEN AMT_CREDIT_SUM_DEBT ELSE 0 END) AS MIN_CREDIT_TYPE_Mobile_operator_loan_AMT_CREDIT_SUM_DEBT,\n",
            "MIN(CASE WHEN CREDIT_TYPE= 'Mobile operator loan' THEN AMT_CREDIT_SUM_LIMIT ELSE 0 END) AS MIN_CREDIT_TYPE_Mobile_operator_loan_AMT_CREDIT_SUM_LIMIT,\n",
            "MIN(CASE WHEN CREDIT_TYPE= 'Mobile operator loan' THEN AMT_CREDIT_SUM_OVERDUE ELSE 0 END) AS MIN_CREDIT_TYPE_Mobile_operator_loan_AMT_CREDIT_SUM_OVERDUE,\n",
            "MIN(CASE WHEN CREDIT_TYPE= 'Mobile operator loan' THEN AMT_ANNUITY ELSE 0 END) AS MIN_CREDIT_TYPE_Mobile_operator_loan_AMT_ANNUITY,\n",
            "MIN(CASE WHEN CREDIT_TYPE= 'Interbank credit' THEN AMT_CREDIT_MAX_OVERDUE ELSE 0 END) AS MIN_CREDIT_TYPE_Interbank_credit_AMT_CREDIT_MAX_OVERDUE,\n",
            "MIN(CASE WHEN CREDIT_TYPE= 'Interbank credit' THEN CNT_CREDIT_PROLONG ELSE 0 END) AS MIN_CREDIT_TYPE_Interbank_credit_CNT_CREDIT_PROLONG,\n",
            "MIN(CASE WHEN CREDIT_TYPE= 'Interbank credit' THEN AMT_CREDIT_SUM ELSE 0 END) AS MIN_CREDIT_TYPE_Interbank_credit_AMT_CREDIT_SUM,\n",
            "MIN(CASE WHEN CREDIT_TYPE= 'Interbank credit' THEN AMT_CREDIT_SUM_DEBT ELSE 0 END) AS MIN_CREDIT_TYPE_Interbank_credit_AMT_CREDIT_SUM_DEBT,\n",
            "MIN(CASE WHEN CREDIT_TYPE= 'Interbank credit' THEN AMT_CREDIT_SUM_LIMIT ELSE 0 END) AS MIN_CREDIT_TYPE_Interbank_credit_AMT_CREDIT_SUM_LIMIT,\n",
            "MIN(CASE WHEN CREDIT_TYPE= 'Interbank credit' THEN AMT_CREDIT_SUM_OVERDUE ELSE 0 END) AS MIN_CREDIT_TYPE_Interbank_credit_AMT_CREDIT_SUM_OVERDUE,\n",
            "MIN(CASE WHEN CREDIT_TYPE= 'Interbank credit' THEN AMT_ANNUITY ELSE 0 END) AS MIN_CREDIT_TYPE_Interbank_credit_AMT_ANNUITY,\n",
            "MIN(CASE WHEN CREDIT_TYPE= 'Loan for purchase of shares' THEN AMT_CREDIT_MAX_OVERDUE ELSE 0 END) AS MIN_CREDIT_TYPE_Loan_for_purchase_of_shares_AMT_CREDIT_MAX_OVERDUE,\n",
            "MIN(CASE WHEN CREDIT_TYPE= 'Loan for purchase of shares' THEN CNT_CREDIT_PROLONG ELSE 0 END) AS MIN_CREDIT_TYPE_Loan_for_purchase_of_shares_CNT_CREDIT_PROLONG,\n",
            "MIN(CASE WHEN CREDIT_TYPE= 'Loan for purchase of shares' THEN AMT_CREDIT_SUM ELSE 0 END) AS MIN_CREDIT_TYPE_Loan_for_purchase_of_shares_AMT_CREDIT_SUM,\n",
            "MIN(CASE WHEN CREDIT_TYPE= 'Loan for purchase of shares' THEN AMT_CREDIT_SUM_DEBT ELSE 0 END) AS MIN_CREDIT_TYPE_Loan_for_purchase_of_shares_AMT_CREDIT_SUM_DEBT,\n",
            "MIN(CASE WHEN CREDIT_TYPE= 'Loan for purchase of shares' THEN AMT_CREDIT_SUM_LIMIT ELSE 0 END) AS MIN_CREDIT_TYPE_Loan_for_purchase_of_shares_AMT_CREDIT_SUM_LIMIT,\n",
            "MIN(CASE WHEN CREDIT_TYPE= 'Loan for purchase of shares' THEN AMT_CREDIT_SUM_OVERDUE ELSE 0 END) AS MIN_CREDIT_TYPE_Loan_for_purchase_of_shares_AMT_CREDIT_SUM_OVERDUE,\n",
            "MIN(CASE WHEN CREDIT_TYPE= 'Loan for purchase of shares' THEN AMT_ANNUITY ELSE 0 END) AS MIN_CREDIT_TYPE_Loan_for_purchase_of_shares_AMT_ANNUITY,\n",
            "MIN(CASE WHEN CREDIT_TYPE= 'Loan for the purchase of equipment' THEN AMT_CREDIT_MAX_OVERDUE ELSE 0 END) AS MIN_CREDIT_TYPE_Loan_for_the_purchase_of_equipment_AMT_CREDIT_MAX_OVERDUE,\n",
            "MIN(CASE WHEN CREDIT_TYPE= 'Loan for the purchase of equipment' THEN CNT_CREDIT_PROLONG ELSE 0 END) AS MIN_CREDIT_TYPE_Loan_for_the_purchase_of_equipment_CNT_CREDIT_PROLONG,\n",
            "MIN(CASE WHEN CREDIT_TYPE= 'Loan for the purchase of equipment' THEN AMT_CREDIT_SUM ELSE 0 END) AS MIN_CREDIT_TYPE_Loan_for_the_purchase_of_equipment_AMT_CREDIT_SUM,\n",
            "MIN(CASE WHEN CREDIT_TYPE= 'Loan for the purchase of equipment' THEN AMT_CREDIT_SUM_DEBT ELSE 0 END) AS MIN_CREDIT_TYPE_Loan_for_the_purchase_of_equipment_AMT_CREDIT_SUM_DEBT,\n",
            "MIN(CASE WHEN CREDIT_TYPE= 'Loan for the purchase of equipment' THEN AMT_CREDIT_SUM_LIMIT ELSE 0 END) AS MIN_CREDIT_TYPE_Loan_for_the_purchase_of_equipment_AMT_CREDIT_SUM_LIMIT,\n",
            "MIN(CASE WHEN CREDIT_TYPE= 'Loan for the purchase of equipment' THEN AMT_CREDIT_SUM_OVERDUE ELSE 0 END) AS MIN_CREDIT_TYPE_Loan_for_the_purchase_of_equipment_AMT_CREDIT_SUM_OVERDUE,\n",
            "MIN(CASE WHEN CREDIT_TYPE= 'Loan for the purchase of equipment' THEN AMT_ANNUITY ELSE 0 END) AS MIN_CREDIT_TYPE_Loan_for_the_purchase_of_equipment_AMT_ANNUITY,\n",
            "MIN(CASE WHEN CREDIT_TYPE= 'Real estate loan' THEN AMT_CREDIT_MAX_OVERDUE ELSE 0 END) AS MIN_CREDIT_TYPE_Real_estate_loan_AMT_CREDIT_MAX_OVERDUE,\n",
            "MIN(CASE WHEN CREDIT_TYPE= 'Real estate loan' THEN CNT_CREDIT_PROLONG ELSE 0 END) AS MIN_CREDIT_TYPE_Real_estate_loan_CNT_CREDIT_PROLONG,\n",
            "MIN(CASE WHEN CREDIT_TYPE= 'Real estate loan' THEN AMT_CREDIT_SUM ELSE 0 END) AS MIN_CREDIT_TYPE_Real_estate_loan_AMT_CREDIT_SUM,\n",
            "MIN(CASE WHEN CREDIT_TYPE= 'Real estate loan' THEN AMT_CREDIT_SUM_DEBT ELSE 0 END) AS MIN_CREDIT_TYPE_Real_estate_loan_AMT_CREDIT_SUM_DEBT,\n",
            "MIN(CASE WHEN CREDIT_TYPE= 'Real estate loan' THEN AMT_CREDIT_SUM_LIMIT ELSE 0 END) AS MIN_CREDIT_TYPE_Real_estate_loan_AMT_CREDIT_SUM_LIMIT,\n",
            "MIN(CASE WHEN CREDIT_TYPE= 'Real estate loan' THEN AMT_CREDIT_SUM_OVERDUE ELSE 0 END) AS MIN_CREDIT_TYPE_Real_estate_loan_AMT_CREDIT_SUM_OVERDUE,\n",
            "MIN(CASE WHEN CREDIT_TYPE= 'Real estate loan' THEN AMT_ANNUITY ELSE 0 END) AS MIN_CREDIT_TYPE_Real_estate_loan_AMT_ANNUITY,\n",
            "MIN(CASE WHEN CREDIT_TYPE= 'Cash loan' THEN AMT_CREDIT_MAX_OVERDUE ELSE 0 END) AS MIN_CREDIT_TYPE_Cash_loan_AMT_CREDIT_MAX_OVERDUE,\n",
            "MIN(CASE WHEN CREDIT_TYPE= 'Cash loan' THEN CNT_CREDIT_PROLONG ELSE 0 END) AS MIN_CREDIT_TYPE_Cash_loan_CNT_CREDIT_PROLONG,\n",
            "MIN(CASE WHEN CREDIT_TYPE= 'Cash loan' THEN AMT_CREDIT_SUM ELSE 0 END) AS MIN_CREDIT_TYPE_Cash_loan_AMT_CREDIT_SUM,\n",
            "MIN(CASE WHEN CREDIT_TYPE= 'Cash loan' THEN AMT_CREDIT_SUM_DEBT ELSE 0 END) AS MIN_CREDIT_TYPE_Cash_loan_AMT_CREDIT_SUM_DEBT,\n",
            "MIN(CASE WHEN CREDIT_TYPE= 'Cash loan' THEN AMT_CREDIT_SUM_LIMIT ELSE 0 END) AS MIN_CREDIT_TYPE_Cash_loan_AMT_CREDIT_SUM_LIMIT,\n",
            "MIN(CASE WHEN CREDIT_TYPE= 'Cash loan' THEN AMT_CREDIT_SUM_OVERDUE ELSE 0 END) AS MIN_CREDIT_TYPE_Cash_loan_AMT_CREDIT_SUM_OVERDUE,\n",
            "MIN(CASE WHEN CREDIT_TYPE= 'Cash loan' THEN AMT_ANNUITY ELSE 0 END) AS MIN_CREDIT_TYPE_Cash_loan_AMT_ANNUITY,\n",
            "MIN(CASE WHEN CREDIT_TYPE= 'Loan for working capital replenishment' THEN AMT_CREDIT_MAX_OVERDUE ELSE 0 END) AS MIN_CREDIT_TYPE_Loan_for_working_capital_replenishment_AMT_CREDIT_MAX_OVERDUE,\n",
            "MIN(CASE WHEN CREDIT_TYPE= 'Loan for working capital replenishment' THEN CNT_CREDIT_PROLONG ELSE 0 END) AS MIN_CREDIT_TYPE_Loan_for_working_capital_replenishment_CNT_CREDIT_PROLONG,\n",
            "MIN(CASE WHEN CREDIT_TYPE= 'Loan for working capital replenishment' THEN AMT_CREDIT_SUM ELSE 0 END) AS MIN_CREDIT_TYPE_Loan_for_working_capital_replenishment_AMT_CREDIT_SUM,\n",
            "MIN(CASE WHEN CREDIT_TYPE= 'Loan for working capital replenishment' THEN AMT_CREDIT_SUM_DEBT ELSE 0 END) AS MIN_CREDIT_TYPE_Loan_for_working_capital_replenishment_AMT_CREDIT_SUM_DEBT,\n",
            "MIN(CASE WHEN CREDIT_TYPE= 'Loan for working capital replenishment' THEN AMT_CREDIT_SUM_LIMIT ELSE 0 END) AS MIN_CREDIT_TYPE_Loan_for_working_capital_replenishment_AMT_CREDIT_SUM_LIMIT,\n",
            "MIN(CASE WHEN CREDIT_TYPE= 'Loan for working capital replenishment' THEN AMT_CREDIT_SUM_OVERDUE ELSE 0 END) AS MIN_CREDIT_TYPE_Loan_for_working_capital_replenishment_AMT_CREDIT_SUM_OVERDUE,\n",
            "MIN(CASE WHEN CREDIT_TYPE= 'Loan for working capital replenishment' THEN AMT_ANNUITY ELSE 0 END) AS MIN_CREDIT_TYPE_Loan_for_working_capital_replenishment_AMT_ANNUITY,\n",
            "MIN(CASE WHEN CREDIT_TYPE= 'Unknown type of loan' THEN AMT_CREDIT_MAX_OVERDUE ELSE 0 END) AS MIN_CREDIT_TYPE_Unknown_type_of_loan_AMT_CREDIT_MAX_OVERDUE,\n",
            "MIN(CASE WHEN CREDIT_TYPE= 'Unknown type of loan' THEN CNT_CREDIT_PROLONG ELSE 0 END) AS MIN_CREDIT_TYPE_Unknown_type_of_loan_CNT_CREDIT_PROLONG,\n",
            "MIN(CASE WHEN CREDIT_TYPE= 'Unknown type of loan' THEN AMT_CREDIT_SUM ELSE 0 END) AS MIN_CREDIT_TYPE_Unknown_type_of_loan_AMT_CREDIT_SUM,\n",
            "MIN(CASE WHEN CREDIT_TYPE= 'Unknown type of loan' THEN AMT_CREDIT_SUM_DEBT ELSE 0 END) AS MIN_CREDIT_TYPE_Unknown_type_of_loan_AMT_CREDIT_SUM_DEBT,\n",
            "MIN(CASE WHEN CREDIT_TYPE= 'Unknown type of loan' THEN AMT_CREDIT_SUM_LIMIT ELSE 0 END) AS MIN_CREDIT_TYPE_Unknown_type_of_loan_AMT_CREDIT_SUM_LIMIT,\n",
            "MIN(CASE WHEN CREDIT_TYPE= 'Unknown type of loan' THEN AMT_CREDIT_SUM_OVERDUE ELSE 0 END) AS MIN_CREDIT_TYPE_Unknown_type_of_loan_AMT_CREDIT_SUM_OVERDUE,\n",
            "MIN(CASE WHEN CREDIT_TYPE= 'Unknown type of loan' THEN AMT_ANNUITY ELSE 0 END) AS MIN_CREDIT_TYPE_Unknown_type_of_loan_AMT_ANNUITY,\n",
            "MIN(CASE WHEN CREDIT_TYPE= 'Another type of loan' THEN AMT_CREDIT_MAX_OVERDUE ELSE 0 END) AS MIN_CREDIT_TYPE_Another_type_of_loan_AMT_CREDIT_MAX_OVERDUE,\n",
            "MIN(CASE WHEN CREDIT_TYPE= 'Another type of loan' THEN CNT_CREDIT_PROLONG ELSE 0 END) AS MIN_CREDIT_TYPE_Another_type_of_loan_CNT_CREDIT_PROLONG,\n",
            "MIN(CASE WHEN CREDIT_TYPE= 'Another type of loan' THEN AMT_CREDIT_SUM ELSE 0 END) AS MIN_CREDIT_TYPE_Another_type_of_loan_AMT_CREDIT_SUM,\n",
            "MIN(CASE WHEN CREDIT_TYPE= 'Another type of loan' THEN AMT_CREDIT_SUM_DEBT ELSE 0 END) AS MIN_CREDIT_TYPE_Another_type_of_loan_AMT_CREDIT_SUM_DEBT,\n",
            "MIN(CASE WHEN CREDIT_TYPE= 'Another type of loan' THEN AMT_CREDIT_SUM_LIMIT ELSE 0 END) AS MIN_CREDIT_TYPE_Another_type_of_loan_AMT_CREDIT_SUM_LIMIT,\n",
            "MIN(CASE WHEN CREDIT_TYPE= 'Another type of loan' THEN AMT_CREDIT_SUM_OVERDUE ELSE 0 END) AS MIN_CREDIT_TYPE_Another_type_of_loan_AMT_CREDIT_SUM_OVERDUE,\n",
            "MIN(CASE WHEN CREDIT_TYPE= 'Another type of loan' THEN AMT_ANNUITY ELSE 0 END) AS MIN_CREDIT_TYPE_Another_type_of_loan_AMT_ANNUITY,\n",
            "MIN(CASE WHEN CREDIT_TYPE= 'Loan for business development' THEN AMT_CREDIT_MAX_OVERDUE ELSE 0 END) AS MIN_CREDIT_TYPE_Loan_for_business_development_AMT_CREDIT_MAX_OVERDUE,\n",
            "MIN(CASE WHEN CREDIT_TYPE= 'Loan for business development' THEN CNT_CREDIT_PROLONG ELSE 0 END) AS MIN_CREDIT_TYPE_Loan_for_business_development_CNT_CREDIT_PROLONG,\n",
            "MIN(CASE WHEN CREDIT_TYPE= 'Loan for business development' THEN AMT_CREDIT_SUM ELSE 0 END) AS MIN_CREDIT_TYPE_Loan_for_business_development_AMT_CREDIT_SUM,\n",
            "MIN(CASE WHEN CREDIT_TYPE= 'Loan for business development' THEN AMT_CREDIT_SUM_DEBT ELSE 0 END) AS MIN_CREDIT_TYPE_Loan_for_business_development_AMT_CREDIT_SUM_DEBT,\n",
            "MIN(CASE WHEN CREDIT_TYPE= 'Loan for business development' THEN AMT_CREDIT_SUM_LIMIT ELSE 0 END) AS MIN_CREDIT_TYPE_Loan_for_business_development_AMT_CREDIT_SUM_LIMIT,\n",
            "MIN(CASE WHEN CREDIT_TYPE= 'Loan for business development' THEN AMT_CREDIT_SUM_OVERDUE ELSE 0 END) AS MIN_CREDIT_TYPE_Loan_for_business_development_AMT_CREDIT_SUM_OVERDUE,\n",
            "MIN(CASE WHEN CREDIT_TYPE= 'Loan for business development' THEN AMT_ANNUITY ELSE 0 END) AS MIN_CREDIT_TYPE_Loan_for_business_development_AMT_ANNUITY,\n",
            "MIN(CASE WHEN CREDIT_TYPE= 'Microloan' THEN AMT_CREDIT_MAX_OVERDUE ELSE 0 END) AS MIN_CREDIT_TYPE_Microloan_AMT_CREDIT_MAX_OVERDUE,\n",
            "MIN(CASE WHEN CREDIT_TYPE= 'Microloan' THEN CNT_CREDIT_PROLONG ELSE 0 END) AS MIN_CREDIT_TYPE_Microloan_CNT_CREDIT_PROLONG,\n",
            "MIN(CASE WHEN CREDIT_TYPE= 'Microloan' THEN AMT_CREDIT_SUM ELSE 0 END) AS MIN_CREDIT_TYPE_Microloan_AMT_CREDIT_SUM,\n",
            "MIN(CASE WHEN CREDIT_TYPE= 'Microloan' THEN AMT_CREDIT_SUM_DEBT ELSE 0 END) AS MIN_CREDIT_TYPE_Microloan_AMT_CREDIT_SUM_DEBT,\n",
            "MIN(CASE WHEN CREDIT_TYPE= 'Microloan' THEN AMT_CREDIT_SUM_LIMIT ELSE 0 END) AS MIN_CREDIT_TYPE_Microloan_AMT_CREDIT_SUM_LIMIT,\n",
            "MIN(CASE WHEN CREDIT_TYPE= 'Microloan' THEN AMT_CREDIT_SUM_OVERDUE ELSE 0 END) AS MIN_CREDIT_TYPE_Microloan_AMT_CREDIT_SUM_OVERDUE,\n",
            "MIN(CASE WHEN CREDIT_TYPE= 'Microloan' THEN AMT_ANNUITY ELSE 0 END) AS MIN_CREDIT_TYPE_Microloan_AMT_ANNUITY,\n",
            "MIN(CASE WHEN CREDIT_TYPE= 'Mortgage' THEN AMT_CREDIT_MAX_OVERDUE ELSE 0 END) AS MIN_CREDIT_TYPE_Mortgage_AMT_CREDIT_MAX_OVERDUE,\n",
            "MIN(CASE WHEN CREDIT_TYPE= 'Mortgage' THEN CNT_CREDIT_PROLONG ELSE 0 END) AS MIN_CREDIT_TYPE_Mortgage_CNT_CREDIT_PROLONG,\n",
            "MIN(CASE WHEN CREDIT_TYPE= 'Mortgage' THEN AMT_CREDIT_SUM ELSE 0 END) AS MIN_CREDIT_TYPE_Mortgage_AMT_CREDIT_SUM,\n",
            "MIN(CASE WHEN CREDIT_TYPE= 'Mortgage' THEN AMT_CREDIT_SUM_DEBT ELSE 0 END) AS MIN_CREDIT_TYPE_Mortgage_AMT_CREDIT_SUM_DEBT,\n",
            "MIN(CASE WHEN CREDIT_TYPE= 'Mortgage' THEN AMT_CREDIT_SUM_LIMIT ELSE 0 END) AS MIN_CREDIT_TYPE_Mortgage_AMT_CREDIT_SUM_LIMIT,\n",
            "MIN(CASE WHEN CREDIT_TYPE= 'Mortgage' THEN AMT_CREDIT_SUM_OVERDUE ELSE 0 END) AS MIN_CREDIT_TYPE_Mortgage_AMT_CREDIT_SUM_OVERDUE,\n",
            "MIN(CASE WHEN CREDIT_TYPE= 'Mortgage' THEN AMT_ANNUITY ELSE 0 END) AS MIN_CREDIT_TYPE_Mortgage_AMT_ANNUITY,\n",
            "MIN(CASE WHEN CREDIT_TYPE= 'Car loan' THEN AMT_CREDIT_MAX_OVERDUE ELSE 0 END) AS MIN_CREDIT_TYPE_Car_loan_AMT_CREDIT_MAX_OVERDUE,\n",
            "MIN(CASE WHEN CREDIT_TYPE= 'Car loan' THEN CNT_CREDIT_PROLONG ELSE 0 END) AS MIN_CREDIT_TYPE_Car_loan_CNT_CREDIT_PROLONG,\n",
            "MIN(CASE WHEN CREDIT_TYPE= 'Car loan' THEN AMT_CREDIT_SUM ELSE 0 END) AS MIN_CREDIT_TYPE_Car_loan_AMT_CREDIT_SUM,\n",
            "MIN(CASE WHEN CREDIT_TYPE= 'Car loan' THEN AMT_CREDIT_SUM_DEBT ELSE 0 END) AS MIN_CREDIT_TYPE_Car_loan_AMT_CREDIT_SUM_DEBT,\n",
            "MIN(CASE WHEN CREDIT_TYPE= 'Car loan' THEN AMT_CREDIT_SUM_LIMIT ELSE 0 END) AS MIN_CREDIT_TYPE_Car_loan_AMT_CREDIT_SUM_LIMIT,\n",
            "MIN(CASE WHEN CREDIT_TYPE= 'Car loan' THEN AMT_CREDIT_SUM_OVERDUE ELSE 0 END) AS MIN_CREDIT_TYPE_Car_loan_AMT_CREDIT_SUM_OVERDUE,\n",
            "MIN(CASE WHEN CREDIT_TYPE= 'Car loan' THEN AMT_ANNUITY ELSE 0 END) AS MIN_CREDIT_TYPE_Car_loan_AMT_ANNUITY,\n",
            "MIN(CASE WHEN CREDIT_TYPE= 'Credit card' THEN AMT_CREDIT_MAX_OVERDUE ELSE 0 END) AS MIN_CREDIT_TYPE_Credit_card_AMT_CREDIT_MAX_OVERDUE,\n",
            "MIN(CASE WHEN CREDIT_TYPE= 'Credit card' THEN CNT_CREDIT_PROLONG ELSE 0 END) AS MIN_CREDIT_TYPE_Credit_card_CNT_CREDIT_PROLONG,\n",
            "MIN(CASE WHEN CREDIT_TYPE= 'Credit card' THEN AMT_CREDIT_SUM ELSE 0 END) AS MIN_CREDIT_TYPE_Credit_card_AMT_CREDIT_SUM,\n",
            "MIN(CASE WHEN CREDIT_TYPE= 'Credit card' THEN AMT_CREDIT_SUM_DEBT ELSE 0 END) AS MIN_CREDIT_TYPE_Credit_card_AMT_CREDIT_SUM_DEBT,\n",
            "MIN(CASE WHEN CREDIT_TYPE= 'Credit card' THEN AMT_CREDIT_SUM_LIMIT ELSE 0 END) AS MIN_CREDIT_TYPE_Credit_card_AMT_CREDIT_SUM_LIMIT,\n",
            "MIN(CASE WHEN CREDIT_TYPE= 'Credit card' THEN AMT_CREDIT_SUM_OVERDUE ELSE 0 END) AS MIN_CREDIT_TYPE_Credit_card_AMT_CREDIT_SUM_OVERDUE,\n",
            "MIN(CASE WHEN CREDIT_TYPE= 'Credit card' THEN AMT_ANNUITY ELSE 0 END) AS MIN_CREDIT_TYPE_Credit_card_AMT_ANNUITY,\n",
            "MIN(CASE WHEN CREDIT_TYPE= 'Consumer credit' THEN AMT_CREDIT_MAX_OVERDUE ELSE 0 END) AS MIN_CREDIT_TYPE_Consumer_credit_AMT_CREDIT_MAX_OVERDUE,\n",
            "MIN(CASE WHEN CREDIT_TYPE= 'Consumer credit' THEN CNT_CREDIT_PROLONG ELSE 0 END) AS MIN_CREDIT_TYPE_Consumer_credit_CNT_CREDIT_PROLONG,\n",
            "MIN(CASE WHEN CREDIT_TYPE= 'Consumer credit' THEN AMT_CREDIT_SUM ELSE 0 END) AS MIN_CREDIT_TYPE_Consumer_credit_AMT_CREDIT_SUM,\n",
            "MIN(CASE WHEN CREDIT_TYPE= 'Consumer credit' THEN AMT_CREDIT_SUM_DEBT ELSE 0 END) AS MIN_CREDIT_TYPE_Consumer_credit_AMT_CREDIT_SUM_DEBT,\n",
            "MIN(CASE WHEN CREDIT_TYPE= 'Consumer credit' THEN AMT_CREDIT_SUM_LIMIT ELSE 0 END) AS MIN_CREDIT_TYPE_Consumer_credit_AMT_CREDIT_SUM_LIMIT,\n",
            "MIN(CASE WHEN CREDIT_TYPE= 'Consumer credit' THEN AMT_CREDIT_SUM_OVERDUE ELSE 0 END) AS MIN_CREDIT_TYPE_Consumer_credit_AMT_CREDIT_SUM_OVERDUE,\n",
            "MIN(CASE WHEN CREDIT_TYPE= 'Consumer credit' THEN AMT_ANNUITY ELSE 0 END) AS MIN_CREDIT_TYPE_Consumer_credit_AMT_ANNUITY,\n",
            "MAX(CASE WHEN CREDIT_TYPE= 'Mobile operator loan' THEN AMT_CREDIT_MAX_OVERDUE ELSE 0 END) AS MAX_CREDIT_TYPE_Mobile_operator_loan_AMT_CREDIT_MAX_OVERDUE,\n",
            "MAX(CASE WHEN CREDIT_TYPE= 'Mobile operator loan' THEN CNT_CREDIT_PROLONG ELSE 0 END) AS MAX_CREDIT_TYPE_Mobile_operator_loan_CNT_CREDIT_PROLONG,\n",
            "MAX(CASE WHEN CREDIT_TYPE= 'Mobile operator loan' THEN AMT_CREDIT_SUM ELSE 0 END) AS MAX_CREDIT_TYPE_Mobile_operator_loan_AMT_CREDIT_SUM,\n",
            "MAX(CASE WHEN CREDIT_TYPE= 'Mobile operator loan' THEN AMT_CREDIT_SUM_DEBT ELSE 0 END) AS MAX_CREDIT_TYPE_Mobile_operator_loan_AMT_CREDIT_SUM_DEBT,\n",
            "MAX(CASE WHEN CREDIT_TYPE= 'Mobile operator loan' THEN AMT_CREDIT_SUM_LIMIT ELSE 0 END) AS MAX_CREDIT_TYPE_Mobile_operator_loan_AMT_CREDIT_SUM_LIMIT,\n",
            "MAX(CASE WHEN CREDIT_TYPE= 'Mobile operator loan' THEN AMT_CREDIT_SUM_OVERDUE ELSE 0 END) AS MAX_CREDIT_TYPE_Mobile_operator_loan_AMT_CREDIT_SUM_OVERDUE,\n",
            "MAX(CASE WHEN CREDIT_TYPE= 'Mobile operator loan' THEN AMT_ANNUITY ELSE 0 END) AS MAX_CREDIT_TYPE_Mobile_operator_loan_AMT_ANNUITY,\n",
            "MAX(CASE WHEN CREDIT_TYPE= 'Interbank credit' THEN AMT_CREDIT_MAX_OVERDUE ELSE 0 END) AS MAX_CREDIT_TYPE_Interbank_credit_AMT_CREDIT_MAX_OVERDUE,\n",
            "MAX(CASE WHEN CREDIT_TYPE= 'Interbank credit' THEN CNT_CREDIT_PROLONG ELSE 0 END) AS MAX_CREDIT_TYPE_Interbank_credit_CNT_CREDIT_PROLONG,\n",
            "MAX(CASE WHEN CREDIT_TYPE= 'Interbank credit' THEN AMT_CREDIT_SUM ELSE 0 END) AS MAX_CREDIT_TYPE_Interbank_credit_AMT_CREDIT_SUM,\n",
            "MAX(CASE WHEN CREDIT_TYPE= 'Interbank credit' THEN AMT_CREDIT_SUM_DEBT ELSE 0 END) AS MAX_CREDIT_TYPE_Interbank_credit_AMT_CREDIT_SUM_DEBT,\n",
            "MAX(CASE WHEN CREDIT_TYPE= 'Interbank credit' THEN AMT_CREDIT_SUM_LIMIT ELSE 0 END) AS MAX_CREDIT_TYPE_Interbank_credit_AMT_CREDIT_SUM_LIMIT,\n",
            "MAX(CASE WHEN CREDIT_TYPE= 'Interbank credit' THEN AMT_CREDIT_SUM_OVERDUE ELSE 0 END) AS MAX_CREDIT_TYPE_Interbank_credit_AMT_CREDIT_SUM_OVERDUE,\n",
            "MAX(CASE WHEN CREDIT_TYPE= 'Interbank credit' THEN AMT_ANNUITY ELSE 0 END) AS MAX_CREDIT_TYPE_Interbank_credit_AMT_ANNUITY,\n",
            "MAX(CASE WHEN CREDIT_TYPE= 'Loan for purchase of shares' THEN AMT_CREDIT_MAX_OVERDUE ELSE 0 END) AS MAX_CREDIT_TYPE_Loan_for_purchase_of_shares_AMT_CREDIT_MAX_OVERDUE,\n",
            "MAX(CASE WHEN CREDIT_TYPE= 'Loan for purchase of shares' THEN CNT_CREDIT_PROLONG ELSE 0 END) AS MAX_CREDIT_TYPE_Loan_for_purchase_of_shares_CNT_CREDIT_PROLONG,\n",
            "MAX(CASE WHEN CREDIT_TYPE= 'Loan for purchase of shares' THEN AMT_CREDIT_SUM ELSE 0 END) AS MAX_CREDIT_TYPE_Loan_for_purchase_of_shares_AMT_CREDIT_SUM,\n",
            "MAX(CASE WHEN CREDIT_TYPE= 'Loan for purchase of shares' THEN AMT_CREDIT_SUM_DEBT ELSE 0 END) AS MAX_CREDIT_TYPE_Loan_for_purchase_of_shares_AMT_CREDIT_SUM_DEBT,\n",
            "MAX(CASE WHEN CREDIT_TYPE= 'Loan for purchase of shares' THEN AMT_CREDIT_SUM_LIMIT ELSE 0 END) AS MAX_CREDIT_TYPE_Loan_for_purchase_of_shares_AMT_CREDIT_SUM_LIMIT,\n",
            "MAX(CASE WHEN CREDIT_TYPE= 'Loan for purchase of shares' THEN AMT_CREDIT_SUM_OVERDUE ELSE 0 END) AS MAX_CREDIT_TYPE_Loan_for_purchase_of_shares_AMT_CREDIT_SUM_OVERDUE,\n",
            "MAX(CASE WHEN CREDIT_TYPE= 'Loan for purchase of shares' THEN AMT_ANNUITY ELSE 0 END) AS MAX_CREDIT_TYPE_Loan_for_purchase_of_shares_AMT_ANNUITY,\n",
            "MAX(CASE WHEN CREDIT_TYPE= 'Loan for the purchase of equipment' THEN AMT_CREDIT_MAX_OVERDUE ELSE 0 END) AS MAX_CREDIT_TYPE_Loan_for_the_purchase_of_equipment_AMT_CREDIT_MAX_OVERDUE,\n",
            "MAX(CASE WHEN CREDIT_TYPE= 'Loan for the purchase of equipment' THEN CNT_CREDIT_PROLONG ELSE 0 END) AS MAX_CREDIT_TYPE_Loan_for_the_purchase_of_equipment_CNT_CREDIT_PROLONG,\n",
            "MAX(CASE WHEN CREDIT_TYPE= 'Loan for the purchase of equipment' THEN AMT_CREDIT_SUM ELSE 0 END) AS MAX_CREDIT_TYPE_Loan_for_the_purchase_of_equipment_AMT_CREDIT_SUM,\n",
            "MAX(CASE WHEN CREDIT_TYPE= 'Loan for the purchase of equipment' THEN AMT_CREDIT_SUM_DEBT ELSE 0 END) AS MAX_CREDIT_TYPE_Loan_for_the_purchase_of_equipment_AMT_CREDIT_SUM_DEBT,\n",
            "MAX(CASE WHEN CREDIT_TYPE= 'Loan for the purchase of equipment' THEN AMT_CREDIT_SUM_LIMIT ELSE 0 END) AS MAX_CREDIT_TYPE_Loan_for_the_purchase_of_equipment_AMT_CREDIT_SUM_LIMIT,\n",
            "MAX(CASE WHEN CREDIT_TYPE= 'Loan for the purchase of equipment' THEN AMT_CREDIT_SUM_OVERDUE ELSE 0 END) AS MAX_CREDIT_TYPE_Loan_for_the_purchase_of_equipment_AMT_CREDIT_SUM_OVERDUE,\n",
            "MAX(CASE WHEN CREDIT_TYPE= 'Loan for the purchase of equipment' THEN AMT_ANNUITY ELSE 0 END) AS MAX_CREDIT_TYPE_Loan_for_the_purchase_of_equipment_AMT_ANNUITY,\n",
            "MAX(CASE WHEN CREDIT_TYPE= 'Real estate loan' THEN AMT_CREDIT_MAX_OVERDUE ELSE 0 END) AS MAX_CREDIT_TYPE_Real_estate_loan_AMT_CREDIT_MAX_OVERDUE,\n",
            "MAX(CASE WHEN CREDIT_TYPE= 'Real estate loan' THEN CNT_CREDIT_PROLONG ELSE 0 END) AS MAX_CREDIT_TYPE_Real_estate_loan_CNT_CREDIT_PROLONG,\n",
            "MAX(CASE WHEN CREDIT_TYPE= 'Real estate loan' THEN AMT_CREDIT_SUM ELSE 0 END) AS MAX_CREDIT_TYPE_Real_estate_loan_AMT_CREDIT_SUM,\n",
            "MAX(CASE WHEN CREDIT_TYPE= 'Real estate loan' THEN AMT_CREDIT_SUM_DEBT ELSE 0 END) AS MAX_CREDIT_TYPE_Real_estate_loan_AMT_CREDIT_SUM_DEBT,\n",
            "MAX(CASE WHEN CREDIT_TYPE= 'Real estate loan' THEN AMT_CREDIT_SUM_LIMIT ELSE 0 END) AS MAX_CREDIT_TYPE_Real_estate_loan_AMT_CREDIT_SUM_LIMIT,\n",
            "MAX(CASE WHEN CREDIT_TYPE= 'Real estate loan' THEN AMT_CREDIT_SUM_OVERDUE ELSE 0 END) AS MAX_CREDIT_TYPE_Real_estate_loan_AMT_CREDIT_SUM_OVERDUE,\n",
            "MAX(CASE WHEN CREDIT_TYPE= 'Real estate loan' THEN AMT_ANNUITY ELSE 0 END) AS MAX_CREDIT_TYPE_Real_estate_loan_AMT_ANNUITY,\n",
            "MAX(CASE WHEN CREDIT_TYPE= 'Cash loan' THEN AMT_CREDIT_MAX_OVERDUE ELSE 0 END) AS MAX_CREDIT_TYPE_Cash_loan_AMT_CREDIT_MAX_OVERDUE,\n",
            "MAX(CASE WHEN CREDIT_TYPE= 'Cash loan' THEN CNT_CREDIT_PROLONG ELSE 0 END) AS MAX_CREDIT_TYPE_Cash_loan_CNT_CREDIT_PROLONG,\n",
            "MAX(CASE WHEN CREDIT_TYPE= 'Cash loan' THEN AMT_CREDIT_SUM ELSE 0 END) AS MAX_CREDIT_TYPE_Cash_loan_AMT_CREDIT_SUM,\n",
            "MAX(CASE WHEN CREDIT_TYPE= 'Cash loan' THEN AMT_CREDIT_SUM_DEBT ELSE 0 END) AS MAX_CREDIT_TYPE_Cash_loan_AMT_CREDIT_SUM_DEBT,\n",
            "MAX(CASE WHEN CREDIT_TYPE= 'Cash loan' THEN AMT_CREDIT_SUM_LIMIT ELSE 0 END) AS MAX_CREDIT_TYPE_Cash_loan_AMT_CREDIT_SUM_LIMIT,\n",
            "MAX(CASE WHEN CREDIT_TYPE= 'Cash loan' THEN AMT_CREDIT_SUM_OVERDUE ELSE 0 END) AS MAX_CREDIT_TYPE_Cash_loan_AMT_CREDIT_SUM_OVERDUE,\n",
            "MAX(CASE WHEN CREDIT_TYPE= 'Cash loan' THEN AMT_ANNUITY ELSE 0 END) AS MAX_CREDIT_TYPE_Cash_loan_AMT_ANNUITY,\n",
            "MAX(CASE WHEN CREDIT_TYPE= 'Loan for working capital replenishment' THEN AMT_CREDIT_MAX_OVERDUE ELSE 0 END) AS MAX_CREDIT_TYPE_Loan_for_working_capital_replenishment_AMT_CREDIT_MAX_OVERDUE,\n",
            "MAX(CASE WHEN CREDIT_TYPE= 'Loan for working capital replenishment' THEN CNT_CREDIT_PROLONG ELSE 0 END) AS MAX_CREDIT_TYPE_Loan_for_working_capital_replenishment_CNT_CREDIT_PROLONG,\n",
            "MAX(CASE WHEN CREDIT_TYPE= 'Loan for working capital replenishment' THEN AMT_CREDIT_SUM ELSE 0 END) AS MAX_CREDIT_TYPE_Loan_for_working_capital_replenishment_AMT_CREDIT_SUM,\n",
            "MAX(CASE WHEN CREDIT_TYPE= 'Loan for working capital replenishment' THEN AMT_CREDIT_SUM_DEBT ELSE 0 END) AS MAX_CREDIT_TYPE_Loan_for_working_capital_replenishment_AMT_CREDIT_SUM_DEBT,\n",
            "MAX(CASE WHEN CREDIT_TYPE= 'Loan for working capital replenishment' THEN AMT_CREDIT_SUM_LIMIT ELSE 0 END) AS MAX_CREDIT_TYPE_Loan_for_working_capital_replenishment_AMT_CREDIT_SUM_LIMIT,\n",
            "MAX(CASE WHEN CREDIT_TYPE= 'Loan for working capital replenishment' THEN AMT_CREDIT_SUM_OVERDUE ELSE 0 END) AS MAX_CREDIT_TYPE_Loan_for_working_capital_replenishment_AMT_CREDIT_SUM_OVERDUE,\n",
            "MAX(CASE WHEN CREDIT_TYPE= 'Loan for working capital replenishment' THEN AMT_ANNUITY ELSE 0 END) AS MAX_CREDIT_TYPE_Loan_for_working_capital_replenishment_AMT_ANNUITY,\n",
            "MAX(CASE WHEN CREDIT_TYPE= 'Unknown type of loan' THEN AMT_CREDIT_MAX_OVERDUE ELSE 0 END) AS MAX_CREDIT_TYPE_Unknown_type_of_loan_AMT_CREDIT_MAX_OVERDUE,\n",
            "MAX(CASE WHEN CREDIT_TYPE= 'Unknown type of loan' THEN CNT_CREDIT_PROLONG ELSE 0 END) AS MAX_CREDIT_TYPE_Unknown_type_of_loan_CNT_CREDIT_PROLONG,\n",
            "MAX(CASE WHEN CREDIT_TYPE= 'Unknown type of loan' THEN AMT_CREDIT_SUM ELSE 0 END) AS MAX_CREDIT_TYPE_Unknown_type_of_loan_AMT_CREDIT_SUM,\n",
            "MAX(CASE WHEN CREDIT_TYPE= 'Unknown type of loan' THEN AMT_CREDIT_SUM_DEBT ELSE 0 END) AS MAX_CREDIT_TYPE_Unknown_type_of_loan_AMT_CREDIT_SUM_DEBT,\n",
            "MAX(CASE WHEN CREDIT_TYPE= 'Unknown type of loan' THEN AMT_CREDIT_SUM_LIMIT ELSE 0 END) AS MAX_CREDIT_TYPE_Unknown_type_of_loan_AMT_CREDIT_SUM_LIMIT,\n",
            "MAX(CASE WHEN CREDIT_TYPE= 'Unknown type of loan' THEN AMT_CREDIT_SUM_OVERDUE ELSE 0 END) AS MAX_CREDIT_TYPE_Unknown_type_of_loan_AMT_CREDIT_SUM_OVERDUE,\n",
            "MAX(CASE WHEN CREDIT_TYPE= 'Unknown type of loan' THEN AMT_ANNUITY ELSE 0 END) AS MAX_CREDIT_TYPE_Unknown_type_of_loan_AMT_ANNUITY,\n",
            "MAX(CASE WHEN CREDIT_TYPE= 'Another type of loan' THEN AMT_CREDIT_MAX_OVERDUE ELSE 0 END) AS MAX_CREDIT_TYPE_Another_type_of_loan_AMT_CREDIT_MAX_OVERDUE,\n",
            "MAX(CASE WHEN CREDIT_TYPE= 'Another type of loan' THEN CNT_CREDIT_PROLONG ELSE 0 END) AS MAX_CREDIT_TYPE_Another_type_of_loan_CNT_CREDIT_PROLONG,\n",
            "MAX(CASE WHEN CREDIT_TYPE= 'Another type of loan' THEN AMT_CREDIT_SUM ELSE 0 END) AS MAX_CREDIT_TYPE_Another_type_of_loan_AMT_CREDIT_SUM,\n",
            "MAX(CASE WHEN CREDIT_TYPE= 'Another type of loan' THEN AMT_CREDIT_SUM_DEBT ELSE 0 END) AS MAX_CREDIT_TYPE_Another_type_of_loan_AMT_CREDIT_SUM_DEBT,\n",
            "MAX(CASE WHEN CREDIT_TYPE= 'Another type of loan' THEN AMT_CREDIT_SUM_LIMIT ELSE 0 END) AS MAX_CREDIT_TYPE_Another_type_of_loan_AMT_CREDIT_SUM_LIMIT,\n",
            "MAX(CASE WHEN CREDIT_TYPE= 'Another type of loan' THEN AMT_CREDIT_SUM_OVERDUE ELSE 0 END) AS MAX_CREDIT_TYPE_Another_type_of_loan_AMT_CREDIT_SUM_OVERDUE,\n",
            "MAX(CASE WHEN CREDIT_TYPE= 'Another type of loan' THEN AMT_ANNUITY ELSE 0 END) AS MAX_CREDIT_TYPE_Another_type_of_loan_AMT_ANNUITY,\n",
            "MAX(CASE WHEN CREDIT_TYPE= 'Loan for business development' THEN AMT_CREDIT_MAX_OVERDUE ELSE 0 END) AS MAX_CREDIT_TYPE_Loan_for_business_development_AMT_CREDIT_MAX_OVERDUE,\n",
            "MAX(CASE WHEN CREDIT_TYPE= 'Loan for business development' THEN CNT_CREDIT_PROLONG ELSE 0 END) AS MAX_CREDIT_TYPE_Loan_for_business_development_CNT_CREDIT_PROLONG,\n",
            "MAX(CASE WHEN CREDIT_TYPE= 'Loan for business development' THEN AMT_CREDIT_SUM ELSE 0 END) AS MAX_CREDIT_TYPE_Loan_for_business_development_AMT_CREDIT_SUM,\n",
            "MAX(CASE WHEN CREDIT_TYPE= 'Loan for business development' THEN AMT_CREDIT_SUM_DEBT ELSE 0 END) AS MAX_CREDIT_TYPE_Loan_for_business_development_AMT_CREDIT_SUM_DEBT,\n",
            "MAX(CASE WHEN CREDIT_TYPE= 'Loan for business development' THEN AMT_CREDIT_SUM_LIMIT ELSE 0 END) AS MAX_CREDIT_TYPE_Loan_for_business_development_AMT_CREDIT_SUM_LIMIT,\n",
            "MAX(CASE WHEN CREDIT_TYPE= 'Loan for business development' THEN AMT_CREDIT_SUM_OVERDUE ELSE 0 END) AS MAX_CREDIT_TYPE_Loan_for_business_development_AMT_CREDIT_SUM_OVERDUE,\n",
            "MAX(CASE WHEN CREDIT_TYPE= 'Loan for business development' THEN AMT_ANNUITY ELSE 0 END) AS MAX_CREDIT_TYPE_Loan_for_business_development_AMT_ANNUITY,\n",
            "MAX(CASE WHEN CREDIT_TYPE= 'Microloan' THEN AMT_CREDIT_MAX_OVERDUE ELSE 0 END) AS MAX_CREDIT_TYPE_Microloan_AMT_CREDIT_MAX_OVERDUE,\n",
            "MAX(CASE WHEN CREDIT_TYPE= 'Microloan' THEN CNT_CREDIT_PROLONG ELSE 0 END) AS MAX_CREDIT_TYPE_Microloan_CNT_CREDIT_PROLONG,\n",
            "MAX(CASE WHEN CREDIT_TYPE= 'Microloan' THEN AMT_CREDIT_SUM ELSE 0 END) AS MAX_CREDIT_TYPE_Microloan_AMT_CREDIT_SUM,\n",
            "MAX(CASE WHEN CREDIT_TYPE= 'Microloan' THEN AMT_CREDIT_SUM_DEBT ELSE 0 END) AS MAX_CREDIT_TYPE_Microloan_AMT_CREDIT_SUM_DEBT,\n",
            "MAX(CASE WHEN CREDIT_TYPE= 'Microloan' THEN AMT_CREDIT_SUM_LIMIT ELSE 0 END) AS MAX_CREDIT_TYPE_Microloan_AMT_CREDIT_SUM_LIMIT,\n",
            "MAX(CASE WHEN CREDIT_TYPE= 'Microloan' THEN AMT_CREDIT_SUM_OVERDUE ELSE 0 END) AS MAX_CREDIT_TYPE_Microloan_AMT_CREDIT_SUM_OVERDUE,\n",
            "MAX(CASE WHEN CREDIT_TYPE= 'Microloan' THEN AMT_ANNUITY ELSE 0 END) AS MAX_CREDIT_TYPE_Microloan_AMT_ANNUITY,\n",
            "MAX(CASE WHEN CREDIT_TYPE= 'Mortgage' THEN AMT_CREDIT_MAX_OVERDUE ELSE 0 END) AS MAX_CREDIT_TYPE_Mortgage_AMT_CREDIT_MAX_OVERDUE,\n",
            "MAX(CASE WHEN CREDIT_TYPE= 'Mortgage' THEN CNT_CREDIT_PROLONG ELSE 0 END) AS MAX_CREDIT_TYPE_Mortgage_CNT_CREDIT_PROLONG,\n",
            "MAX(CASE WHEN CREDIT_TYPE= 'Mortgage' THEN AMT_CREDIT_SUM ELSE 0 END) AS MAX_CREDIT_TYPE_Mortgage_AMT_CREDIT_SUM,\n",
            "MAX(CASE WHEN CREDIT_TYPE= 'Mortgage' THEN AMT_CREDIT_SUM_DEBT ELSE 0 END) AS MAX_CREDIT_TYPE_Mortgage_AMT_CREDIT_SUM_DEBT,\n",
            "MAX(CASE WHEN CREDIT_TYPE= 'Mortgage' THEN AMT_CREDIT_SUM_LIMIT ELSE 0 END) AS MAX_CREDIT_TYPE_Mortgage_AMT_CREDIT_SUM_LIMIT,\n",
            "MAX(CASE WHEN CREDIT_TYPE= 'Mortgage' THEN AMT_CREDIT_SUM_OVERDUE ELSE 0 END) AS MAX_CREDIT_TYPE_Mortgage_AMT_CREDIT_SUM_OVERDUE,\n",
            "MAX(CASE WHEN CREDIT_TYPE= 'Mortgage' THEN AMT_ANNUITY ELSE 0 END) AS MAX_CREDIT_TYPE_Mortgage_AMT_ANNUITY,\n",
            "MAX(CASE WHEN CREDIT_TYPE= 'Car loan' THEN AMT_CREDIT_MAX_OVERDUE ELSE 0 END) AS MAX_CREDIT_TYPE_Car_loan_AMT_CREDIT_MAX_OVERDUE,\n",
            "MAX(CASE WHEN CREDIT_TYPE= 'Car loan' THEN CNT_CREDIT_PROLONG ELSE 0 END) AS MAX_CREDIT_TYPE_Car_loan_CNT_CREDIT_PROLONG,\n",
            "MAX(CASE WHEN CREDIT_TYPE= 'Car loan' THEN AMT_CREDIT_SUM ELSE 0 END) AS MAX_CREDIT_TYPE_Car_loan_AMT_CREDIT_SUM,\n",
            "MAX(CASE WHEN CREDIT_TYPE= 'Car loan' THEN AMT_CREDIT_SUM_DEBT ELSE 0 END) AS MAX_CREDIT_TYPE_Car_loan_AMT_CREDIT_SUM_DEBT,\n",
            "MAX(CASE WHEN CREDIT_TYPE= 'Car loan' THEN AMT_CREDIT_SUM_LIMIT ELSE 0 END) AS MAX_CREDIT_TYPE_Car_loan_AMT_CREDIT_SUM_LIMIT,\n",
            "MAX(CASE WHEN CREDIT_TYPE= 'Car loan' THEN AMT_CREDIT_SUM_OVERDUE ELSE 0 END) AS MAX_CREDIT_TYPE_Car_loan_AMT_CREDIT_SUM_OVERDUE,\n",
            "MAX(CASE WHEN CREDIT_TYPE= 'Car loan' THEN AMT_ANNUITY ELSE 0 END) AS MAX_CREDIT_TYPE_Car_loan_AMT_ANNUITY,\n",
            "MAX(CASE WHEN CREDIT_TYPE= 'Credit card' THEN AMT_CREDIT_MAX_OVERDUE ELSE 0 END) AS MAX_CREDIT_TYPE_Credit_card_AMT_CREDIT_MAX_OVERDUE,\n",
            "MAX(CASE WHEN CREDIT_TYPE= 'Credit card' THEN CNT_CREDIT_PROLONG ELSE 0 END) AS MAX_CREDIT_TYPE_Credit_card_CNT_CREDIT_PROLONG,\n",
            "MAX(CASE WHEN CREDIT_TYPE= 'Credit card' THEN AMT_CREDIT_SUM ELSE 0 END) AS MAX_CREDIT_TYPE_Credit_card_AMT_CREDIT_SUM,\n",
            "MAX(CASE WHEN CREDIT_TYPE= 'Credit card' THEN AMT_CREDIT_SUM_DEBT ELSE 0 END) AS MAX_CREDIT_TYPE_Credit_card_AMT_CREDIT_SUM_DEBT,\n",
            "MAX(CASE WHEN CREDIT_TYPE= 'Credit card' THEN AMT_CREDIT_SUM_LIMIT ELSE 0 END) AS MAX_CREDIT_TYPE_Credit_card_AMT_CREDIT_SUM_LIMIT,\n",
            "MAX(CASE WHEN CREDIT_TYPE= 'Credit card' THEN AMT_CREDIT_SUM_OVERDUE ELSE 0 END) AS MAX_CREDIT_TYPE_Credit_card_AMT_CREDIT_SUM_OVERDUE,\n",
            "MAX(CASE WHEN CREDIT_TYPE= 'Credit card' THEN AMT_ANNUITY ELSE 0 END) AS MAX_CREDIT_TYPE_Credit_card_AMT_ANNUITY,\n",
            "MAX(CASE WHEN CREDIT_TYPE= 'Consumer credit' THEN AMT_CREDIT_MAX_OVERDUE ELSE 0 END) AS MAX_CREDIT_TYPE_Consumer_credit_AMT_CREDIT_MAX_OVERDUE,\n",
            "MAX(CASE WHEN CREDIT_TYPE= 'Consumer credit' THEN CNT_CREDIT_PROLONG ELSE 0 END) AS MAX_CREDIT_TYPE_Consumer_credit_CNT_CREDIT_PROLONG,\n",
            "MAX(CASE WHEN CREDIT_TYPE= 'Consumer credit' THEN AMT_CREDIT_SUM ELSE 0 END) AS MAX_CREDIT_TYPE_Consumer_credit_AMT_CREDIT_SUM,\n",
            "MAX(CASE WHEN CREDIT_TYPE= 'Consumer credit' THEN AMT_CREDIT_SUM_DEBT ELSE 0 END) AS MAX_CREDIT_TYPE_Consumer_credit_AMT_CREDIT_SUM_DEBT,\n",
            "MAX(CASE WHEN CREDIT_TYPE= 'Consumer credit' THEN AMT_CREDIT_SUM_LIMIT ELSE 0 END) AS MAX_CREDIT_TYPE_Consumer_credit_AMT_CREDIT_SUM_LIMIT,\n",
            "MAX(CASE WHEN CREDIT_TYPE= 'Consumer credit' THEN AMT_CREDIT_SUM_OVERDUE ELSE 0 END) AS MAX_CREDIT_TYPE_Consumer_credit_AMT_CREDIT_SUM_OVERDUE,\n",
            "MAX(CASE WHEN CREDIT_TYPE= 'Consumer credit' THEN AMT_ANNUITY ELSE 0 END) AS MAX_CREDIT_TYPE_Consumer_credit_AMT_ANNUITY,\n",
            "AVG(CASE WHEN CREDIT_TYPE= 'Mobile operator loan' THEN AMT_CREDIT_MAX_OVERDUE ELSE 0 END) AS AVG_CREDIT_TYPE_Mobile_operator_loan_AMT_CREDIT_MAX_OVERDUE,\n",
            "AVG(CASE WHEN CREDIT_TYPE= 'Mobile operator loan' THEN CNT_CREDIT_PROLONG ELSE 0 END) AS AVG_CREDIT_TYPE_Mobile_operator_loan_CNT_CREDIT_PROLONG,\n",
            "AVG(CASE WHEN CREDIT_TYPE= 'Mobile operator loan' THEN AMT_CREDIT_SUM ELSE 0 END) AS AVG_CREDIT_TYPE_Mobile_operator_loan_AMT_CREDIT_SUM,\n",
            "AVG(CASE WHEN CREDIT_TYPE= 'Mobile operator loan' THEN AMT_CREDIT_SUM_DEBT ELSE 0 END) AS AVG_CREDIT_TYPE_Mobile_operator_loan_AMT_CREDIT_SUM_DEBT,\n",
            "AVG(CASE WHEN CREDIT_TYPE= 'Mobile operator loan' THEN AMT_CREDIT_SUM_LIMIT ELSE 0 END) AS AVG_CREDIT_TYPE_Mobile_operator_loan_AMT_CREDIT_SUM_LIMIT,\n",
            "AVG(CASE WHEN CREDIT_TYPE= 'Mobile operator loan' THEN AMT_CREDIT_SUM_OVERDUE ELSE 0 END) AS AVG_CREDIT_TYPE_Mobile_operator_loan_AMT_CREDIT_SUM_OVERDUE,\n",
            "AVG(CASE WHEN CREDIT_TYPE= 'Mobile operator loan' THEN AMT_ANNUITY ELSE 0 END) AS AVG_CREDIT_TYPE_Mobile_operator_loan_AMT_ANNUITY,\n",
            "AVG(CASE WHEN CREDIT_TYPE= 'Interbank credit' THEN AMT_CREDIT_MAX_OVERDUE ELSE 0 END) AS AVG_CREDIT_TYPE_Interbank_credit_AMT_CREDIT_MAX_OVERDUE,\n",
            "AVG(CASE WHEN CREDIT_TYPE= 'Interbank credit' THEN CNT_CREDIT_PROLONG ELSE 0 END) AS AVG_CREDIT_TYPE_Interbank_credit_CNT_CREDIT_PROLONG,\n",
            "AVG(CASE WHEN CREDIT_TYPE= 'Interbank credit' THEN AMT_CREDIT_SUM ELSE 0 END) AS AVG_CREDIT_TYPE_Interbank_credit_AMT_CREDIT_SUM,\n",
            "AVG(CASE WHEN CREDIT_TYPE= 'Interbank credit' THEN AMT_CREDIT_SUM_DEBT ELSE 0 END) AS AVG_CREDIT_TYPE_Interbank_credit_AMT_CREDIT_SUM_DEBT,\n",
            "AVG(CASE WHEN CREDIT_TYPE= 'Interbank credit' THEN AMT_CREDIT_SUM_LIMIT ELSE 0 END) AS AVG_CREDIT_TYPE_Interbank_credit_AMT_CREDIT_SUM_LIMIT,\n",
            "AVG(CASE WHEN CREDIT_TYPE= 'Interbank credit' THEN AMT_CREDIT_SUM_OVERDUE ELSE 0 END) AS AVG_CREDIT_TYPE_Interbank_credit_AMT_CREDIT_SUM_OVERDUE,\n",
            "AVG(CASE WHEN CREDIT_TYPE= 'Interbank credit' THEN AMT_ANNUITY ELSE 0 END) AS AVG_CREDIT_TYPE_Interbank_credit_AMT_ANNUITY,\n",
            "AVG(CASE WHEN CREDIT_TYPE= 'Loan for purchase of shares' THEN AMT_CREDIT_MAX_OVERDUE ELSE 0 END) AS AVG_CREDIT_TYPE_Loan_for_purchase_of_shares_AMT_CREDIT_MAX_OVERDUE,\n",
            "AVG(CASE WHEN CREDIT_TYPE= 'Loan for purchase of shares' THEN CNT_CREDIT_PROLONG ELSE 0 END) AS AVG_CREDIT_TYPE_Loan_for_purchase_of_shares_CNT_CREDIT_PROLONG,\n",
            "AVG(CASE WHEN CREDIT_TYPE= 'Loan for purchase of shares' THEN AMT_CREDIT_SUM ELSE 0 END) AS AVG_CREDIT_TYPE_Loan_for_purchase_of_shares_AMT_CREDIT_SUM,\n",
            "AVG(CASE WHEN CREDIT_TYPE= 'Loan for purchase of shares' THEN AMT_CREDIT_SUM_DEBT ELSE 0 END) AS AVG_CREDIT_TYPE_Loan_for_purchase_of_shares_AMT_CREDIT_SUM_DEBT,\n",
            "AVG(CASE WHEN CREDIT_TYPE= 'Loan for purchase of shares' THEN AMT_CREDIT_SUM_LIMIT ELSE 0 END) AS AVG_CREDIT_TYPE_Loan_for_purchase_of_shares_AMT_CREDIT_SUM_LIMIT,\n",
            "AVG(CASE WHEN CREDIT_TYPE= 'Loan for purchase of shares' THEN AMT_CREDIT_SUM_OVERDUE ELSE 0 END) AS AVG_CREDIT_TYPE_Loan_for_purchase_of_shares_AMT_CREDIT_SUM_OVERDUE,\n",
            "AVG(CASE WHEN CREDIT_TYPE= 'Loan for purchase of shares' THEN AMT_ANNUITY ELSE 0 END) AS AVG_CREDIT_TYPE_Loan_for_purchase_of_shares_AMT_ANNUITY,\n",
            "AVG(CASE WHEN CREDIT_TYPE= 'Loan for the purchase of equipment' THEN AMT_CREDIT_MAX_OVERDUE ELSE 0 END) AS AVG_CREDIT_TYPE_Loan_for_the_purchase_of_equipment_AMT_CREDIT_MAX_OVERDUE,\n",
            "AVG(CASE WHEN CREDIT_TYPE= 'Loan for the purchase of equipment' THEN CNT_CREDIT_PROLONG ELSE 0 END) AS AVG_CREDIT_TYPE_Loan_for_the_purchase_of_equipment_CNT_CREDIT_PROLONG,\n",
            "AVG(CASE WHEN CREDIT_TYPE= 'Loan for the purchase of equipment' THEN AMT_CREDIT_SUM ELSE 0 END) AS AVG_CREDIT_TYPE_Loan_for_the_purchase_of_equipment_AMT_CREDIT_SUM,\n",
            "AVG(CASE WHEN CREDIT_TYPE= 'Loan for the purchase of equipment' THEN AMT_CREDIT_SUM_DEBT ELSE 0 END) AS AVG_CREDIT_TYPE_Loan_for_the_purchase_of_equipment_AMT_CREDIT_SUM_DEBT,\n",
            "AVG(CASE WHEN CREDIT_TYPE= 'Loan for the purchase of equipment' THEN AMT_CREDIT_SUM_LIMIT ELSE 0 END) AS AVG_CREDIT_TYPE_Loan_for_the_purchase_of_equipment_AMT_CREDIT_SUM_LIMIT,\n",
            "AVG(CASE WHEN CREDIT_TYPE= 'Loan for the purchase of equipment' THEN AMT_CREDIT_SUM_OVERDUE ELSE 0 END) AS AVG_CREDIT_TYPE_Loan_for_the_purchase_of_equipment_AMT_CREDIT_SUM_OVERDUE,\n",
            "AVG(CASE WHEN CREDIT_TYPE= 'Loan for the purchase of equipment' THEN AMT_ANNUITY ELSE 0 END) AS AVG_CREDIT_TYPE_Loan_for_the_purchase_of_equipment_AMT_ANNUITY,\n",
            "AVG(CASE WHEN CREDIT_TYPE= 'Real estate loan' THEN AMT_CREDIT_MAX_OVERDUE ELSE 0 END) AS AVG_CREDIT_TYPE_Real_estate_loan_AMT_CREDIT_MAX_OVERDUE,\n",
            "AVG(CASE WHEN CREDIT_TYPE= 'Real estate loan' THEN CNT_CREDIT_PROLONG ELSE 0 END) AS AVG_CREDIT_TYPE_Real_estate_loan_CNT_CREDIT_PROLONG,\n",
            "AVG(CASE WHEN CREDIT_TYPE= 'Real estate loan' THEN AMT_CREDIT_SUM ELSE 0 END) AS AVG_CREDIT_TYPE_Real_estate_loan_AMT_CREDIT_SUM,\n",
            "AVG(CASE WHEN CREDIT_TYPE= 'Real estate loan' THEN AMT_CREDIT_SUM_DEBT ELSE 0 END) AS AVG_CREDIT_TYPE_Real_estate_loan_AMT_CREDIT_SUM_DEBT,\n",
            "AVG(CASE WHEN CREDIT_TYPE= 'Real estate loan' THEN AMT_CREDIT_SUM_LIMIT ELSE 0 END) AS AVG_CREDIT_TYPE_Real_estate_loan_AMT_CREDIT_SUM_LIMIT,\n",
            "AVG(CASE WHEN CREDIT_TYPE= 'Real estate loan' THEN AMT_CREDIT_SUM_OVERDUE ELSE 0 END) AS AVG_CREDIT_TYPE_Real_estate_loan_AMT_CREDIT_SUM_OVERDUE,\n",
            "AVG(CASE WHEN CREDIT_TYPE= 'Real estate loan' THEN AMT_ANNUITY ELSE 0 END) AS AVG_CREDIT_TYPE_Real_estate_loan_AMT_ANNUITY,\n",
            "AVG(CASE WHEN CREDIT_TYPE= 'Cash loan' THEN AMT_CREDIT_MAX_OVERDUE ELSE 0 END) AS AVG_CREDIT_TYPE_Cash_loan_AMT_CREDIT_MAX_OVERDUE,\n",
            "AVG(CASE WHEN CREDIT_TYPE= 'Cash loan' THEN CNT_CREDIT_PROLONG ELSE 0 END) AS AVG_CREDIT_TYPE_Cash_loan_CNT_CREDIT_PROLONG,\n",
            "AVG(CASE WHEN CREDIT_TYPE= 'Cash loan' THEN AMT_CREDIT_SUM ELSE 0 END) AS AVG_CREDIT_TYPE_Cash_loan_AMT_CREDIT_SUM,\n",
            "AVG(CASE WHEN CREDIT_TYPE= 'Cash loan' THEN AMT_CREDIT_SUM_DEBT ELSE 0 END) AS AVG_CREDIT_TYPE_Cash_loan_AMT_CREDIT_SUM_DEBT,\n",
            "AVG(CASE WHEN CREDIT_TYPE= 'Cash loan' THEN AMT_CREDIT_SUM_LIMIT ELSE 0 END) AS AVG_CREDIT_TYPE_Cash_loan_AMT_CREDIT_SUM_LIMIT,\n",
            "AVG(CASE WHEN CREDIT_TYPE= 'Cash loan' THEN AMT_CREDIT_SUM_OVERDUE ELSE 0 END) AS AVG_CREDIT_TYPE_Cash_loan_AMT_CREDIT_SUM_OVERDUE,\n",
            "AVG(CASE WHEN CREDIT_TYPE= 'Cash loan' THEN AMT_ANNUITY ELSE 0 END) AS AVG_CREDIT_TYPE_Cash_loan_AMT_ANNUITY,\n",
            "AVG(CASE WHEN CREDIT_TYPE= 'Loan for working capital replenishment' THEN AMT_CREDIT_MAX_OVERDUE ELSE 0 END) AS AVG_CREDIT_TYPE_Loan_for_working_capital_replenishment_AMT_CREDIT_MAX_OVERDUE,\n",
            "AVG(CASE WHEN CREDIT_TYPE= 'Loan for working capital replenishment' THEN CNT_CREDIT_PROLONG ELSE 0 END) AS AVG_CREDIT_TYPE_Loan_for_working_capital_replenishment_CNT_CREDIT_PROLONG,\n",
            "AVG(CASE WHEN CREDIT_TYPE= 'Loan for working capital replenishment' THEN AMT_CREDIT_SUM ELSE 0 END) AS AVG_CREDIT_TYPE_Loan_for_working_capital_replenishment_AMT_CREDIT_SUM,\n",
            "AVG(CASE WHEN CREDIT_TYPE= 'Loan for working capital replenishment' THEN AMT_CREDIT_SUM_DEBT ELSE 0 END) AS AVG_CREDIT_TYPE_Loan_for_working_capital_replenishment_AMT_CREDIT_SUM_DEBT,\n",
            "AVG(CASE WHEN CREDIT_TYPE= 'Loan for working capital replenishment' THEN AMT_CREDIT_SUM_LIMIT ELSE 0 END) AS AVG_CREDIT_TYPE_Loan_for_working_capital_replenishment_AMT_CREDIT_SUM_LIMIT,\n",
            "AVG(CASE WHEN CREDIT_TYPE= 'Loan for working capital replenishment' THEN AMT_CREDIT_SUM_OVERDUE ELSE 0 END) AS AVG_CREDIT_TYPE_Loan_for_working_capital_replenishment_AMT_CREDIT_SUM_OVERDUE,\n",
            "AVG(CASE WHEN CREDIT_TYPE= 'Loan for working capital replenishment' THEN AMT_ANNUITY ELSE 0 END) AS AVG_CREDIT_TYPE_Loan_for_working_capital_replenishment_AMT_ANNUITY,\n",
            "AVG(CASE WHEN CREDIT_TYPE= 'Unknown type of loan' THEN AMT_CREDIT_MAX_OVERDUE ELSE 0 END) AS AVG_CREDIT_TYPE_Unknown_type_of_loan_AMT_CREDIT_MAX_OVERDUE,\n",
            "AVG(CASE WHEN CREDIT_TYPE= 'Unknown type of loan' THEN CNT_CREDIT_PROLONG ELSE 0 END) AS AVG_CREDIT_TYPE_Unknown_type_of_loan_CNT_CREDIT_PROLONG,\n",
            "AVG(CASE WHEN CREDIT_TYPE= 'Unknown type of loan' THEN AMT_CREDIT_SUM ELSE 0 END) AS AVG_CREDIT_TYPE_Unknown_type_of_loan_AMT_CREDIT_SUM,\n",
            "AVG(CASE WHEN CREDIT_TYPE= 'Unknown type of loan' THEN AMT_CREDIT_SUM_DEBT ELSE 0 END) AS AVG_CREDIT_TYPE_Unknown_type_of_loan_AMT_CREDIT_SUM_DEBT,\n",
            "AVG(CASE WHEN CREDIT_TYPE= 'Unknown type of loan' THEN AMT_CREDIT_SUM_LIMIT ELSE 0 END) AS AVG_CREDIT_TYPE_Unknown_type_of_loan_AMT_CREDIT_SUM_LIMIT,\n",
            "AVG(CASE WHEN CREDIT_TYPE= 'Unknown type of loan' THEN AMT_CREDIT_SUM_OVERDUE ELSE 0 END) AS AVG_CREDIT_TYPE_Unknown_type_of_loan_AMT_CREDIT_SUM_OVERDUE,\n",
            "AVG(CASE WHEN CREDIT_TYPE= 'Unknown type of loan' THEN AMT_ANNUITY ELSE 0 END) AS AVG_CREDIT_TYPE_Unknown_type_of_loan_AMT_ANNUITY,\n",
            "AVG(CASE WHEN CREDIT_TYPE= 'Another type of loan' THEN AMT_CREDIT_MAX_OVERDUE ELSE 0 END) AS AVG_CREDIT_TYPE_Another_type_of_loan_AMT_CREDIT_MAX_OVERDUE,\n",
            "AVG(CASE WHEN CREDIT_TYPE= 'Another type of loan' THEN CNT_CREDIT_PROLONG ELSE 0 END) AS AVG_CREDIT_TYPE_Another_type_of_loan_CNT_CREDIT_PROLONG,\n",
            "AVG(CASE WHEN CREDIT_TYPE= 'Another type of loan' THEN AMT_CREDIT_SUM ELSE 0 END) AS AVG_CREDIT_TYPE_Another_type_of_loan_AMT_CREDIT_SUM,\n",
            "AVG(CASE WHEN CREDIT_TYPE= 'Another type of loan' THEN AMT_CREDIT_SUM_DEBT ELSE 0 END) AS AVG_CREDIT_TYPE_Another_type_of_loan_AMT_CREDIT_SUM_DEBT,\n",
            "AVG(CASE WHEN CREDIT_TYPE= 'Another type of loan' THEN AMT_CREDIT_SUM_LIMIT ELSE 0 END) AS AVG_CREDIT_TYPE_Another_type_of_loan_AMT_CREDIT_SUM_LIMIT,\n",
            "AVG(CASE WHEN CREDIT_TYPE= 'Another type of loan' THEN AMT_CREDIT_SUM_OVERDUE ELSE 0 END) AS AVG_CREDIT_TYPE_Another_type_of_loan_AMT_CREDIT_SUM_OVERDUE,\n",
            "AVG(CASE WHEN CREDIT_TYPE= 'Another type of loan' THEN AMT_ANNUITY ELSE 0 END) AS AVG_CREDIT_TYPE_Another_type_of_loan_AMT_ANNUITY,\n",
            "AVG(CASE WHEN CREDIT_TYPE= 'Loan for business development' THEN AMT_CREDIT_MAX_OVERDUE ELSE 0 END) AS AVG_CREDIT_TYPE_Loan_for_business_development_AMT_CREDIT_MAX_OVERDUE,\n",
            "AVG(CASE WHEN CREDIT_TYPE= 'Loan for business development' THEN CNT_CREDIT_PROLONG ELSE 0 END) AS AVG_CREDIT_TYPE_Loan_for_business_development_CNT_CREDIT_PROLONG,\n",
            "AVG(CASE WHEN CREDIT_TYPE= 'Loan for business development' THEN AMT_CREDIT_SUM ELSE 0 END) AS AVG_CREDIT_TYPE_Loan_for_business_development_AMT_CREDIT_SUM,\n",
            "AVG(CASE WHEN CREDIT_TYPE= 'Loan for business development' THEN AMT_CREDIT_SUM_DEBT ELSE 0 END) AS AVG_CREDIT_TYPE_Loan_for_business_development_AMT_CREDIT_SUM_DEBT,\n",
            "AVG(CASE WHEN CREDIT_TYPE= 'Loan for business development' THEN AMT_CREDIT_SUM_LIMIT ELSE 0 END) AS AVG_CREDIT_TYPE_Loan_for_business_development_AMT_CREDIT_SUM_LIMIT,\n",
            "AVG(CASE WHEN CREDIT_TYPE= 'Loan for business development' THEN AMT_CREDIT_SUM_OVERDUE ELSE 0 END) AS AVG_CREDIT_TYPE_Loan_for_business_development_AMT_CREDIT_SUM_OVERDUE,\n",
            "AVG(CASE WHEN CREDIT_TYPE= 'Loan for business development' THEN AMT_ANNUITY ELSE 0 END) AS AVG_CREDIT_TYPE_Loan_for_business_development_AMT_ANNUITY,\n",
            "AVG(CASE WHEN CREDIT_TYPE= 'Microloan' THEN AMT_CREDIT_MAX_OVERDUE ELSE 0 END) AS AVG_CREDIT_TYPE_Microloan_AMT_CREDIT_MAX_OVERDUE,\n",
            "AVG(CASE WHEN CREDIT_TYPE= 'Microloan' THEN CNT_CREDIT_PROLONG ELSE 0 END) AS AVG_CREDIT_TYPE_Microloan_CNT_CREDIT_PROLONG,\n",
            "AVG(CASE WHEN CREDIT_TYPE= 'Microloan' THEN AMT_CREDIT_SUM ELSE 0 END) AS AVG_CREDIT_TYPE_Microloan_AMT_CREDIT_SUM,\n",
            "AVG(CASE WHEN CREDIT_TYPE= 'Microloan' THEN AMT_CREDIT_SUM_DEBT ELSE 0 END) AS AVG_CREDIT_TYPE_Microloan_AMT_CREDIT_SUM_DEBT,\n",
            "AVG(CASE WHEN CREDIT_TYPE= 'Microloan' THEN AMT_CREDIT_SUM_LIMIT ELSE 0 END) AS AVG_CREDIT_TYPE_Microloan_AMT_CREDIT_SUM_LIMIT,\n",
            "AVG(CASE WHEN CREDIT_TYPE= 'Microloan' THEN AMT_CREDIT_SUM_OVERDUE ELSE 0 END) AS AVG_CREDIT_TYPE_Microloan_AMT_CREDIT_SUM_OVERDUE,\n",
            "AVG(CASE WHEN CREDIT_TYPE= 'Microloan' THEN AMT_ANNUITY ELSE 0 END) AS AVG_CREDIT_TYPE_Microloan_AMT_ANNUITY,\n",
            "AVG(CASE WHEN CREDIT_TYPE= 'Mortgage' THEN AMT_CREDIT_MAX_OVERDUE ELSE 0 END) AS AVG_CREDIT_TYPE_Mortgage_AMT_CREDIT_MAX_OVERDUE,\n",
            "AVG(CASE WHEN CREDIT_TYPE= 'Mortgage' THEN CNT_CREDIT_PROLONG ELSE 0 END) AS AVG_CREDIT_TYPE_Mortgage_CNT_CREDIT_PROLONG,\n",
            "AVG(CASE WHEN CREDIT_TYPE= 'Mortgage' THEN AMT_CREDIT_SUM ELSE 0 END) AS AVG_CREDIT_TYPE_Mortgage_AMT_CREDIT_SUM,\n",
            "AVG(CASE WHEN CREDIT_TYPE= 'Mortgage' THEN AMT_CREDIT_SUM_DEBT ELSE 0 END) AS AVG_CREDIT_TYPE_Mortgage_AMT_CREDIT_SUM_DEBT,\n",
            "AVG(CASE WHEN CREDIT_TYPE= 'Mortgage' THEN AMT_CREDIT_SUM_LIMIT ELSE 0 END) AS AVG_CREDIT_TYPE_Mortgage_AMT_CREDIT_SUM_LIMIT,\n",
            "AVG(CASE WHEN CREDIT_TYPE= 'Mortgage' THEN AMT_CREDIT_SUM_OVERDUE ELSE 0 END) AS AVG_CREDIT_TYPE_Mortgage_AMT_CREDIT_SUM_OVERDUE,\n",
            "AVG(CASE WHEN CREDIT_TYPE= 'Mortgage' THEN AMT_ANNUITY ELSE 0 END) AS AVG_CREDIT_TYPE_Mortgage_AMT_ANNUITY,\n",
            "AVG(CASE WHEN CREDIT_TYPE= 'Car loan' THEN AMT_CREDIT_MAX_OVERDUE ELSE 0 END) AS AVG_CREDIT_TYPE_Car_loan_AMT_CREDIT_MAX_OVERDUE,\n",
            "AVG(CASE WHEN CREDIT_TYPE= 'Car loan' THEN CNT_CREDIT_PROLONG ELSE 0 END) AS AVG_CREDIT_TYPE_Car_loan_CNT_CREDIT_PROLONG,\n",
            "AVG(CASE WHEN CREDIT_TYPE= 'Car loan' THEN AMT_CREDIT_SUM ELSE 0 END) AS AVG_CREDIT_TYPE_Car_loan_AMT_CREDIT_SUM,\n",
            "AVG(CASE WHEN CREDIT_TYPE= 'Car loan' THEN AMT_CREDIT_SUM_DEBT ELSE 0 END) AS AVG_CREDIT_TYPE_Car_loan_AMT_CREDIT_SUM_DEBT,\n",
            "AVG(CASE WHEN CREDIT_TYPE= 'Car loan' THEN AMT_CREDIT_SUM_LIMIT ELSE 0 END) AS AVG_CREDIT_TYPE_Car_loan_AMT_CREDIT_SUM_LIMIT,\n",
            "AVG(CASE WHEN CREDIT_TYPE= 'Car loan' THEN AMT_CREDIT_SUM_OVERDUE ELSE 0 END) AS AVG_CREDIT_TYPE_Car_loan_AMT_CREDIT_SUM_OVERDUE,\n",
            "AVG(CASE WHEN CREDIT_TYPE= 'Car loan' THEN AMT_ANNUITY ELSE 0 END) AS AVG_CREDIT_TYPE_Car_loan_AMT_ANNUITY,\n",
            "AVG(CASE WHEN CREDIT_TYPE= 'Credit card' THEN AMT_CREDIT_MAX_OVERDUE ELSE 0 END) AS AVG_CREDIT_TYPE_Credit_card_AMT_CREDIT_MAX_OVERDUE,\n",
            "AVG(CASE WHEN CREDIT_TYPE= 'Credit card' THEN CNT_CREDIT_PROLONG ELSE 0 END) AS AVG_CREDIT_TYPE_Credit_card_CNT_CREDIT_PROLONG,\n",
            "AVG(CASE WHEN CREDIT_TYPE= 'Credit card' THEN AMT_CREDIT_SUM ELSE 0 END) AS AVG_CREDIT_TYPE_Credit_card_AMT_CREDIT_SUM,\n",
            "AVG(CASE WHEN CREDIT_TYPE= 'Credit card' THEN AMT_CREDIT_SUM_DEBT ELSE 0 END) AS AVG_CREDIT_TYPE_Credit_card_AMT_CREDIT_SUM_DEBT,\n",
            "AVG(CASE WHEN CREDIT_TYPE= 'Credit card' THEN AMT_CREDIT_SUM_LIMIT ELSE 0 END) AS AVG_CREDIT_TYPE_Credit_card_AMT_CREDIT_SUM_LIMIT,\n",
            "AVG(CASE WHEN CREDIT_TYPE= 'Credit card' THEN AMT_CREDIT_SUM_OVERDUE ELSE 0 END) AS AVG_CREDIT_TYPE_Credit_card_AMT_CREDIT_SUM_OVERDUE,\n",
            "AVG(CASE WHEN CREDIT_TYPE= 'Credit card' THEN AMT_ANNUITY ELSE 0 END) AS AVG_CREDIT_TYPE_Credit_card_AMT_ANNUITY,\n",
            "AVG(CASE WHEN CREDIT_TYPE= 'Consumer credit' THEN AMT_CREDIT_MAX_OVERDUE ELSE 0 END) AS AVG_CREDIT_TYPE_Consumer_credit_AMT_CREDIT_MAX_OVERDUE,\n",
            "AVG(CASE WHEN CREDIT_TYPE= 'Consumer credit' THEN CNT_CREDIT_PROLONG ELSE 0 END) AS AVG_CREDIT_TYPE_Consumer_credit_CNT_CREDIT_PROLONG,\n",
            "AVG(CASE WHEN CREDIT_TYPE= 'Consumer credit' THEN AMT_CREDIT_SUM ELSE 0 END) AS AVG_CREDIT_TYPE_Consumer_credit_AMT_CREDIT_SUM,\n",
            "AVG(CASE WHEN CREDIT_TYPE= 'Consumer credit' THEN AMT_CREDIT_SUM_DEBT ELSE 0 END) AS AVG_CREDIT_TYPE_Consumer_credit_AMT_CREDIT_SUM_DEBT,\n",
            "AVG(CASE WHEN CREDIT_TYPE= 'Consumer credit' THEN AMT_CREDIT_SUM_LIMIT ELSE 0 END) AS AVG_CREDIT_TYPE_Consumer_credit_AMT_CREDIT_SUM_LIMIT,\n",
            "AVG(CASE WHEN CREDIT_TYPE= 'Consumer credit' THEN AMT_CREDIT_SUM_OVERDUE ELSE 0 END) AS AVG_CREDIT_TYPE_Consumer_credit_AMT_CREDIT_SUM_OVERDUE,\n",
            "AVG(CASE WHEN CREDIT_TYPE= 'Consumer credit' THEN AMT_ANNUITY ELSE 0 END) AS AVG_CREDIT_TYPE_Consumer_credit_AMT_ANNUITY,\n"
          ]
        }
      ]
    },
    {
      "cell_type": "markdown",
      "source": [
        "- Craindo o dataframe df_bureau_credit_type_num"
      ],
      "metadata": {
        "id": "fgj_cJOJtFPA"
      }
    },
    {
      "cell_type": "code",
      "source": [
        "df_bureau_credit_type_num = spark.sql(\"\"\"\n",
        "SELECT\n",
        "  SK_ID_CURR,\n",
        "SUM(CASE WHEN CREDIT_TYPE= 'Mobile operator loan' THEN AMT_CREDIT_MAX_OVERDUE ELSE 0 END) AS SUM_CREDIT_TYPE_Mobile_operator_loan_AMT_CREDIT_MAX_OVERDUE,\n",
        "SUM(CASE WHEN CREDIT_TYPE= 'Mobile operator loan' THEN CNT_CREDIT_PROLONG ELSE 0 END) AS SUM_CREDIT_TYPE_Mobile_operator_loan_CNT_CREDIT_PROLONG,\n",
        "SUM(CASE WHEN CREDIT_TYPE= 'Mobile operator loan' THEN AMT_CREDIT_SUM ELSE 0 END) AS SUM_CREDIT_TYPE_Mobile_operator_loan_AMT_CREDIT_SUM,\n",
        "SUM(CASE WHEN CREDIT_TYPE= 'Mobile operator loan' THEN AMT_CREDIT_SUM_DEBT ELSE 0 END) AS SUM_CREDIT_TYPE_Mobile_operator_loan_AMT_CREDIT_SUM_DEBT,\n",
        "SUM(CASE WHEN CREDIT_TYPE= 'Mobile operator loan' THEN AMT_CREDIT_SUM_LIMIT ELSE 0 END) AS SUM_CREDIT_TYPE_Mobile_operator_loan_AMT_CREDIT_SUM_LIMIT,\n",
        "SUM(CASE WHEN CREDIT_TYPE= 'Mobile operator loan' THEN AMT_CREDIT_SUM_OVERDUE ELSE 0 END) AS SUM_CREDIT_TYPE_Mobile_operator_loan_AMT_CREDIT_SUM_OVERDUE,\n",
        "SUM(CASE WHEN CREDIT_TYPE= 'Mobile operator loan' THEN AMT_ANNUITY ELSE 0 END) AS SUM_CREDIT_TYPE_Mobile_operator_loan_AMT_ANNUITY,\n",
        "SUM(CASE WHEN CREDIT_TYPE= 'Interbank credit' THEN AMT_CREDIT_MAX_OVERDUE ELSE 0 END) AS SUM_CREDIT_TYPE_Interbank_credit_AMT_CREDIT_MAX_OVERDUE,\n",
        "SUM(CASE WHEN CREDIT_TYPE= 'Interbank credit' THEN CNT_CREDIT_PROLONG ELSE 0 END) AS SUM_CREDIT_TYPE_Interbank_credit_CNT_CREDIT_PROLONG,\n",
        "SUM(CASE WHEN CREDIT_TYPE= 'Interbank credit' THEN AMT_CREDIT_SUM ELSE 0 END) AS SUM_CREDIT_TYPE_Interbank_credit_AMT_CREDIT_SUM,\n",
        "SUM(CASE WHEN CREDIT_TYPE= 'Interbank credit' THEN AMT_CREDIT_SUM_DEBT ELSE 0 END) AS SUM_CREDIT_TYPE_Interbank_credit_AMT_CREDIT_SUM_DEBT,\n",
        "SUM(CASE WHEN CREDIT_TYPE= 'Interbank credit' THEN AMT_CREDIT_SUM_LIMIT ELSE 0 END) AS SUM_CREDIT_TYPE_Interbank_credit_AMT_CREDIT_SUM_LIMIT,\n",
        "SUM(CASE WHEN CREDIT_TYPE= 'Interbank credit' THEN AMT_CREDIT_SUM_OVERDUE ELSE 0 END) AS SUM_CREDIT_TYPE_Interbank_credit_AMT_CREDIT_SUM_OVERDUE,\n",
        "SUM(CASE WHEN CREDIT_TYPE= 'Interbank credit' THEN AMT_ANNUITY ELSE 0 END) AS SUM_CREDIT_TYPE_Interbank_credit_AMT_ANNUITY,\n",
        "SUM(CASE WHEN CREDIT_TYPE= 'Loan for purchase of shares' THEN AMT_CREDIT_MAX_OVERDUE ELSE 0 END) AS SUM_CREDIT_TYPE_Loan_for_purchase_of_shares_AMT_CREDIT_MAX_OVERDUE,\n",
        "SUM(CASE WHEN CREDIT_TYPE= 'Loan for purchase of shares' THEN CNT_CREDIT_PROLONG ELSE 0 END) AS SUM_CREDIT_TYPE_Loan_for_purchase_of_shares_CNT_CREDIT_PROLONG,\n",
        "SUM(CASE WHEN CREDIT_TYPE= 'Loan for purchase of shares' THEN AMT_CREDIT_SUM ELSE 0 END) AS SUM_CREDIT_TYPE_Loan_for_purchase_of_shares_AMT_CREDIT_SUM,\n",
        "SUM(CASE WHEN CREDIT_TYPE= 'Loan for purchase of shares' THEN AMT_CREDIT_SUM_DEBT ELSE 0 END) AS SUM_CREDIT_TYPE_Loan_for_purchase_of_shares_AMT_CREDIT_SUM_DEBT,\n",
        "SUM(CASE WHEN CREDIT_TYPE= 'Loan for purchase of shares' THEN AMT_CREDIT_SUM_LIMIT ELSE 0 END) AS SUM_CREDIT_TYPE_Loan_for_purchase_of_shares_AMT_CREDIT_SUM_LIMIT,\n",
        "SUM(CASE WHEN CREDIT_TYPE= 'Loan for purchase of shares' THEN AMT_CREDIT_SUM_OVERDUE ELSE 0 END) AS SUM_CREDIT_TYPE_Loan_for_purchase_of_shares_AMT_CREDIT_SUM_OVERDUE,\n",
        "SUM(CASE WHEN CREDIT_TYPE= 'Loan for purchase of shares' THEN AMT_ANNUITY ELSE 0 END) AS SUM_CREDIT_TYPE_Loan_for_purchase_of_shares_AMT_ANNUITY,\n",
        "SUM(CASE WHEN CREDIT_TYPE= 'Loan for the purchase of equipment' THEN AMT_CREDIT_MAX_OVERDUE ELSE 0 END) AS SUM_CREDIT_TYPE_Loan_for_the_purchase_of_equipment_AMT_CREDIT_MAX_OVERDUE,\n",
        "SUM(CASE WHEN CREDIT_TYPE= 'Loan for the purchase of equipment' THEN CNT_CREDIT_PROLONG ELSE 0 END) AS SUM_CREDIT_TYPE_Loan_for_the_purchase_of_equipment_CNT_CREDIT_PROLONG,\n",
        "SUM(CASE WHEN CREDIT_TYPE= 'Loan for the purchase of equipment' THEN AMT_CREDIT_SUM ELSE 0 END) AS SUM_CREDIT_TYPE_Loan_for_the_purchase_of_equipment_AMT_CREDIT_SUM,\n",
        "SUM(CASE WHEN CREDIT_TYPE= 'Loan for the purchase of equipment' THEN AMT_CREDIT_SUM_DEBT ELSE 0 END) AS SUM_CREDIT_TYPE_Loan_for_the_purchase_of_equipment_AMT_CREDIT_SUM_DEBT,\n",
        "SUM(CASE WHEN CREDIT_TYPE= 'Loan for the purchase of equipment' THEN AMT_CREDIT_SUM_LIMIT ELSE 0 END) AS SUM_CREDIT_TYPE_Loan_for_the_purchase_of_equipment_AMT_CREDIT_SUM_LIMIT,\n",
        "SUM(CASE WHEN CREDIT_TYPE= 'Loan for the purchase of equipment' THEN AMT_CREDIT_SUM_OVERDUE ELSE 0 END) AS SUM_CREDIT_TYPE_Loan_for_the_purchase_of_equipment_AMT_CREDIT_SUM_OVERDUE,\n",
        "SUM(CASE WHEN CREDIT_TYPE= 'Loan for the purchase of equipment' THEN AMT_ANNUITY ELSE 0 END) AS SUM_CREDIT_TYPE_Loan_for_the_purchase_of_equipment_AMT_ANNUITY,\n",
        "SUM(CASE WHEN CREDIT_TYPE= 'Real estate loan' THEN AMT_CREDIT_MAX_OVERDUE ELSE 0 END) AS SUM_CREDIT_TYPE_Real_estate_loan_AMT_CREDIT_MAX_OVERDUE,\n",
        "SUM(CASE WHEN CREDIT_TYPE= 'Real estate loan' THEN CNT_CREDIT_PROLONG ELSE 0 END) AS SUM_CREDIT_TYPE_Real_estate_loan_CNT_CREDIT_PROLONG,\n",
        "SUM(CASE WHEN CREDIT_TYPE= 'Real estate loan' THEN AMT_CREDIT_SUM ELSE 0 END) AS SUM_CREDIT_TYPE_Real_estate_loan_AMT_CREDIT_SUM,\n",
        "SUM(CASE WHEN CREDIT_TYPE= 'Real estate loan' THEN AMT_CREDIT_SUM_DEBT ELSE 0 END) AS SUM_CREDIT_TYPE_Real_estate_loan_AMT_CREDIT_SUM_DEBT,\n",
        "SUM(CASE WHEN CREDIT_TYPE= 'Real estate loan' THEN AMT_CREDIT_SUM_LIMIT ELSE 0 END) AS SUM_CREDIT_TYPE_Real_estate_loan_AMT_CREDIT_SUM_LIMIT,\n",
        "SUM(CASE WHEN CREDIT_TYPE= 'Real estate loan' THEN AMT_CREDIT_SUM_OVERDUE ELSE 0 END) AS SUM_CREDIT_TYPE_Real_estate_loan_AMT_CREDIT_SUM_OVERDUE,\n",
        "SUM(CASE WHEN CREDIT_TYPE= 'Real estate loan' THEN AMT_ANNUITY ELSE 0 END) AS SUM_CREDIT_TYPE_Real_estate_loan_AMT_ANNUITY,\n",
        "SUM(CASE WHEN CREDIT_TYPE= 'Cash loan' THEN AMT_CREDIT_MAX_OVERDUE ELSE 0 END) AS SUM_CREDIT_TYPE_Cash_loan_AMT_CREDIT_MAX_OVERDUE,\n",
        "SUM(CASE WHEN CREDIT_TYPE= 'Cash loan' THEN CNT_CREDIT_PROLONG ELSE 0 END) AS SUM_CREDIT_TYPE_Cash_loan_CNT_CREDIT_PROLONG,\n",
        "SUM(CASE WHEN CREDIT_TYPE= 'Cash loan' THEN AMT_CREDIT_SUM ELSE 0 END) AS SUM_CREDIT_TYPE_Cash_loan_AMT_CREDIT_SUM,\n",
        "SUM(CASE WHEN CREDIT_TYPE= 'Cash loan' THEN AMT_CREDIT_SUM_DEBT ELSE 0 END) AS SUM_CREDIT_TYPE_Cash_loan_AMT_CREDIT_SUM_DEBT,\n",
        "SUM(CASE WHEN CREDIT_TYPE= 'Cash loan' THEN AMT_CREDIT_SUM_LIMIT ELSE 0 END) AS SUM_CREDIT_TYPE_Cash_loan_AMT_CREDIT_SUM_LIMIT,\n",
        "SUM(CASE WHEN CREDIT_TYPE= 'Cash loan' THEN AMT_CREDIT_SUM_OVERDUE ELSE 0 END) AS SUM_CREDIT_TYPE_Cash_loan_AMT_CREDIT_SUM_OVERDUE,\n",
        "SUM(CASE WHEN CREDIT_TYPE= 'Cash loan' THEN AMT_ANNUITY ELSE 0 END) AS SUM_CREDIT_TYPE_Cash_loan_AMT_ANNUITY,\n",
        "SUM(CASE WHEN CREDIT_TYPE= 'Loan for working capital replenishment' THEN AMT_CREDIT_MAX_OVERDUE ELSE 0 END) AS SUM_CREDIT_TYPE_Loan_for_working_capital_replenishment_AMT_CREDIT_MAX_OVERDUE,\n",
        "SUM(CASE WHEN CREDIT_TYPE= 'Loan for working capital replenishment' THEN CNT_CREDIT_PROLONG ELSE 0 END) AS SUM_CREDIT_TYPE_Loan_for_working_capital_replenishment_CNT_CREDIT_PROLONG,\n",
        "SUM(CASE WHEN CREDIT_TYPE= 'Loan for working capital replenishment' THEN AMT_CREDIT_SUM ELSE 0 END) AS SUM_CREDIT_TYPE_Loan_for_working_capital_replenishment_AMT_CREDIT_SUM,\n",
        "SUM(CASE WHEN CREDIT_TYPE= 'Loan for working capital replenishment' THEN AMT_CREDIT_SUM_DEBT ELSE 0 END) AS SUM_CREDIT_TYPE_Loan_for_working_capital_replenishment_AMT_CREDIT_SUM_DEBT,\n",
        "SUM(CASE WHEN CREDIT_TYPE= 'Loan for working capital replenishment' THEN AMT_CREDIT_SUM_LIMIT ELSE 0 END) AS SUM_CREDIT_TYPE_Loan_for_working_capital_replenishment_AMT_CREDIT_SUM_LIMIT,\n",
        "SUM(CASE WHEN CREDIT_TYPE= 'Loan for working capital replenishment' THEN AMT_CREDIT_SUM_OVERDUE ELSE 0 END) AS SUM_CREDIT_TYPE_Loan_for_working_capital_replenishment_AMT_CREDIT_SUM_OVERDUE,\n",
        "SUM(CASE WHEN CREDIT_TYPE= 'Loan for working capital replenishment' THEN AMT_ANNUITY ELSE 0 END) AS SUM_CREDIT_TYPE_Loan_for_working_capital_replenishment_AMT_ANNUITY,\n",
        "SUM(CASE WHEN CREDIT_TYPE= 'Unknown type of loan' THEN AMT_CREDIT_MAX_OVERDUE ELSE 0 END) AS SUM_CREDIT_TYPE_Unknown_type_of_loan_AMT_CREDIT_MAX_OVERDUE,\n",
        "SUM(CASE WHEN CREDIT_TYPE= 'Unknown type of loan' THEN CNT_CREDIT_PROLONG ELSE 0 END) AS SUM_CREDIT_TYPE_Unknown_type_of_loan_CNT_CREDIT_PROLONG,\n",
        "SUM(CASE WHEN CREDIT_TYPE= 'Unknown type of loan' THEN AMT_CREDIT_SUM ELSE 0 END) AS SUM_CREDIT_TYPE_Unknown_type_of_loan_AMT_CREDIT_SUM,\n",
        "SUM(CASE WHEN CREDIT_TYPE= 'Unknown type of loan' THEN AMT_CREDIT_SUM_DEBT ELSE 0 END) AS SUM_CREDIT_TYPE_Unknown_type_of_loan_AMT_CREDIT_SUM_DEBT,\n",
        "SUM(CASE WHEN CREDIT_TYPE= 'Unknown type of loan' THEN AMT_CREDIT_SUM_LIMIT ELSE 0 END) AS SUM_CREDIT_TYPE_Unknown_type_of_loan_AMT_CREDIT_SUM_LIMIT,\n",
        "SUM(CASE WHEN CREDIT_TYPE= 'Unknown type of loan' THEN AMT_CREDIT_SUM_OVERDUE ELSE 0 END) AS SUM_CREDIT_TYPE_Unknown_type_of_loan_AMT_CREDIT_SUM_OVERDUE,\n",
        "SUM(CASE WHEN CREDIT_TYPE= 'Unknown type of loan' THEN AMT_ANNUITY ELSE 0 END) AS SUM_CREDIT_TYPE_Unknown_type_of_loan_AMT_ANNUITY,\n",
        "SUM(CASE WHEN CREDIT_TYPE= 'Another type of loan' THEN AMT_CREDIT_MAX_OVERDUE ELSE 0 END) AS SUM_CREDIT_TYPE_Another_type_of_loan_AMT_CREDIT_MAX_OVERDUE,\n",
        "SUM(CASE WHEN CREDIT_TYPE= 'Another type of loan' THEN CNT_CREDIT_PROLONG ELSE 0 END) AS SUM_CREDIT_TYPE_Another_type_of_loan_CNT_CREDIT_PROLONG,\n",
        "SUM(CASE WHEN CREDIT_TYPE= 'Another type of loan' THEN AMT_CREDIT_SUM ELSE 0 END) AS SUM_CREDIT_TYPE_Another_type_of_loan_AMT_CREDIT_SUM,\n",
        "SUM(CASE WHEN CREDIT_TYPE= 'Another type of loan' THEN AMT_CREDIT_SUM_DEBT ELSE 0 END) AS SUM_CREDIT_TYPE_Another_type_of_loan_AMT_CREDIT_SUM_DEBT,\n",
        "SUM(CASE WHEN CREDIT_TYPE= 'Another type of loan' THEN AMT_CREDIT_SUM_LIMIT ELSE 0 END) AS SUM_CREDIT_TYPE_Another_type_of_loan_AMT_CREDIT_SUM_LIMIT,\n",
        "SUM(CASE WHEN CREDIT_TYPE= 'Another type of loan' THEN AMT_CREDIT_SUM_OVERDUE ELSE 0 END) AS SUM_CREDIT_TYPE_Another_type_of_loan_AMT_CREDIT_SUM_OVERDUE,\n",
        "SUM(CASE WHEN CREDIT_TYPE= 'Another type of loan' THEN AMT_ANNUITY ELSE 0 END) AS SUM_CREDIT_TYPE_Another_type_of_loan_AMT_ANNUITY,\n",
        "SUM(CASE WHEN CREDIT_TYPE= 'Loan for business development' THEN AMT_CREDIT_MAX_OVERDUE ELSE 0 END) AS SUM_CREDIT_TYPE_Loan_for_business_development_AMT_CREDIT_MAX_OVERDUE,\n",
        "SUM(CASE WHEN CREDIT_TYPE= 'Loan for business development' THEN CNT_CREDIT_PROLONG ELSE 0 END) AS SUM_CREDIT_TYPE_Loan_for_business_development_CNT_CREDIT_PROLONG,\n",
        "SUM(CASE WHEN CREDIT_TYPE= 'Loan for business development' THEN AMT_CREDIT_SUM ELSE 0 END) AS SUM_CREDIT_TYPE_Loan_for_business_development_AMT_CREDIT_SUM,\n",
        "SUM(CASE WHEN CREDIT_TYPE= 'Loan for business development' THEN AMT_CREDIT_SUM_DEBT ELSE 0 END) AS SUM_CREDIT_TYPE_Loan_for_business_development_AMT_CREDIT_SUM_DEBT,\n",
        "SUM(CASE WHEN CREDIT_TYPE= 'Loan for business development' THEN AMT_CREDIT_SUM_LIMIT ELSE 0 END) AS SUM_CREDIT_TYPE_Loan_for_business_development_AMT_CREDIT_SUM_LIMIT,\n",
        "SUM(CASE WHEN CREDIT_TYPE= 'Loan for business development' THEN AMT_CREDIT_SUM_OVERDUE ELSE 0 END) AS SUM_CREDIT_TYPE_Loan_for_business_development_AMT_CREDIT_SUM_OVERDUE,\n",
        "SUM(CASE WHEN CREDIT_TYPE= 'Loan for business development' THEN AMT_ANNUITY ELSE 0 END) AS SUM_CREDIT_TYPE_Loan_for_business_development_AMT_ANNUITY,\n",
        "SUM(CASE WHEN CREDIT_TYPE= 'Microloan' THEN AMT_CREDIT_MAX_OVERDUE ELSE 0 END) AS SUM_CREDIT_TYPE_Microloan_AMT_CREDIT_MAX_OVERDUE,\n",
        "SUM(CASE WHEN CREDIT_TYPE= 'Microloan' THEN CNT_CREDIT_PROLONG ELSE 0 END) AS SUM_CREDIT_TYPE_Microloan_CNT_CREDIT_PROLONG,\n",
        "SUM(CASE WHEN CREDIT_TYPE= 'Microloan' THEN AMT_CREDIT_SUM ELSE 0 END) AS SUM_CREDIT_TYPE_Microloan_AMT_CREDIT_SUM,\n",
        "SUM(CASE WHEN CREDIT_TYPE= 'Microloan' THEN AMT_CREDIT_SUM_DEBT ELSE 0 END) AS SUM_CREDIT_TYPE_Microloan_AMT_CREDIT_SUM_DEBT,\n",
        "SUM(CASE WHEN CREDIT_TYPE= 'Microloan' THEN AMT_CREDIT_SUM_LIMIT ELSE 0 END) AS SUM_CREDIT_TYPE_Microloan_AMT_CREDIT_SUM_LIMIT,\n",
        "SUM(CASE WHEN CREDIT_TYPE= 'Microloan' THEN AMT_CREDIT_SUM_OVERDUE ELSE 0 END) AS SUM_CREDIT_TYPE_Microloan_AMT_CREDIT_SUM_OVERDUE,\n",
        "SUM(CASE WHEN CREDIT_TYPE= 'Microloan' THEN AMT_ANNUITY ELSE 0 END) AS SUM_CREDIT_TYPE_Microloan_AMT_ANNUITY,\n",
        "SUM(CASE WHEN CREDIT_TYPE= 'Mortgage' THEN AMT_CREDIT_MAX_OVERDUE ELSE 0 END) AS SUM_CREDIT_TYPE_Mortgage_AMT_CREDIT_MAX_OVERDUE,\n",
        "SUM(CASE WHEN CREDIT_TYPE= 'Mortgage' THEN CNT_CREDIT_PROLONG ELSE 0 END) AS SUM_CREDIT_TYPE_Mortgage_CNT_CREDIT_PROLONG,\n",
        "SUM(CASE WHEN CREDIT_TYPE= 'Mortgage' THEN AMT_CREDIT_SUM ELSE 0 END) AS SUM_CREDIT_TYPE_Mortgage_AMT_CREDIT_SUM,\n",
        "SUM(CASE WHEN CREDIT_TYPE= 'Mortgage' THEN AMT_CREDIT_SUM_DEBT ELSE 0 END) AS SUM_CREDIT_TYPE_Mortgage_AMT_CREDIT_SUM_DEBT,\n",
        "SUM(CASE WHEN CREDIT_TYPE= 'Mortgage' THEN AMT_CREDIT_SUM_LIMIT ELSE 0 END) AS SUM_CREDIT_TYPE_Mortgage_AMT_CREDIT_SUM_LIMIT,\n",
        "SUM(CASE WHEN CREDIT_TYPE= 'Mortgage' THEN AMT_CREDIT_SUM_OVERDUE ELSE 0 END) AS SUM_CREDIT_TYPE_Mortgage_AMT_CREDIT_SUM_OVERDUE,\n",
        "SUM(CASE WHEN CREDIT_TYPE= 'Mortgage' THEN AMT_ANNUITY ELSE 0 END) AS SUM_CREDIT_TYPE_Mortgage_AMT_ANNUITY,\n",
        "SUM(CASE WHEN CREDIT_TYPE= 'Car loan' THEN AMT_CREDIT_MAX_OVERDUE ELSE 0 END) AS SUM_CREDIT_TYPE_Car_loan_AMT_CREDIT_MAX_OVERDUE,\n",
        "SUM(CASE WHEN CREDIT_TYPE= 'Car loan' THEN CNT_CREDIT_PROLONG ELSE 0 END) AS SUM_CREDIT_TYPE_Car_loan_CNT_CREDIT_PROLONG,\n",
        "SUM(CASE WHEN CREDIT_TYPE= 'Car loan' THEN AMT_CREDIT_SUM ELSE 0 END) AS SUM_CREDIT_TYPE_Car_loan_AMT_CREDIT_SUM,\n",
        "SUM(CASE WHEN CREDIT_TYPE= 'Car loan' THEN AMT_CREDIT_SUM_DEBT ELSE 0 END) AS SUM_CREDIT_TYPE_Car_loan_AMT_CREDIT_SUM_DEBT,\n",
        "SUM(CASE WHEN CREDIT_TYPE= 'Car loan' THEN AMT_CREDIT_SUM_LIMIT ELSE 0 END) AS SUM_CREDIT_TYPE_Car_loan_AMT_CREDIT_SUM_LIMIT,\n",
        "SUM(CASE WHEN CREDIT_TYPE= 'Car loan' THEN AMT_CREDIT_SUM_OVERDUE ELSE 0 END) AS SUM_CREDIT_TYPE_Car_loan_AMT_CREDIT_SUM_OVERDUE,\n",
        "SUM(CASE WHEN CREDIT_TYPE= 'Car loan' THEN AMT_ANNUITY ELSE 0 END) AS SUM_CREDIT_TYPE_Car_loan_AMT_ANNUITY,\n",
        "SUM(CASE WHEN CREDIT_TYPE= 'Credit card' THEN AMT_CREDIT_MAX_OVERDUE ELSE 0 END) AS SUM_CREDIT_TYPE_Credit_card_AMT_CREDIT_MAX_OVERDUE,\n",
        "SUM(CASE WHEN CREDIT_TYPE= 'Credit card' THEN CNT_CREDIT_PROLONG ELSE 0 END) AS SUM_CREDIT_TYPE_Credit_card_CNT_CREDIT_PROLONG,\n",
        "SUM(CASE WHEN CREDIT_TYPE= 'Credit card' THEN AMT_CREDIT_SUM ELSE 0 END) AS SUM_CREDIT_TYPE_Credit_card_AMT_CREDIT_SUM,\n",
        "SUM(CASE WHEN CREDIT_TYPE= 'Credit card' THEN AMT_CREDIT_SUM_DEBT ELSE 0 END) AS SUM_CREDIT_TYPE_Credit_card_AMT_CREDIT_SUM_DEBT,\n",
        "SUM(CASE WHEN CREDIT_TYPE= 'Credit card' THEN AMT_CREDIT_SUM_LIMIT ELSE 0 END) AS SUM_CREDIT_TYPE_Credit_card_AMT_CREDIT_SUM_LIMIT,\n",
        "SUM(CASE WHEN CREDIT_TYPE= 'Credit card' THEN AMT_CREDIT_SUM_OVERDUE ELSE 0 END) AS SUM_CREDIT_TYPE_Credit_card_AMT_CREDIT_SUM_OVERDUE,\n",
        "SUM(CASE WHEN CREDIT_TYPE= 'Credit card' THEN AMT_ANNUITY ELSE 0 END) AS SUM_CREDIT_TYPE_Credit_card_AMT_ANNUITY,\n",
        "SUM(CASE WHEN CREDIT_TYPE= 'Consumer credit' THEN AMT_CREDIT_MAX_OVERDUE ELSE 0 END) AS SUM_CREDIT_TYPE_Consumer_credit_AMT_CREDIT_MAX_OVERDUE,\n",
        "SUM(CASE WHEN CREDIT_TYPE= 'Consumer credit' THEN CNT_CREDIT_PROLONG ELSE 0 END) AS SUM_CREDIT_TYPE_Consumer_credit_CNT_CREDIT_PROLONG,\n",
        "SUM(CASE WHEN CREDIT_TYPE= 'Consumer credit' THEN AMT_CREDIT_SUM ELSE 0 END) AS SUM_CREDIT_TYPE_Consumer_credit_AMT_CREDIT_SUM,\n",
        "SUM(CASE WHEN CREDIT_TYPE= 'Consumer credit' THEN AMT_CREDIT_SUM_DEBT ELSE 0 END) AS SUM_CREDIT_TYPE_Consumer_credit_AMT_CREDIT_SUM_DEBT,\n",
        "SUM(CASE WHEN CREDIT_TYPE= 'Consumer credit' THEN AMT_CREDIT_SUM_LIMIT ELSE 0 END) AS SUM_CREDIT_TYPE_Consumer_credit_AMT_CREDIT_SUM_LIMIT,\n",
        "SUM(CASE WHEN CREDIT_TYPE= 'Consumer credit' THEN AMT_CREDIT_SUM_OVERDUE ELSE 0 END) AS SUM_CREDIT_TYPE_Consumer_credit_AMT_CREDIT_SUM_OVERDUE,\n",
        "SUM(CASE WHEN CREDIT_TYPE= 'Consumer credit' THEN AMT_ANNUITY ELSE 0 END) AS SUM_CREDIT_TYPE_Consumer_credit_AMT_ANNUITY,\n",
        "MIN(CASE WHEN CREDIT_TYPE= 'Mobile operator loan' THEN AMT_CREDIT_MAX_OVERDUE ELSE 0 END) AS MIN_CREDIT_TYPE_Mobile_operator_loan_AMT_CREDIT_MAX_OVERDUE,\n",
        "MIN(CASE WHEN CREDIT_TYPE= 'Mobile operator loan' THEN CNT_CREDIT_PROLONG ELSE 0 END) AS MIN_CREDIT_TYPE_Mobile_operator_loan_CNT_CREDIT_PROLONG,\n",
        "MIN(CASE WHEN CREDIT_TYPE= 'Mobile operator loan' THEN AMT_CREDIT_SUM ELSE 0 END) AS MIN_CREDIT_TYPE_Mobile_operator_loan_AMT_CREDIT_SUM,\n",
        "MIN(CASE WHEN CREDIT_TYPE= 'Mobile operator loan' THEN AMT_CREDIT_SUM_DEBT ELSE 0 END) AS MIN_CREDIT_TYPE_Mobile_operator_loan_AMT_CREDIT_SUM_DEBT,\n",
        "MIN(CASE WHEN CREDIT_TYPE= 'Mobile operator loan' THEN AMT_CREDIT_SUM_LIMIT ELSE 0 END) AS MIN_CREDIT_TYPE_Mobile_operator_loan_AMT_CREDIT_SUM_LIMIT,\n",
        "MIN(CASE WHEN CREDIT_TYPE= 'Mobile operator loan' THEN AMT_CREDIT_SUM_OVERDUE ELSE 0 END) AS MIN_CREDIT_TYPE_Mobile_operator_loan_AMT_CREDIT_SUM_OVERDUE,\n",
        "MIN(CASE WHEN CREDIT_TYPE= 'Mobile operator loan' THEN AMT_ANNUITY ELSE 0 END) AS MIN_CREDIT_TYPE_Mobile_operator_loan_AMT_ANNUITY,\n",
        "MIN(CASE WHEN CREDIT_TYPE= 'Interbank credit' THEN AMT_CREDIT_MAX_OVERDUE ELSE 0 END) AS MIN_CREDIT_TYPE_Interbank_credit_AMT_CREDIT_MAX_OVERDUE,\n",
        "MIN(CASE WHEN CREDIT_TYPE= 'Interbank credit' THEN CNT_CREDIT_PROLONG ELSE 0 END) AS MIN_CREDIT_TYPE_Interbank_credit_CNT_CREDIT_PROLONG,\n",
        "MIN(CASE WHEN CREDIT_TYPE= 'Interbank credit' THEN AMT_CREDIT_SUM ELSE 0 END) AS MIN_CREDIT_TYPE_Interbank_credit_AMT_CREDIT_SUM,\n",
        "MIN(CASE WHEN CREDIT_TYPE= 'Interbank credit' THEN AMT_CREDIT_SUM_DEBT ELSE 0 END) AS MIN_CREDIT_TYPE_Interbank_credit_AMT_CREDIT_SUM_DEBT,\n",
        "MIN(CASE WHEN CREDIT_TYPE= 'Interbank credit' THEN AMT_CREDIT_SUM_LIMIT ELSE 0 END) AS MIN_CREDIT_TYPE_Interbank_credit_AMT_CREDIT_SUM_LIMIT,\n",
        "MIN(CASE WHEN CREDIT_TYPE= 'Interbank credit' THEN AMT_CREDIT_SUM_OVERDUE ELSE 0 END) AS MIN_CREDIT_TYPE_Interbank_credit_AMT_CREDIT_SUM_OVERDUE,\n",
        "MIN(CASE WHEN CREDIT_TYPE= 'Interbank credit' THEN AMT_ANNUITY ELSE 0 END) AS MIN_CREDIT_TYPE_Interbank_credit_AMT_ANNUITY,\n",
        "MIN(CASE WHEN CREDIT_TYPE= 'Loan for purchase of shares' THEN AMT_CREDIT_MAX_OVERDUE ELSE 0 END) AS MIN_CREDIT_TYPE_Loan_for_purchase_of_shares_AMT_CREDIT_MAX_OVERDUE,\n",
        "MIN(CASE WHEN CREDIT_TYPE= 'Loan for purchase of shares' THEN CNT_CREDIT_PROLONG ELSE 0 END) AS MIN_CREDIT_TYPE_Loan_for_purchase_of_shares_CNT_CREDIT_PROLONG,\n",
        "MIN(CASE WHEN CREDIT_TYPE= 'Loan for purchase of shares' THEN AMT_CREDIT_SUM ELSE 0 END) AS MIN_CREDIT_TYPE_Loan_for_purchase_of_shares_AMT_CREDIT_SUM,\n",
        "MIN(CASE WHEN CREDIT_TYPE= 'Loan for purchase of shares' THEN AMT_CREDIT_SUM_DEBT ELSE 0 END) AS MIN_CREDIT_TYPE_Loan_for_purchase_of_shares_AMT_CREDIT_SUM_DEBT,\n",
        "MIN(CASE WHEN CREDIT_TYPE= 'Loan for purchase of shares' THEN AMT_CREDIT_SUM_LIMIT ELSE 0 END) AS MIN_CREDIT_TYPE_Loan_for_purchase_of_shares_AMT_CREDIT_SUM_LIMIT,\n",
        "MIN(CASE WHEN CREDIT_TYPE= 'Loan for purchase of shares' THEN AMT_CREDIT_SUM_OVERDUE ELSE 0 END) AS MIN_CREDIT_TYPE_Loan_for_purchase_of_shares_AMT_CREDIT_SUM_OVERDUE,\n",
        "MIN(CASE WHEN CREDIT_TYPE= 'Loan for purchase of shares' THEN AMT_ANNUITY ELSE 0 END) AS MIN_CREDIT_TYPE_Loan_for_purchase_of_shares_AMT_ANNUITY,\n",
        "MIN(CASE WHEN CREDIT_TYPE= 'Loan for the purchase of equipment' THEN AMT_CREDIT_MAX_OVERDUE ELSE 0 END) AS MIN_CREDIT_TYPE_Loan_for_the_purchase_of_equipment_AMT_CREDIT_MAX_OVERDUE,\n",
        "MIN(CASE WHEN CREDIT_TYPE= 'Loan for the purchase of equipment' THEN CNT_CREDIT_PROLONG ELSE 0 END) AS MIN_CREDIT_TYPE_Loan_for_the_purchase_of_equipment_CNT_CREDIT_PROLONG,\n",
        "MIN(CASE WHEN CREDIT_TYPE= 'Loan for the purchase of equipment' THEN AMT_CREDIT_SUM ELSE 0 END) AS MIN_CREDIT_TYPE_Loan_for_the_purchase_of_equipment_AMT_CREDIT_SUM,\n",
        "MIN(CASE WHEN CREDIT_TYPE= 'Loan for the purchase of equipment' THEN AMT_CREDIT_SUM_DEBT ELSE 0 END) AS MIN_CREDIT_TYPE_Loan_for_the_purchase_of_equipment_AMT_CREDIT_SUM_DEBT,\n",
        "MIN(CASE WHEN CREDIT_TYPE= 'Loan for the purchase of equipment' THEN AMT_CREDIT_SUM_LIMIT ELSE 0 END) AS MIN_CREDIT_TYPE_Loan_for_the_purchase_of_equipment_AMT_CREDIT_SUM_LIMIT,\n",
        "MIN(CASE WHEN CREDIT_TYPE= 'Loan for the purchase of equipment' THEN AMT_CREDIT_SUM_OVERDUE ELSE 0 END) AS MIN_CREDIT_TYPE_Loan_for_the_purchase_of_equipment_AMT_CREDIT_SUM_OVERDUE,\n",
        "MIN(CASE WHEN CREDIT_TYPE= 'Loan for the purchase of equipment' THEN AMT_ANNUITY ELSE 0 END) AS MIN_CREDIT_TYPE_Loan_for_the_purchase_of_equipment_AMT_ANNUITY,\n",
        "MIN(CASE WHEN CREDIT_TYPE= 'Real estate loan' THEN AMT_CREDIT_MAX_OVERDUE ELSE 0 END) AS MIN_CREDIT_TYPE_Real_estate_loan_AMT_CREDIT_MAX_OVERDUE,\n",
        "MIN(CASE WHEN CREDIT_TYPE= 'Real estate loan' THEN CNT_CREDIT_PROLONG ELSE 0 END) AS MIN_CREDIT_TYPE_Real_estate_loan_CNT_CREDIT_PROLONG,\n",
        "MIN(CASE WHEN CREDIT_TYPE= 'Real estate loan' THEN AMT_CREDIT_SUM ELSE 0 END) AS MIN_CREDIT_TYPE_Real_estate_loan_AMT_CREDIT_SUM,\n",
        "MIN(CASE WHEN CREDIT_TYPE= 'Real estate loan' THEN AMT_CREDIT_SUM_DEBT ELSE 0 END) AS MIN_CREDIT_TYPE_Real_estate_loan_AMT_CREDIT_SUM_DEBT,\n",
        "MIN(CASE WHEN CREDIT_TYPE= 'Real estate loan' THEN AMT_CREDIT_SUM_LIMIT ELSE 0 END) AS MIN_CREDIT_TYPE_Real_estate_loan_AMT_CREDIT_SUM_LIMIT,\n",
        "MIN(CASE WHEN CREDIT_TYPE= 'Real estate loan' THEN AMT_CREDIT_SUM_OVERDUE ELSE 0 END) AS MIN_CREDIT_TYPE_Real_estate_loan_AMT_CREDIT_SUM_OVERDUE,\n",
        "MIN(CASE WHEN CREDIT_TYPE= 'Real estate loan' THEN AMT_ANNUITY ELSE 0 END) AS MIN_CREDIT_TYPE_Real_estate_loan_AMT_ANNUITY,\n",
        "MIN(CASE WHEN CREDIT_TYPE= 'Cash loan' THEN AMT_CREDIT_MAX_OVERDUE ELSE 0 END) AS MIN_CREDIT_TYPE_Cash_loan_AMT_CREDIT_MAX_OVERDUE,\n",
        "MIN(CASE WHEN CREDIT_TYPE= 'Cash loan' THEN CNT_CREDIT_PROLONG ELSE 0 END) AS MIN_CREDIT_TYPE_Cash_loan_CNT_CREDIT_PROLONG,\n",
        "MIN(CASE WHEN CREDIT_TYPE= 'Cash loan' THEN AMT_CREDIT_SUM ELSE 0 END) AS MIN_CREDIT_TYPE_Cash_loan_AMT_CREDIT_SUM,\n",
        "MIN(CASE WHEN CREDIT_TYPE= 'Cash loan' THEN AMT_CREDIT_SUM_DEBT ELSE 0 END) AS MIN_CREDIT_TYPE_Cash_loan_AMT_CREDIT_SUM_DEBT,\n",
        "MIN(CASE WHEN CREDIT_TYPE= 'Cash loan' THEN AMT_CREDIT_SUM_LIMIT ELSE 0 END) AS MIN_CREDIT_TYPE_Cash_loan_AMT_CREDIT_SUM_LIMIT,\n",
        "MIN(CASE WHEN CREDIT_TYPE= 'Cash loan' THEN AMT_CREDIT_SUM_OVERDUE ELSE 0 END) AS MIN_CREDIT_TYPE_Cash_loan_AMT_CREDIT_SUM_OVERDUE,\n",
        "MIN(CASE WHEN CREDIT_TYPE= 'Cash loan' THEN AMT_ANNUITY ELSE 0 END) AS MIN_CREDIT_TYPE_Cash_loan_AMT_ANNUITY,\n",
        "MIN(CASE WHEN CREDIT_TYPE= 'Loan for working capital replenishment' THEN AMT_CREDIT_MAX_OVERDUE ELSE 0 END) AS MIN_CREDIT_TYPE_Loan_for_working_capital_replenishment_AMT_CREDIT_MAX_OVERDUE,\n",
        "MIN(CASE WHEN CREDIT_TYPE= 'Loan for working capital replenishment' THEN CNT_CREDIT_PROLONG ELSE 0 END) AS MIN_CREDIT_TYPE_Loan_for_working_capital_replenishment_CNT_CREDIT_PROLONG,\n",
        "MIN(CASE WHEN CREDIT_TYPE= 'Loan for working capital replenishment' THEN AMT_CREDIT_SUM ELSE 0 END) AS MIN_CREDIT_TYPE_Loan_for_working_capital_replenishment_AMT_CREDIT_SUM,\n",
        "MIN(CASE WHEN CREDIT_TYPE= 'Loan for working capital replenishment' THEN AMT_CREDIT_SUM_DEBT ELSE 0 END) AS MIN_CREDIT_TYPE_Loan_for_working_capital_replenishment_AMT_CREDIT_SUM_DEBT,\n",
        "MIN(CASE WHEN CREDIT_TYPE= 'Loan for working capital replenishment' THEN AMT_CREDIT_SUM_LIMIT ELSE 0 END) AS MIN_CREDIT_TYPE_Loan_for_working_capital_replenishment_AMT_CREDIT_SUM_LIMIT,\n",
        "MIN(CASE WHEN CREDIT_TYPE= 'Loan for working capital replenishment' THEN AMT_CREDIT_SUM_OVERDUE ELSE 0 END) AS MIN_CREDIT_TYPE_Loan_for_working_capital_replenishment_AMT_CREDIT_SUM_OVERDUE,\n",
        "MIN(CASE WHEN CREDIT_TYPE= 'Loan for working capital replenishment' THEN AMT_ANNUITY ELSE 0 END) AS MIN_CREDIT_TYPE_Loan_for_working_capital_replenishment_AMT_ANNUITY,\n",
        "MIN(CASE WHEN CREDIT_TYPE= 'Unknown type of loan' THEN AMT_CREDIT_MAX_OVERDUE ELSE 0 END) AS MIN_CREDIT_TYPE_Unknown_type_of_loan_AMT_CREDIT_MAX_OVERDUE,\n",
        "MIN(CASE WHEN CREDIT_TYPE= 'Unknown type of loan' THEN CNT_CREDIT_PROLONG ELSE 0 END) AS MIN_CREDIT_TYPE_Unknown_type_of_loan_CNT_CREDIT_PROLONG,\n",
        "MIN(CASE WHEN CREDIT_TYPE= 'Unknown type of loan' THEN AMT_CREDIT_SUM ELSE 0 END) AS MIN_CREDIT_TYPE_Unknown_type_of_loan_AMT_CREDIT_SUM,\n",
        "MIN(CASE WHEN CREDIT_TYPE= 'Unknown type of loan' THEN AMT_CREDIT_SUM_DEBT ELSE 0 END) AS MIN_CREDIT_TYPE_Unknown_type_of_loan_AMT_CREDIT_SUM_DEBT,\n",
        "MIN(CASE WHEN CREDIT_TYPE= 'Unknown type of loan' THEN AMT_CREDIT_SUM_LIMIT ELSE 0 END) AS MIN_CREDIT_TYPE_Unknown_type_of_loan_AMT_CREDIT_SUM_LIMIT,\n",
        "MIN(CASE WHEN CREDIT_TYPE= 'Unknown type of loan' THEN AMT_CREDIT_SUM_OVERDUE ELSE 0 END) AS MIN_CREDIT_TYPE_Unknown_type_of_loan_AMT_CREDIT_SUM_OVERDUE,\n",
        "MIN(CASE WHEN CREDIT_TYPE= 'Unknown type of loan' THEN AMT_ANNUITY ELSE 0 END) AS MIN_CREDIT_TYPE_Unknown_type_of_loan_AMT_ANNUITY,\n",
        "MIN(CASE WHEN CREDIT_TYPE= 'Another type of loan' THEN AMT_CREDIT_MAX_OVERDUE ELSE 0 END) AS MIN_CREDIT_TYPE_Another_type_of_loan_AMT_CREDIT_MAX_OVERDUE,\n",
        "MIN(CASE WHEN CREDIT_TYPE= 'Another type of loan' THEN CNT_CREDIT_PROLONG ELSE 0 END) AS MIN_CREDIT_TYPE_Another_type_of_loan_CNT_CREDIT_PROLONG,\n",
        "MIN(CASE WHEN CREDIT_TYPE= 'Another type of loan' THEN AMT_CREDIT_SUM ELSE 0 END) AS MIN_CREDIT_TYPE_Another_type_of_loan_AMT_CREDIT_SUM,\n",
        "MIN(CASE WHEN CREDIT_TYPE= 'Another type of loan' THEN AMT_CREDIT_SUM_DEBT ELSE 0 END) AS MIN_CREDIT_TYPE_Another_type_of_loan_AMT_CREDIT_SUM_DEBT,\n",
        "MIN(CASE WHEN CREDIT_TYPE= 'Another type of loan' THEN AMT_CREDIT_SUM_LIMIT ELSE 0 END) AS MIN_CREDIT_TYPE_Another_type_of_loan_AMT_CREDIT_SUM_LIMIT,\n",
        "MIN(CASE WHEN CREDIT_TYPE= 'Another type of loan' THEN AMT_CREDIT_SUM_OVERDUE ELSE 0 END) AS MIN_CREDIT_TYPE_Another_type_of_loan_AMT_CREDIT_SUM_OVERDUE,\n",
        "MIN(CASE WHEN CREDIT_TYPE= 'Another type of loan' THEN AMT_ANNUITY ELSE 0 END) AS MIN_CREDIT_TYPE_Another_type_of_loan_AMT_ANNUITY,\n",
        "MIN(CASE WHEN CREDIT_TYPE= 'Loan for business development' THEN AMT_CREDIT_MAX_OVERDUE ELSE 0 END) AS MIN_CREDIT_TYPE_Loan_for_business_development_AMT_CREDIT_MAX_OVERDUE,\n",
        "MIN(CASE WHEN CREDIT_TYPE= 'Loan for business development' THEN CNT_CREDIT_PROLONG ELSE 0 END) AS MIN_CREDIT_TYPE_Loan_for_business_development_CNT_CREDIT_PROLONG,\n",
        "MIN(CASE WHEN CREDIT_TYPE= 'Loan for business development' THEN AMT_CREDIT_SUM ELSE 0 END) AS MIN_CREDIT_TYPE_Loan_for_business_development_AMT_CREDIT_SUM,\n",
        "MIN(CASE WHEN CREDIT_TYPE= 'Loan for business development' THEN AMT_CREDIT_SUM_DEBT ELSE 0 END) AS MIN_CREDIT_TYPE_Loan_for_business_development_AMT_CREDIT_SUM_DEBT,\n",
        "MIN(CASE WHEN CREDIT_TYPE= 'Loan for business development' THEN AMT_CREDIT_SUM_LIMIT ELSE 0 END) AS MIN_CREDIT_TYPE_Loan_for_business_development_AMT_CREDIT_SUM_LIMIT,\n",
        "MIN(CASE WHEN CREDIT_TYPE= 'Loan for business development' THEN AMT_CREDIT_SUM_OVERDUE ELSE 0 END) AS MIN_CREDIT_TYPE_Loan_for_business_development_AMT_CREDIT_SUM_OVERDUE,\n",
        "MIN(CASE WHEN CREDIT_TYPE= 'Loan for business development' THEN AMT_ANNUITY ELSE 0 END) AS MIN_CREDIT_TYPE_Loan_for_business_development_AMT_ANNUITY,\n",
        "MIN(CASE WHEN CREDIT_TYPE= 'Microloan' THEN AMT_CREDIT_MAX_OVERDUE ELSE 0 END) AS MIN_CREDIT_TYPE_Microloan_AMT_CREDIT_MAX_OVERDUE,\n",
        "MIN(CASE WHEN CREDIT_TYPE= 'Microloan' THEN CNT_CREDIT_PROLONG ELSE 0 END) AS MIN_CREDIT_TYPE_Microloan_CNT_CREDIT_PROLONG,\n",
        "MIN(CASE WHEN CREDIT_TYPE= 'Microloan' THEN AMT_CREDIT_SUM ELSE 0 END) AS MIN_CREDIT_TYPE_Microloan_AMT_CREDIT_SUM,\n",
        "MIN(CASE WHEN CREDIT_TYPE= 'Microloan' THEN AMT_CREDIT_SUM_DEBT ELSE 0 END) AS MIN_CREDIT_TYPE_Microloan_AMT_CREDIT_SUM_DEBT,\n",
        "MIN(CASE WHEN CREDIT_TYPE= 'Microloan' THEN AMT_CREDIT_SUM_LIMIT ELSE 0 END) AS MIN_CREDIT_TYPE_Microloan_AMT_CREDIT_SUM_LIMIT,\n",
        "MIN(CASE WHEN CREDIT_TYPE= 'Microloan' THEN AMT_CREDIT_SUM_OVERDUE ELSE 0 END) AS MIN_CREDIT_TYPE_Microloan_AMT_CREDIT_SUM_OVERDUE,\n",
        "MIN(CASE WHEN CREDIT_TYPE= 'Microloan' THEN AMT_ANNUITY ELSE 0 END) AS MIN_CREDIT_TYPE_Microloan_AMT_ANNUITY,\n",
        "MIN(CASE WHEN CREDIT_TYPE= 'Mortgage' THEN AMT_CREDIT_MAX_OVERDUE ELSE 0 END) AS MIN_CREDIT_TYPE_Mortgage_AMT_CREDIT_MAX_OVERDUE,\n",
        "MIN(CASE WHEN CREDIT_TYPE= 'Mortgage' THEN CNT_CREDIT_PROLONG ELSE 0 END) AS MIN_CREDIT_TYPE_Mortgage_CNT_CREDIT_PROLONG,\n",
        "MIN(CASE WHEN CREDIT_TYPE= 'Mortgage' THEN AMT_CREDIT_SUM ELSE 0 END) AS MIN_CREDIT_TYPE_Mortgage_AMT_CREDIT_SUM,\n",
        "MIN(CASE WHEN CREDIT_TYPE= 'Mortgage' THEN AMT_CREDIT_SUM_DEBT ELSE 0 END) AS MIN_CREDIT_TYPE_Mortgage_AMT_CREDIT_SUM_DEBT,\n",
        "MIN(CASE WHEN CREDIT_TYPE= 'Mortgage' THEN AMT_CREDIT_SUM_LIMIT ELSE 0 END) AS MIN_CREDIT_TYPE_Mortgage_AMT_CREDIT_SUM_LIMIT,\n",
        "MIN(CASE WHEN CREDIT_TYPE= 'Mortgage' THEN AMT_CREDIT_SUM_OVERDUE ELSE 0 END) AS MIN_CREDIT_TYPE_Mortgage_AMT_CREDIT_SUM_OVERDUE,\n",
        "MIN(CASE WHEN CREDIT_TYPE= 'Mortgage' THEN AMT_ANNUITY ELSE 0 END) AS MIN_CREDIT_TYPE_Mortgage_AMT_ANNUITY,\n",
        "MIN(CASE WHEN CREDIT_TYPE= 'Car loan' THEN AMT_CREDIT_MAX_OVERDUE ELSE 0 END) AS MIN_CREDIT_TYPE_Car_loan_AMT_CREDIT_MAX_OVERDUE,\n",
        "MIN(CASE WHEN CREDIT_TYPE= 'Car loan' THEN CNT_CREDIT_PROLONG ELSE 0 END) AS MIN_CREDIT_TYPE_Car_loan_CNT_CREDIT_PROLONG,\n",
        "MIN(CASE WHEN CREDIT_TYPE= 'Car loan' THEN AMT_CREDIT_SUM ELSE 0 END) AS MIN_CREDIT_TYPE_Car_loan_AMT_CREDIT_SUM,\n",
        "MIN(CASE WHEN CREDIT_TYPE= 'Car loan' THEN AMT_CREDIT_SUM_DEBT ELSE 0 END) AS MIN_CREDIT_TYPE_Car_loan_AMT_CREDIT_SUM_DEBT,\n",
        "MIN(CASE WHEN CREDIT_TYPE= 'Car loan' THEN AMT_CREDIT_SUM_LIMIT ELSE 0 END) AS MIN_CREDIT_TYPE_Car_loan_AMT_CREDIT_SUM_LIMIT,\n",
        "MIN(CASE WHEN CREDIT_TYPE= 'Car loan' THEN AMT_CREDIT_SUM_OVERDUE ELSE 0 END) AS MIN_CREDIT_TYPE_Car_loan_AMT_CREDIT_SUM_OVERDUE,\n",
        "MIN(CASE WHEN CREDIT_TYPE= 'Car loan' THEN AMT_ANNUITY ELSE 0 END) AS MIN_CREDIT_TYPE_Car_loan_AMT_ANNUITY,\n",
        "MIN(CASE WHEN CREDIT_TYPE= 'Credit card' THEN AMT_CREDIT_MAX_OVERDUE ELSE 0 END) AS MIN_CREDIT_TYPE_Credit_card_AMT_CREDIT_MAX_OVERDUE,\n",
        "MIN(CASE WHEN CREDIT_TYPE= 'Credit card' THEN CNT_CREDIT_PROLONG ELSE 0 END) AS MIN_CREDIT_TYPE_Credit_card_CNT_CREDIT_PROLONG,\n",
        "MIN(CASE WHEN CREDIT_TYPE= 'Credit card' THEN AMT_CREDIT_SUM ELSE 0 END) AS MIN_CREDIT_TYPE_Credit_card_AMT_CREDIT_SUM,\n",
        "MIN(CASE WHEN CREDIT_TYPE= 'Credit card' THEN AMT_CREDIT_SUM_DEBT ELSE 0 END) AS MIN_CREDIT_TYPE_Credit_card_AMT_CREDIT_SUM_DEBT,\n",
        "MIN(CASE WHEN CREDIT_TYPE= 'Credit card' THEN AMT_CREDIT_SUM_LIMIT ELSE 0 END) AS MIN_CREDIT_TYPE_Credit_card_AMT_CREDIT_SUM_LIMIT,\n",
        "MIN(CASE WHEN CREDIT_TYPE= 'Credit card' THEN AMT_CREDIT_SUM_OVERDUE ELSE 0 END) AS MIN_CREDIT_TYPE_Credit_card_AMT_CREDIT_SUM_OVERDUE,\n",
        "MIN(CASE WHEN CREDIT_TYPE= 'Credit card' THEN AMT_ANNUITY ELSE 0 END) AS MIN_CREDIT_TYPE_Credit_card_AMT_ANNUITY,\n",
        "MIN(CASE WHEN CREDIT_TYPE= 'Consumer credit' THEN AMT_CREDIT_MAX_OVERDUE ELSE 0 END) AS MIN_CREDIT_TYPE_Consumer_credit_AMT_CREDIT_MAX_OVERDUE,\n",
        "MIN(CASE WHEN CREDIT_TYPE= 'Consumer credit' THEN CNT_CREDIT_PROLONG ELSE 0 END) AS MIN_CREDIT_TYPE_Consumer_credit_CNT_CREDIT_PROLONG,\n",
        "MIN(CASE WHEN CREDIT_TYPE= 'Consumer credit' THEN AMT_CREDIT_SUM ELSE 0 END) AS MIN_CREDIT_TYPE_Consumer_credit_AMT_CREDIT_SUM,\n",
        "MIN(CASE WHEN CREDIT_TYPE= 'Consumer credit' THEN AMT_CREDIT_SUM_DEBT ELSE 0 END) AS MIN_CREDIT_TYPE_Consumer_credit_AMT_CREDIT_SUM_DEBT,\n",
        "MIN(CASE WHEN CREDIT_TYPE= 'Consumer credit' THEN AMT_CREDIT_SUM_LIMIT ELSE 0 END) AS MIN_CREDIT_TYPE_Consumer_credit_AMT_CREDIT_SUM_LIMIT,\n",
        "MIN(CASE WHEN CREDIT_TYPE= 'Consumer credit' THEN AMT_CREDIT_SUM_OVERDUE ELSE 0 END) AS MIN_CREDIT_TYPE_Consumer_credit_AMT_CREDIT_SUM_OVERDUE,\n",
        "MIN(CASE WHEN CREDIT_TYPE= 'Consumer credit' THEN AMT_ANNUITY ELSE 0 END) AS MIN_CREDIT_TYPE_Consumer_credit_AMT_ANNUITY,\n",
        "MAX(CASE WHEN CREDIT_TYPE= 'Mobile operator loan' THEN AMT_CREDIT_MAX_OVERDUE ELSE 0 END) AS MAX_CREDIT_TYPE_Mobile_operator_loan_AMT_CREDIT_MAX_OVERDUE,\n",
        "MAX(CASE WHEN CREDIT_TYPE= 'Mobile operator loan' THEN CNT_CREDIT_PROLONG ELSE 0 END) AS MAX_CREDIT_TYPE_Mobile_operator_loan_CNT_CREDIT_PROLONG,\n",
        "MAX(CASE WHEN CREDIT_TYPE= 'Mobile operator loan' THEN AMT_CREDIT_SUM ELSE 0 END) AS MAX_CREDIT_TYPE_Mobile_operator_loan_AMT_CREDIT_SUM,\n",
        "MAX(CASE WHEN CREDIT_TYPE= 'Mobile operator loan' THEN AMT_CREDIT_SUM_DEBT ELSE 0 END) AS MAX_CREDIT_TYPE_Mobile_operator_loan_AMT_CREDIT_SUM_DEBT,\n",
        "MAX(CASE WHEN CREDIT_TYPE= 'Mobile operator loan' THEN AMT_CREDIT_SUM_LIMIT ELSE 0 END) AS MAX_CREDIT_TYPE_Mobile_operator_loan_AMT_CREDIT_SUM_LIMIT,\n",
        "MAX(CASE WHEN CREDIT_TYPE= 'Mobile operator loan' THEN AMT_CREDIT_SUM_OVERDUE ELSE 0 END) AS MAX_CREDIT_TYPE_Mobile_operator_loan_AMT_CREDIT_SUM_OVERDUE,\n",
        "MAX(CASE WHEN CREDIT_TYPE= 'Mobile operator loan' THEN AMT_ANNUITY ELSE 0 END) AS MAX_CREDIT_TYPE_Mobile_operator_loan_AMT_ANNUITY,\n",
        "MAX(CASE WHEN CREDIT_TYPE= 'Interbank credit' THEN AMT_CREDIT_MAX_OVERDUE ELSE 0 END) AS MAX_CREDIT_TYPE_Interbank_credit_AMT_CREDIT_MAX_OVERDUE,\n",
        "MAX(CASE WHEN CREDIT_TYPE= 'Interbank credit' THEN CNT_CREDIT_PROLONG ELSE 0 END) AS MAX_CREDIT_TYPE_Interbank_credit_CNT_CREDIT_PROLONG,\n",
        "MAX(CASE WHEN CREDIT_TYPE= 'Interbank credit' THEN AMT_CREDIT_SUM ELSE 0 END) AS MAX_CREDIT_TYPE_Interbank_credit_AMT_CREDIT_SUM,\n",
        "MAX(CASE WHEN CREDIT_TYPE= 'Interbank credit' THEN AMT_CREDIT_SUM_DEBT ELSE 0 END) AS MAX_CREDIT_TYPE_Interbank_credit_AMT_CREDIT_SUM_DEBT,\n",
        "MAX(CASE WHEN CREDIT_TYPE= 'Interbank credit' THEN AMT_CREDIT_SUM_LIMIT ELSE 0 END) AS MAX_CREDIT_TYPE_Interbank_credit_AMT_CREDIT_SUM_LIMIT,\n",
        "MAX(CASE WHEN CREDIT_TYPE= 'Interbank credit' THEN AMT_CREDIT_SUM_OVERDUE ELSE 0 END) AS MAX_CREDIT_TYPE_Interbank_credit_AMT_CREDIT_SUM_OVERDUE,\n",
        "MAX(CASE WHEN CREDIT_TYPE= 'Interbank credit' THEN AMT_ANNUITY ELSE 0 END) AS MAX_CREDIT_TYPE_Interbank_credit_AMT_ANNUITY,\n",
        "MAX(CASE WHEN CREDIT_TYPE= 'Loan for purchase of shares' THEN AMT_CREDIT_MAX_OVERDUE ELSE 0 END) AS MAX_CREDIT_TYPE_Loan_for_purchase_of_shares_AMT_CREDIT_MAX_OVERDUE,\n",
        "MAX(CASE WHEN CREDIT_TYPE= 'Loan for purchase of shares' THEN CNT_CREDIT_PROLONG ELSE 0 END) AS MAX_CREDIT_TYPE_Loan_for_purchase_of_shares_CNT_CREDIT_PROLONG,\n",
        "MAX(CASE WHEN CREDIT_TYPE= 'Loan for purchase of shares' THEN AMT_CREDIT_SUM ELSE 0 END) AS MAX_CREDIT_TYPE_Loan_for_purchase_of_shares_AMT_CREDIT_SUM,\n",
        "MAX(CASE WHEN CREDIT_TYPE= 'Loan for purchase of shares' THEN AMT_CREDIT_SUM_DEBT ELSE 0 END) AS MAX_CREDIT_TYPE_Loan_for_purchase_of_shares_AMT_CREDIT_SUM_DEBT,\n",
        "MAX(CASE WHEN CREDIT_TYPE= 'Loan for purchase of shares' THEN AMT_CREDIT_SUM_LIMIT ELSE 0 END) AS MAX_CREDIT_TYPE_Loan_for_purchase_of_shares_AMT_CREDIT_SUM_LIMIT,\n",
        "MAX(CASE WHEN CREDIT_TYPE= 'Loan for purchase of shares' THEN AMT_CREDIT_SUM_OVERDUE ELSE 0 END) AS MAX_CREDIT_TYPE_Loan_for_purchase_of_shares_AMT_CREDIT_SUM_OVERDUE,\n",
        "MAX(CASE WHEN CREDIT_TYPE= 'Loan for purchase of shares' THEN AMT_ANNUITY ELSE 0 END) AS MAX_CREDIT_TYPE_Loan_for_purchase_of_shares_AMT_ANNUITY,\n",
        "MAX(CASE WHEN CREDIT_TYPE= 'Loan for the purchase of equipment' THEN AMT_CREDIT_MAX_OVERDUE ELSE 0 END) AS MAX_CREDIT_TYPE_Loan_for_the_purchase_of_equipment_AMT_CREDIT_MAX_OVERDUE,\n",
        "MAX(CASE WHEN CREDIT_TYPE= 'Loan for the purchase of equipment' THEN CNT_CREDIT_PROLONG ELSE 0 END) AS MAX_CREDIT_TYPE_Loan_for_the_purchase_of_equipment_CNT_CREDIT_PROLONG,\n",
        "MAX(CASE WHEN CREDIT_TYPE= 'Loan for the purchase of equipment' THEN AMT_CREDIT_SUM ELSE 0 END) AS MAX_CREDIT_TYPE_Loan_for_the_purchase_of_equipment_AMT_CREDIT_SUM,\n",
        "MAX(CASE WHEN CREDIT_TYPE= 'Loan for the purchase of equipment' THEN AMT_CREDIT_SUM_DEBT ELSE 0 END) AS MAX_CREDIT_TYPE_Loan_for_the_purchase_of_equipment_AMT_CREDIT_SUM_DEBT,\n",
        "MAX(CASE WHEN CREDIT_TYPE= 'Loan for the purchase of equipment' THEN AMT_CREDIT_SUM_LIMIT ELSE 0 END) AS MAX_CREDIT_TYPE_Loan_for_the_purchase_of_equipment_AMT_CREDIT_SUM_LIMIT,\n",
        "MAX(CASE WHEN CREDIT_TYPE= 'Loan for the purchase of equipment' THEN AMT_CREDIT_SUM_OVERDUE ELSE 0 END) AS MAX_CREDIT_TYPE_Loan_for_the_purchase_of_equipment_AMT_CREDIT_SUM_OVERDUE,\n",
        "MAX(CASE WHEN CREDIT_TYPE= 'Loan for the purchase of equipment' THEN AMT_ANNUITY ELSE 0 END) AS MAX_CREDIT_TYPE_Loan_for_the_purchase_of_equipment_AMT_ANNUITY,\n",
        "MAX(CASE WHEN CREDIT_TYPE= 'Real estate loan' THEN AMT_CREDIT_MAX_OVERDUE ELSE 0 END) AS MAX_CREDIT_TYPE_Real_estate_loan_AMT_CREDIT_MAX_OVERDUE,\n",
        "MAX(CASE WHEN CREDIT_TYPE= 'Real estate loan' THEN CNT_CREDIT_PROLONG ELSE 0 END) AS MAX_CREDIT_TYPE_Real_estate_loan_CNT_CREDIT_PROLONG,\n",
        "MAX(CASE WHEN CREDIT_TYPE= 'Real estate loan' THEN AMT_CREDIT_SUM ELSE 0 END) AS MAX_CREDIT_TYPE_Real_estate_loan_AMT_CREDIT_SUM,\n",
        "MAX(CASE WHEN CREDIT_TYPE= 'Real estate loan' THEN AMT_CREDIT_SUM_DEBT ELSE 0 END) AS MAX_CREDIT_TYPE_Real_estate_loan_AMT_CREDIT_SUM_DEBT,\n",
        "MAX(CASE WHEN CREDIT_TYPE= 'Real estate loan' THEN AMT_CREDIT_SUM_LIMIT ELSE 0 END) AS MAX_CREDIT_TYPE_Real_estate_loan_AMT_CREDIT_SUM_LIMIT,\n",
        "MAX(CASE WHEN CREDIT_TYPE= 'Real estate loan' THEN AMT_CREDIT_SUM_OVERDUE ELSE 0 END) AS MAX_CREDIT_TYPE_Real_estate_loan_AMT_CREDIT_SUM_OVERDUE,\n",
        "MAX(CASE WHEN CREDIT_TYPE= 'Real estate loan' THEN AMT_ANNUITY ELSE 0 END) AS MAX_CREDIT_TYPE_Real_estate_loan_AMT_ANNUITY,\n",
        "MAX(CASE WHEN CREDIT_TYPE= 'Cash loan' THEN AMT_CREDIT_MAX_OVERDUE ELSE 0 END) AS MAX_CREDIT_TYPE_Cash_loan_AMT_CREDIT_MAX_OVERDUE,\n",
        "MAX(CASE WHEN CREDIT_TYPE= 'Cash loan' THEN CNT_CREDIT_PROLONG ELSE 0 END) AS MAX_CREDIT_TYPE_Cash_loan_CNT_CREDIT_PROLONG,\n",
        "MAX(CASE WHEN CREDIT_TYPE= 'Cash loan' THEN AMT_CREDIT_SUM ELSE 0 END) AS MAX_CREDIT_TYPE_Cash_loan_AMT_CREDIT_SUM,\n",
        "MAX(CASE WHEN CREDIT_TYPE= 'Cash loan' THEN AMT_CREDIT_SUM_DEBT ELSE 0 END) AS MAX_CREDIT_TYPE_Cash_loan_AMT_CREDIT_SUM_DEBT,\n",
        "MAX(CASE WHEN CREDIT_TYPE= 'Cash loan' THEN AMT_CREDIT_SUM_LIMIT ELSE 0 END) AS MAX_CREDIT_TYPE_Cash_loan_AMT_CREDIT_SUM_LIMIT,\n",
        "MAX(CASE WHEN CREDIT_TYPE= 'Cash loan' THEN AMT_CREDIT_SUM_OVERDUE ELSE 0 END) AS MAX_CREDIT_TYPE_Cash_loan_AMT_CREDIT_SUM_OVERDUE,\n",
        "MAX(CASE WHEN CREDIT_TYPE= 'Cash loan' THEN AMT_ANNUITY ELSE 0 END) AS MAX_CREDIT_TYPE_Cash_loan_AMT_ANNUITY,\n",
        "MAX(CASE WHEN CREDIT_TYPE= 'Loan for working capital replenishment' THEN AMT_CREDIT_MAX_OVERDUE ELSE 0 END) AS MAX_CREDIT_TYPE_Loan_for_working_capital_replenishment_AMT_CREDIT_MAX_OVERDUE,\n",
        "MAX(CASE WHEN CREDIT_TYPE= 'Loan for working capital replenishment' THEN CNT_CREDIT_PROLONG ELSE 0 END) AS MAX_CREDIT_TYPE_Loan_for_working_capital_replenishment_CNT_CREDIT_PROLONG,\n",
        "MAX(CASE WHEN CREDIT_TYPE= 'Loan for working capital replenishment' THEN AMT_CREDIT_SUM ELSE 0 END) AS MAX_CREDIT_TYPE_Loan_for_working_capital_replenishment_AMT_CREDIT_SUM,\n",
        "MAX(CASE WHEN CREDIT_TYPE= 'Loan for working capital replenishment' THEN AMT_CREDIT_SUM_DEBT ELSE 0 END) AS MAX_CREDIT_TYPE_Loan_for_working_capital_replenishment_AMT_CREDIT_SUM_DEBT,\n",
        "MAX(CASE WHEN CREDIT_TYPE= 'Loan for working capital replenishment' THEN AMT_CREDIT_SUM_LIMIT ELSE 0 END) AS MAX_CREDIT_TYPE_Loan_for_working_capital_replenishment_AMT_CREDIT_SUM_LIMIT,\n",
        "MAX(CASE WHEN CREDIT_TYPE= 'Loan for working capital replenishment' THEN AMT_CREDIT_SUM_OVERDUE ELSE 0 END) AS MAX_CREDIT_TYPE_Loan_for_working_capital_replenishment_AMT_CREDIT_SUM_OVERDUE,\n",
        "MAX(CASE WHEN CREDIT_TYPE= 'Loan for working capital replenishment' THEN AMT_ANNUITY ELSE 0 END) AS MAX_CREDIT_TYPE_Loan_for_working_capital_replenishment_AMT_ANNUITY,\n",
        "MAX(CASE WHEN CREDIT_TYPE= 'Unknown type of loan' THEN AMT_CREDIT_MAX_OVERDUE ELSE 0 END) AS MAX_CREDIT_TYPE_Unknown_type_of_loan_AMT_CREDIT_MAX_OVERDUE,\n",
        "MAX(CASE WHEN CREDIT_TYPE= 'Unknown type of loan' THEN CNT_CREDIT_PROLONG ELSE 0 END) AS MAX_CREDIT_TYPE_Unknown_type_of_loan_CNT_CREDIT_PROLONG,\n",
        "MAX(CASE WHEN CREDIT_TYPE= 'Unknown type of loan' THEN AMT_CREDIT_SUM ELSE 0 END) AS MAX_CREDIT_TYPE_Unknown_type_of_loan_AMT_CREDIT_SUM,\n",
        "MAX(CASE WHEN CREDIT_TYPE= 'Unknown type of loan' THEN AMT_CREDIT_SUM_DEBT ELSE 0 END) AS MAX_CREDIT_TYPE_Unknown_type_of_loan_AMT_CREDIT_SUM_DEBT,\n",
        "MAX(CASE WHEN CREDIT_TYPE= 'Unknown type of loan' THEN AMT_CREDIT_SUM_LIMIT ELSE 0 END) AS MAX_CREDIT_TYPE_Unknown_type_of_loan_AMT_CREDIT_SUM_LIMIT,\n",
        "MAX(CASE WHEN CREDIT_TYPE= 'Unknown type of loan' THEN AMT_CREDIT_SUM_OVERDUE ELSE 0 END) AS MAX_CREDIT_TYPE_Unknown_type_of_loan_AMT_CREDIT_SUM_OVERDUE,\n",
        "MAX(CASE WHEN CREDIT_TYPE= 'Unknown type of loan' THEN AMT_ANNUITY ELSE 0 END) AS MAX_CREDIT_TYPE_Unknown_type_of_loan_AMT_ANNUITY,\n",
        "MAX(CASE WHEN CREDIT_TYPE= 'Another type of loan' THEN AMT_CREDIT_MAX_OVERDUE ELSE 0 END) AS MAX_CREDIT_TYPE_Another_type_of_loan_AMT_CREDIT_MAX_OVERDUE,\n",
        "MAX(CASE WHEN CREDIT_TYPE= 'Another type of loan' THEN CNT_CREDIT_PROLONG ELSE 0 END) AS MAX_CREDIT_TYPE_Another_type_of_loan_CNT_CREDIT_PROLONG,\n",
        "MAX(CASE WHEN CREDIT_TYPE= 'Another type of loan' THEN AMT_CREDIT_SUM ELSE 0 END) AS MAX_CREDIT_TYPE_Another_type_of_loan_AMT_CREDIT_SUM,\n",
        "MAX(CASE WHEN CREDIT_TYPE= 'Another type of loan' THEN AMT_CREDIT_SUM_DEBT ELSE 0 END) AS MAX_CREDIT_TYPE_Another_type_of_loan_AMT_CREDIT_SUM_DEBT,\n",
        "MAX(CASE WHEN CREDIT_TYPE= 'Another type of loan' THEN AMT_CREDIT_SUM_LIMIT ELSE 0 END) AS MAX_CREDIT_TYPE_Another_type_of_loan_AMT_CREDIT_SUM_LIMIT,\n",
        "MAX(CASE WHEN CREDIT_TYPE= 'Another type of loan' THEN AMT_CREDIT_SUM_OVERDUE ELSE 0 END) AS MAX_CREDIT_TYPE_Another_type_of_loan_AMT_CREDIT_SUM_OVERDUE,\n",
        "MAX(CASE WHEN CREDIT_TYPE= 'Another type of loan' THEN AMT_ANNUITY ELSE 0 END) AS MAX_CREDIT_TYPE_Another_type_of_loan_AMT_ANNUITY,\n",
        "MAX(CASE WHEN CREDIT_TYPE= 'Loan for business development' THEN AMT_CREDIT_MAX_OVERDUE ELSE 0 END) AS MAX_CREDIT_TYPE_Loan_for_business_development_AMT_CREDIT_MAX_OVERDUE,\n",
        "MAX(CASE WHEN CREDIT_TYPE= 'Loan for business development' THEN CNT_CREDIT_PROLONG ELSE 0 END) AS MAX_CREDIT_TYPE_Loan_for_business_development_CNT_CREDIT_PROLONG,\n",
        "MAX(CASE WHEN CREDIT_TYPE= 'Loan for business development' THEN AMT_CREDIT_SUM ELSE 0 END) AS MAX_CREDIT_TYPE_Loan_for_business_development_AMT_CREDIT_SUM,\n",
        "MAX(CASE WHEN CREDIT_TYPE= 'Loan for business development' THEN AMT_CREDIT_SUM_DEBT ELSE 0 END) AS MAX_CREDIT_TYPE_Loan_for_business_development_AMT_CREDIT_SUM_DEBT,\n",
        "MAX(CASE WHEN CREDIT_TYPE= 'Loan for business development' THEN AMT_CREDIT_SUM_LIMIT ELSE 0 END) AS MAX_CREDIT_TYPE_Loan_for_business_development_AMT_CREDIT_SUM_LIMIT,\n",
        "MAX(CASE WHEN CREDIT_TYPE= 'Loan for business development' THEN AMT_CREDIT_SUM_OVERDUE ELSE 0 END) AS MAX_CREDIT_TYPE_Loan_for_business_development_AMT_CREDIT_SUM_OVERDUE,\n",
        "MAX(CASE WHEN CREDIT_TYPE= 'Loan for business development' THEN AMT_ANNUITY ELSE 0 END) AS MAX_CREDIT_TYPE_Loan_for_business_development_AMT_ANNUITY,\n",
        "MAX(CASE WHEN CREDIT_TYPE= 'Microloan' THEN AMT_CREDIT_MAX_OVERDUE ELSE 0 END) AS MAX_CREDIT_TYPE_Microloan_AMT_CREDIT_MAX_OVERDUE,\n",
        "MAX(CASE WHEN CREDIT_TYPE= 'Microloan' THEN CNT_CREDIT_PROLONG ELSE 0 END) AS MAX_CREDIT_TYPE_Microloan_CNT_CREDIT_PROLONG,\n",
        "MAX(CASE WHEN CREDIT_TYPE= 'Microloan' THEN AMT_CREDIT_SUM ELSE 0 END) AS MAX_CREDIT_TYPE_Microloan_AMT_CREDIT_SUM,\n",
        "MAX(CASE WHEN CREDIT_TYPE= 'Microloan' THEN AMT_CREDIT_SUM_DEBT ELSE 0 END) AS MAX_CREDIT_TYPE_Microloan_AMT_CREDIT_SUM_DEBT,\n",
        "MAX(CASE WHEN CREDIT_TYPE= 'Microloan' THEN AMT_CREDIT_SUM_LIMIT ELSE 0 END) AS MAX_CREDIT_TYPE_Microloan_AMT_CREDIT_SUM_LIMIT,\n",
        "MAX(CASE WHEN CREDIT_TYPE= 'Microloan' THEN AMT_CREDIT_SUM_OVERDUE ELSE 0 END) AS MAX_CREDIT_TYPE_Microloan_AMT_CREDIT_SUM_OVERDUE,\n",
        "MAX(CASE WHEN CREDIT_TYPE= 'Microloan' THEN AMT_ANNUITY ELSE 0 END) AS MAX_CREDIT_TYPE_Microloan_AMT_ANNUITY,\n",
        "MAX(CASE WHEN CREDIT_TYPE= 'Mortgage' THEN AMT_CREDIT_MAX_OVERDUE ELSE 0 END) AS MAX_CREDIT_TYPE_Mortgage_AMT_CREDIT_MAX_OVERDUE,\n",
        "MAX(CASE WHEN CREDIT_TYPE= 'Mortgage' THEN CNT_CREDIT_PROLONG ELSE 0 END) AS MAX_CREDIT_TYPE_Mortgage_CNT_CREDIT_PROLONG,\n",
        "MAX(CASE WHEN CREDIT_TYPE= 'Mortgage' THEN AMT_CREDIT_SUM ELSE 0 END) AS MAX_CREDIT_TYPE_Mortgage_AMT_CREDIT_SUM,\n",
        "MAX(CASE WHEN CREDIT_TYPE= 'Mortgage' THEN AMT_CREDIT_SUM_DEBT ELSE 0 END) AS MAX_CREDIT_TYPE_Mortgage_AMT_CREDIT_SUM_DEBT,\n",
        "MAX(CASE WHEN CREDIT_TYPE= 'Mortgage' THEN AMT_CREDIT_SUM_LIMIT ELSE 0 END) AS MAX_CREDIT_TYPE_Mortgage_AMT_CREDIT_SUM_LIMIT,\n",
        "MAX(CASE WHEN CREDIT_TYPE= 'Mortgage' THEN AMT_CREDIT_SUM_OVERDUE ELSE 0 END) AS MAX_CREDIT_TYPE_Mortgage_AMT_CREDIT_SUM_OVERDUE,\n",
        "MAX(CASE WHEN CREDIT_TYPE= 'Mortgage' THEN AMT_ANNUITY ELSE 0 END) AS MAX_CREDIT_TYPE_Mortgage_AMT_ANNUITY,\n",
        "MAX(CASE WHEN CREDIT_TYPE= 'Car loan' THEN AMT_CREDIT_MAX_OVERDUE ELSE 0 END) AS MAX_CREDIT_TYPE_Car_loan_AMT_CREDIT_MAX_OVERDUE,\n",
        "MAX(CASE WHEN CREDIT_TYPE= 'Car loan' THEN CNT_CREDIT_PROLONG ELSE 0 END) AS MAX_CREDIT_TYPE_Car_loan_CNT_CREDIT_PROLONG,\n",
        "MAX(CASE WHEN CREDIT_TYPE= 'Car loan' THEN AMT_CREDIT_SUM ELSE 0 END) AS MAX_CREDIT_TYPE_Car_loan_AMT_CREDIT_SUM,\n",
        "MAX(CASE WHEN CREDIT_TYPE= 'Car loan' THEN AMT_CREDIT_SUM_DEBT ELSE 0 END) AS MAX_CREDIT_TYPE_Car_loan_AMT_CREDIT_SUM_DEBT,\n",
        "MAX(CASE WHEN CREDIT_TYPE= 'Car loan' THEN AMT_CREDIT_SUM_LIMIT ELSE 0 END) AS MAX_CREDIT_TYPE_Car_loan_AMT_CREDIT_SUM_LIMIT,\n",
        "MAX(CASE WHEN CREDIT_TYPE= 'Car loan' THEN AMT_CREDIT_SUM_OVERDUE ELSE 0 END) AS MAX_CREDIT_TYPE_Car_loan_AMT_CREDIT_SUM_OVERDUE,\n",
        "MAX(CASE WHEN CREDIT_TYPE= 'Car loan' THEN AMT_ANNUITY ELSE 0 END) AS MAX_CREDIT_TYPE_Car_loan_AMT_ANNUITY,\n",
        "MAX(CASE WHEN CREDIT_TYPE= 'Credit card' THEN AMT_CREDIT_MAX_OVERDUE ELSE 0 END) AS MAX_CREDIT_TYPE_Credit_card_AMT_CREDIT_MAX_OVERDUE,\n",
        "MAX(CASE WHEN CREDIT_TYPE= 'Credit card' THEN CNT_CREDIT_PROLONG ELSE 0 END) AS MAX_CREDIT_TYPE_Credit_card_CNT_CREDIT_PROLONG,\n",
        "MAX(CASE WHEN CREDIT_TYPE= 'Credit card' THEN AMT_CREDIT_SUM ELSE 0 END) AS MAX_CREDIT_TYPE_Credit_card_AMT_CREDIT_SUM,\n",
        "MAX(CASE WHEN CREDIT_TYPE= 'Credit card' THEN AMT_CREDIT_SUM_DEBT ELSE 0 END) AS MAX_CREDIT_TYPE_Credit_card_AMT_CREDIT_SUM_DEBT,\n",
        "MAX(CASE WHEN CREDIT_TYPE= 'Credit card' THEN AMT_CREDIT_SUM_LIMIT ELSE 0 END) AS MAX_CREDIT_TYPE_Credit_card_AMT_CREDIT_SUM_LIMIT,\n",
        "MAX(CASE WHEN CREDIT_TYPE= 'Credit card' THEN AMT_CREDIT_SUM_OVERDUE ELSE 0 END) AS MAX_CREDIT_TYPE_Credit_card_AMT_CREDIT_SUM_OVERDUE,\n",
        "MAX(CASE WHEN CREDIT_TYPE= 'Credit card' THEN AMT_ANNUITY ELSE 0 END) AS MAX_CREDIT_TYPE_Credit_card_AMT_ANNUITY,\n",
        "MAX(CASE WHEN CREDIT_TYPE= 'Consumer credit' THEN AMT_CREDIT_MAX_OVERDUE ELSE 0 END) AS MAX_CREDIT_TYPE_Consumer_credit_AMT_CREDIT_MAX_OVERDUE,\n",
        "MAX(CASE WHEN CREDIT_TYPE= 'Consumer credit' THEN CNT_CREDIT_PROLONG ELSE 0 END) AS MAX_CREDIT_TYPE_Consumer_credit_CNT_CREDIT_PROLONG,\n",
        "MAX(CASE WHEN CREDIT_TYPE= 'Consumer credit' THEN AMT_CREDIT_SUM ELSE 0 END) AS MAX_CREDIT_TYPE_Consumer_credit_AMT_CREDIT_SUM,\n",
        "MAX(CASE WHEN CREDIT_TYPE= 'Consumer credit' THEN AMT_CREDIT_SUM_DEBT ELSE 0 END) AS MAX_CREDIT_TYPE_Consumer_credit_AMT_CREDIT_SUM_DEBT,\n",
        "MAX(CASE WHEN CREDIT_TYPE= 'Consumer credit' THEN AMT_CREDIT_SUM_LIMIT ELSE 0 END) AS MAX_CREDIT_TYPE_Consumer_credit_AMT_CREDIT_SUM_LIMIT,\n",
        "MAX(CASE WHEN CREDIT_TYPE= 'Consumer credit' THEN AMT_CREDIT_SUM_OVERDUE ELSE 0 END) AS MAX_CREDIT_TYPE_Consumer_credit_AMT_CREDIT_SUM_OVERDUE,\n",
        "MAX(CASE WHEN CREDIT_TYPE= 'Consumer credit' THEN AMT_ANNUITY ELSE 0 END) AS MAX_CREDIT_TYPE_Consumer_credit_AMT_ANNUITY,\n",
        "AVG(CASE WHEN CREDIT_TYPE= 'Mobile operator loan' THEN AMT_CREDIT_MAX_OVERDUE ELSE 0 END) AS AVG_CREDIT_TYPE_Mobile_operator_loan_AMT_CREDIT_MAX_OVERDUE,\n",
        "AVG(CASE WHEN CREDIT_TYPE= 'Mobile operator loan' THEN CNT_CREDIT_PROLONG ELSE 0 END) AS AVG_CREDIT_TYPE_Mobile_operator_loan_CNT_CREDIT_PROLONG,\n",
        "AVG(CASE WHEN CREDIT_TYPE= 'Mobile operator loan' THEN AMT_CREDIT_SUM ELSE 0 END) AS AVG_CREDIT_TYPE_Mobile_operator_loan_AMT_CREDIT_SUM,\n",
        "AVG(CASE WHEN CREDIT_TYPE= 'Mobile operator loan' THEN AMT_CREDIT_SUM_DEBT ELSE 0 END) AS AVG_CREDIT_TYPE_Mobile_operator_loan_AMT_CREDIT_SUM_DEBT,\n",
        "AVG(CASE WHEN CREDIT_TYPE= 'Mobile operator loan' THEN AMT_CREDIT_SUM_LIMIT ELSE 0 END) AS AVG_CREDIT_TYPE_Mobile_operator_loan_AMT_CREDIT_SUM_LIMIT,\n",
        "AVG(CASE WHEN CREDIT_TYPE= 'Mobile operator loan' THEN AMT_CREDIT_SUM_OVERDUE ELSE 0 END) AS AVG_CREDIT_TYPE_Mobile_operator_loan_AMT_CREDIT_SUM_OVERDUE,\n",
        "AVG(CASE WHEN CREDIT_TYPE= 'Mobile operator loan' THEN AMT_ANNUITY ELSE 0 END) AS AVG_CREDIT_TYPE_Mobile_operator_loan_AMT_ANNUITY,\n",
        "AVG(CASE WHEN CREDIT_TYPE= 'Interbank credit' THEN AMT_CREDIT_MAX_OVERDUE ELSE 0 END) AS AVG_CREDIT_TYPE_Interbank_credit_AMT_CREDIT_MAX_OVERDUE,\n",
        "AVG(CASE WHEN CREDIT_TYPE= 'Interbank credit' THEN CNT_CREDIT_PROLONG ELSE 0 END) AS AVG_CREDIT_TYPE_Interbank_credit_CNT_CREDIT_PROLONG,\n",
        "AVG(CASE WHEN CREDIT_TYPE= 'Interbank credit' THEN AMT_CREDIT_SUM ELSE 0 END) AS AVG_CREDIT_TYPE_Interbank_credit_AMT_CREDIT_SUM,\n",
        "AVG(CASE WHEN CREDIT_TYPE= 'Interbank credit' THEN AMT_CREDIT_SUM_DEBT ELSE 0 END) AS AVG_CREDIT_TYPE_Interbank_credit_AMT_CREDIT_SUM_DEBT,\n",
        "AVG(CASE WHEN CREDIT_TYPE= 'Interbank credit' THEN AMT_CREDIT_SUM_LIMIT ELSE 0 END) AS AVG_CREDIT_TYPE_Interbank_credit_AMT_CREDIT_SUM_LIMIT,\n",
        "AVG(CASE WHEN CREDIT_TYPE= 'Interbank credit' THEN AMT_CREDIT_SUM_OVERDUE ELSE 0 END) AS AVG_CREDIT_TYPE_Interbank_credit_AMT_CREDIT_SUM_OVERDUE,\n",
        "AVG(CASE WHEN CREDIT_TYPE= 'Interbank credit' THEN AMT_ANNUITY ELSE 0 END) AS AVG_CREDIT_TYPE_Interbank_credit_AMT_ANNUITY,\n",
        "AVG(CASE WHEN CREDIT_TYPE= 'Loan for purchase of shares' THEN AMT_CREDIT_MAX_OVERDUE ELSE 0 END) AS AVG_CREDIT_TYPE_Loan_for_purchase_of_shares_AMT_CREDIT_MAX_OVERDUE,\n",
        "AVG(CASE WHEN CREDIT_TYPE= 'Loan for purchase of shares' THEN CNT_CREDIT_PROLONG ELSE 0 END) AS AVG_CREDIT_TYPE_Loan_for_purchase_of_shares_CNT_CREDIT_PROLONG,\n",
        "AVG(CASE WHEN CREDIT_TYPE= 'Loan for purchase of shares' THEN AMT_CREDIT_SUM ELSE 0 END) AS AVG_CREDIT_TYPE_Loan_for_purchase_of_shares_AMT_CREDIT_SUM,\n",
        "AVG(CASE WHEN CREDIT_TYPE= 'Loan for purchase of shares' THEN AMT_CREDIT_SUM_DEBT ELSE 0 END) AS AVG_CREDIT_TYPE_Loan_for_purchase_of_shares_AMT_CREDIT_SUM_DEBT,\n",
        "AVG(CASE WHEN CREDIT_TYPE= 'Loan for purchase of shares' THEN AMT_CREDIT_SUM_LIMIT ELSE 0 END) AS AVG_CREDIT_TYPE_Loan_for_purchase_of_shares_AMT_CREDIT_SUM_LIMIT,\n",
        "AVG(CASE WHEN CREDIT_TYPE= 'Loan for purchase of shares' THEN AMT_CREDIT_SUM_OVERDUE ELSE 0 END) AS AVG_CREDIT_TYPE_Loan_for_purchase_of_shares_AMT_CREDIT_SUM_OVERDUE,\n",
        "AVG(CASE WHEN CREDIT_TYPE= 'Loan for purchase of shares' THEN AMT_ANNUITY ELSE 0 END) AS AVG_CREDIT_TYPE_Loan_for_purchase_of_shares_AMT_ANNUITY,\n",
        "AVG(CASE WHEN CREDIT_TYPE= 'Loan for the purchase of equipment' THEN AMT_CREDIT_MAX_OVERDUE ELSE 0 END) AS AVG_CREDIT_TYPE_Loan_for_the_purchase_of_equipment_AMT_CREDIT_MAX_OVERDUE,\n",
        "AVG(CASE WHEN CREDIT_TYPE= 'Loan for the purchase of equipment' THEN CNT_CREDIT_PROLONG ELSE 0 END) AS AVG_CREDIT_TYPE_Loan_for_the_purchase_of_equipment_CNT_CREDIT_PROLONG,\n",
        "AVG(CASE WHEN CREDIT_TYPE= 'Loan for the purchase of equipment' THEN AMT_CREDIT_SUM ELSE 0 END) AS AVG_CREDIT_TYPE_Loan_for_the_purchase_of_equipment_AMT_CREDIT_SUM,\n",
        "AVG(CASE WHEN CREDIT_TYPE= 'Loan for the purchase of equipment' THEN AMT_CREDIT_SUM_DEBT ELSE 0 END) AS AVG_CREDIT_TYPE_Loan_for_the_purchase_of_equipment_AMT_CREDIT_SUM_DEBT,\n",
        "AVG(CASE WHEN CREDIT_TYPE= 'Loan for the purchase of equipment' THEN AMT_CREDIT_SUM_LIMIT ELSE 0 END) AS AVG_CREDIT_TYPE_Loan_for_the_purchase_of_equipment_AMT_CREDIT_SUM_LIMIT,\n",
        "AVG(CASE WHEN CREDIT_TYPE= 'Loan for the purchase of equipment' THEN AMT_CREDIT_SUM_OVERDUE ELSE 0 END) AS AVG_CREDIT_TYPE_Loan_for_the_purchase_of_equipment_AMT_CREDIT_SUM_OVERDUE,\n",
        "AVG(CASE WHEN CREDIT_TYPE= 'Loan for the purchase of equipment' THEN AMT_ANNUITY ELSE 0 END) AS AVG_CREDIT_TYPE_Loan_for_the_purchase_of_equipment_AMT_ANNUITY,\n",
        "AVG(CASE WHEN CREDIT_TYPE= 'Real estate loan' THEN AMT_CREDIT_MAX_OVERDUE ELSE 0 END) AS AVG_CREDIT_TYPE_Real_estate_loan_AMT_CREDIT_MAX_OVERDUE,\n",
        "AVG(CASE WHEN CREDIT_TYPE= 'Real estate loan' THEN CNT_CREDIT_PROLONG ELSE 0 END) AS AVG_CREDIT_TYPE_Real_estate_loan_CNT_CREDIT_PROLONG,\n",
        "AVG(CASE WHEN CREDIT_TYPE= 'Real estate loan' THEN AMT_CREDIT_SUM ELSE 0 END) AS AVG_CREDIT_TYPE_Real_estate_loan_AMT_CREDIT_SUM,\n",
        "AVG(CASE WHEN CREDIT_TYPE= 'Real estate loan' THEN AMT_CREDIT_SUM_DEBT ELSE 0 END) AS AVG_CREDIT_TYPE_Real_estate_loan_AMT_CREDIT_SUM_DEBT,\n",
        "AVG(CASE WHEN CREDIT_TYPE= 'Real estate loan' THEN AMT_CREDIT_SUM_LIMIT ELSE 0 END) AS AVG_CREDIT_TYPE_Real_estate_loan_AMT_CREDIT_SUM_LIMIT,\n",
        "AVG(CASE WHEN CREDIT_TYPE= 'Real estate loan' THEN AMT_CREDIT_SUM_OVERDUE ELSE 0 END) AS AVG_CREDIT_TYPE_Real_estate_loan_AMT_CREDIT_SUM_OVERDUE,\n",
        "AVG(CASE WHEN CREDIT_TYPE= 'Real estate loan' THEN AMT_ANNUITY ELSE 0 END) AS AVG_CREDIT_TYPE_Real_estate_loan_AMT_ANNUITY,\n",
        "AVG(CASE WHEN CREDIT_TYPE= 'Cash loan' THEN AMT_CREDIT_MAX_OVERDUE ELSE 0 END) AS AVG_CREDIT_TYPE_Cash_loan_AMT_CREDIT_MAX_OVERDUE,\n",
        "AVG(CASE WHEN CREDIT_TYPE= 'Cash loan' THEN CNT_CREDIT_PROLONG ELSE 0 END) AS AVG_CREDIT_TYPE_Cash_loan_CNT_CREDIT_PROLONG,\n",
        "AVG(CASE WHEN CREDIT_TYPE= 'Cash loan' THEN AMT_CREDIT_SUM ELSE 0 END) AS AVG_CREDIT_TYPE_Cash_loan_AMT_CREDIT_SUM,\n",
        "AVG(CASE WHEN CREDIT_TYPE= 'Cash loan' THEN AMT_CREDIT_SUM_DEBT ELSE 0 END) AS AVG_CREDIT_TYPE_Cash_loan_AMT_CREDIT_SUM_DEBT,\n",
        "AVG(CASE WHEN CREDIT_TYPE= 'Cash loan' THEN AMT_CREDIT_SUM_LIMIT ELSE 0 END) AS AVG_CREDIT_TYPE_Cash_loan_AMT_CREDIT_SUM_LIMIT,\n",
        "AVG(CASE WHEN CREDIT_TYPE= 'Cash loan' THEN AMT_CREDIT_SUM_OVERDUE ELSE 0 END) AS AVG_CREDIT_TYPE_Cash_loan_AMT_CREDIT_SUM_OVERDUE,\n",
        "AVG(CASE WHEN CREDIT_TYPE= 'Cash loan' THEN AMT_ANNUITY ELSE 0 END) AS AVG_CREDIT_TYPE_Cash_loan_AMT_ANNUITY,\n",
        "AVG(CASE WHEN CREDIT_TYPE= 'Loan for working capital replenishment' THEN AMT_CREDIT_MAX_OVERDUE ELSE 0 END) AS AVG_CREDIT_TYPE_Loan_for_working_capital_replenishment_AMT_CREDIT_MAX_OVERDUE,\n",
        "AVG(CASE WHEN CREDIT_TYPE= 'Loan for working capital replenishment' THEN CNT_CREDIT_PROLONG ELSE 0 END) AS AVG_CREDIT_TYPE_Loan_for_working_capital_replenishment_CNT_CREDIT_PROLONG,\n",
        "AVG(CASE WHEN CREDIT_TYPE= 'Loan for working capital replenishment' THEN AMT_CREDIT_SUM ELSE 0 END) AS AVG_CREDIT_TYPE_Loan_for_working_capital_replenishment_AMT_CREDIT_SUM,\n",
        "AVG(CASE WHEN CREDIT_TYPE= 'Loan for working capital replenishment' THEN AMT_CREDIT_SUM_DEBT ELSE 0 END) AS AVG_CREDIT_TYPE_Loan_for_working_capital_replenishment_AMT_CREDIT_SUM_DEBT,\n",
        "AVG(CASE WHEN CREDIT_TYPE= 'Loan for working capital replenishment' THEN AMT_CREDIT_SUM_LIMIT ELSE 0 END) AS AVG_CREDIT_TYPE_Loan_for_working_capital_replenishment_AMT_CREDIT_SUM_LIMIT,\n",
        "AVG(CASE WHEN CREDIT_TYPE= 'Loan for working capital replenishment' THEN AMT_CREDIT_SUM_OVERDUE ELSE 0 END) AS AVG_CREDIT_TYPE_Loan_for_working_capital_replenishment_AMT_CREDIT_SUM_OVERDUE,\n",
        "AVG(CASE WHEN CREDIT_TYPE= 'Loan for working capital replenishment' THEN AMT_ANNUITY ELSE 0 END) AS AVG_CREDIT_TYPE_Loan_for_working_capital_replenishment_AMT_ANNUITY,\n",
        "AVG(CASE WHEN CREDIT_TYPE= 'Unknown type of loan' THEN AMT_CREDIT_MAX_OVERDUE ELSE 0 END) AS AVG_CREDIT_TYPE_Unknown_type_of_loan_AMT_CREDIT_MAX_OVERDUE,\n",
        "AVG(CASE WHEN CREDIT_TYPE= 'Unknown type of loan' THEN CNT_CREDIT_PROLONG ELSE 0 END) AS AVG_CREDIT_TYPE_Unknown_type_of_loan_CNT_CREDIT_PROLONG,\n",
        "AVG(CASE WHEN CREDIT_TYPE= 'Unknown type of loan' THEN AMT_CREDIT_SUM ELSE 0 END) AS AVG_CREDIT_TYPE_Unknown_type_of_loan_AMT_CREDIT_SUM,\n",
        "AVG(CASE WHEN CREDIT_TYPE= 'Unknown type of loan' THEN AMT_CREDIT_SUM_DEBT ELSE 0 END) AS AVG_CREDIT_TYPE_Unknown_type_of_loan_AMT_CREDIT_SUM_DEBT,\n",
        "AVG(CASE WHEN CREDIT_TYPE= 'Unknown type of loan' THEN AMT_CREDIT_SUM_LIMIT ELSE 0 END) AS AVG_CREDIT_TYPE_Unknown_type_of_loan_AMT_CREDIT_SUM_LIMIT,\n",
        "AVG(CASE WHEN CREDIT_TYPE= 'Unknown type of loan' THEN AMT_CREDIT_SUM_OVERDUE ELSE 0 END) AS AVG_CREDIT_TYPE_Unknown_type_of_loan_AMT_CREDIT_SUM_OVERDUE,\n",
        "AVG(CASE WHEN CREDIT_TYPE= 'Unknown type of loan' THEN AMT_ANNUITY ELSE 0 END) AS AVG_CREDIT_TYPE_Unknown_type_of_loan_AMT_ANNUITY,\n",
        "AVG(CASE WHEN CREDIT_TYPE= 'Another type of loan' THEN AMT_CREDIT_MAX_OVERDUE ELSE 0 END) AS AVG_CREDIT_TYPE_Another_type_of_loan_AMT_CREDIT_MAX_OVERDUE,\n",
        "AVG(CASE WHEN CREDIT_TYPE= 'Another type of loan' THEN CNT_CREDIT_PROLONG ELSE 0 END) AS AVG_CREDIT_TYPE_Another_type_of_loan_CNT_CREDIT_PROLONG,\n",
        "AVG(CASE WHEN CREDIT_TYPE= 'Another type of loan' THEN AMT_CREDIT_SUM ELSE 0 END) AS AVG_CREDIT_TYPE_Another_type_of_loan_AMT_CREDIT_SUM,\n",
        "AVG(CASE WHEN CREDIT_TYPE= 'Another type of loan' THEN AMT_CREDIT_SUM_DEBT ELSE 0 END) AS AVG_CREDIT_TYPE_Another_type_of_loan_AMT_CREDIT_SUM_DEBT,\n",
        "AVG(CASE WHEN CREDIT_TYPE= 'Another type of loan' THEN AMT_CREDIT_SUM_LIMIT ELSE 0 END) AS AVG_CREDIT_TYPE_Another_type_of_loan_AMT_CREDIT_SUM_LIMIT,\n",
        "AVG(CASE WHEN CREDIT_TYPE= 'Another type of loan' THEN AMT_CREDIT_SUM_OVERDUE ELSE 0 END) AS AVG_CREDIT_TYPE_Another_type_of_loan_AMT_CREDIT_SUM_OVERDUE,\n",
        "AVG(CASE WHEN CREDIT_TYPE= 'Another type of loan' THEN AMT_ANNUITY ELSE 0 END) AS AVG_CREDIT_TYPE_Another_type_of_loan_AMT_ANNUITY,\n",
        "AVG(CASE WHEN CREDIT_TYPE= 'Loan for business development' THEN AMT_CREDIT_MAX_OVERDUE ELSE 0 END) AS AVG_CREDIT_TYPE_Loan_for_business_development_AMT_CREDIT_MAX_OVERDUE,\n",
        "AVG(CASE WHEN CREDIT_TYPE= 'Loan for business development' THEN CNT_CREDIT_PROLONG ELSE 0 END) AS AVG_CREDIT_TYPE_Loan_for_business_development_CNT_CREDIT_PROLONG,\n",
        "AVG(CASE WHEN CREDIT_TYPE= 'Loan for business development' THEN AMT_CREDIT_SUM ELSE 0 END) AS AVG_CREDIT_TYPE_Loan_for_business_development_AMT_CREDIT_SUM,\n",
        "AVG(CASE WHEN CREDIT_TYPE= 'Loan for business development' THEN AMT_CREDIT_SUM_DEBT ELSE 0 END) AS AVG_CREDIT_TYPE_Loan_for_business_development_AMT_CREDIT_SUM_DEBT,\n",
        "AVG(CASE WHEN CREDIT_TYPE= 'Loan for business development' THEN AMT_CREDIT_SUM_LIMIT ELSE 0 END) AS AVG_CREDIT_TYPE_Loan_for_business_development_AMT_CREDIT_SUM_LIMIT,\n",
        "AVG(CASE WHEN CREDIT_TYPE= 'Loan for business development' THEN AMT_CREDIT_SUM_OVERDUE ELSE 0 END) AS AVG_CREDIT_TYPE_Loan_for_business_development_AMT_CREDIT_SUM_OVERDUE,\n",
        "AVG(CASE WHEN CREDIT_TYPE= 'Loan for business development' THEN AMT_ANNUITY ELSE 0 END) AS AVG_CREDIT_TYPE_Loan_for_business_development_AMT_ANNUITY,\n",
        "AVG(CASE WHEN CREDIT_TYPE= 'Microloan' THEN AMT_CREDIT_MAX_OVERDUE ELSE 0 END) AS AVG_CREDIT_TYPE_Microloan_AMT_CREDIT_MAX_OVERDUE,\n",
        "AVG(CASE WHEN CREDIT_TYPE= 'Microloan' THEN CNT_CREDIT_PROLONG ELSE 0 END) AS AVG_CREDIT_TYPE_Microloan_CNT_CREDIT_PROLONG,\n",
        "AVG(CASE WHEN CREDIT_TYPE= 'Microloan' THEN AMT_CREDIT_SUM ELSE 0 END) AS AVG_CREDIT_TYPE_Microloan_AMT_CREDIT_SUM,\n",
        "AVG(CASE WHEN CREDIT_TYPE= 'Microloan' THEN AMT_CREDIT_SUM_DEBT ELSE 0 END) AS AVG_CREDIT_TYPE_Microloan_AMT_CREDIT_SUM_DEBT,\n",
        "AVG(CASE WHEN CREDIT_TYPE= 'Microloan' THEN AMT_CREDIT_SUM_LIMIT ELSE 0 END) AS AVG_CREDIT_TYPE_Microloan_AMT_CREDIT_SUM_LIMIT,\n",
        "AVG(CASE WHEN CREDIT_TYPE= 'Microloan' THEN AMT_CREDIT_SUM_OVERDUE ELSE 0 END) AS AVG_CREDIT_TYPE_Microloan_AMT_CREDIT_SUM_OVERDUE,\n",
        "AVG(CASE WHEN CREDIT_TYPE= 'Microloan' THEN AMT_ANNUITY ELSE 0 END) AS AVG_CREDIT_TYPE_Microloan_AMT_ANNUITY,\n",
        "AVG(CASE WHEN CREDIT_TYPE= 'Mortgage' THEN AMT_CREDIT_MAX_OVERDUE ELSE 0 END) AS AVG_CREDIT_TYPE_Mortgage_AMT_CREDIT_MAX_OVERDUE,\n",
        "AVG(CASE WHEN CREDIT_TYPE= 'Mortgage' THEN CNT_CREDIT_PROLONG ELSE 0 END) AS AVG_CREDIT_TYPE_Mortgage_CNT_CREDIT_PROLONG,\n",
        "AVG(CASE WHEN CREDIT_TYPE= 'Mortgage' THEN AMT_CREDIT_SUM ELSE 0 END) AS AVG_CREDIT_TYPE_Mortgage_AMT_CREDIT_SUM,\n",
        "AVG(CASE WHEN CREDIT_TYPE= 'Mortgage' THEN AMT_CREDIT_SUM_DEBT ELSE 0 END) AS AVG_CREDIT_TYPE_Mortgage_AMT_CREDIT_SUM_DEBT,\n",
        "AVG(CASE WHEN CREDIT_TYPE= 'Mortgage' THEN AMT_CREDIT_SUM_LIMIT ELSE 0 END) AS AVG_CREDIT_TYPE_Mortgage_AMT_CREDIT_SUM_LIMIT,\n",
        "AVG(CASE WHEN CREDIT_TYPE= 'Mortgage' THEN AMT_CREDIT_SUM_OVERDUE ELSE 0 END) AS AVG_CREDIT_TYPE_Mortgage_AMT_CREDIT_SUM_OVERDUE,\n",
        "AVG(CASE WHEN CREDIT_TYPE= 'Mortgage' THEN AMT_ANNUITY ELSE 0 END) AS AVG_CREDIT_TYPE_Mortgage_AMT_ANNUITY,\n",
        "AVG(CASE WHEN CREDIT_TYPE= 'Car loan' THEN AMT_CREDIT_MAX_OVERDUE ELSE 0 END) AS AVG_CREDIT_TYPE_Car_loan_AMT_CREDIT_MAX_OVERDUE,\n",
        "AVG(CASE WHEN CREDIT_TYPE= 'Car loan' THEN CNT_CREDIT_PROLONG ELSE 0 END) AS AVG_CREDIT_TYPE_Car_loan_CNT_CREDIT_PROLONG,\n",
        "AVG(CASE WHEN CREDIT_TYPE= 'Car loan' THEN AMT_CREDIT_SUM ELSE 0 END) AS AVG_CREDIT_TYPE_Car_loan_AMT_CREDIT_SUM,\n",
        "AVG(CASE WHEN CREDIT_TYPE= 'Car loan' THEN AMT_CREDIT_SUM_DEBT ELSE 0 END) AS AVG_CREDIT_TYPE_Car_loan_AMT_CREDIT_SUM_DEBT,\n",
        "AVG(CASE WHEN CREDIT_TYPE= 'Car loan' THEN AMT_CREDIT_SUM_LIMIT ELSE 0 END) AS AVG_CREDIT_TYPE_Car_loan_AMT_CREDIT_SUM_LIMIT,\n",
        "AVG(CASE WHEN CREDIT_TYPE= 'Car loan' THEN AMT_CREDIT_SUM_OVERDUE ELSE 0 END) AS AVG_CREDIT_TYPE_Car_loan_AMT_CREDIT_SUM_OVERDUE,\n",
        "AVG(CASE WHEN CREDIT_TYPE= 'Car loan' THEN AMT_ANNUITY ELSE 0 END) AS AVG_CREDIT_TYPE_Car_loan_AMT_ANNUITY,\n",
        "AVG(CASE WHEN CREDIT_TYPE= 'Credit card' THEN AMT_CREDIT_MAX_OVERDUE ELSE 0 END) AS AVG_CREDIT_TYPE_Credit_card_AMT_CREDIT_MAX_OVERDUE,\n",
        "AVG(CASE WHEN CREDIT_TYPE= 'Credit card' THEN CNT_CREDIT_PROLONG ELSE 0 END) AS AVG_CREDIT_TYPE_Credit_card_CNT_CREDIT_PROLONG,\n",
        "AVG(CASE WHEN CREDIT_TYPE= 'Credit card' THEN AMT_CREDIT_SUM ELSE 0 END) AS AVG_CREDIT_TYPE_Credit_card_AMT_CREDIT_SUM,\n",
        "AVG(CASE WHEN CREDIT_TYPE= 'Credit card' THEN AMT_CREDIT_SUM_DEBT ELSE 0 END) AS AVG_CREDIT_TYPE_Credit_card_AMT_CREDIT_SUM_DEBT,\n",
        "AVG(CASE WHEN CREDIT_TYPE= 'Credit card' THEN AMT_CREDIT_SUM_LIMIT ELSE 0 END) AS AVG_CREDIT_TYPE_Credit_card_AMT_CREDIT_SUM_LIMIT,\n",
        "AVG(CASE WHEN CREDIT_TYPE= 'Credit card' THEN AMT_CREDIT_SUM_OVERDUE ELSE 0 END) AS AVG_CREDIT_TYPE_Credit_card_AMT_CREDIT_SUM_OVERDUE,\n",
        "AVG(CASE WHEN CREDIT_TYPE= 'Credit card' THEN AMT_ANNUITY ELSE 0 END) AS AVG_CREDIT_TYPE_Credit_card_AMT_ANNUITY,\n",
        "AVG(CASE WHEN CREDIT_TYPE= 'Consumer credit' THEN AMT_CREDIT_MAX_OVERDUE ELSE 0 END) AS AVG_CREDIT_TYPE_Consumer_credit_AMT_CREDIT_MAX_OVERDUE,\n",
        "AVG(CASE WHEN CREDIT_TYPE= 'Consumer credit' THEN CNT_CREDIT_PROLONG ELSE 0 END) AS AVG_CREDIT_TYPE_Consumer_credit_CNT_CREDIT_PROLONG,\n",
        "AVG(CASE WHEN CREDIT_TYPE= 'Consumer credit' THEN AMT_CREDIT_SUM ELSE 0 END) AS AVG_CREDIT_TYPE_Consumer_credit_AMT_CREDIT_SUM,\n",
        "AVG(CASE WHEN CREDIT_TYPE= 'Consumer credit' THEN AMT_CREDIT_SUM_DEBT ELSE 0 END) AS AVG_CREDIT_TYPE_Consumer_credit_AMT_CREDIT_SUM_DEBT,\n",
        "AVG(CASE WHEN CREDIT_TYPE= 'Consumer credit' THEN AMT_CREDIT_SUM_LIMIT ELSE 0 END) AS AVG_CREDIT_TYPE_Consumer_credit_AMT_CREDIT_SUM_LIMIT,\n",
        "AVG(CASE WHEN CREDIT_TYPE= 'Consumer credit' THEN AMT_CREDIT_SUM_OVERDUE ELSE 0 END) AS AVG_CREDIT_TYPE_Consumer_credit_AMT_CREDIT_SUM_OVERDUE,\n",
        "AVG(CASE WHEN CREDIT_TYPE= 'Consumer credit' THEN AMT_ANNUITY ELSE 0 END) AS AVG_CREDIT_TYPE_Consumer_credit_AMT_ANNUITY\n",
        "FROM\n",
        "  bureau\n",
        "GROUP BY\n",
        "  SK_ID_CURR\n",
        "\"\"\")"
      ],
      "metadata": {
        "id": "0UjtWNZK1B6Y"
      },
      "execution_count": null,
      "outputs": []
    },
    {
      "cell_type": "markdown",
      "source": [
        "###Criando variáveis agregadas somente com as variáveis numéricas e datas da tabela bureau"
      ],
      "metadata": {
        "id": "GTm0BGMdtOdd"
      }
    },
    {
      "cell_type": "markdown",
      "source": [
        "As colunas numéricas e de datas são:\n",
        "\n",
        "- AMT_CREDIT_MAX_OVERDUE\n",
        "- CNT_CREDIT_PROLONG\n",
        "- AMT_CREDIT_SUM\n",
        "- AMT_CREDIT_SUM_DEBT\n",
        "- AMT_CREDIT_SUM_LIMIT\n",
        "- AMT_CREDIT_SUM_OVERDUE\n",
        "- AMT_ANNUITY\n",
        "- DAYS_CREDIT\n",
        "- CREDIT_DAY_OVERDUE\n",
        "- DAYS_CREDIT_ENDDATE\n",
        "- DAYS_ENDDATE_FACT\n",
        "- DAYS_CREDIT_UPDATE"
      ],
      "metadata": {
        "id": "3so9j4zN4CGV"
      }
    },
    {
      "cell_type": "code",
      "source": [
        "# Criando as agregações\n",
        "\n",
        "agg = ['SUM', 'MIN', 'MAX', 'AVG']\n",
        "\n",
        "# Criando a variável numérica e de data\n",
        "\n",
        "var_num = ['AMT_CREDIT_MAX_OVERDUE', 'CNT_CREDIT_PROLONG', 'AMT_CREDIT_SUM', \\\n",
        "           'AMT_CREDIT_SUM_DEBT', 'AMT_CREDIT_SUM_LIMIT', \\\n",
        "           'AMT_CREDIT_SUM_OVERDUE', 'AMT_ANNUITY', 'DAYS_CREDIT',\n",
        "           'CREDIT_DAY_OVERDUE', 'DAYS_CREDIT_ENDDATE', 'DAYS_ENDDATE_FACT', \\\n",
        "           'DAYS_CREDIT_UPDATE']"
      ],
      "metadata": {
        "id": "qah4iG_v8fdZ"
      },
      "execution_count": null,
      "outputs": []
    },
    {
      "cell_type": "code",
      "source": [
        "# Criando uma rotina que gera o texto da função de agregação\n",
        "\n",
        "for ag in agg:\n",
        "  for var_n in var_num:\n",
        "        print(ag + \"(\" + var_n + \") AS \" + ag + \"_\" + var_n + ',')\n",
        "\n",
        "    #SUM(AMT_CREDIT_MAX_OVERDUE) AS sum_credit_max_overdue"
      ],
      "metadata": {
        "id": "r6dJJF4O8qo9",
        "colab": {
          "base_uri": "https://localhost:8080/"
        },
        "outputId": "925face8-9714-436d-b0d2-7e738eb6344a"
      },
      "execution_count": null,
      "outputs": [
        {
          "output_type": "stream",
          "name": "stdout",
          "text": [
            "SUM(AMT_CREDIT_MAX_OVERDUE) AS SUM_AMT_CREDIT_MAX_OVERDUE,\n",
            "SUM(CNT_CREDIT_PROLONG) AS SUM_CNT_CREDIT_PROLONG,\n",
            "SUM(AMT_CREDIT_SUM) AS SUM_AMT_CREDIT_SUM,\n",
            "SUM(AMT_CREDIT_SUM_DEBT) AS SUM_AMT_CREDIT_SUM_DEBT,\n",
            "SUM(AMT_CREDIT_SUM_LIMIT) AS SUM_AMT_CREDIT_SUM_LIMIT,\n",
            "SUM(AMT_CREDIT_SUM_OVERDUE) AS SUM_AMT_CREDIT_SUM_OVERDUE,\n",
            "SUM(AMT_ANNUITY) AS SUM_AMT_ANNUITY,\n",
            "SUM(DAYS_CREDIT) AS SUM_DAYS_CREDIT,\n",
            "SUM(CREDIT_DAY_OVERDUE) AS SUM_CREDIT_DAY_OVERDUE,\n",
            "SUM(DAYS_CREDIT_ENDDATE) AS SUM_DAYS_CREDIT_ENDDATE,\n",
            "SUM(DAYS_ENDDATE_FACT) AS SUM_DAYS_ENDDATE_FACT,\n",
            "SUM(DAYS_CREDIT_UPDATE) AS SUM_DAYS_CREDIT_UPDATE,\n",
            "MIN(AMT_CREDIT_MAX_OVERDUE) AS MIN_AMT_CREDIT_MAX_OVERDUE,\n",
            "MIN(CNT_CREDIT_PROLONG) AS MIN_CNT_CREDIT_PROLONG,\n",
            "MIN(AMT_CREDIT_SUM) AS MIN_AMT_CREDIT_SUM,\n",
            "MIN(AMT_CREDIT_SUM_DEBT) AS MIN_AMT_CREDIT_SUM_DEBT,\n",
            "MIN(AMT_CREDIT_SUM_LIMIT) AS MIN_AMT_CREDIT_SUM_LIMIT,\n",
            "MIN(AMT_CREDIT_SUM_OVERDUE) AS MIN_AMT_CREDIT_SUM_OVERDUE,\n",
            "MIN(AMT_ANNUITY) AS MIN_AMT_ANNUITY,\n",
            "MIN(DAYS_CREDIT) AS MIN_DAYS_CREDIT,\n",
            "MIN(CREDIT_DAY_OVERDUE) AS MIN_CREDIT_DAY_OVERDUE,\n",
            "MIN(DAYS_CREDIT_ENDDATE) AS MIN_DAYS_CREDIT_ENDDATE,\n",
            "MIN(DAYS_ENDDATE_FACT) AS MIN_DAYS_ENDDATE_FACT,\n",
            "MIN(DAYS_CREDIT_UPDATE) AS MIN_DAYS_CREDIT_UPDATE,\n",
            "MAX(AMT_CREDIT_MAX_OVERDUE) AS MAX_AMT_CREDIT_MAX_OVERDUE,\n",
            "MAX(CNT_CREDIT_PROLONG) AS MAX_CNT_CREDIT_PROLONG,\n",
            "MAX(AMT_CREDIT_SUM) AS MAX_AMT_CREDIT_SUM,\n",
            "MAX(AMT_CREDIT_SUM_DEBT) AS MAX_AMT_CREDIT_SUM_DEBT,\n",
            "MAX(AMT_CREDIT_SUM_LIMIT) AS MAX_AMT_CREDIT_SUM_LIMIT,\n",
            "MAX(AMT_CREDIT_SUM_OVERDUE) AS MAX_AMT_CREDIT_SUM_OVERDUE,\n",
            "MAX(AMT_ANNUITY) AS MAX_AMT_ANNUITY,\n",
            "MAX(DAYS_CREDIT) AS MAX_DAYS_CREDIT,\n",
            "MAX(CREDIT_DAY_OVERDUE) AS MAX_CREDIT_DAY_OVERDUE,\n",
            "MAX(DAYS_CREDIT_ENDDATE) AS MAX_DAYS_CREDIT_ENDDATE,\n",
            "MAX(DAYS_ENDDATE_FACT) AS MAX_DAYS_ENDDATE_FACT,\n",
            "MAX(DAYS_CREDIT_UPDATE) AS MAX_DAYS_CREDIT_UPDATE,\n",
            "AVG(AMT_CREDIT_MAX_OVERDUE) AS AVG_AMT_CREDIT_MAX_OVERDUE,\n",
            "AVG(CNT_CREDIT_PROLONG) AS AVG_CNT_CREDIT_PROLONG,\n",
            "AVG(AMT_CREDIT_SUM) AS AVG_AMT_CREDIT_SUM,\n",
            "AVG(AMT_CREDIT_SUM_DEBT) AS AVG_AMT_CREDIT_SUM_DEBT,\n",
            "AVG(AMT_CREDIT_SUM_LIMIT) AS AVG_AMT_CREDIT_SUM_LIMIT,\n",
            "AVG(AMT_CREDIT_SUM_OVERDUE) AS AVG_AMT_CREDIT_SUM_OVERDUE,\n",
            "AVG(AMT_ANNUITY) AS AVG_AMT_ANNUITY,\n",
            "AVG(DAYS_CREDIT) AS AVG_DAYS_CREDIT,\n",
            "AVG(CREDIT_DAY_OVERDUE) AS AVG_CREDIT_DAY_OVERDUE,\n",
            "AVG(DAYS_CREDIT_ENDDATE) AS AVG_DAYS_CREDIT_ENDDATE,\n",
            "AVG(DAYS_ENDDATE_FACT) AS AVG_DAYS_ENDDATE_FACT,\n",
            "AVG(DAYS_CREDIT_UPDATE) AS AVG_DAYS_CREDIT_UPDATE,\n"
          ]
        }
      ]
    },
    {
      "cell_type": "markdown",
      "source": [
        "- Criando o dataframe df_num_bureau"
      ],
      "metadata": {
        "id": "gw3TRAm7uzWO"
      }
    },
    {
      "cell_type": "code",
      "source": [
        "df_num_bureau = spark.sql(\"\"\"\n",
        "SELECT\n",
        "  SK_ID_CURR,\n",
        "SUM(AMT_CREDIT_MAX_OVERDUE) AS SUM_AMT_CREDIT_MAX_OVERDUE,\n",
        "SUM(CNT_CREDIT_PROLONG) AS SUM_CNT_CREDIT_PROLONG,\n",
        "SUM(AMT_CREDIT_SUM) AS SUM_AMT_CREDIT_SUM,\n",
        "SUM(AMT_CREDIT_SUM_DEBT) AS SUM_AMT_CREDIT_SUM_DEBT,\n",
        "SUM(AMT_CREDIT_SUM_LIMIT) AS SUM_AMT_CREDIT_SUM_LIMIT,\n",
        "SUM(AMT_CREDIT_SUM_OVERDUE) AS SUM_AMT_CREDIT_SUM_OVERDUE,\n",
        "SUM(AMT_ANNUITY) AS SUM_AMT_ANNUITY,\n",
        "SUM(DAYS_CREDIT) AS SUM_DAYS_CREDIT,\n",
        "SUM(CREDIT_DAY_OVERDUE) AS SUM_CREDIT_DAY_OVERDUE,\n",
        "SUM(DAYS_CREDIT_ENDDATE) AS SUM_DAYS_CREDIT_ENDDATE,\n",
        "SUM(DAYS_ENDDATE_FACT) AS SUM_DAYS_ENDDATE_FACT,\n",
        "SUM(DAYS_CREDIT_UPDATE) AS SUM_DAYS_CREDIT_UPDATE,\n",
        "MIN(AMT_CREDIT_MAX_OVERDUE) AS MIN_AMT_CREDIT_MAX_OVERDUE,\n",
        "MIN(CNT_CREDIT_PROLONG) AS MIN_CNT_CREDIT_PROLONG,\n",
        "MIN(AMT_CREDIT_SUM) AS MIN_AMT_CREDIT_SUM,\n",
        "MIN(AMT_CREDIT_SUM_DEBT) AS MIN_AMT_CREDIT_SUM_DEBT,\n",
        "MIN(AMT_CREDIT_SUM_LIMIT) AS MIN_AMT_CREDIT_SUM_LIMIT,\n",
        "MIN(AMT_CREDIT_SUM_OVERDUE) AS MIN_AMT_CREDIT_SUM_OVERDUE,\n",
        "MIN(AMT_ANNUITY) AS MIN_AMT_ANNUITY,\n",
        "MIN(DAYS_CREDIT) AS MIN_DAYS_CREDIT,\n",
        "MIN(CREDIT_DAY_OVERDUE) AS MIN_CREDIT_DAY_OVERDUE,\n",
        "MIN(DAYS_CREDIT_ENDDATE) AS MIN_DAYS_CREDIT_ENDDATE,\n",
        "MIN(DAYS_ENDDATE_FACT) AS MIN_DAYS_ENDDATE_FACT,\n",
        "MIN(DAYS_CREDIT_UPDATE) AS MIN_DAYS_CREDIT_UPDATE,\n",
        "MAX(AMT_CREDIT_MAX_OVERDUE) AS MAX_AMT_CREDIT_MAX_OVERDUE,\n",
        "MAX(CNT_CREDIT_PROLONG) AS MAX_CNT_CREDIT_PROLONG,\n",
        "MAX(AMT_CREDIT_SUM) AS MAX_AMT_CREDIT_SUM,\n",
        "MAX(AMT_CREDIT_SUM_DEBT) AS MAX_AMT_CREDIT_SUM_DEBT,\n",
        "MAX(AMT_CREDIT_SUM_LIMIT) AS MAX_AMT_CREDIT_SUM_LIMIT,\n",
        "MAX(AMT_CREDIT_SUM_OVERDUE) AS MAX_AMT_CREDIT_SUM_OVERDUE,\n",
        "MAX(AMT_ANNUITY) AS MAX_AMT_ANNUITY,\n",
        "MAX(DAYS_CREDIT) AS MAX_DAYS_CREDIT,\n",
        "MAX(CREDIT_DAY_OVERDUE) AS MAX_CREDIT_DAY_OVERDUE,\n",
        "MAX(DAYS_CREDIT_ENDDATE) AS MAX_DAYS_CREDIT_ENDDATE,\n",
        "MAX(DAYS_ENDDATE_FACT) AS MAX_DAYS_ENDDATE_FACT,\n",
        "MAX(DAYS_CREDIT_UPDATE) AS MAX_DAYS_CREDIT_UPDATE,\n",
        "AVG(AMT_CREDIT_MAX_OVERDUE) AS AVG_AMT_CREDIT_MAX_OVERDUE,\n",
        "AVG(CNT_CREDIT_PROLONG) AS AVG_CNT_CREDIT_PROLONG,\n",
        "AVG(AMT_CREDIT_SUM) AS AVG_AMT_CREDIT_SUM,\n",
        "AVG(AMT_CREDIT_SUM_DEBT) AS AVG_AMT_CREDIT_SUM_DEBT,\n",
        "AVG(AMT_CREDIT_SUM_LIMIT) AS AVG_AMT_CREDIT_SUM_LIMIT,\n",
        "AVG(AMT_CREDIT_SUM_OVERDUE) AS AVG_AMT_CREDIT_SUM_OVERDUE,\n",
        "AVG(AMT_ANNUITY) AS AVG_AMT_ANNUITY,\n",
        "AVG(DAYS_CREDIT) AS AVG_DAYS_CREDIT,\n",
        "AVG(CREDIT_DAY_OVERDUE) AS AVG_CREDIT_DAY_OVERDUE,\n",
        "AVG(DAYS_CREDIT_ENDDATE) AS AVG_DAYS_CREDIT_ENDDATE,\n",
        "AVG(DAYS_ENDDATE_FACT) AS AVG_DAYS_ENDDATE_FACT,\n",
        "AVG(DAYS_CREDIT_UPDATE) AS AVG_DAYS_CREDIT_UPDATE\n",
        "FROM\n",
        "  bureau\n",
        "GROUP BY\n",
        "  SK_ID_CURR\n",
        "\"\"\")"
      ],
      "metadata": {
        "id": "_mPZPdob99_s"
      },
      "execution_count": null,
      "outputs": []
    },
    {
      "cell_type": "markdown",
      "source": [
        "###Criando variáveis numéricas que envolvem regras de negócio da tabela bureau"
      ],
      "metadata": {
        "id": "_tyv-eVFv-mV"
      }
    },
    {
      "cell_type": "markdown",
      "source": [
        "- Duração do Crédito, Crédito/Conta e Diferença de data\n",
        " - CREDIT_DURATION = DAYS_CREDIT + DAYS_CREDIT_ENDDATE\n",
        " - ENDDATE_DIF = DAYS_CREDIT_ENDDATE - DAYS_ENDDATE_FACT\n",
        "\n",
        "- Taxa e Diferença de Credito para Débito:\n",
        " - DEBT_PERCENTAGE = AMT_CREDIT_SUM / AMT_CREDIT_SUM_DEBT\n",
        " - DEBT_CREDIT_DIFF = AMT_CREDIT_SUM - AMT_CREDIT_SUM_DEBT\n",
        " - CREDIT_TO_ANNUITY_RATIO = AMT_CREDIT_SUM / AMT_ANNUITY\n",
        " - BUREAU_CREDIT_FACT_DIFF = DAYS_CREDIT - DAYS_ENDDATE_FACT\n",
        " - BUREAU_CREDIT_ENDDATE_DIFF = DAYS_CREDIT - DAYS_CREDIT_ENDDATE\n",
        " - BUREAU_CREDIT_DEBT_RATIO = AMT_CREDIT_SUM_DEBT / AMT_CREDIT_SUM\n",
        "\n"
      ],
      "metadata": {
        "id": "ZyTLkpByBU3F"
      }
    },
    {
      "cell_type": "markdown",
      "source": [
        "- Criando o dataframe df_bureau_regras_data"
      ],
      "metadata": {
        "id": "EGBTMqOByTlk"
      }
    },
    {
      "cell_type": "code",
      "source": [
        "df_bureau_regras_data = spark.sql(\"\"\"\n",
        "SELECT\n",
        "SK_ID_CURR,\n",
        "(DAYS_CREDIT + DAYS_CREDIT_ENDDATE) AS CREDIT_DURATION,\n",
        "(DAYS_CREDIT_ENDDATE - DAYS_ENDDATE_FACT) AS ENDDATE_DIF,\n",
        "ROUND((AMT_CREDIT_SUM / AMT_CREDIT_SUM_DEBT), 2) AS DEBT_PERCENTAGE,\n",
        "ROUND((AMT_CREDIT_SUM - AMT_CREDIT_SUM_DEBT), 2) AS DEBT_CREDIT_DIFF,\n",
        "ROUND((AMT_CREDIT_SUM / AMT_ANNUITY), 2) AS CREDIT_TO_ANNUITY_RATIO,\n",
        "ROUND((DAYS_CREDIT - DAYS_CREDIT_ENDDATE), 2) AS BUREAU_CREDIT_ENDDATE_DIFF,\n",
        "ROUND((AMT_CREDIT_SUM_DEBT /AMT_CREDIT_SUM), 2) AS BUREAU_CREDIT_DEBT_RATIO,\n",
        "(DAYS_CREDIT - DAYS_ENDDATE_FACT) AS BUREAU_CREDIT_FACT_DIFF\n",
        "FROM\n",
        "bureau\n",
        "\"\"\")\n"
      ],
      "metadata": {
        "id": "0tA3og0rBaFn"
      },
      "execution_count": null,
      "outputs": []
    },
    {
      "cell_type": "markdown",
      "source": [
        "###Criando variáveis numéricas que envolvem regras de negócio da tabela application_train"
      ],
      "metadata": {
        "id": "hRr-cSBQy4qX"
      }
    },
    {
      "cell_type": "markdown",
      "source": [
        "- Idade:\n",
        " - AGE_YEARS = -DAYS_BIRTH / 365\n",
        "\n",
        "- Porcentagens:\n",
        " - DAYS_EMPLOYED_PERC = DAYS_EMPLOYED / DAYS_BIRTH\n",
        " - INCOME_CREDIT_PERC = AMT_INCOME_TOTAL / AMT_CREDIT\n",
        " - INCOME_PER_PERSON = AMT_INCOME_TOTAL / CNT_FAM_MEMBERS\n",
        " - ANNUITY_INCOME_PERC = AMT_ANNUITY / AMT_INCOME_TOTAL\n",
        " - PAYMENT_RATE = AMT_ANNUITY / AMT_CREDIT\n",
        "\n",
        "- Índice de Crédito\n",
        " - CREDIT_TO_GOODS_RATIO = AMT_CREDIT / AMT_GOODS_PRICE\n",
        "    \n",
        "- Índices de Receita\n",
        " - INCOME_TO_EMPLOYED_RATIO = AMT_INCOME_TOTAL / DAYS_EMPLOYED\n",
        " - INCOME_TO_BIRTH_RATIO = AMT_INCOME_TOTAL / DAYS_BIRTH\n",
        "    \n",
        "- Razões de tempo\n",
        " - ID_TO_BIRTH_RATIO = DAYS_ID_PUBLISH / DAYS_BIRTH\n",
        " - CAR_TO_BIRTH_RATIO = OWN_CAR_AGE / DAYS_BIRTH\n",
        " - CAR_TO_EMPLOYED_RATIO = OWN_CAR_AGE / DAYS_EMPLOYED\n",
        " - PHONE_TO_BIRTH_RATIO = DAYS_LAST_PHONE_CHANGE / DAYS_BIRTH\n"
      ],
      "metadata": {
        "id": "j-lpNyfyNDqZ"
      }
    },
    {
      "cell_type": "markdown",
      "source": [
        "- Criando o dataframe df_reg_application_train"
      ],
      "metadata": {
        "id": "QpkW76H50C1I"
      }
    },
    {
      "cell_type": "code",
      "source": [
        "df_reg_application_train = spark.sql(\"\"\"\n",
        "SELECT\n",
        "SK_ID_CURR,\n",
        "ROUND((-DAYS_BIRTH / 365), 1) AS AGE_YEARS,\n",
        "ROUND((DAYS_EMPLOYED / DAYS_BIRTH), 2) AS DAYS_EMPLOYED_PERC,\n",
        "ROUND((AMT_INCOME_TOTAL / AMT_CREDIT), 2) AS INCOME_CREDIT_PERC,\n",
        "ROUND((AMT_INCOME_TOTAL / CNT_FAM_MEMBERS), 2) AS INCOME_PER_PERSON,\n",
        "ROUND((AMT_ANNUITY / AMT_INCOME_TOTAL), 2) AS ANNUITY_INCOME_PERC,\n",
        "ROUND((AMT_ANNUITY / AMT_CREDIT), 2) AS PAYMENT_RATE,\n",
        "ROUND((AMT_CREDIT / AMT_GOODS_PRICE), 2) AS CREDIT_TO_GOODS_RATIO,\n",
        "ROUND((AMT_INCOME_TOTAL / DAYS_EMPLOYED), 2) AS INCOME_TO_EMPLOYED_RATIO,\n",
        "ROUND((AMT_INCOME_TOTAL / DAYS_BIRTH), 2) AS INCOME_TO_BIRTH_RATIO,\n",
        "ROUND((DAYS_ID_PUBLISH / DAYS_BIRTH), 2) AS ID_TO_BIRTH_RATIO,\n",
        "ROUND((OWN_CAR_AGE / DAYS_BIRTH), 2) AS CAR_TO_BIRTH_RATIO,\n",
        "ROUND((OWN_CAR_AGE / DAYS_EMPLOYED), 2) AS CAR_TO_EMPLOYED_RATIO,\n",
        "ROUND((DAYS_LAST_PHONE_CHANGE / DAYS_BIRTH), 2) AS PHONE_TO_BIRTH_RATIO\n",
        "FROM\n",
        "  application_train\n",
        "\"\"\")"
      ],
      "metadata": {
        "id": "odosm6XaRG9I"
      },
      "execution_count": null,
      "outputs": []
    },
    {
      "cell_type": "markdown",
      "source": [
        "###Calculando o número de colunas de cada dataframe"
      ],
      "metadata": {
        "id": "Y254isci-3jI"
      }
    },
    {
      "cell_type": "markdown",
      "source": [
        "Além do dataframe df_application_train que tem 122 colunas e do df_bureau que tem 17 colunas, criamos mais 7 novos dataframes utilizando agregações e regras de negócio, onde:\n",
        "\n",
        "- df_bureau_cat: 93 colunas\n",
        "- df_bureau_credit_active_num: 113 colunas\n",
        "- df_bureau_credit_currency_num: 113 colunas\n",
        "- df_bureau_credit_type_num: 421 colunas\n",
        "- df_num_bureau: 49 colunas\n",
        "- df_bureau_regras_data: 9 colunas\n",
        "- df_reg_application_train: 14 colunas\n",
        "\n",
        "Lembrando que para todos os dataframes temos que o número de variáveis é igual ao número de colunas - 1, pois a coluna 'SK_ID_CURR' é a chave de todos os dataframes. Então, inicialmente tínhamos 121 variáveis para a tabela df_application_train e 16 variáveis para o df_bureau, que ao todo são 137 variáveis.\n",
        "Abaixo tem uma rotina que calcula no número de colunase os nomes da colunas.\n"
      ],
      "metadata": {
        "id": "Qg53GFbY0M43"
      }
    },
    {
      "cell_type": "code",
      "source": [
        "# Conta o número de colunas na tabela\n",
        "num_colunas = len(df_reg_application_train.columns)\n",
        "\n",
        "# Obtém os nomes das colunas\n",
        "nomes_colunas = df_reg_application_train.columns\n",
        "\n",
        "# Imprime o resultado\n",
        "print(\"O df_reg_application_train possui \", num_colunas, \"colunas.\")\n",
        "print('')\n",
        "print('Os nomes das colunas:')\n",
        "for nome_coluna in nomes_colunas:\n",
        "    print(nome_coluna)"
      ],
      "metadata": {
        "id": "mtZSvzS13qjx",
        "colab": {
          "base_uri": "https://localhost:8080/"
        },
        "outputId": "c9c4c0d9-91b7-4ab4-959a-510a4b22abcb"
      },
      "execution_count": null,
      "outputs": [
        {
          "output_type": "stream",
          "name": "stdout",
          "text": [
            "O df_reg_application_train possui  14 colunas.\n",
            "\n",
            "Os nomes das colunas:\n",
            "SK_ID_CURR\n",
            "AGE_YEARS\n",
            "DAYS_EMPLOYED_PERC\n",
            "INCOME_CREDIT_PERC\n",
            "INCOME_PER_PERSON\n",
            "ANNUITY_INCOME_PERC\n",
            "PAYMENT_RATE\n",
            "CREDIT_TO_GOODS_RATIO\n",
            "INCOME_TO_EMPLOYED_RATIO\n",
            "INCOME_TO_BIRTH_RATIO\n",
            "ID_TO_BIRTH_RATIO\n",
            "CAR_TO_BIRTH_RATIO\n",
            "CAR_TO_EMPLOYED_RATIO\n",
            "PHONE_TO_BIRTH_RATIO\n"
          ]
        }
      ]
    },
    {
      "cell_type": "markdown",
      "source": [
        "###Juntando ao df_application_train os 7 dataframes criados usando a coluna SK_ID_CURR"
      ],
      "metadata": {
        "id": "SrdahiysVXry"
      }
    },
    {
      "cell_type": "code",
      "source": [
        "df_junto = df_application_train.join(df_bureau_cat, \"SK_ID_CURR\")\\\n",
        "               .join(df_bureau_credit_active_num, \"SK_ID_CURR\")\\\n",
        "               .join(df_bureau_credit_currency_num, \"SK_ID_CURR\")\\\n",
        "               .join(df_bureau_credit_type_num, \"SK_ID_CURR\")\\\n",
        "               .join(df_num_bureau, \"SK_ID_CURR\")\\\n",
        "               .join(df_bureau_regras_data, \"SK_ID_CURR\")\\\n",
        "               .join(df_reg_application_train, \"SK_ID_CURR\")"
      ],
      "metadata": {
        "id": "7zoIHCWX6Pf1"
      },
      "execution_count": null,
      "outputs": []
    },
    {
      "cell_type": "markdown",
      "source": [
        "###Calculando o número de colunas do dataframe df_junto"
      ],
      "metadata": {
        "id": "JrT4NAgK6qkX"
      }
    },
    {
      "cell_type": "code",
      "source": [
        "# Contando o número de colunas do df_junto\n",
        "num_colunas = len(df_junto.columns)\n",
        "\n",
        "# Imprimindo o resultado\n",
        "print(num_colunas, \"colunas.\")"
      ],
      "metadata": {
        "colab": {
          "base_uri": "https://localhost:8080/"
        },
        "id": "kmQNSCd26Pjt",
        "outputId": "eac2af85-686e-490e-cfa1-9be940b3b8f9"
      },
      "execution_count": null,
      "outputs": [
        {
          "output_type": "stream",
          "name": "stdout",
          "text": [
            "927 colunas.\n"
          ]
        }
      ]
    },
    {
      "cell_type": "markdown",
      "source": [
        "***Então, temos o dataframe final df_junto com 926 variáveis.\n",
        "De 137 variáveis iniciais passamos para 815 variáveis, ou seja, aumentamos o número de variáveis em aproximandamente 6 vezes.***"
      ],
      "metadata": {
        "id": "If7n1rcO_MmI"
      }
    },
    {
      "cell_type": "markdown",
      "source": [
        "###Conclusão"
      ],
      "metadata": {
        "id": "gtoag_5_AVzA"
      }
    },
    {
      "cell_type": "markdown",
      "source": [
        "Por meio, do Pyspark SQL foi possível executar várias operações como filtragem, agregação e junção com dois conjuntos de dados de tamanho razoável, tendo 307511 linhas o df_application_train e 1716728 linhas o df_bureau, de forma eficiente.\n",
        "também aumentamos o nosso book de variáveis com 815 novas variáveis, e com isso, aumentamos o poder preditvo na parte de modelagem em aproximadamente 6 vezes."
      ],
      "metadata": {
        "id": "m3t4GcLwCwU2"
      }
    }
  ]
}